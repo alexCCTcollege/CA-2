{
 "cells": [
  {
   "cell_type": "code",
   "execution_count": 440,
   "metadata": {},
   "outputs": [
    {
     "data": {
      "text/html": [
       "<div>\n",
       "<style scoped>\n",
       "    .dataframe tbody tr th:only-of-type {\n",
       "        vertical-align: middle;\n",
       "    }\n",
       "\n",
       "    .dataframe tbody tr th {\n",
       "        vertical-align: top;\n",
       "    }\n",
       "\n",
       "    .dataframe thead th {\n",
       "        text-align: right;\n",
       "    }\n",
       "</style>\n",
       "<table border=\"1\" class=\"dataframe\">\n",
       "  <thead>\n",
       "    <tr style=\"text-align: right;\">\n",
       "      <th></th>\n",
       "      <th>Themes</th>\n",
       "      <th>Tables Within Themes</th>\n",
       "      <th>Column Names</th>\n",
       "      <th>Description of Field</th>\n",
       "      <th>Equivalent SAPS2011 Variable (if name changed)</th>\n",
       "      <th>Points to Note</th>\n",
       "    </tr>\n",
       "  </thead>\n",
       "  <tbody>\n",
       "    <tr>\n",
       "      <th>0</th>\n",
       "      <td>Theme 1: Sex, Age and Marital Status</td>\n",
       "      <td>Table 1</td>\n",
       "      <td>T1_1AGE0M</td>\n",
       "      <td>Age 0 - Males</td>\n",
       "      <td>NaN</td>\n",
       "      <td>NaN</td>\n",
       "    </tr>\n",
       "    <tr>\n",
       "      <th>1</th>\n",
       "      <td>NaN</td>\n",
       "      <td>Population aged 0 - 19 by sex and year of age,...</td>\n",
       "      <td>T1_1AGE1M</td>\n",
       "      <td>Age 1 - Males</td>\n",
       "      <td>NaN</td>\n",
       "      <td>NaN</td>\n",
       "    </tr>\n",
       "    <tr>\n",
       "      <th>2</th>\n",
       "      <td>NaN</td>\n",
       "      <td>NaN</td>\n",
       "      <td>T1_1AGE2M</td>\n",
       "      <td>Age 2 - Males</td>\n",
       "      <td>NaN</td>\n",
       "      <td>NaN</td>\n",
       "    </tr>\n",
       "    <tr>\n",
       "      <th>3</th>\n",
       "      <td>NaN</td>\n",
       "      <td>NaN</td>\n",
       "      <td>T1_1AGE3M</td>\n",
       "      <td>Age 3 - Males</td>\n",
       "      <td>NaN</td>\n",
       "      <td>NaN</td>\n",
       "    </tr>\n",
       "    <tr>\n",
       "      <th>4</th>\n",
       "      <td>NaN</td>\n",
       "      <td>NaN</td>\n",
       "      <td>T1_1AGE4M</td>\n",
       "      <td>Age 4 - Males</td>\n",
       "      <td>NaN</td>\n",
       "      <td>NaN</td>\n",
       "    </tr>\n",
       "  </tbody>\n",
       "</table>\n",
       "</div>"
      ],
      "text/plain": [
       "                                  Themes  \\\n",
       "0  Theme 1: Sex, Age and Marital Status    \n",
       "1                                    NaN   \n",
       "2                                    NaN   \n",
       "3                                    NaN   \n",
       "4                                    NaN   \n",
       "\n",
       "                                Tables Within Themes Column Names  \\\n",
       "0                                           Table 1     T1_1AGE0M   \n",
       "1  Population aged 0 - 19 by sex and year of age,...    T1_1AGE1M   \n",
       "2                                                NaN    T1_1AGE2M   \n",
       "3                                                NaN    T1_1AGE3M   \n",
       "4                                                NaN    T1_1AGE4M   \n",
       "\n",
       "  Description of Field Equivalent SAPS2011 Variable (if name changed)  \\\n",
       "0        Age 0 - Males                                            NaN   \n",
       "1        Age 1 - Males                                            NaN   \n",
       "2        Age 2 - Males                                            NaN   \n",
       "3        Age 3 - Males                                            NaN   \n",
       "4        Age 4 - Males                                            NaN   \n",
       "\n",
       "  Points to Note  \n",
       "0            NaN  \n",
       "1            NaN  \n",
       "2            NaN  \n",
       "3            NaN  \n",
       "4            NaN  "
      ]
     },
     "execution_count": 440,
     "metadata": {},
     "output_type": "execute_result"
    }
   ],
   "source": [
    "import pandas as pd\n",
    "import numpy as np\n",
    "\n",
    "#Glossary\n",
    "df = pd.read_excel('C:\\\\Users\\\\santi\\\\OneDrive\\\\Desktop\\\\SAPS_2016_Glossary.xlsx')\n",
    "df.head()"
   ]
  },
  {
   "cell_type": "code",
   "execution_count": 441,
   "metadata": {},
   "outputs": [
    {
     "data": {
      "text/html": [
       "<div>\n",
       "<style scoped>\n",
       "    .dataframe tbody tr th:only-of-type {\n",
       "        vertical-align: middle;\n",
       "    }\n",
       "\n",
       "    .dataframe tbody tr th {\n",
       "        vertical-align: top;\n",
       "    }\n",
       "\n",
       "    .dataframe thead th {\n",
       "        text-align: right;\n",
       "    }\n",
       "</style>\n",
       "<table border=\"1\" class=\"dataframe\">\n",
       "  <thead>\n",
       "    <tr style=\"text-align: right;\">\n",
       "      <th></th>\n",
       "      <th>Themes</th>\n",
       "      <th>Tables Within Themes</th>\n",
       "      <th>Column Names</th>\n",
       "      <th>Description of Field</th>\n",
       "      <th>Equivalent SAPS2011 Variable (if name changed)</th>\n",
       "      <th>Points to Note</th>\n",
       "    </tr>\n",
       "  </thead>\n",
       "  <tbody>\n",
       "    <tr>\n",
       "      <th>0</th>\n",
       "      <td>Theme 1: Sex, Age and Marital Status</td>\n",
       "      <td>Table 1</td>\n",
       "      <td>T1_1AGE0M</td>\n",
       "      <td>Age 0 - Males</td>\n",
       "      <td>NaN</td>\n",
       "      <td>NaN</td>\n",
       "    </tr>\n",
       "    <tr>\n",
       "      <th>1</th>\n",
       "      <td>Theme 1: Sex, Age and Marital Status</td>\n",
       "      <td>Population aged 0 - 19 by sex and year of age,...</td>\n",
       "      <td>T1_1AGE1M</td>\n",
       "      <td>Age 1 - Males</td>\n",
       "      <td>NaN</td>\n",
       "      <td>NaN</td>\n",
       "    </tr>\n",
       "    <tr>\n",
       "      <th>2</th>\n",
       "      <td>Theme 1: Sex, Age and Marital Status</td>\n",
       "      <td>NaN</td>\n",
       "      <td>T1_1AGE2M</td>\n",
       "      <td>Age 2 - Males</td>\n",
       "      <td>NaN</td>\n",
       "      <td>NaN</td>\n",
       "    </tr>\n",
       "    <tr>\n",
       "      <th>3</th>\n",
       "      <td>Theme 1: Sex, Age and Marital Status</td>\n",
       "      <td>NaN</td>\n",
       "      <td>T1_1AGE3M</td>\n",
       "      <td>Age 3 - Males</td>\n",
       "      <td>NaN</td>\n",
       "      <td>NaN</td>\n",
       "    </tr>\n",
       "    <tr>\n",
       "      <th>4</th>\n",
       "      <td>Theme 1: Sex, Age and Marital Status</td>\n",
       "      <td>NaN</td>\n",
       "      <td>T1_1AGE4M</td>\n",
       "      <td>Age 4 - Males</td>\n",
       "      <td>NaN</td>\n",
       "      <td>NaN</td>\n",
       "    </tr>\n",
       "  </tbody>\n",
       "</table>\n",
       "</div>"
      ],
      "text/plain": [
       "                                  Themes  \\\n",
       "0  Theme 1: Sex, Age and Marital Status    \n",
       "1  Theme 1: Sex, Age and Marital Status    \n",
       "2  Theme 1: Sex, Age and Marital Status    \n",
       "3  Theme 1: Sex, Age and Marital Status    \n",
       "4  Theme 1: Sex, Age and Marital Status    \n",
       "\n",
       "                                Tables Within Themes Column Names  \\\n",
       "0                                           Table 1     T1_1AGE0M   \n",
       "1  Population aged 0 - 19 by sex and year of age,...    T1_1AGE1M   \n",
       "2                                                NaN    T1_1AGE2M   \n",
       "3                                                NaN    T1_1AGE3M   \n",
       "4                                                NaN    T1_1AGE4M   \n",
       "\n",
       "  Description of Field Equivalent SAPS2011 Variable (if name changed)  \\\n",
       "0        Age 0 - Males                                            NaN   \n",
       "1        Age 1 - Males                                            NaN   \n",
       "2        Age 2 - Males                                            NaN   \n",
       "3        Age 3 - Males                                            NaN   \n",
       "4        Age 4 - Males                                            NaN   \n",
       "\n",
       "  Points to Note  \n",
       "0            NaN  \n",
       "1            NaN  \n",
       "2            NaN  \n",
       "3            NaN  \n",
       "4            NaN  "
      ]
     },
     "execution_count": 441,
     "metadata": {},
     "output_type": "execute_result"
    }
   ],
   "source": [
    "df['Themes'] = df['Themes'].ffill()\n",
    "df.head()"
   ]
  },
  {
   "cell_type": "code",
   "execution_count": 442,
   "metadata": {},
   "outputs": [
    {
     "data": {
      "text/plain": [
       "array(['Theme 1: Sex, Age and Marital Status ',\n",
       "       'Theme 2: Migration, Ethnicity, Religion and Foreign Languages',\n",
       "       'Theme 3: Irish Language ', 'Theme 4: Families ',\n",
       "       'Theme 5: Private Households ', 'Theme 6: Housing ',\n",
       "       'Theme 7: Communal Establishments ', 'Theme 8: Principal Status ',\n",
       "       'Theme 9: Social Class and Socio-Economic Group ',\n",
       "       'Theme 10: Education ', 'Theme 11: Commuting ',\n",
       "       'Theme 12: Disability, Carers and General Health ',\n",
       "       'Theme 13: Occupations', 'Theme 14: Industries ',\n",
       "       'Theme 15: Motor Car Availability, PC Ownership and Internet Access'],\n",
       "      dtype=object)"
      ]
     },
     "execution_count": 442,
     "metadata": {},
     "output_type": "execute_result"
    }
   ],
   "source": [
    "df['Themes'].unique()"
   ]
  },
  {
   "cell_type": "code",
   "execution_count": 443,
   "metadata": {},
   "outputs": [
    {
     "data": {
      "text/plain": [
       "(148, 6)"
      ]
     },
     "execution_count": 443,
     "metadata": {},
     "output_type": "execute_result"
    }
   ],
   "source": [
    "Glossary = df[(df['Themes']=='Theme 5: Private Households ')|  (df['Themes']== 'Theme 6: Housing ')]\n",
    "Glossary.shape"
   ]
  },
  {
   "attachments": {},
   "cell_type": "markdown",
   "metadata": {},
   "source": [
    "#### Importing actual dataset"
   ]
  },
  {
   "cell_type": "code",
   "execution_count": 444,
   "metadata": {},
   "outputs": [
    {
     "data": {
      "text/plain": [
       "(40, 802)"
      ]
     },
     "execution_count": 444,
     "metadata": {},
     "output_type": "execute_result"
    }
   ],
   "source": [
    "Census = pd.read_csv('C:\\\\Users\\\\santi\\\\OneDrive\\\\Desktop\\\\SAPS2016_DC2013.csv',encoding='iso-8859-1')\n",
    "Census.shape"
   ]
  },
  {
   "cell_type": "code",
   "execution_count": 445,
   "metadata": {},
   "outputs": [
    {
     "data": {
      "text/plain": [
       "Index(['Themes', 'Tables Within Themes', 'Column Names',\n",
       "       'Description of Field',\n",
       "       'Equivalent SAPS2011 Variable (if name changed)', 'Points to Note'],\n",
       "      dtype='object')"
      ]
     },
     "execution_count": 445,
     "metadata": {},
     "output_type": "execute_result"
    }
   ],
   "source": [
    "Glossary.columns"
   ]
  },
  {
   "cell_type": "code",
   "execution_count": 446,
   "metadata": {},
   "outputs": [
    {
     "data": {
      "text/plain": [
       "306     T5_1OP_H\n",
       "307     T5_1MC_H\n",
       "308     T5_1CC_H\n",
       "309    T5_1MCC_H\n",
       "310    T5_1CCC_H\n",
       "         ...    \n",
       "449       T6_8_O\n",
       "450      T6_8_TA\n",
       "451     T6_8_UHH\n",
       "452     T6_8_OVD\n",
       "453       T6_8_T\n",
       "Name: Column Names, Length: 148, dtype: object"
      ]
     },
     "execution_count": 446,
     "metadata": {},
     "output_type": "execute_result"
    }
   ],
   "source": [
    "Glossary['Column Names']"
   ]
  },
  {
   "cell_type": "code",
   "execution_count": 447,
   "metadata": {},
   "outputs": [
    {
     "data": {
      "text/plain": [
       "Index(['GUID', 'GEOGID', 'GEOGDESC', 'T1_1AGE0M', 'T1_1AGE1M', 'T1_1AGE2M',\n",
       "       'T1_1AGE3M', 'T1_1AGE4M', 'T1_1AGE5M', 'T1_1AGE6M',\n",
       "       ...\n",
       "       'T15_1_TC', 'T15_2_Y', 'T15_2_N', 'T15_2_NS', 'T15_2_T', 'T15_3_B',\n",
       "       'T15_3_OTH', 'T15_3_N', 'T15_3_NS', 'T15_3_T'],\n",
       "      dtype='object', length=802)"
      ]
     },
     "execution_count": 447,
     "metadata": {},
     "output_type": "execute_result"
    }
   ],
   "source": [
    "Census.columns"
   ]
  },
  {
   "cell_type": "code",
   "execution_count": 448,
   "metadata": {},
   "outputs": [],
   "source": [
    "ID = Census[['GUID', 'GEOGID', 'GEOGDESC']]\n",
    "Census = Census.drop(['GUID', 'GEOGID', 'GEOGDESC'], axis=1)"
   ]
  },
  {
   "cell_type": "code",
   "execution_count": 449,
   "metadata": {},
   "outputs": [],
   "source": [
    "Census_test = Census.filter(items=Glossary['Column Names'])"
   ]
  },
  {
   "cell_type": "code",
   "execution_count": 450,
   "metadata": {},
   "outputs": [
    {
     "data": {
      "text/html": [
       "<div>\n",
       "<style scoped>\n",
       "    .dataframe tbody tr th:only-of-type {\n",
       "        vertical-align: middle;\n",
       "    }\n",
       "\n",
       "    .dataframe tbody tr th {\n",
       "        vertical-align: top;\n",
       "    }\n",
       "\n",
       "    .dataframe thead th {\n",
       "        text-align: right;\n",
       "    }\n",
       "</style>\n",
       "<table border=\"1\" class=\"dataframe\">\n",
       "  <thead>\n",
       "    <tr style=\"text-align: right;\">\n",
       "      <th></th>\n",
       "      <th>T5_1OP_H</th>\n",
       "      <th>T5_1MC_H</th>\n",
       "      <th>T5_1CC_H</th>\n",
       "      <th>T5_1MCC_H</th>\n",
       "      <th>T5_1CCC_H</th>\n",
       "      <th>T5_1OPFC_H</th>\n",
       "      <th>T5_1OPMC_H</th>\n",
       "      <th>T5_1CO_H</th>\n",
       "      <th>T5_1CCO_H</th>\n",
       "      <th>T5_1OPFCO_H</th>\n",
       "      <th>...</th>\n",
       "      <th>T6_7_NS</th>\n",
       "      <th>T6_7_T</th>\n",
       "      <th>T6_8_O</th>\n",
       "      <th>T6_8_TA</th>\n",
       "      <th>T6_8_UHH</th>\n",
       "      <th>T6_8_OVD</th>\n",
       "      <th>T6_8_T</th>\n",
       "      <th>GUID</th>\n",
       "      <th>GEOGID</th>\n",
       "      <th>GEOGDESC</th>\n",
       "    </tr>\n",
       "  </thead>\n",
       "  <tbody>\n",
       "    <tr>\n",
       "      <th>0</th>\n",
       "      <td>12,102</td>\n",
       "      <td>8,456</td>\n",
       "      <td>1,928</td>\n",
       "      <td>17,908</td>\n",
       "      <td>2,475</td>\n",
       "      <td>836</td>\n",
       "      <td>4,825</td>\n",
       "      <td>527</td>\n",
       "      <td>1,005</td>\n",
       "      <td>108</td>\n",
       "      <td>...</td>\n",
       "      <td>1,878</td>\n",
       "      <td>53,633</td>\n",
       "      <td>53,850</td>\n",
       "      <td>1,329</td>\n",
       "      <td>812</td>\n",
       "      <td>4,664</td>\n",
       "      <td>60,655</td>\n",
       "      <td>AA601F40-12B7-41E8-A384-74688CC75084</td>\n",
       "      <td>DC2013_01</td>\n",
       "      <td>Carlow-Kilkenny</td>\n",
       "    </tr>\n",
       "    <tr>\n",
       "      <th>1</th>\n",
       "      <td>10,567</td>\n",
       "      <td>6,741</td>\n",
       "      <td>1,265</td>\n",
       "      <td>15,218</td>\n",
       "      <td>1,829</td>\n",
       "      <td>720</td>\n",
       "      <td>3,785</td>\n",
       "      <td>388</td>\n",
       "      <td>808</td>\n",
       "      <td>86</td>\n",
       "      <td>...</td>\n",
       "      <td>1,745</td>\n",
       "      <td>43,668</td>\n",
       "      <td>43,816</td>\n",
       "      <td>1,138</td>\n",
       "      <td>761</td>\n",
       "      <td>6,424</td>\n",
       "      <td>52,139</td>\n",
       "      <td>AC869BFE-5EB7-4479-AF27-670D394B2656</td>\n",
       "      <td>DC2013_02</td>\n",
       "      <td>Cavan-Monaghan</td>\n",
       "    </tr>\n",
       "    <tr>\n",
       "      <th>2</th>\n",
       "      <td>10,760</td>\n",
       "      <td>6,876</td>\n",
       "      <td>1,418</td>\n",
       "      <td>13,261</td>\n",
       "      <td>1,631</td>\n",
       "      <td>658</td>\n",
       "      <td>3,452</td>\n",
       "      <td>334</td>\n",
       "      <td>579</td>\n",
       "      <td>87</td>\n",
       "      <td>...</td>\n",
       "      <td>1,564</td>\n",
       "      <td>41,320</td>\n",
       "      <td>41,618</td>\n",
       "      <td>1,172</td>\n",
       "      <td>4,817</td>\n",
       "      <td>6,006</td>\n",
       "      <td>53,613</td>\n",
       "      <td>3D7FB62A-AF60-4D22-A873-542ACE8EA01D</td>\n",
       "      <td>DC2013_03</td>\n",
       "      <td>Clare</td>\n",
       "    </tr>\n",
       "    <tr>\n",
       "      <th>3</th>\n",
       "      <td>9,978</td>\n",
       "      <td>6,497</td>\n",
       "      <td>1,668</td>\n",
       "      <td>15,001</td>\n",
       "      <td>2,048</td>\n",
       "      <td>665</td>\n",
       "      <td>3,952</td>\n",
       "      <td>429</td>\n",
       "      <td>741</td>\n",
       "      <td>73</td>\n",
       "      <td>...</td>\n",
       "      <td>1,691</td>\n",
       "      <td>43,172</td>\n",
       "      <td>43,376</td>\n",
       "      <td>1,237</td>\n",
       "      <td>1,121</td>\n",
       "      <td>4,350</td>\n",
       "      <td>50,084</td>\n",
       "      <td>48BFAC96-2DFF-4372-B216-A46EA183E87E</td>\n",
       "      <td>DC2013_04</td>\n",
       "      <td>Cork East</td>\n",
       "    </tr>\n",
       "    <tr>\n",
       "      <th>4</th>\n",
       "      <td>11,224</td>\n",
       "      <td>6,116</td>\n",
       "      <td>1,934</td>\n",
       "      <td>12,542</td>\n",
       "      <td>1,563</td>\n",
       "      <td>620</td>\n",
       "      <td>4,170</td>\n",
       "      <td>509</td>\n",
       "      <td>745</td>\n",
       "      <td>65</td>\n",
       "      <td>...</td>\n",
       "      <td>2,535</td>\n",
       "      <td>44,992</td>\n",
       "      <td>45,415</td>\n",
       "      <td>1,226</td>\n",
       "      <td>67</td>\n",
       "      <td>3,424</td>\n",
       "      <td>50,132</td>\n",
       "      <td>CD9AB3FF-8A12-4F77-96D4-5F4EF76E07CC</td>\n",
       "      <td>DC2013_05</td>\n",
       "      <td>Cork North-Central</td>\n",
       "    </tr>\n",
       "  </tbody>\n",
       "</table>\n",
       "<p>5 rows × 151 columns</p>\n",
       "</div>"
      ],
      "text/plain": [
       "  T5_1OP_H T5_1MC_H T5_1CC_H T5_1MCC_H T5_1CCC_H  T5_1OPFC_H T5_1OPMC_H  \\\n",
       "0   12,102    8,456    1,928    17,908     2,475         836      4,825   \n",
       "1   10,567    6,741    1,265    15,218     1,829         720      3,785   \n",
       "2   10,760    6,876    1,418    13,261     1,631         658      3,452   \n",
       "3    9,978    6,497    1,668    15,001     2,048         665      3,952   \n",
       "4   11,224    6,116    1,934    12,542     1,563         620      4,170   \n",
       "\n",
       "  T5_1CO_H T5_1CCO_H  T5_1OPFCO_H  ...  T6_7_NS  T6_7_T  T6_8_O T6_8_TA  \\\n",
       "0      527     1,005          108  ...    1,878  53,633  53,850   1,329   \n",
       "1      388       808           86  ...    1,745  43,668  43,816   1,138   \n",
       "2      334       579           87  ...    1,564  41,320  41,618   1,172   \n",
       "3      429       741           73  ...    1,691  43,172  43,376   1,237   \n",
       "4      509       745           65  ...    2,535  44,992  45,415   1,226   \n",
       "\n",
       "  T6_8_UHH T6_8_OVD  T6_8_T                                  GUID     GEOGID  \\\n",
       "0      812    4,664  60,655  AA601F40-12B7-41E8-A384-74688CC75084  DC2013_01   \n",
       "1      761    6,424  52,139  AC869BFE-5EB7-4479-AF27-670D394B2656  DC2013_02   \n",
       "2    4,817    6,006  53,613  3D7FB62A-AF60-4D22-A873-542ACE8EA01D  DC2013_03   \n",
       "3    1,121    4,350  50,084  48BFAC96-2DFF-4372-B216-A46EA183E87E  DC2013_04   \n",
       "4       67    3,424  50,132  CD9AB3FF-8A12-4F77-96D4-5F4EF76E07CC  DC2013_05   \n",
       "\n",
       "             GEOGDESC  \n",
       "0     Carlow-Kilkenny  \n",
       "1      Cavan-Monaghan  \n",
       "2               Clare  \n",
       "3           Cork East  \n",
       "4  Cork North-Central  \n",
       "\n",
       "[5 rows x 151 columns]"
      ]
     },
     "execution_count": 450,
     "metadata": {},
     "output_type": "execute_result"
    }
   ],
   "source": [
    "Census = pd.concat([Census_test,ID], axis=1)\n",
    "Census.head()"
   ]
  },
  {
   "attachments": {},
   "cell_type": "markdown",
   "metadata": {},
   "source": [
    "Comparing average household size between Ireland and scotland"
   ]
  },
  {
   "cell_type": "code",
   "execution_count": 451,
   "metadata": {},
   "outputs": [
    {
     "data": {
      "text/html": [
       "<div>\n",
       "<style scoped>\n",
       "    .dataframe tbody tr th:only-of-type {\n",
       "        vertical-align: middle;\n",
       "    }\n",
       "\n",
       "    .dataframe tbody tr th {\n",
       "        vertical-align: top;\n",
       "    }\n",
       "\n",
       "    .dataframe thead th {\n",
       "        text-align: right;\n",
       "    }\n",
       "</style>\n",
       "<table border=\"1\" class=\"dataframe\">\n",
       "  <thead>\n",
       "    <tr style=\"text-align: right;\">\n",
       "      <th></th>\n",
       "      <th>T5_2_1PH</th>\n",
       "      <th>T5_2_2PH</th>\n",
       "      <th>T5_2_3PH</th>\n",
       "      <th>T5_2_4PH</th>\n",
       "      <th>T5_2_5PH</th>\n",
       "      <th>T5_2_6PH</th>\n",
       "      <th>T5_2_7PH</th>\n",
       "      <th>T5_2_GE8PH</th>\n",
       "      <th>T5_2_TH</th>\n",
       "    </tr>\n",
       "  </thead>\n",
       "  <tbody>\n",
       "    <tr>\n",
       "      <th>0</th>\n",
       "      <td>12,102</td>\n",
       "      <td>15,312</td>\n",
       "      <td>9,541</td>\n",
       "      <td>9,379</td>\n",
       "      <td>5,099</td>\n",
       "      <td>1,750</td>\n",
       "      <td>429</td>\n",
       "      <td>200</td>\n",
       "      <td>53,812</td>\n",
       "    </tr>\n",
       "    <tr>\n",
       "      <th>1</th>\n",
       "      <td>10,567</td>\n",
       "      <td>11,730</td>\n",
       "      <td>7,189</td>\n",
       "      <td>7,203</td>\n",
       "      <td>4,599</td>\n",
       "      <td>1,793</td>\n",
       "      <td>471</td>\n",
       "      <td>262</td>\n",
       "      <td>43,814</td>\n",
       "    </tr>\n",
       "    <tr>\n",
       "      <th>2</th>\n",
       "      <td>10,760</td>\n",
       "      <td>11,836</td>\n",
       "      <td>6,736</td>\n",
       "      <td>6,613</td>\n",
       "      <td>3,763</td>\n",
       "      <td>1,293</td>\n",
       "      <td>308</td>\n",
       "      <td>131</td>\n",
       "      <td>41,440</td>\n",
       "    </tr>\n",
       "    <tr>\n",
       "      <th>3</th>\n",
       "      <td>9,978</td>\n",
       "      <td>11,776</td>\n",
       "      <td>7,672</td>\n",
       "      <td>7,886</td>\n",
       "      <td>4,261</td>\n",
       "      <td>1,308</td>\n",
       "      <td>286</td>\n",
       "      <td>108</td>\n",
       "      <td>43,275</td>\n",
       "    </tr>\n",
       "    <tr>\n",
       "      <th>4</th>\n",
       "      <td>11,224</td>\n",
       "      <td>13,171</td>\n",
       "      <td>7,886</td>\n",
       "      <td>7,344</td>\n",
       "      <td>3,730</td>\n",
       "      <td>1,269</td>\n",
       "      <td>302</td>\n",
       "      <td>146</td>\n",
       "      <td>45,072</td>\n",
       "    </tr>\n",
       "  </tbody>\n",
       "</table>\n",
       "</div>"
      ],
      "text/plain": [
       "  T5_2_1PH T5_2_2PH T5_2_3PH T5_2_4PH T5_2_5PH T5_2_6PH  T5_2_7PH  T5_2_GE8PH  \\\n",
       "0   12,102   15,312    9,541    9,379    5,099    1,750       429         200   \n",
       "1   10,567   11,730    7,189    7,203    4,599    1,793       471         262   \n",
       "2   10,760   11,836    6,736    6,613    3,763    1,293       308         131   \n",
       "3    9,978   11,776    7,672    7,886    4,261    1,308       286         108   \n",
       "4   11,224   13,171    7,886    7,344    3,730    1,269       302         146   \n",
       "\n",
       "  T5_2_TH  \n",
       "0  53,812  \n",
       "1  43,814  \n",
       "2  41,440  \n",
       "3  43,275  \n",
       "4  45,072  "
      ]
     },
     "execution_count": 451,
     "metadata": {},
     "output_type": "execute_result"
    }
   ],
   "source": [
    "Ireland_avg_house = Census[['T5_2_1PH',\n",
    "'T5_2_2PH',\n",
    "'T5_2_3PH',\n",
    "'T5_2_4PH',\n",
    "'T5_2_5PH',\n",
    "'T5_2_6PH',\n",
    "'T5_2_7PH',\n",
    "'T5_2_GE8PH',\n",
    "'T5_2_TH' ]]\n",
    "Ireland_avg_house.head()\n"
   ]
  },
  {
   "cell_type": "code",
   "execution_count": 452,
   "metadata": {},
   "outputs": [
    {
     "name": "stdout",
     "output_type": "stream",
     "text": [
      "column not str\n",
      "column not str\n"
     ]
    },
    {
     "name": "stderr",
     "output_type": "stream",
     "text": [
      "C:\\Users\\santi\\AppData\\Local\\Temp\\ipykernel_11676\\1303354070.py:3: SettingWithCopyWarning:\n",
      "\n",
      "\n",
      "A value is trying to be set on a copy of a slice from a DataFrame.\n",
      "Try using .loc[row_indexer,col_indexer] = value instead\n",
      "\n",
      "See the caveats in the documentation: https://pandas.pydata.org/pandas-docs/stable/user_guide/indexing.html#returning-a-view-versus-a-copy\n",
      "\n",
      "C:\\Users\\santi\\AppData\\Local\\Temp\\ipykernel_11676\\1303354070.py:4: SettingWithCopyWarning:\n",
      "\n",
      "\n",
      "A value is trying to be set on a copy of a slice from a DataFrame.\n",
      "Try using .loc[row_indexer,col_indexer] = value instead\n",
      "\n",
      "See the caveats in the documentation: https://pandas.pydata.org/pandas-docs/stable/user_guide/indexing.html#returning-a-view-versus-a-copy\n",
      "\n",
      "C:\\Users\\santi\\AppData\\Local\\Temp\\ipykernel_11676\\1303354070.py:8: SettingWithCopyWarning:\n",
      "\n",
      "\n",
      "A value is trying to be set on a copy of a slice from a DataFrame.\n",
      "Try using .loc[row_indexer,col_indexer] = value instead\n",
      "\n",
      "See the caveats in the documentation: https://pandas.pydata.org/pandas-docs/stable/user_guide/indexing.html#returning-a-view-versus-a-copy\n",
      "\n"
     ]
    },
    {
     "data": {
      "text/html": [
       "<div>\n",
       "<style scoped>\n",
       "    .dataframe tbody tr th:only-of-type {\n",
       "        vertical-align: middle;\n",
       "    }\n",
       "\n",
       "    .dataframe tbody tr th {\n",
       "        vertical-align: top;\n",
       "    }\n",
       "\n",
       "    .dataframe thead th {\n",
       "        text-align: right;\n",
       "    }\n",
       "</style>\n",
       "<table border=\"1\" class=\"dataframe\">\n",
       "  <thead>\n",
       "    <tr style=\"text-align: right;\">\n",
       "      <th></th>\n",
       "      <th>T5_2_1PH</th>\n",
       "      <th>T5_2_2PH</th>\n",
       "      <th>T5_2_3PH</th>\n",
       "      <th>T5_2_4PH</th>\n",
       "      <th>T5_2_5PH</th>\n",
       "      <th>T5_2_6PH</th>\n",
       "      <th>T5_2_7PH</th>\n",
       "      <th>T5_2_GE8PH</th>\n",
       "      <th>T5_2_TH</th>\n",
       "      <th>Average household size</th>\n",
       "    </tr>\n",
       "  </thead>\n",
       "  <tbody>\n",
       "    <tr>\n",
       "      <th>0</th>\n",
       "      <td>12102</td>\n",
       "      <td>15312</td>\n",
       "      <td>9541</td>\n",
       "      <td>9379</td>\n",
       "      <td>5099</td>\n",
       "      <td>1750</td>\n",
       "      <td>429</td>\n",
       "      <td>200</td>\n",
       "      <td>53812</td>\n",
       "      <td>2.777503</td>\n",
       "    </tr>\n",
       "    <tr>\n",
       "      <th>1</th>\n",
       "      <td>10567</td>\n",
       "      <td>11730</td>\n",
       "      <td>7189</td>\n",
       "      <td>7203</td>\n",
       "      <td>4599</td>\n",
       "      <td>1793</td>\n",
       "      <td>471</td>\n",
       "      <td>262</td>\n",
       "      <td>43814</td>\n",
       "      <td>2.819921</td>\n",
       "    </tr>\n",
       "    <tr>\n",
       "      <th>2</th>\n",
       "      <td>10760</td>\n",
       "      <td>11836</td>\n",
       "      <td>6736</td>\n",
       "      <td>6613</td>\n",
       "      <td>3763</td>\n",
       "      <td>1293</td>\n",
       "      <td>308</td>\n",
       "      <td>131</td>\n",
       "      <td>41440</td>\n",
       "      <td>2.675410</td>\n",
       "    </tr>\n",
       "    <tr>\n",
       "      <th>3</th>\n",
       "      <td>9978</td>\n",
       "      <td>11776</td>\n",
       "      <td>7672</td>\n",
       "      <td>7886</td>\n",
       "      <td>4261</td>\n",
       "      <td>1308</td>\n",
       "      <td>286</td>\n",
       "      <td>108</td>\n",
       "      <td>43275</td>\n",
       "      <td>2.775482</td>\n",
       "    </tr>\n",
       "    <tr>\n",
       "      <th>4</th>\n",
       "      <td>11224</td>\n",
       "      <td>13171</td>\n",
       "      <td>7886</td>\n",
       "      <td>7344</td>\n",
       "      <td>3730</td>\n",
       "      <td>1269</td>\n",
       "      <td>302</td>\n",
       "      <td>146</td>\n",
       "      <td>45072</td>\n",
       "      <td>2.665646</td>\n",
       "    </tr>\n",
       "  </tbody>\n",
       "</table>\n",
       "</div>"
      ],
      "text/plain": [
       "   T5_2_1PH  T5_2_2PH  T5_2_3PH  T5_2_4PH  T5_2_5PH  T5_2_6PH  T5_2_7PH  \\\n",
       "0     12102     15312      9541      9379      5099      1750       429   \n",
       "1     10567     11730      7189      7203      4599      1793       471   \n",
       "2     10760     11836      6736      6613      3763      1293       308   \n",
       "3      9978     11776      7672      7886      4261      1308       286   \n",
       "4     11224     13171      7886      7344      3730      1269       302   \n",
       "\n",
       "   T5_2_GE8PH  T5_2_TH  Average household size  \n",
       "0         200    53812                2.777503  \n",
       "1         262    43814                2.819921  \n",
       "2         131    41440                2.675410  \n",
       "3         108    43275                2.775482  \n",
       "4         146    45072                2.665646  "
      ]
     },
     "execution_count": 452,
     "metadata": {},
     "output_type": "execute_result"
    }
   ],
   "source": [
    "\n",
    "for x in Ireland_avg_house.columns:\n",
    "    try:\n",
    "        Ireland_avg_house[x] = Ireland_avg_house[x].str.replace(',','')\n",
    "        Ireland_avg_house[x] = pd.to_numeric(Ireland_avg_house[x])\n",
    "    except:\n",
    "        print('column not str')\n",
    "        \n",
    "Ireland_avg_house['Average household size'] = (Ireland_avg_house['T5_2_1PH']*1 + \n",
    "                                               Ireland_avg_house['T5_2_2PH']*2 + \n",
    "                                               Ireland_avg_house['T5_2_3PH']*3 + \n",
    "                                               Ireland_avg_house['T5_2_4PH']*4 + \n",
    "                                               Ireland_avg_house['T5_2_5PH']*5 + \n",
    "                                               Ireland_avg_house['T5_2_6PH']*6 + \n",
    "                                               Ireland_avg_house['T5_2_7PH']*7 +\n",
    "                                               Ireland_avg_house['T5_2_GE8PH']*8) / Ireland_avg_house['T5_2_TH'] \n",
    "Ireland_avg_house.head()\n"
   ]
  },
  {
   "cell_type": "code",
   "execution_count": 453,
   "metadata": {},
   "outputs": [
    {
     "data": {
      "text/plain": [
       "(40, 10)"
      ]
     },
     "execution_count": 453,
     "metadata": {},
     "output_type": "execute_result"
    }
   ],
   "source": [
    "Ireland_avg_house.shape"
   ]
  },
  {
   "attachments": {},
   "cell_type": "markdown",
   "metadata": {},
   "source": [
    "Scotland Census\n",
    "\n",
    "https://www.nrscotland.gov.uk/statistics-and-data/statistics/statistics-by-theme/households/household-estimates/2021"
   ]
  },
  {
   "cell_type": "code",
   "execution_count": 454,
   "metadata": {},
   "outputs": [
    {
     "data": {
      "text/html": [
       "<div>\n",
       "<style scoped>\n",
       "    .dataframe tbody tr th:only-of-type {\n",
       "        vertical-align: middle;\n",
       "    }\n",
       "\n",
       "    .dataframe tbody tr th {\n",
       "        vertical-align: top;\n",
       "    }\n",
       "\n",
       "    .dataframe thead th {\n",
       "        text-align: right;\n",
       "    }\n",
       "</style>\n",
       "<table border=\"1\" class=\"dataframe\">\n",
       "  <thead>\n",
       "    <tr style=\"text-align: right;\">\n",
       "      <th></th>\n",
       "      <th>Table 3: Average household size for Scotland by council area, June 2001 to 2021 [note 5] [note 6]</th>\n",
       "      <th>Unnamed: 1</th>\n",
       "      <th>Unnamed: 2</th>\n",
       "      <th>Unnamed: 3</th>\n",
       "      <th>Unnamed: 4</th>\n",
       "      <th>Unnamed: 5</th>\n",
       "      <th>Unnamed: 6</th>\n",
       "      <th>Unnamed: 7</th>\n",
       "      <th>Unnamed: 8</th>\n",
       "      <th>Unnamed: 9</th>\n",
       "      <th>...</th>\n",
       "      <th>Unnamed: 15</th>\n",
       "      <th>Unnamed: 16</th>\n",
       "      <th>Unnamed: 17</th>\n",
       "      <th>Unnamed: 18</th>\n",
       "      <th>Unnamed: 19</th>\n",
       "      <th>Unnamed: 20</th>\n",
       "      <th>Unnamed: 21</th>\n",
       "      <th>Unnamed: 22</th>\n",
       "      <th>Unnamed: 23</th>\n",
       "      <th>Unnamed: 24</th>\n",
       "    </tr>\n",
       "  </thead>\n",
       "  <tbody>\n",
       "    <tr>\n",
       "      <th>0</th>\n",
       "      <td>This worksheet contains one table. Some cells ...</td>\n",
       "      <td>NaN</td>\n",
       "      <td>NaN</td>\n",
       "      <td>NaN</td>\n",
       "      <td>NaN</td>\n",
       "      <td>NaN</td>\n",
       "      <td>NaN</td>\n",
       "      <td>NaN</td>\n",
       "      <td>NaN</td>\n",
       "      <td>NaN</td>\n",
       "      <td>...</td>\n",
       "      <td>NaN</td>\n",
       "      <td>NaN</td>\n",
       "      <td>NaN</td>\n",
       "      <td>NaN</td>\n",
       "      <td>NaN</td>\n",
       "      <td>NaN</td>\n",
       "      <td>NaN</td>\n",
       "      <td>NaN</td>\n",
       "      <td>NaN</td>\n",
       "      <td>NaN</td>\n",
       "    </tr>\n",
       "    <tr>\n",
       "      <th>1</th>\n",
       "      <td>Mid-year population estimates for 2021 were no...</td>\n",
       "      <td>NaN</td>\n",
       "      <td>NaN</td>\n",
       "      <td>NaN</td>\n",
       "      <td>NaN</td>\n",
       "      <td>NaN</td>\n",
       "      <td>NaN</td>\n",
       "      <td>NaN</td>\n",
       "      <td>NaN</td>\n",
       "      <td>NaN</td>\n",
       "      <td>...</td>\n",
       "      <td>NaN</td>\n",
       "      <td>NaN</td>\n",
       "      <td>NaN</td>\n",
       "      <td>NaN</td>\n",
       "      <td>NaN</td>\n",
       "      <td>NaN</td>\n",
       "      <td>NaN</td>\n",
       "      <td>NaN</td>\n",
       "      <td>NaN</td>\n",
       "      <td>NaN</td>\n",
       "    </tr>\n",
       "    <tr>\n",
       "      <th>2</th>\n",
       "      <td>Back to contents</td>\n",
       "      <td>NaN</td>\n",
       "      <td>NaN</td>\n",
       "      <td>NaN</td>\n",
       "      <td>NaN</td>\n",
       "      <td>NaN</td>\n",
       "      <td>NaN</td>\n",
       "      <td>NaN</td>\n",
       "      <td>NaN</td>\n",
       "      <td>NaN</td>\n",
       "      <td>...</td>\n",
       "      <td>NaN</td>\n",
       "      <td>NaN</td>\n",
       "      <td>NaN</td>\n",
       "      <td>NaN</td>\n",
       "      <td>NaN</td>\n",
       "      <td>NaN</td>\n",
       "      <td>NaN</td>\n",
       "      <td>NaN</td>\n",
       "      <td>NaN</td>\n",
       "      <td>NaN</td>\n",
       "    </tr>\n",
       "    <tr>\n",
       "      <th>3</th>\n",
       "      <td>Council</td>\n",
       "      <td>2001.00</td>\n",
       "      <td>2002.00</td>\n",
       "      <td>2003.00</td>\n",
       "      <td>2004.00</td>\n",
       "      <td>2005.00</td>\n",
       "      <td>2006.0</td>\n",
       "      <td>2007.00</td>\n",
       "      <td>2008.00</td>\n",
       "      <td>2009.00</td>\n",
       "      <td>...</td>\n",
       "      <td>2015.00</td>\n",
       "      <td>2016.00</td>\n",
       "      <td>2017.00</td>\n",
       "      <td>2018.00</td>\n",
       "      <td>2019.00</td>\n",
       "      <td>2020.00</td>\n",
       "      <td>2021.00</td>\n",
       "      <td>Change 2020 - 2021 \\n %</td>\n",
       "      <td>Change 2011 - 2021 \\n %</td>\n",
       "      <td>Change 2001 - 2021 \\n %</td>\n",
       "    </tr>\n",
       "    <tr>\n",
       "      <th>4</th>\n",
       "      <td>Scotland</td>\n",
       "      <td>2.27</td>\n",
       "      <td>2.25</td>\n",
       "      <td>2.23</td>\n",
       "      <td>2.22</td>\n",
       "      <td>2.21</td>\n",
       "      <td>2.2</td>\n",
       "      <td>2.19</td>\n",
       "      <td>2.18</td>\n",
       "      <td>2.18</td>\n",
       "      <td>...</td>\n",
       "      <td>2.17</td>\n",
       "      <td>2.17</td>\n",
       "      <td>2.16</td>\n",
       "      <td>2.15</td>\n",
       "      <td>2.15</td>\n",
       "      <td>2.14</td>\n",
       "      <td>2.12</td>\n",
       "      <td>-0.934579</td>\n",
       "      <td>-3.196347</td>\n",
       "      <td>-6.60793</td>\n",
       "    </tr>\n",
       "  </tbody>\n",
       "</table>\n",
       "<p>5 rows × 25 columns</p>\n",
       "</div>"
      ],
      "text/plain": [
       "  Table 3: Average household size for Scotland by council area, June 2001 to 2021 [note 5] [note 6]  \\\n",
       "0  This worksheet contains one table. Some cells ...                                                  \n",
       "1  Mid-year population estimates for 2021 were no...                                                  \n",
       "2                                   Back to contents                                                  \n",
       "3                                            Council                                                  \n",
       "4                                           Scotland                                                  \n",
       "\n",
       "   Unnamed: 1  Unnamed: 2  Unnamed: 3  Unnamed: 4  Unnamed: 5  Unnamed: 6  \\\n",
       "0         NaN         NaN         NaN         NaN         NaN         NaN   \n",
       "1         NaN         NaN         NaN         NaN         NaN         NaN   \n",
       "2         NaN         NaN         NaN         NaN         NaN         NaN   \n",
       "3     2001.00     2002.00     2003.00     2004.00     2005.00      2006.0   \n",
       "4        2.27        2.25        2.23        2.22        2.21         2.2   \n",
       "\n",
       "   Unnamed: 7  Unnamed: 8  Unnamed: 9  ...  Unnamed: 15  Unnamed: 16  \\\n",
       "0         NaN         NaN         NaN  ...          NaN          NaN   \n",
       "1         NaN         NaN         NaN  ...          NaN          NaN   \n",
       "2         NaN         NaN         NaN  ...          NaN          NaN   \n",
       "3     2007.00     2008.00     2009.00  ...      2015.00      2016.00   \n",
       "4        2.19        2.18        2.18  ...         2.17         2.17   \n",
       "\n",
       "   Unnamed: 17  Unnamed: 18  Unnamed: 19  Unnamed: 20  Unnamed: 21  \\\n",
       "0          NaN          NaN          NaN          NaN          NaN   \n",
       "1          NaN          NaN          NaN          NaN          NaN   \n",
       "2          NaN          NaN          NaN          NaN          NaN   \n",
       "3      2017.00      2018.00      2019.00      2020.00      2021.00   \n",
       "4         2.16         2.15         2.15         2.14         2.12   \n",
       "\n",
       "               Unnamed: 22              Unnamed: 23              Unnamed: 24  \n",
       "0                      NaN                      NaN                      NaN  \n",
       "1                      NaN                      NaN                      NaN  \n",
       "2                      NaN                      NaN                      NaN  \n",
       "3  Change 2020 - 2021 \\n %  Change 2011 - 2021 \\n %  Change 2001 - 2021 \\n %  \n",
       "4                -0.934579                -3.196347                 -6.60793  \n",
       "\n",
       "[5 rows x 25 columns]"
      ]
     },
     "execution_count": 454,
     "metadata": {},
     "output_type": "execute_result"
    }
   ],
   "source": [
    "scotland = pd.read_excel('C:\\\\Users\\\\santi\\\\OneDrive\\\\Desktop\\\\house-est-21-data.xlsx', sheet_name='Table3')\n",
    "scotland.head()"
   ]
  },
  {
   "cell_type": "code",
   "execution_count": 455,
   "metadata": {},
   "outputs": [
    {
     "data": {
      "text/html": [
       "<div>\n",
       "<style scoped>\n",
       "    .dataframe tbody tr th:only-of-type {\n",
       "        vertical-align: middle;\n",
       "    }\n",
       "\n",
       "    .dataframe tbody tr th {\n",
       "        vertical-align: top;\n",
       "    }\n",
       "\n",
       "    .dataframe thead th {\n",
       "        text-align: right;\n",
       "    }\n",
       "</style>\n",
       "<table border=\"1\" class=\"dataframe\">\n",
       "  <thead>\n",
       "    <tr style=\"text-align: right;\">\n",
       "      <th></th>\n",
       "      <th>Council</th>\n",
       "      <th>2001.0</th>\n",
       "      <th>2002.0</th>\n",
       "      <th>2003.0</th>\n",
       "      <th>2004.0</th>\n",
       "      <th>2005.0</th>\n",
       "      <th>2006.0</th>\n",
       "      <th>2007.0</th>\n",
       "      <th>2008.0</th>\n",
       "      <th>2009.0</th>\n",
       "      <th>...</th>\n",
       "      <th>2015.0</th>\n",
       "      <th>2016.0</th>\n",
       "      <th>2017.0</th>\n",
       "      <th>2018.0</th>\n",
       "      <th>2019.0</th>\n",
       "      <th>2020.0</th>\n",
       "      <th>2021.0</th>\n",
       "      <th>Change 2020 - 2021 \\n %</th>\n",
       "      <th>Change 2011 - 2021 \\n %</th>\n",
       "      <th>Change 2001 - 2021 \\n %</th>\n",
       "    </tr>\n",
       "  </thead>\n",
       "  <tbody>\n",
       "    <tr>\n",
       "      <th>5</th>\n",
       "      <td>Aberdeen City [note 4]</td>\n",
       "      <td>2.13</td>\n",
       "      <td>2.10</td>\n",
       "      <td>2.08</td>\n",
       "      <td>2.05</td>\n",
       "      <td>2.04</td>\n",
       "      <td>2.02</td>\n",
       "      <td>2.01</td>\n",
       "      <td>2.01</td>\n",
       "      <td>2.03</td>\n",
       "      <td>...</td>\n",
       "      <td>2.10</td>\n",
       "      <td>2.07</td>\n",
       "      <td>2.06</td>\n",
       "      <td>2.03</td>\n",
       "      <td>2.03</td>\n",
       "      <td>2.02</td>\n",
       "      <td>2.02</td>\n",
       "      <td>0</td>\n",
       "      <td>-2.415459</td>\n",
       "      <td>-5.164319</td>\n",
       "    </tr>\n",
       "    <tr>\n",
       "      <th>6</th>\n",
       "      <td>Aberdeenshire</td>\n",
       "      <td>2.47</td>\n",
       "      <td>2.45</td>\n",
       "      <td>2.44</td>\n",
       "      <td>2.42</td>\n",
       "      <td>2.41</td>\n",
       "      <td>2.41</td>\n",
       "      <td>2.41</td>\n",
       "      <td>2.40</td>\n",
       "      <td>2.40</td>\n",
       "      <td>...</td>\n",
       "      <td>2.37</td>\n",
       "      <td>2.35</td>\n",
       "      <td>2.34</td>\n",
       "      <td>2.33</td>\n",
       "      <td>2.31</td>\n",
       "      <td>2.29</td>\n",
       "      <td>2.27</td>\n",
       "      <td>-0.873362</td>\n",
       "      <td>-5.020921</td>\n",
       "      <td>-8.097166</td>\n",
       "    </tr>\n",
       "    <tr>\n",
       "      <th>7</th>\n",
       "      <td>Angus</td>\n",
       "      <td>2.27</td>\n",
       "      <td>2.26</td>\n",
       "      <td>2.24</td>\n",
       "      <td>2.24</td>\n",
       "      <td>2.24</td>\n",
       "      <td>2.23</td>\n",
       "      <td>2.23</td>\n",
       "      <td>2.23</td>\n",
       "      <td>2.21</td>\n",
       "      <td>...</td>\n",
       "      <td>2.17</td>\n",
       "      <td>2.16</td>\n",
       "      <td>2.14</td>\n",
       "      <td>2.12</td>\n",
       "      <td>2.11</td>\n",
       "      <td>2.10</td>\n",
       "      <td>2.08</td>\n",
       "      <td>-0.952381</td>\n",
       "      <td>-6.306306</td>\n",
       "      <td>-8.370044</td>\n",
       "    </tr>\n",
       "    <tr>\n",
       "      <th>8</th>\n",
       "      <td>Argyll and Bute</td>\n",
       "      <td>2.24</td>\n",
       "      <td>2.23</td>\n",
       "      <td>2.20</td>\n",
       "      <td>2.19</td>\n",
       "      <td>2.16</td>\n",
       "      <td>2.17</td>\n",
       "      <td>2.17</td>\n",
       "      <td>2.15</td>\n",
       "      <td>2.15</td>\n",
       "      <td>...</td>\n",
       "      <td>2.06</td>\n",
       "      <td>2.06</td>\n",
       "      <td>2.04</td>\n",
       "      <td>2.01</td>\n",
       "      <td>2.00</td>\n",
       "      <td>1.98</td>\n",
       "      <td>1.96</td>\n",
       "      <td>-1.010101</td>\n",
       "      <td>-8.411215</td>\n",
       "      <td>-12.5</td>\n",
       "    </tr>\n",
       "    <tr>\n",
       "      <th>9</th>\n",
       "      <td>City of Edinburgh [note 4]</td>\n",
       "      <td>2.14</td>\n",
       "      <td>2.11</td>\n",
       "      <td>2.09</td>\n",
       "      <td>2.07</td>\n",
       "      <td>2.06</td>\n",
       "      <td>2.05</td>\n",
       "      <td>2.04</td>\n",
       "      <td>2.03</td>\n",
       "      <td>2.04</td>\n",
       "      <td>...</td>\n",
       "      <td>2.11</td>\n",
       "      <td>2.13</td>\n",
       "      <td>2.13</td>\n",
       "      <td>2.13</td>\n",
       "      <td>2.14</td>\n",
       "      <td>2.14</td>\n",
       "      <td>2.12</td>\n",
       "      <td>-0.934579</td>\n",
       "      <td>2.415459</td>\n",
       "      <td>-0.934579</td>\n",
       "    </tr>\n",
       "  </tbody>\n",
       "</table>\n",
       "<p>5 rows × 25 columns</p>\n",
       "</div>"
      ],
      "text/plain": [
       "                      Council  2001.0  2002.0  2003.0  2004.0  2005.0  2006.0  \\\n",
       "5      Aberdeen City [note 4]    2.13    2.10    2.08    2.05    2.04    2.02   \n",
       "6               Aberdeenshire    2.47    2.45    2.44    2.42    2.41    2.41   \n",
       "7                       Angus    2.27    2.26    2.24    2.24    2.24    2.23   \n",
       "8             Argyll and Bute    2.24    2.23    2.20    2.19    2.16    2.17   \n",
       "9  City of Edinburgh [note 4]    2.14    2.11    2.09    2.07    2.06    2.05   \n",
       "\n",
       "   2007.0  2008.0  2009.0  ...  2015.0  2016.0  2017.0  2018.0  2019.0  \\\n",
       "5    2.01    2.01    2.03  ...    2.10    2.07    2.06    2.03    2.03   \n",
       "6    2.41    2.40    2.40  ...    2.37    2.35    2.34    2.33    2.31   \n",
       "7    2.23    2.23    2.21  ...    2.17    2.16    2.14    2.12    2.11   \n",
       "8    2.17    2.15    2.15  ...    2.06    2.06    2.04    2.01    2.00   \n",
       "9    2.04    2.03    2.04  ...    2.11    2.13    2.13    2.13    2.14   \n",
       "\n",
       "   2020.0  2021.0  Change 2020 - 2021 \\n %  Change 2011 - 2021 \\n %  \\\n",
       "5    2.02    2.02                        0                -2.415459   \n",
       "6    2.29    2.27                -0.873362                -5.020921   \n",
       "7    2.10    2.08                -0.952381                -6.306306   \n",
       "8    1.98    1.96                -1.010101                -8.411215   \n",
       "9    2.14    2.12                -0.934579                 2.415459   \n",
       "\n",
       "   Change 2001 - 2021 \\n %  \n",
       "5                -5.164319  \n",
       "6                -8.097166  \n",
       "7                -8.370044  \n",
       "8                    -12.5  \n",
       "9                -0.934579  \n",
       "\n",
       "[5 rows x 25 columns]"
      ]
     },
     "execution_count": 455,
     "metadata": {},
     "output_type": "execute_result"
    }
   ],
   "source": [
    "scotland = scotland.iloc[3:]\n",
    "scotland = scotland.rename(columns=scotland.iloc[0])\n",
    "scotland = scotland.iloc[2:]\n",
    "scotland.head()"
   ]
  },
  {
   "cell_type": "code",
   "execution_count": 456,
   "metadata": {},
   "outputs": [
    {
     "data": {
      "text/plain": [
       "count    32.000000\n",
       "mean      2.180625\n",
       "std       0.102136\n",
       "min       2.050000\n",
       "25%       2.105000\n",
       "50%       2.155000\n",
       "75%       2.240000\n",
       "max       2.420000\n",
       "Name: 2016.0, dtype: float64"
      ]
     },
     "execution_count": 456,
     "metadata": {},
     "output_type": "execute_result"
    }
   ],
   "source": [
    "scotland[2016.00].describe()"
   ]
  },
  {
   "cell_type": "code",
   "execution_count": 457,
   "metadata": {},
   "outputs": [
    {
     "data": {
      "text/plain": [
       "count    40.000000\n",
       "mean      2.754412\n",
       "std       0.185192\n",
       "min       2.236814\n",
       "25%       2.674458\n",
       "50%       2.730714\n",
       "75%       2.840331\n",
       "max       3.100291\n",
       "Name: Average household size, dtype: float64"
      ]
     },
     "execution_count": 457,
     "metadata": {},
     "output_type": "execute_result"
    }
   ],
   "source": [
    "Ireland_avg_house['Average household size'].describe()"
   ]
  },
  {
   "cell_type": "code",
   "execution_count": 458,
   "metadata": {},
   "outputs": [
    {
     "data": {
      "text/plain": [
       "[Text(0.5, 0, 'Ireland'), Text(0, 0.5, 'Average Household size')]"
      ]
     },
     "execution_count": 458,
     "metadata": {},
     "output_type": "execute_result"
    },
    {
     "data": {
      "image/png": "[encoded data removed]",
      "text/plain": [
       "<Figure size 1500x500 with 2 Axes>"
      ]
     },
     "metadata": {},
     "output_type": "display_data"
    }
   ],
   "source": [
    "import seaborn as sns\n",
    "import matplotlib.pyplot as plt\n",
    "\n",
    "sns.set_style(\"darkgrid\")\n",
    "rc = {'figure.figsize':(10,5),\n",
    "      'axes.grid' : True,\n",
    "      'grid.color': '.7',\n",
    "      'font.family':'Corbel',\n",
    "      'font.size' : 18}\n",
    "plt.rcParams.update(rc)\n",
    "\n",
    "\n",
    "fig, ax = plt.subplots(1,2,figsize=(15, 5))\n",
    "fig.suptitle('Average Household size by macro area (Ireland Counties / Scotland Councils) \\n 2016',color= \"black\", weight='bold',fontname=\"Times New Roman\",fontsize=14)\n",
    "sns.boxplot(y= 2016.00,data=scotland,ax=ax[0]).set(\n",
    "    xlabel='Scotland', \n",
    "    ylabel='Average Household Size')\n",
    "sns.boxplot(y= 'Average household size',data=Ireland_avg_house,ax=ax[1], color='green').set(\n",
    "    xlabel='Ireland', \n",
    "    ylabel='Average Household size')"
   ]
  },
  {
   "cell_type": "code",
   "execution_count": 459,
   "metadata": {},
   "outputs": [
    {
     "data": {
      "image/png": "[encoded data removed]",
      "text/plain": [
       "<Figure size 2000x500 with 2 Axes>"
      ]
     },
     "metadata": {},
     "output_type": "display_data"
    }
   ],
   "source": [
    "fig, axes = plt.subplots(nrows=1, ncols=2, figsize=(20, 5))\n",
    "fig.suptitle('Distribution of Average Household size by macro area (Ireland Counties / Scotland Councils) \\n 2016',color= \"black\", weight='bold',fontname=\"Times New Roman\",fontsize=14)\n",
    "\n",
    "sns.histplot(x= scotland[2016.00], kde=True, stat='density', ax=axes[0])\n",
    "sns.histplot(x= Ireland_avg_house['Average household size'], kde=True, stat='density', ax=axes[1],color='green')\n",
    "\n",
    "\n",
    "plt.show()"
   ]
  },
  {
   "attachments": {},
   "cell_type": "markdown",
   "metadata": {},
   "source": [
    "#### Checking for normality a= 0.05"
   ]
  },
  {
   "cell_type": "code",
   "execution_count": 460,
   "metadata": {},
   "outputs": [
    {
     "data": {
      "text/plain": [
       "Text(0.5, 1.0, 'Ireland')"
      ]
     },
     "execution_count": 460,
     "metadata": {},
     "output_type": "execute_result"
    },
    {
     "data": {
      "image/png": "[encoded data removed]",
      "text/plain": [
       "<Figure size 2000x500 with 2 Axes>"
      ]
     },
     "metadata": {},
     "output_type": "display_data"
    }
   ],
   "source": [
    "import statsmodels.api as sm\n",
    "\n",
    "fig, ax = plt.subplots(nrows=1, ncols=2, figsize=(20, 5))\n",
    "fig.suptitle('QQ PLOTS',color= \"black\", weight='bold',fontname=\"Times New Roman\",fontsize=14)\n",
    "\n",
    "fig = sm.qqplot(scotland[2016.00], line='45' ,fit = True, ax=ax[0])\n",
    "ax[0].set_title('Scotland')\n",
    "fig = sm.qqplot(Ireland_avg_house['Average household size'],fit = True, line='45' , ax=ax[1])\n",
    "ax[1].set_title('Ireland')"
   ]
  },
  {
   "cell_type": "code",
   "execution_count": 461,
   "metadata": {},
   "outputs": [
    {
     "name": "stdout",
     "output_type": "stream",
     "text": [
      "Ireland p value: 0.07477682083845139\n",
      "Ireland stat value: 0.9498233795166016\n",
      "Ireland p value: 0.054151393473148346\n",
      "Ireland stat value: 0.9350242018699646\n"
     ]
    }
   ],
   "source": [
    "from scipy.stats import shapiro\n",
    "stat, p = shapiro(Ireland_avg_house['Average household size'])\n",
    "print('Ireland p value: ' + str(p))\n",
    "print('Ireland stat value: ' + str(stat))\n",
    "\n",
    "stat, p = shapiro(scotland[2016.00])\n",
    "print('Ireland p value: ' + str(p))\n",
    "print('Ireland stat value: ' + str(stat))"
   ]
  },
  {
   "attachments": {},
   "cell_type": "markdown",
   "metadata": {},
   "source": [
    "both p values are greater than 0.05, data is considered normal"
   ]
  },
  {
   "attachments": {},
   "cell_type": "markdown",
   "metadata": {},
   "source": [
    "#### Levene test"
   ]
  },
  {
   "cell_type": "code",
   "execution_count": 462,
   "metadata": {},
   "outputs": [
    {
     "name": "stdout",
     "output_type": "stream",
     "text": [
      "Levene test p: 0.03858459942228186\n"
     ]
    }
   ],
   "source": [
    "from scipy.stats import levene\n",
    "stat, p = levene(Ireland_avg_house['Average household size'], scotland[2016.00])\n",
    "print( f'Levene test p: {p}')"
   ]
  },
  {
   "attachments": {},
   "cell_type": "markdown",
   "metadata": {},
   "source": [
    "there is a Significant difference between the variances so we're going for non parametric test"
   ]
  },
  {
   "attachments": {},
   "cell_type": "markdown",
   "metadata": {},
   "source": [
    "H0: median of averages scotland = median of averages Ireland\n",
    "\n",
    "H1: median of averages people per household is different between ireland and scotland"
   ]
  },
  {
   "cell_type": "code",
   "execution_count": 463,
   "metadata": {},
   "outputs": [
    {
     "data": {
      "text/plain": [
       "MannwhitneyuResult(statistic=1266.0, pvalue=1.3456151330532647e-12)"
      ]
     },
     "execution_count": 463,
     "metadata": {},
     "output_type": "execute_result"
    }
   ],
   "source": [
    "from scipy import stats\n",
    "stats.mannwhitneyu(Ireland_avg_house['Average household size'],scotland[2016.00])"
   ]
  },
  {
   "attachments": {},
   "cell_type": "markdown",
   "metadata": {},
   "source": [
    "We reject H0: there's a significanctly difference between the average people in household per macro region between Ireland and Scotland"
   ]
  },
  {
   "attachments": {},
   "cell_type": "markdown",
   "metadata": {},
   "source": [
    "## Tims Serie analysis"
   ]
  },
  {
   "cell_type": "code",
   "execution_count": 464,
   "metadata": {},
   "outputs": [
    {
     "name": "stderr",
     "output_type": "stream",
     "text": [
      "C:\\Users\\santi\\AppData\\Local\\Temp\\ipykernel_11676\\4218614081.py:1: DtypeWarning:\n",
      "\n",
      "Columns (3,8) have mixed types. Specify dtype option on import or set low_memory=False.\n",
      "\n"
     ]
    },
    {
     "data": {
      "text/html": [
       "<div>\n",
       "<style scoped>\n",
       "    .dataframe tbody tr th:only-of-type {\n",
       "        vertical-align: middle;\n",
       "    }\n",
       "\n",
       "    .dataframe tbody tr th {\n",
       "        vertical-align: top;\n",
       "    }\n",
       "\n",
       "    .dataframe thead th {\n",
       "        text-align: right;\n",
       "    }\n",
       "</style>\n",
       "<table border=\"1\" class=\"dataframe\">\n",
       "  <thead>\n",
       "    <tr style=\"text-align: right;\">\n",
       "      <th></th>\n",
       "      <th>Date of Sale (dd/mm/yyyy)</th>\n",
       "      <th>Address</th>\n",
       "      <th>County</th>\n",
       "      <th>Eircode</th>\n",
       "      <th>Price ()</th>\n",
       "      <th>Not Full Market Price</th>\n",
       "      <th>VAT Exclusive</th>\n",
       "      <th>Description of Property</th>\n",
       "      <th>Property Size Description</th>\n",
       "    </tr>\n",
       "  </thead>\n",
       "  <tbody>\n",
       "    <tr>\n",
       "      <th>0</th>\n",
       "      <td>01/01/2010</td>\n",
       "      <td>5 Braemor Drive, Churchtown, Co.Dublin</td>\n",
       "      <td>Dublin</td>\n",
       "      <td>NaN</td>\n",
       "      <td>343,000.00</td>\n",
       "      <td>No</td>\n",
       "      <td>No</td>\n",
       "      <td>Second-Hand Dwelling house /Apartment</td>\n",
       "      <td>NaN</td>\n",
       "    </tr>\n",
       "    <tr>\n",
       "      <th>1</th>\n",
       "      <td>03/01/2010</td>\n",
       "      <td>134 Ashewood Walk, Summerhill Lane, Portlaoise</td>\n",
       "      <td>Laois</td>\n",
       "      <td>NaN</td>\n",
       "      <td>185,000.00</td>\n",
       "      <td>No</td>\n",
       "      <td>Yes</td>\n",
       "      <td>New Dwelling house /Apartment</td>\n",
       "      <td>greater than or equal to 38 sq metres and less...</td>\n",
       "    </tr>\n",
       "    <tr>\n",
       "      <th>2</th>\n",
       "      <td>04/01/2010</td>\n",
       "      <td>1 Meadow Avenue, Dundrum, Dublin 14</td>\n",
       "      <td>Dublin</td>\n",
       "      <td>NaN</td>\n",
       "      <td>438,500.00</td>\n",
       "      <td>No</td>\n",
       "      <td>No</td>\n",
       "      <td>Second-Hand Dwelling house /Apartment</td>\n",
       "      <td>NaN</td>\n",
       "    </tr>\n",
       "    <tr>\n",
       "      <th>3</th>\n",
       "      <td>04/01/2010</td>\n",
       "      <td>1 The Haven, Mornington</td>\n",
       "      <td>Meath</td>\n",
       "      <td>NaN</td>\n",
       "      <td>400,000.00</td>\n",
       "      <td>No</td>\n",
       "      <td>No</td>\n",
       "      <td>Second-Hand Dwelling house /Apartment</td>\n",
       "      <td>NaN</td>\n",
       "    </tr>\n",
       "    <tr>\n",
       "      <th>4</th>\n",
       "      <td>04/01/2010</td>\n",
       "      <td>11 Melville Heights, Kilkenny</td>\n",
       "      <td>Kilkenny</td>\n",
       "      <td>NaN</td>\n",
       "      <td>160,000.00</td>\n",
       "      <td>No</td>\n",
       "      <td>No</td>\n",
       "      <td>Second-Hand Dwelling house /Apartment</td>\n",
       "      <td>NaN</td>\n",
       "    </tr>\n",
       "  </tbody>\n",
       "</table>\n",
       "</div>"
      ],
      "text/plain": [
       "  Date of Sale (dd/mm/yyyy)                                         Address  \\\n",
       "0                01/01/2010          5 Braemor Drive, Churchtown, Co.Dublin   \n",
       "1                03/01/2010  134 Ashewood Walk, Summerhill Lane, Portlaoise   \n",
       "2                04/01/2010             1 Meadow Avenue, Dundrum, Dublin 14   \n",
       "3                04/01/2010                         1 The Haven, Mornington   \n",
       "4                04/01/2010                   11 Melville Heights, Kilkenny   \n",
       "\n",
       "     County Eircode    Price () Not Full Market Price VAT Exclusive  \\\n",
       "0    Dublin     NaN  343,000.00                    No            No   \n",
       "1     Laois     NaN  185,000.00                    No           Yes   \n",
       "2    Dublin     NaN  438,500.00                    No            No   \n",
       "3     Meath     NaN  400,000.00                    No            No   \n",
       "4  Kilkenny     NaN  160,000.00                    No            No   \n",
       "\n",
       "                 Description of Property  \\\n",
       "0  Second-Hand Dwelling house /Apartment   \n",
       "1          New Dwelling house /Apartment   \n",
       "2  Second-Hand Dwelling house /Apartment   \n",
       "3  Second-Hand Dwelling house /Apartment   \n",
       "4  Second-Hand Dwelling house /Apartment   \n",
       "\n",
       "                           Property Size Description  \n",
       "0                                                NaN  \n",
       "1  greater than or equal to 38 sq metres and less...  \n",
       "2                                                NaN  \n",
       "3                                                NaN  \n",
       "4                                                NaN  "
      ]
     },
     "execution_count": 464,
     "metadata": {},
     "output_type": "execute_result"
    }
   ],
   "source": [
    "Data = pd.read_csv('C:\\\\Users\\\\santi\\\\OneDrive\\\\Desktop\\\\PPR-ALL.csv',encoding= 'unicode_escape' )\n",
    "Data.head()"
   ]
  },
  {
   "attachments": {},
   "cell_type": "markdown",
   "metadata": {},
   "source": [
    "dataset is here:  https://www.propertypriceregister.ie/"
   ]
  },
  {
   "cell_type": "code",
   "execution_count": 465,
   "metadata": {},
   "outputs": [
    {
     "data": {
      "text/plain": [
       "Date of Sale (dd/mm/yyyy)         0\n",
       "Address                           0\n",
       "County                            0\n",
       "Eircode                      504949\n",
       "Price ()                         0\n",
       "Not Full Market Price             0\n",
       "VAT Exclusive                     0\n",
       "Description of Property           0\n",
       "Property Size Description    543712\n",
       "dtype: int64"
      ]
     },
     "execution_count": 465,
     "metadata": {},
     "output_type": "execute_result"
    }
   ],
   "source": [
    "Data.isna().sum()"
   ]
  },
  {
   "cell_type": "code",
   "execution_count": 466,
   "metadata": {},
   "outputs": [
    {
     "data": {
      "text/plain": [
       "(595678, 9)"
      ]
     },
     "execution_count": 466,
     "metadata": {},
     "output_type": "execute_result"
    }
   ],
   "source": [
    "Data = Data.drop_duplicates()\n",
    "Data.shape"
   ]
  },
  {
   "cell_type": "code",
   "execution_count": 467,
   "metadata": {},
   "outputs": [
    {
     "name": "stderr",
     "output_type": "stream",
     "text": [
      "C:\\Users\\santi\\AppData\\Local\\Temp\\ipykernel_11676\\4291516210.py:1: DtypeWarning:\n",
      "\n",
      "Columns (3,8) have mixed types. Specify dtype option on import or set low_memory=False.\n",
      "\n",
      "C:\\Users\\santi\\AppData\\Local\\Temp\\ipykernel_11676\\4291516210.py:3: UserWarning:\n",
      "\n",
      "Parsing dates in DD/MM/YYYY format when dayfirst=False (the default) was specified. This may lead to inconsistently parsed dates! Specify a format to ensure consistent parsing.\n",
      "\n"
     ]
    },
    {
     "data": {
      "text/html": [
       "<div>\n",
       "<style scoped>\n",
       "    .dataframe tbody tr th:only-of-type {\n",
       "        vertical-align: middle;\n",
       "    }\n",
       "\n",
       "    .dataframe tbody tr th {\n",
       "        vertical-align: top;\n",
       "    }\n",
       "\n",
       "    .dataframe thead th {\n",
       "        text-align: right;\n",
       "    }\n",
       "</style>\n",
       "<table border=\"1\" class=\"dataframe\">\n",
       "  <thead>\n",
       "    <tr style=\"text-align: right;\">\n",
       "      <th>County</th>\n",
       "      <th>Carlow</th>\n",
       "      <th>Cavan</th>\n",
       "      <th>Clare</th>\n",
       "      <th>Cork</th>\n",
       "      <th>Donegal</th>\n",
       "      <th>Dublin</th>\n",
       "      <th>Galway</th>\n",
       "      <th>Kerry</th>\n",
       "      <th>Kildare</th>\n",
       "      <th>Kilkenny</th>\n",
       "      <th>...</th>\n",
       "      <th>Monaghan</th>\n",
       "      <th>Offaly</th>\n",
       "      <th>Roscommon</th>\n",
       "      <th>Sligo</th>\n",
       "      <th>Tipperary</th>\n",
       "      <th>Waterford</th>\n",
       "      <th>Westmeath</th>\n",
       "      <th>Wexford</th>\n",
       "      <th>Wicklow</th>\n",
       "      <th>total</th>\n",
       "    </tr>\n",
       "    <tr>\n",
       "      <th>Date of Sale (dd/mm/yyyy)</th>\n",
       "      <th></th>\n",
       "      <th></th>\n",
       "      <th></th>\n",
       "      <th></th>\n",
       "      <th></th>\n",
       "      <th></th>\n",
       "      <th></th>\n",
       "      <th></th>\n",
       "      <th></th>\n",
       "      <th></th>\n",
       "      <th></th>\n",
       "      <th></th>\n",
       "      <th></th>\n",
       "      <th></th>\n",
       "      <th></th>\n",
       "      <th></th>\n",
       "      <th></th>\n",
       "      <th></th>\n",
       "      <th></th>\n",
       "      <th></th>\n",
       "      <th></th>\n",
       "    </tr>\n",
       "  </thead>\n",
       "  <tbody>\n",
       "    <tr>\n",
       "      <th>2010-01-01</th>\n",
       "      <td>0.0</td>\n",
       "      <td>0.0</td>\n",
       "      <td>0.0</td>\n",
       "      <td>0.0</td>\n",
       "      <td>0.0</td>\n",
       "      <td>1.0</td>\n",
       "      <td>0.0</td>\n",
       "      <td>0.0</td>\n",
       "      <td>0.0</td>\n",
       "      <td>0.0</td>\n",
       "      <td>...</td>\n",
       "      <td>0.0</td>\n",
       "      <td>0.0</td>\n",
       "      <td>0.0</td>\n",
       "      <td>0.0</td>\n",
       "      <td>0.0</td>\n",
       "      <td>0.0</td>\n",
       "      <td>0.0</td>\n",
       "      <td>0.0</td>\n",
       "      <td>0.0</td>\n",
       "      <td>1.0</td>\n",
       "    </tr>\n",
       "    <tr>\n",
       "      <th>2010-01-02</th>\n",
       "      <td>0.0</td>\n",
       "      <td>0.0</td>\n",
       "      <td>1.0</td>\n",
       "      <td>7.0</td>\n",
       "      <td>2.0</td>\n",
       "      <td>21.0</td>\n",
       "      <td>3.0</td>\n",
       "      <td>1.0</td>\n",
       "      <td>3.0</td>\n",
       "      <td>3.0</td>\n",
       "      <td>...</td>\n",
       "      <td>1.0</td>\n",
       "      <td>2.0</td>\n",
       "      <td>0.0</td>\n",
       "      <td>0.0</td>\n",
       "      <td>1.0</td>\n",
       "      <td>3.0</td>\n",
       "      <td>1.0</td>\n",
       "      <td>1.0</td>\n",
       "      <td>0.0</td>\n",
       "      <td>57.0</td>\n",
       "    </tr>\n",
       "    <tr>\n",
       "      <th>2010-01-03</th>\n",
       "      <td>0.0</td>\n",
       "      <td>0.0</td>\n",
       "      <td>0.0</td>\n",
       "      <td>11.0</td>\n",
       "      <td>2.0</td>\n",
       "      <td>24.0</td>\n",
       "      <td>3.0</td>\n",
       "      <td>2.0</td>\n",
       "      <td>2.0</td>\n",
       "      <td>2.0</td>\n",
       "      <td>...</td>\n",
       "      <td>0.0</td>\n",
       "      <td>1.0</td>\n",
       "      <td>0.0</td>\n",
       "      <td>1.0</td>\n",
       "      <td>2.0</td>\n",
       "      <td>2.0</td>\n",
       "      <td>1.0</td>\n",
       "      <td>1.0</td>\n",
       "      <td>3.0</td>\n",
       "      <td>70.0</td>\n",
       "    </tr>\n",
       "    <tr>\n",
       "      <th>2010-01-04</th>\n",
       "      <td>1.0</td>\n",
       "      <td>1.0</td>\n",
       "      <td>1.0</td>\n",
       "      <td>13.0</td>\n",
       "      <td>4.0</td>\n",
       "      <td>47.0</td>\n",
       "      <td>9.0</td>\n",
       "      <td>3.0</td>\n",
       "      <td>6.0</td>\n",
       "      <td>2.0</td>\n",
       "      <td>...</td>\n",
       "      <td>1.0</td>\n",
       "      <td>1.0</td>\n",
       "      <td>0.0</td>\n",
       "      <td>3.0</td>\n",
       "      <td>3.0</td>\n",
       "      <td>3.0</td>\n",
       "      <td>5.0</td>\n",
       "      <td>3.0</td>\n",
       "      <td>3.0</td>\n",
       "      <td>123.0</td>\n",
       "    </tr>\n",
       "    <tr>\n",
       "      <th>2010-01-05</th>\n",
       "      <td>0.0</td>\n",
       "      <td>0.0</td>\n",
       "      <td>0.0</td>\n",
       "      <td>1.0</td>\n",
       "      <td>0.0</td>\n",
       "      <td>0.0</td>\n",
       "      <td>0.0</td>\n",
       "      <td>0.0</td>\n",
       "      <td>0.0</td>\n",
       "      <td>0.0</td>\n",
       "      <td>...</td>\n",
       "      <td>0.0</td>\n",
       "      <td>0.0</td>\n",
       "      <td>0.0</td>\n",
       "      <td>0.0</td>\n",
       "      <td>0.0</td>\n",
       "      <td>0.0</td>\n",
       "      <td>0.0</td>\n",
       "      <td>0.0</td>\n",
       "      <td>1.0</td>\n",
       "      <td>2.0</td>\n",
       "    </tr>\n",
       "  </tbody>\n",
       "</table>\n",
       "<p>5 rows × 27 columns</p>\n",
       "</div>"
      ],
      "text/plain": [
       "County                     Carlow  Cavan  Clare  Cork  Donegal  Dublin  \\\n",
       "Date of Sale (dd/mm/yyyy)                                                \n",
       "2010-01-01                    0.0    0.0    0.0   0.0      0.0     1.0   \n",
       "2010-01-02                    0.0    0.0    1.0   7.0      2.0    21.0   \n",
       "2010-01-03                    0.0    0.0    0.0  11.0      2.0    24.0   \n",
       "2010-01-04                    1.0    1.0    1.0  13.0      4.0    47.0   \n",
       "2010-01-05                    0.0    0.0    0.0   1.0      0.0     0.0   \n",
       "\n",
       "County                     Galway  Kerry  Kildare  Kilkenny  ...  Monaghan  \\\n",
       "Date of Sale (dd/mm/yyyy)                                    ...             \n",
       "2010-01-01                    0.0    0.0      0.0       0.0  ...       0.0   \n",
       "2010-01-02                    3.0    1.0      3.0       3.0  ...       1.0   \n",
       "2010-01-03                    3.0    2.0      2.0       2.0  ...       0.0   \n",
       "2010-01-04                    9.0    3.0      6.0       2.0  ...       1.0   \n",
       "2010-01-05                    0.0    0.0      0.0       0.0  ...       0.0   \n",
       "\n",
       "County                     Offaly  Roscommon  Sligo  Tipperary  Waterford  \\\n",
       "Date of Sale (dd/mm/yyyy)                                                   \n",
       "2010-01-01                    0.0        0.0    0.0        0.0        0.0   \n",
       "2010-01-02                    2.0        0.0    0.0        1.0        3.0   \n",
       "2010-01-03                    1.0        0.0    1.0        2.0        2.0   \n",
       "2010-01-04                    1.0        0.0    3.0        3.0        3.0   \n",
       "2010-01-05                    0.0        0.0    0.0        0.0        0.0   \n",
       "\n",
       "County                     Westmeath  Wexford  Wicklow  total  \n",
       "Date of Sale (dd/mm/yyyy)                                      \n",
       "2010-01-01                       0.0      0.0      0.0    1.0  \n",
       "2010-01-02                       1.0      1.0      0.0   57.0  \n",
       "2010-01-03                       1.0      1.0      3.0   70.0  \n",
       "2010-01-04                       5.0      3.0      3.0  123.0  \n",
       "2010-01-05                       0.0      0.0      1.0    2.0  \n",
       "\n",
       "[5 rows x 27 columns]"
      ]
     },
     "execution_count": 467,
     "metadata": {},
     "output_type": "execute_result"
    }
   ],
   "source": [
    "Data = pd.read_csv('C:\\\\Users\\\\santi\\\\OneDrive\\\\Desktop\\\\PPR-ALL.csv', encoding='unicode_escape')\n",
    "Data_1 = Data.groupby(['Date of Sale (dd/mm/yyyy)', 'County'])['Address'].agg('count').reset_index()\n",
    "Data_1['Date of Sale (dd/mm/yyyy)'] = pd.to_datetime(Data_1['Date of Sale (dd/mm/yyyy)'])\n",
    "Data_1 = Data_1.sort_values(by='Date of Sale (dd/mm/yyyy)')\n",
    "Data_1 = Data_1.pivot_table(index='Date of Sale (dd/mm/yyyy)', columns='County', values='Address')\n",
    "Data_1 = Data_1.fillna(0)\n",
    "Data_1['total'] = Data_1.sum(axis=1)\n",
    "Data_Horizontal = Data_1\n",
    "Data_Horizontal.head()"
   ]
  },
  {
   "cell_type": "code",
   "execution_count": 468,
   "metadata": {},
   "outputs": [
    {
     "data": {
      "text/html": [
       "<div>\n",
       "<style scoped>\n",
       "    .dataframe tbody tr th:only-of-type {\n",
       "        vertical-align: middle;\n",
       "    }\n",
       "\n",
       "    .dataframe tbody tr th {\n",
       "        vertical-align: top;\n",
       "    }\n",
       "\n",
       "    .dataframe thead th {\n",
       "        text-align: right;\n",
       "    }\n",
       "</style>\n",
       "<table border=\"1\" class=\"dataframe\">\n",
       "  <thead>\n",
       "    <tr style=\"text-align: right;\">\n",
       "      <th></th>\n",
       "      <th>county</th>\n",
       "      <th># property</th>\n",
       "    </tr>\n",
       "    <tr>\n",
       "      <th>Date of Sale (dd/mm/yyyy)</th>\n",
       "      <th></th>\n",
       "      <th></th>\n",
       "    </tr>\n",
       "  </thead>\n",
       "  <tbody>\n",
       "    <tr>\n",
       "      <th>2010-01-01</th>\n",
       "      <td>Carlow</td>\n",
       "      <td>0.0</td>\n",
       "    </tr>\n",
       "    <tr>\n",
       "      <th>2010-01-02</th>\n",
       "      <td>Carlow</td>\n",
       "      <td>0.0</td>\n",
       "    </tr>\n",
       "    <tr>\n",
       "      <th>2010-01-03</th>\n",
       "      <td>Carlow</td>\n",
       "      <td>0.0</td>\n",
       "    </tr>\n",
       "    <tr>\n",
       "      <th>2010-01-04</th>\n",
       "      <td>Carlow</td>\n",
       "      <td>1.0</td>\n",
       "    </tr>\n",
       "    <tr>\n",
       "      <th>2010-01-05</th>\n",
       "      <td>Carlow</td>\n",
       "      <td>0.0</td>\n",
       "    </tr>\n",
       "  </tbody>\n",
       "</table>\n",
       "</div>"
      ],
      "text/plain": [
       "                           county  # property\n",
       "Date of Sale (dd/mm/yyyy)                    \n",
       "2010-01-01                 Carlow         0.0\n",
       "2010-01-02                 Carlow         0.0\n",
       "2010-01-03                 Carlow         0.0\n",
       "2010-01-04                 Carlow         1.0\n",
       "2010-01-05                 Carlow         0.0"
      ]
     },
     "execution_count": 468,
     "metadata": {},
     "output_type": "execute_result"
    }
   ],
   "source": [
    "Data_vertical =  Data_Horizontal.melt(var_name='county', value_name='# property', ignore_index = False)\n",
    "Data_vertical.head()"
   ]
  },
  {
   "cell_type": "code",
   "execution_count": null,
   "metadata": {},
   "outputs": [],
   "source": [
    "Total = Data_vertical    #.reset_index()\n",
    "Total = Total[Total['county']=='total']\n",
    "Total.head()"
   ]
  },
  {
   "cell_type": "code",
   "execution_count": null,
   "metadata": {},
   "outputs": [],
   "source": [
    "Total.info()\n",
    "_date = '2023-01-01'\n",
    "Total = Total[Total.index < _date]\n",
    "Total=Total[['# property']]\n",
    "Total['# property'] = Total['# property'].astype(np.int64)\n",
    "Total.head()"
   ]
  },
  {
   "cell_type": "code",
   "execution_count": null,
   "metadata": {},
   "outputs": [],
   "source": [
    "rolling_window= 5\n",
    "sns.lineplot(x=Total.index, y=Total['# property'], color='dodgerblue')\n",
    "sns.lineplot(x=Total.index, y=Total['# property'].rolling(52).mean(),  color='black', label='rolling mean')"
   ]
  },
  {
   "cell_type": "code",
   "execution_count": 472,
   "metadata": {},
   "outputs": [
    {
     "name": "stdout",
     "output_type": "stream",
     "text": [
      "(-4.929160459066553, 3.0591830326641223e-05, 32, 4461, {'1%': -3.4318167264794774, '5%': -2.862188117266657, '10%': -2.567114996565668}, 54394.873465119425)\n"
     ]
    }
   ],
   "source": [
    "from statsmodels.tsa.stattools import adfuller\n",
    "\n",
    "result = adfuller(Total['# property'].values)\n",
    "print(result)\n"
   ]
  },
  {
   "attachments": {},
   "cell_type": "markdown",
   "metadata": {},
   "source": [
    "H0 : time serie is non stationary\n",
    "\n",
    "H1 : time serie is stationary\n",
    "\n",
    "p = 0.05"
   ]
  },
  {
   "attachments": {},
   "cell_type": "markdown",
   "metadata": {},
   "source": [
    "In the results, we can see that the p-value obtained from the test is less than 0.05 so we are going to reject the null hypothesis “Time series is stationary”, that means the time series is non-stationary.\n",
    "\n",
    "Since data needs to be stationary: log transformation"
   ]
  },
  {
   "attachments": {},
   "cell_type": "markdown",
   "metadata": {},
   "source": [
    "## Feature engineering ?"
   ]
  },
  {
   "cell_type": "code",
   "execution_count": null,
   "metadata": {},
   "outputs": [],
   "source": [
    "def create_features(x):\n",
    "    x['year'] = pd.DatetimeIndex(x.index).year\n",
    "    x['month'] = pd.DatetimeIndex(x.index).month\n",
    "    x['day'] = pd.DatetimeIndex(x.index).day\n",
    "    x['day_of_year'] = pd.DatetimeIndex(x.index).dayofyear\n",
    "    x['week_of_year'] = pd.DatetimeIndex(x.index).weekofyear\n",
    "    x['quarter'] = pd.DatetimeIndex(x.index).quarter\n",
    "    return x\n",
    "\n",
    "Total = create_features(Total)\n",
    "Total.head(1)"
   ]
  },
  {
   "cell_type": "code",
   "execution_count": 474,
   "metadata": {},
   "outputs": [],
   "source": [
    "from statsmodels.tsa.seasonal import seasonal_decompose\n",
    "\n",
    "\n",
    "decomp = seasonal_decompose(Total['# property'], period=52, model='additive', extrapolate_trend='freq')\n",
    "Total[\"property trend\"] = decomp.trend\n",
    "Total[\"property seasonal\"] = decomp.seasonal"
   ]
  },
  {
   "cell_type": "code",
   "execution_count": null,
   "metadata": {},
   "outputs": [],
   "source": [
    "Total.head()"
   ]
  },
  {
   "cell_type": "code",
   "execution_count": null,
   "metadata": {},
   "outputs": [],
   "source": [
    "Total['property seasonal'].plot()\n",
    "plt.show()\n",
    "Total['property trend'].plot()\n",
    "plt.show()\n"
   ]
  },
  {
   "cell_type": "code",
   "execution_count": null,
   "metadata": {},
   "outputs": [],
   "source": [
    "from pandas.plotting import autocorrelation_plot\n",
    "\n",
    "autocorrelation_plot(Total['# property'])\n",
    "plt.show()"
   ]
  },
  {
   "cell_type": "code",
   "execution_count": null,
   "metadata": {},
   "outputs": [],
   "source": [
    "from statsmodels.graphics.tsaplots import plot_acf\n",
    "from statsmodels.graphics.tsaplots import plot_pacf\n",
    "\n",
    "f, ax = plt.subplots(nrows=2, ncols=1, figsize=(16, 8))\n",
    "\n",
    "plot_acf(Total['# property'], lags=100, ax=ax[0])\n",
    "plot_pacf(Total['# property'], lags=100, ax=ax[1])\n",
    "plt.show()"
   ]
  },
  {
   "cell_type": "code",
   "execution_count": 480,
   "metadata": {},
   "outputs": [
    {
     "name": "stdout",
     "output_type": "stream",
     "text": [
      "(3146, 9) (1348, 9)\n"
     ]
    }
   ],
   "source": [
    "size = round(len(Total) * 0.3 )                 #test size 30%\n",
    "\n",
    "train = Total.iloc[:-size]\n",
    "test = Total.iloc[-size:]\n",
    "print(train.shape,test.shape)"
   ]
  },
  {
   "cell_type": "code",
   "execution_count": 481,
   "metadata": {},
   "outputs": [],
   "source": [
    "df = Total[['# property','year','month','day','day_of_year','week_of_year','quarter']]\n",
    "train = df.iloc[:-size]\n",
    "test = df.iloc[-size:]\n",
    "\n",
    "X_train = train[['year','month','day','day_of_year','week_of_year','quarter']]\n",
    "y_train = train['# property']\n",
    "\n",
    "X_test = test[['year','month','day','day_of_year','week_of_year','quarter']]\n",
    "y_test = test['# property']"
   ]
  },
  {
   "cell_type": "code",
   "execution_count": null,
   "metadata": {},
   "outputs": [],
   "source": [
    "import xgboost as xgb\n",
    "from sklearn.model_selection import GridSearchCV\n",
    "import time\n",
    "\n",
    "\n",
    "reg = xgb.XGBRegressor(  n_estimators=1000,\n",
    "                       early_stopping_rounds=50,)\n",
    "\n",
    "from sklearn.model_selection import GridSearchCV\n",
    "\n",
    "\n",
    "PARAMETERS = {\"base_score\":[0.5,0.4],\n",
    "              \"booster\":['gbtree'],\n",
    "              \"objective\":['reg:squarederror','reg:absoluteerror'],\n",
    "              \"subsample\":[0.75, 1],\n",
    "              \"colsample_bytree\":[0.75, 1],\n",
    "              \"max_depth\":[2,3],\n",
    "              \"min_child_weight\":[1,5],\n",
    "              \"learning_rate\":[0.1,0.05]}\n",
    "\n",
    "# create a validation set which will be used for early stopping\n",
    "eval_set = [(X_test, y_test)]\n",
    "\n",
    "# initialise an XGBoost classifier, set the number of estimators,\n",
    "# evaluation metric & early stopping rounds\n",
    "\n",
    "# initialise GridSearchCV model by passing the XGB classifier we\n",
    "# initialised in the last step along with the dictionary of parameters\n",
    "# and values to try. We also set the number of folds to validate over\n",
    "# along with the scoring metic to use\n",
    "model = GridSearchCV(estimator=reg ,\n",
    "                    param_grid=PARAMETERS,\n",
    "                    cv=3)\n",
    "\n",
    "# fit model\n",
    "model.fit(X_train,\n",
    "          y_train,\n",
    "          verbose=0,\n",
    "          eval_set=eval_set)\n",
    "\n",
    "# print out the best hyperparameters\n",
    "print(model.best_params_)\n",
    "\n",
    "reg.set_params(**model.best_params_)\n",
    "\n",
    "reg.fit(X_train, y_train,\n",
    "        eval_set=[(X_train, y_train), (X_test, y_test)],\n",
    "        verbose=100)"
   ]
  },
  {
   "cell_type": "code",
   "execution_count": null,
   "metadata": {},
   "outputs": [],
   "source": [
    "test['prediction'] = reg.predict(X_test)\n",
    "\n",
    "df = df.merge(test[['prediction']], how='left', left_index=True, right_index=True)\n",
    "ax = df[['# property']].plot(figsize=(15, 5))\n",
    "df['prediction'].plot(ax=ax, style='.')\n",
    "plt.legend(['Truth Data', 'Predictions'])\n",
    "ax.set_title('Raw Dat and Prediction')\n",
    "plt.show()"
   ]
  },
  {
   "cell_type": "code",
   "execution_count": null,
   "metadata": {},
   "outputs": [],
   "source": [
    "# Create future dataframe\n",
    "future_df=pd.DataFrame()\n",
    "future = pd.date_range('2023-01-01','2024-12-31')\n",
    "future = pd.DataFrame(future, index=future)\n",
    "future = create_features(future)\n",
    "future = future[['year', 'month', 'day', 'day_of_year', 'week_of_year', 'quarter']]\n",
    "future.head()\n"
   ]
  },
  {
   "cell_type": "code",
   "execution_count": 485,
   "metadata": {},
   "outputs": [],
   "source": [
    "future['# property'] = reg.predict(future)"
   ]
  },
  {
   "cell_type": "code",
   "execution_count": null,
   "metadata": {},
   "outputs": [],
   "source": [
    "future['Prediction'] = 'prediction'\n",
    "future.head()"
   ]
  },
  {
   "cell_type": "code",
   "execution_count": null,
   "metadata": {},
   "outputs": [],
   "source": [
    "import scipy.stats as st\n",
    "inter = future['# property'].values\n",
    "\n",
    "st.t.interval(alpha=0.95, df=len(inter)-1, loc=np.mean(inter), scale=st.sem(inter)) "
   ]
  },
  {
   "cell_type": "code",
   "execution_count": null,
   "metadata": {},
   "outputs": [],
   "source": [
    "df = Total[['# property','year','month','day','day_of_year','week_of_year','quarter']]\n",
    "df['Prediction']='raw data'\n",
    "df.head()"
   ]
  },
  {
   "cell_type": "code",
   "execution_count": null,
   "metadata": {},
   "outputs": [],
   "source": [
    "final = pd.concat([df,future])\n",
    "final.head()"
   ]
  },
  {
   "cell_type": "code",
   "execution_count": null,
   "metadata": {},
   "outputs": [],
   "source": [
    "graph = sns.lineplot(data=final, x=final.index, y='# property', hue='Prediction')"
   ]
  },
  {
   "attachments": {},
   "cell_type": "markdown",
   "metadata": {},
   "source": [
    "Creating a function for creating model with specific county"
   ]
  },
  {
   "cell_type": "code",
   "execution_count": 503,
   "metadata": {},
   "outputs": [],
   "source": [
    "Total = Data_vertical\n",
    "\n",
    "def create_df_prediction(county):\n",
    "    \n",
    "    global Total\n",
    "    Total = Total[Total['county'] == county]\n",
    "    _date = '2023-01-01'\n",
    "    Total = Total[Total.index < _date]\n",
    "    Total = Total[['# property']]\n",
    "    Total['# property'] = Total['# property'].astype(np.int64)\n",
    "\n",
    "    result = adfuller(Total['# property'].values)\n",
    "\n",
    "    if result[1] < 0.05:\n",
    "        print('ADF H1')\n",
    "\n",
    "        Total = create_features(Total)\n",
    "\n",
    "        size = round(len(Total) * 0.3)\n",
    "\n",
    "        train = Total.iloc[:-size]\n",
    "        test = Total.iloc[-size:]\n",
    "\n",
    "        df = Total[['# property', 'year', 'month', 'day', 'day_of_year', 'week_of_year', 'quarter']]\n",
    "        train = df.iloc[:-size]\n",
    "        test = df.iloc[-size:]\n",
    "\n",
    "        X_train = train[['year', 'month', 'day', 'day_of_year', 'week_of_year', 'quarter']]\n",
    "        y_train = train['# property']\n",
    "\n",
    "        X_test = test[['year', 'month', 'day', 'day_of_year', 'week_of_year', 'quarter']]\n",
    "        y_test = test['# property']\n",
    "\n",
    "        reg_ = xgb.XGBRegressor(n_estimators=1000, early_stopping_rounds=50)\n",
    "        PARAMS = {\n",
    "            \"base_score\": [0.5, 0.4],\n",
    "            \"booster\": ['gbtree'],\n",
    "            \"objective\": ['reg:squarederror', 'reg:absoluteerror'],\n",
    "            \"subsample\": [0.75, 1],\n",
    "            \"colsample_bytree\": [0.75, 1],\n",
    "            \"max_depth\": [2, 3],\n",
    "            \"min_child_weight\": [1, 5],\n",
    "            \"learning_rate\": [0.1, 0.05]\n",
    "        }\n",
    "\n",
    "        eval_set = [(X_test, y_test)]\n",
    "\n",
    "        model = GridSearchCV(estimator=reg_,\n",
    "                             param_grid=PARAMS,\n",
    "                             cv=3)\n",
    "\n",
    "        model.fit(X_train,\n",
    "                  y_train,\n",
    "                  verbose=0,\n",
    "                  eval_set=eval_set)\n",
    "\n",
    "        print(model.best_params_)\n",
    "\n",
    "        reg_.set_params(**model.best_params_)\n",
    "\n",
    "        reg_.fit(X_train, y_train,\n",
    "                 eval_set=[(X_train, y_train), (X_test, y_test)],\n",
    "                 verbose=100)\n",
    "\n",
    "        future_df = pd.DataFrame()\n",
    "        future = pd.date_range('2023-01-01', '2024-12-31')\n",
    "        future = pd.DataFrame(future, index=future)\n",
    "        future = create_features(future)\n",
    "        future = future[['year', 'month', 'day', 'day_of_year', 'week_of_year', 'quarter']]\n",
    "\n",
    "        future['# property'] = reg_.predict(future)\n",
    "        future['Prediction'] = 'prediction'\n",
    "\n",
    "        df = Total[['# property', 'year', 'month', 'day', 'day_of_year', 'week_of_year', 'quarter']]\n",
    "        df['Prediction'] = 'raw data'\n",
    "        final = pd.concat([df, future])\n",
    "        final['county'] = county\n",
    "        return final\n",
    "\n",
    "    else:\n",
    "        print('ADF H0, not proceeding with XGB')\n",
    "        return None\n"
   ]
  },
  {
   "cell_type": "code",
   "execution_count": 497,
   "metadata": {},
   "outputs": [
    {
     "name": "stdout",
     "output_type": "stream",
     "text": [
      "ADF H1\n"
     ]
    },
    {
     "name": "stderr",
     "output_type": "stream",
     "text": [
      "C:\\Users\\santi\\AppData\\Local\\Temp\\ipykernel_11676\\3387765079.py:6: FutureWarning:\n",
      "\n",
      "weekofyear and week have been deprecated, please use DatetimeIndex.isocalendar().week instead, which returns a Series. To exactly reproduce the behavior of week and weekofyear and return an Index, you may call pd.Int64Index(idx.isocalendar().week)\n",
      "\n"
     ]
    },
    {
     "name": "stdout",
     "output_type": "stream",
     "text": [
      "{'base_score': 0.4, 'booster': 'gbtree', 'colsample_bytree': 1, 'learning_rate': 0.05, 'max_depth': 3, 'min_child_weight': 5, 'objective': 'reg:squarederror', 'subsample': 0.75}\n",
      "[0]\tvalidation_0-rmse:51.74083\tvalidation_1-rmse:62.09491\n",
      "[100]\tvalidation_0-rmse:32.63295\tvalidation_1-rmse:39.19205\n",
      "[107]\tvalidation_0-rmse:32.58242\tvalidation_1-rmse:39.20615\n"
     ]
    },
    {
     "name": "stderr",
     "output_type": "stream",
     "text": [
      "C:\\Users\\santi\\AppData\\Local\\Temp\\ipykernel_11676\\3387765079.py:6: FutureWarning:\n",
      "\n",
      "weekofyear and week have been deprecated, please use DatetimeIndex.isocalendar().week instead, which returns a Series. To exactly reproduce the behavior of week and weekofyear and return an Index, you may call pd.Int64Index(idx.isocalendar().week)\n",
      "\n"
     ]
    }
   ],
   "source": [
    "Dublin = create_df_prediction('Dublin')"
   ]
  },
  {
   "cell_type": "code",
   "execution_count": 500,
   "metadata": {},
   "outputs": [
    {
     "data": {
      "text/html": [
       "<div>\n",
       "<style scoped>\n",
       "    .dataframe tbody tr th:only-of-type {\n",
       "        vertical-align: middle;\n",
       "    }\n",
       "\n",
       "    .dataframe tbody tr th {\n",
       "        vertical-align: top;\n",
       "    }\n",
       "\n",
       "    .dataframe thead th {\n",
       "        text-align: right;\n",
       "    }\n",
       "</style>\n",
       "<table border=\"1\" class=\"dataframe\">\n",
       "  <thead>\n",
       "    <tr style=\"text-align: right;\">\n",
       "      <th></th>\n",
       "      <th># property</th>\n",
       "      <th>year</th>\n",
       "      <th>month</th>\n",
       "      <th>day</th>\n",
       "      <th>day_of_year</th>\n",
       "      <th>week_of_year</th>\n",
       "      <th>quarter</th>\n",
       "      <th>Prediction</th>\n",
       "    </tr>\n",
       "  </thead>\n",
       "  <tbody>\n",
       "    <tr>\n",
       "      <th>2010-01-01</th>\n",
       "      <td>1.0</td>\n",
       "      <td>2010</td>\n",
       "      <td>1</td>\n",
       "      <td>1</td>\n",
       "      <td>1</td>\n",
       "      <td>53</td>\n",
       "      <td>1</td>\n",
       "      <td>raw data</td>\n",
       "    </tr>\n",
       "    <tr>\n",
       "      <th>2010-01-02</th>\n",
       "      <td>21.0</td>\n",
       "      <td>2010</td>\n",
       "      <td>1</td>\n",
       "      <td>2</td>\n",
       "      <td>2</td>\n",
       "      <td>53</td>\n",
       "      <td>1</td>\n",
       "      <td>raw data</td>\n",
       "    </tr>\n",
       "    <tr>\n",
       "      <th>2010-01-03</th>\n",
       "      <td>24.0</td>\n",
       "      <td>2010</td>\n",
       "      <td>1</td>\n",
       "      <td>3</td>\n",
       "      <td>3</td>\n",
       "      <td>53</td>\n",
       "      <td>1</td>\n",
       "      <td>raw data</td>\n",
       "    </tr>\n",
       "    <tr>\n",
       "      <th>2010-01-04</th>\n",
       "      <td>47.0</td>\n",
       "      <td>2010</td>\n",
       "      <td>1</td>\n",
       "      <td>4</td>\n",
       "      <td>4</td>\n",
       "      <td>1</td>\n",
       "      <td>1</td>\n",
       "      <td>raw data</td>\n",
       "    </tr>\n",
       "    <tr>\n",
       "      <th>2010-01-05</th>\n",
       "      <td>0.0</td>\n",
       "      <td>2010</td>\n",
       "      <td>1</td>\n",
       "      <td>5</td>\n",
       "      <td>5</td>\n",
       "      <td>1</td>\n",
       "      <td>1</td>\n",
       "      <td>raw data</td>\n",
       "    </tr>\n",
       "  </tbody>\n",
       "</table>\n",
       "</div>"
      ],
      "text/plain": [
       "            # property  year  month  day  day_of_year  week_of_year  quarter  \\\n",
       "2010-01-01         1.0  2010      1    1            1            53        1   \n",
       "2010-01-02        21.0  2010      1    2            2            53        1   \n",
       "2010-01-03        24.0  2010      1    3            3            53        1   \n",
       "2010-01-04        47.0  2010      1    4            4             1        1   \n",
       "2010-01-05         0.0  2010      1    5            5             1        1   \n",
       "\n",
       "           Prediction  \n",
       "2010-01-01   raw data  \n",
       "2010-01-02   raw data  \n",
       "2010-01-03   raw data  \n",
       "2010-01-04   raw data  \n",
       "2010-01-05   raw data  "
      ]
     },
     "execution_count": 500,
     "metadata": {},
     "output_type": "execute_result"
    }
   ],
   "source": [
    "Dublin.head()"
   ]
  },
  {
   "cell_type": "code",
   "execution_count": 501,
   "metadata": {},
   "outputs": [
    {
     "data": {
      "image/png": "[encoded data removed]",
      "text/plain": [
       "<Figure size 1000x500 with 1 Axes>"
      ]
     },
     "metadata": {},
     "output_type": "display_data"
    }
   ],
   "source": [
    "graph = sns.lineplot(data=Dublin, x=final.index, y='# property', hue='Prediction')"
   ]
  },
  {
   "cell_type": "code",
   "execution_count": 504,
   "metadata": {},
   "outputs": [
    {
     "name": "stdout",
     "output_type": "stream",
     "text": [
      "ADF H1\n"
     ]
    },
    {
     "name": "stderr",
     "output_type": "stream",
     "text": [
      "C:\\Users\\santi\\AppData\\Local\\Temp\\ipykernel_11676\\3387765079.py:6: FutureWarning:\n",
      "\n",
      "weekofyear and week have been deprecated, please use DatetimeIndex.isocalendar().week instead, which returns a Series. To exactly reproduce the behavior of week and weekofyear and return an Index, you may call pd.Int64Index(idx.isocalendar().week)\n",
      "\n"
     ]
    },
    {
     "name": "stdout",
     "output_type": "stream",
     "text": [
      "{'base_score': 0.5, 'booster': 'gbtree', 'colsample_bytree': 1, 'learning_rate': 0.1, 'max_depth': 3, 'min_child_weight': 5, 'objective': 'reg:absoluteerror', 'subsample': 1}\n",
      "[0]\tvalidation_0-mae:11.98325\tvalidation_1-mae:17.80285\n",
      "[100]\tvalidation_0-mae:9.88789\tvalidation_1-mae:15.65387\n",
      "[200]\tvalidation_0-mae:8.75148\tvalidation_1-mae:13.87965\n",
      "[300]\tvalidation_0-mae:8.09841\tvalidation_1-mae:12.55367\n",
      "[400]\tvalidation_0-mae:7.79637\tvalidation_1-mae:11.81983\n",
      "[500]\tvalidation_0-mae:7.65815\tvalidation_1-mae:11.50646\n",
      "[600]\tvalidation_0-mae:7.57004\tvalidation_1-mae:11.35950\n",
      "[700]\tvalidation_0-mae:7.51042\tvalidation_1-mae:11.28184\n",
      "[800]\tvalidation_0-mae:7.46404\tvalidation_1-mae:11.21093\n",
      "[900]\tvalidation_0-mae:7.42506\tvalidation_1-mae:11.16387\n",
      "[999]\tvalidation_0-mae:7.38484\tvalidation_1-mae:11.11272\n"
     ]
    },
    {
     "name": "stderr",
     "output_type": "stream",
     "text": [
      "C:\\Users\\santi\\AppData\\Local\\Temp\\ipykernel_11676\\3387765079.py:6: FutureWarning:\n",
      "\n",
      "weekofyear and week have been deprecated, please use DatetimeIndex.isocalendar().week instead, which returns a Series. To exactly reproduce the behavior of week and weekofyear and return an Index, you may call pd.Int64Index(idx.isocalendar().week)\n",
      "\n"
     ]
    }
   ],
   "source": [
    "Cork = create_df_prediction('Cork')"
   ]
  },
  {
   "cell_type": "code",
   "execution_count": 505,
   "metadata": {},
   "outputs": [
    {
     "data": {
      "image/png": "[encoded data removed]",
      "text/plain": [
       "<Figure size 1000x500 with 1 Axes>"
      ]
     },
     "metadata": {},
     "output_type": "display_data"
    }
   ],
   "source": [
    "graph = sns.lineplot(data=Cork, x=final.index, y='# property', hue='Prediction')"
   ]
  }
 ],
 "metadata": {
  "kernelspec": {
   "display_name": "base",
   "language": "python",
   "name": "python3"
  },
  "language_info": {
   "codemirror_mode": {
    "name": "ipython",
    "version": 3
   },
   "file_extension": ".py",
   "mimetype": "text/x-python",
   "name": "python",
   "nbconvert_exporter": "python",
   "pygments_lexer": "ipython3",
   "version": "3.9.7"
  },
  "orig_nbformat": 4
 },
 "nbformat": 4,
 "nbformat_minor": 2
}
