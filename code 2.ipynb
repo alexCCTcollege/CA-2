{
 "cells": [
  {
   "cell_type": "code",
   "execution_count": 121,
   "metadata": {},
   "outputs": [
    {
     "data": {
      "text/html": [
       "<div>\n",
       "<style scoped>\n",
       "    .dataframe tbody tr th:only-of-type {\n",
       "        vertical-align: middle;\n",
       "    }\n",
       "\n",
       "    .dataframe tbody tr th {\n",
       "        vertical-align: top;\n",
       "    }\n",
       "\n",
       "    .dataframe thead th {\n",
       "        text-align: right;\n",
       "    }\n",
       "</style>\n",
       "<table border=\"1\" class=\"dataframe\">\n",
       "  <thead>\n",
       "    <tr style=\"text-align: right;\">\n",
       "      <th></th>\n",
       "      <th>Themes</th>\n",
       "      <th>Tables Within Themes</th>\n",
       "      <th>Column Names</th>\n",
       "      <th>Description of Field</th>\n",
       "      <th>Equivalent SAPS2011 Variable (if name changed)</th>\n",
       "      <th>Points to Note</th>\n",
       "    </tr>\n",
       "  </thead>\n",
       "  <tbody>\n",
       "    <tr>\n",
       "      <th>0</th>\n",
       "      <td>Theme 1: Sex, Age and Marital Status</td>\n",
       "      <td>Table 1</td>\n",
       "      <td>T1_1AGE0M</td>\n",
       "      <td>Age 0 - Males</td>\n",
       "      <td>NaN</td>\n",
       "      <td>NaN</td>\n",
       "    </tr>\n",
       "    <tr>\n",
       "      <th>1</th>\n",
       "      <td>NaN</td>\n",
       "      <td>Population aged 0 - 19 by sex and year of age,...</td>\n",
       "      <td>T1_1AGE1M</td>\n",
       "      <td>Age 1 - Males</td>\n",
       "      <td>NaN</td>\n",
       "      <td>NaN</td>\n",
       "    </tr>\n",
       "    <tr>\n",
       "      <th>2</th>\n",
       "      <td>NaN</td>\n",
       "      <td>NaN</td>\n",
       "      <td>T1_1AGE2M</td>\n",
       "      <td>Age 2 - Males</td>\n",
       "      <td>NaN</td>\n",
       "      <td>NaN</td>\n",
       "    </tr>\n",
       "    <tr>\n",
       "      <th>3</th>\n",
       "      <td>NaN</td>\n",
       "      <td>NaN</td>\n",
       "      <td>T1_1AGE3M</td>\n",
       "      <td>Age 3 - Males</td>\n",
       "      <td>NaN</td>\n",
       "      <td>NaN</td>\n",
       "    </tr>\n",
       "    <tr>\n",
       "      <th>4</th>\n",
       "      <td>NaN</td>\n",
       "      <td>NaN</td>\n",
       "      <td>T1_1AGE4M</td>\n",
       "      <td>Age 4 - Males</td>\n",
       "      <td>NaN</td>\n",
       "      <td>NaN</td>\n",
       "    </tr>\n",
       "  </tbody>\n",
       "</table>\n",
       "</div>"
      ],
      "text/plain": [
       "                                  Themes  \\\n",
       "0  Theme 1: Sex, Age and Marital Status    \n",
       "1                                    NaN   \n",
       "2                                    NaN   \n",
       "3                                    NaN   \n",
       "4                                    NaN   \n",
       "\n",
       "                                Tables Within Themes Column Names  \\\n",
       "0                                           Table 1     T1_1AGE0M   \n",
       "1  Population aged 0 - 19 by sex and year of age,...    T1_1AGE1M   \n",
       "2                                                NaN    T1_1AGE2M   \n",
       "3                                                NaN    T1_1AGE3M   \n",
       "4                                                NaN    T1_1AGE4M   \n",
       "\n",
       "  Description of Field Equivalent SAPS2011 Variable (if name changed)  \\\n",
       "0        Age 0 - Males                                            NaN   \n",
       "1        Age 1 - Males                                            NaN   \n",
       "2        Age 2 - Males                                            NaN   \n",
       "3        Age 3 - Males                                            NaN   \n",
       "4        Age 4 - Males                                            NaN   \n",
       "\n",
       "  Points to Note  \n",
       "0            NaN  \n",
       "1            NaN  \n",
       "2            NaN  \n",
       "3            NaN  \n",
       "4            NaN  "
      ]
     },
     "execution_count": 121,
     "metadata": {},
     "output_type": "execute_result"
    }
   ],
   "source": [
    "import pandas as pd\n",
    "import numpy as np\n",
    "\n",
    "#Glossary\n",
    "df = pd.read_excel('C:\\\\Users\\\\santi\\\\OneDrive\\\\Desktop\\\\SAPS_2016_Glossary.xlsx')\n",
    "df.head()"
   ]
  },
  {
   "cell_type": "code",
   "execution_count": 122,
   "metadata": {},
   "outputs": [
    {
     "data": {
      "text/html": [
       "<div>\n",
       "<style scoped>\n",
       "    .dataframe tbody tr th:only-of-type {\n",
       "        vertical-align: middle;\n",
       "    }\n",
       "\n",
       "    .dataframe tbody tr th {\n",
       "        vertical-align: top;\n",
       "    }\n",
       "\n",
       "    .dataframe thead th {\n",
       "        text-align: right;\n",
       "    }\n",
       "</style>\n",
       "<table border=\"1\" class=\"dataframe\">\n",
       "  <thead>\n",
       "    <tr style=\"text-align: right;\">\n",
       "      <th></th>\n",
       "      <th>Themes</th>\n",
       "      <th>Tables Within Themes</th>\n",
       "      <th>Column Names</th>\n",
       "      <th>Description of Field</th>\n",
       "      <th>Equivalent SAPS2011 Variable (if name changed)</th>\n",
       "      <th>Points to Note</th>\n",
       "    </tr>\n",
       "  </thead>\n",
       "  <tbody>\n",
       "    <tr>\n",
       "      <th>0</th>\n",
       "      <td>Theme 1: Sex, Age and Marital Status</td>\n",
       "      <td>Table 1</td>\n",
       "      <td>T1_1AGE0M</td>\n",
       "      <td>Age 0 - Males</td>\n",
       "      <td>NaN</td>\n",
       "      <td>NaN</td>\n",
       "    </tr>\n",
       "    <tr>\n",
       "      <th>1</th>\n",
       "      <td>Theme 1: Sex, Age and Marital Status</td>\n",
       "      <td>Population aged 0 - 19 by sex and year of age,...</td>\n",
       "      <td>T1_1AGE1M</td>\n",
       "      <td>Age 1 - Males</td>\n",
       "      <td>NaN</td>\n",
       "      <td>NaN</td>\n",
       "    </tr>\n",
       "    <tr>\n",
       "      <th>2</th>\n",
       "      <td>Theme 1: Sex, Age and Marital Status</td>\n",
       "      <td>NaN</td>\n",
       "      <td>T1_1AGE2M</td>\n",
       "      <td>Age 2 - Males</td>\n",
       "      <td>NaN</td>\n",
       "      <td>NaN</td>\n",
       "    </tr>\n",
       "    <tr>\n",
       "      <th>3</th>\n",
       "      <td>Theme 1: Sex, Age and Marital Status</td>\n",
       "      <td>NaN</td>\n",
       "      <td>T1_1AGE3M</td>\n",
       "      <td>Age 3 - Males</td>\n",
       "      <td>NaN</td>\n",
       "      <td>NaN</td>\n",
       "    </tr>\n",
       "    <tr>\n",
       "      <th>4</th>\n",
       "      <td>Theme 1: Sex, Age and Marital Status</td>\n",
       "      <td>NaN</td>\n",
       "      <td>T1_1AGE4M</td>\n",
       "      <td>Age 4 - Males</td>\n",
       "      <td>NaN</td>\n",
       "      <td>NaN</td>\n",
       "    </tr>\n",
       "  </tbody>\n",
       "</table>\n",
       "</div>"
      ],
      "text/plain": [
       "                                  Themes  \\\n",
       "0  Theme 1: Sex, Age and Marital Status    \n",
       "1  Theme 1: Sex, Age and Marital Status    \n",
       "2  Theme 1: Sex, Age and Marital Status    \n",
       "3  Theme 1: Sex, Age and Marital Status    \n",
       "4  Theme 1: Sex, Age and Marital Status    \n",
       "\n",
       "                                Tables Within Themes Column Names  \\\n",
       "0                                           Table 1     T1_1AGE0M   \n",
       "1  Population aged 0 - 19 by sex and year of age,...    T1_1AGE1M   \n",
       "2                                                NaN    T1_1AGE2M   \n",
       "3                                                NaN    T1_1AGE3M   \n",
       "4                                                NaN    T1_1AGE4M   \n",
       "\n",
       "  Description of Field Equivalent SAPS2011 Variable (if name changed)  \\\n",
       "0        Age 0 - Males                                            NaN   \n",
       "1        Age 1 - Males                                            NaN   \n",
       "2        Age 2 - Males                                            NaN   \n",
       "3        Age 3 - Males                                            NaN   \n",
       "4        Age 4 - Males                                            NaN   \n",
       "\n",
       "  Points to Note  \n",
       "0            NaN  \n",
       "1            NaN  \n",
       "2            NaN  \n",
       "3            NaN  \n",
       "4            NaN  "
      ]
     },
     "execution_count": 122,
     "metadata": {},
     "output_type": "execute_result"
    }
   ],
   "source": [
    "df['Themes'] = df['Themes'].ffill()\n",
    "df.head()"
   ]
  },
  {
   "cell_type": "code",
   "execution_count": 123,
   "metadata": {},
   "outputs": [
    {
     "data": {
      "text/plain": [
       "array(['Theme 1: Sex, Age and Marital Status ',\n",
       "       'Theme 2: Migration, Ethnicity, Religion and Foreign Languages',\n",
       "       'Theme 3: Irish Language ', 'Theme 4: Families ',\n",
       "       'Theme 5: Private Households ', 'Theme 6: Housing ',\n",
       "       'Theme 7: Communal Establishments ', 'Theme 8: Principal Status ',\n",
       "       'Theme 9: Social Class and Socio-Economic Group ',\n",
       "       'Theme 10: Education ', 'Theme 11: Commuting ',\n",
       "       'Theme 12: Disability, Carers and General Health ',\n",
       "       'Theme 13: Occupations', 'Theme 14: Industries ',\n",
       "       'Theme 15: Motor Car Availability, PC Ownership and Internet Access'],\n",
       "      dtype=object)"
      ]
     },
     "execution_count": 123,
     "metadata": {},
     "output_type": "execute_result"
    }
   ],
   "source": [
    "df['Themes'].unique()"
   ]
  },
  {
   "cell_type": "code",
   "execution_count": 124,
   "metadata": {},
   "outputs": [
    {
     "data": {
      "text/plain": [
       "(148, 6)"
      ]
     },
     "execution_count": 124,
     "metadata": {},
     "output_type": "execute_result"
    }
   ],
   "source": [
    "Glossary = df[(df['Themes']=='Theme 5: Private Households ')|  (df['Themes']== 'Theme 6: Housing ')]\n",
    "Glossary.shape"
   ]
  },
  {
   "attachments": {},
   "cell_type": "markdown",
   "metadata": {},
   "source": [
    "#### Importing actual dataset"
   ]
  },
  {
   "cell_type": "code",
   "execution_count": 125,
   "metadata": {},
   "outputs": [
    {
     "data": {
      "text/plain": [
       "(40, 802)"
      ]
     },
     "execution_count": 125,
     "metadata": {},
     "output_type": "execute_result"
    }
   ],
   "source": [
    "Census = pd.read_csv('C:\\\\Users\\\\santi\\\\OneDrive\\\\Desktop\\\\SAPS2016_DC2013.csv',encoding='iso-8859-1')\n",
    "Census.shape"
   ]
  },
  {
   "cell_type": "code",
   "execution_count": 126,
   "metadata": {},
   "outputs": [
    {
     "data": {
      "text/plain": [
       "Index(['Themes', 'Tables Within Themes', 'Column Names',\n",
       "       'Description of Field',\n",
       "       'Equivalent SAPS2011 Variable (if name changed)', 'Points to Note'],\n",
       "      dtype='object')"
      ]
     },
     "execution_count": 126,
     "metadata": {},
     "output_type": "execute_result"
    }
   ],
   "source": [
    "Glossary.columns"
   ]
  },
  {
   "cell_type": "code",
   "execution_count": 127,
   "metadata": {},
   "outputs": [
    {
     "data": {
      "text/plain": [
       "306     T5_1OP_H\n",
       "307     T5_1MC_H\n",
       "308     T5_1CC_H\n",
       "309    T5_1MCC_H\n",
       "310    T5_1CCC_H\n",
       "         ...    \n",
       "449       T6_8_O\n",
       "450      T6_8_TA\n",
       "451     T6_8_UHH\n",
       "452     T6_8_OVD\n",
       "453       T6_8_T\n",
       "Name: Column Names, Length: 148, dtype: object"
      ]
     },
     "execution_count": 127,
     "metadata": {},
     "output_type": "execute_result"
    }
   ],
   "source": [
    "Glossary['Column Names']"
   ]
  },
  {
   "cell_type": "code",
   "execution_count": 128,
   "metadata": {},
   "outputs": [
    {
     "data": {
      "text/plain": [
       "Index(['GUID', 'GEOGID', 'GEOGDESC', 'T1_1AGE0M', 'T1_1AGE1M', 'T1_1AGE2M',\n",
       "       'T1_1AGE3M', 'T1_1AGE4M', 'T1_1AGE5M', 'T1_1AGE6M',\n",
       "       ...\n",
       "       'T15_1_TC', 'T15_2_Y', 'T15_2_N', 'T15_2_NS', 'T15_2_T', 'T15_3_B',\n",
       "       'T15_3_OTH', 'T15_3_N', 'T15_3_NS', 'T15_3_T'],\n",
       "      dtype='object', length=802)"
      ]
     },
     "execution_count": 128,
     "metadata": {},
     "output_type": "execute_result"
    }
   ],
   "source": [
    "Census.columns"
   ]
  },
  {
   "cell_type": "code",
   "execution_count": 129,
   "metadata": {},
   "outputs": [],
   "source": [
    "ID = Census[['GUID', 'GEOGID', 'GEOGDESC']]\n",
    "Census = Census.drop(['GUID', 'GEOGID', 'GEOGDESC'], axis=1)"
   ]
  },
  {
   "cell_type": "code",
   "execution_count": 130,
   "metadata": {},
   "outputs": [],
   "source": [
    "Census_test = Census.filter(items=Glossary['Column Names'])"
   ]
  },
  {
   "cell_type": "code",
   "execution_count": 131,
   "metadata": {},
   "outputs": [
    {
     "data": {
      "text/html": [
       "<div>\n",
       "<style scoped>\n",
       "    .dataframe tbody tr th:only-of-type {\n",
       "        vertical-align: middle;\n",
       "    }\n",
       "\n",
       "    .dataframe tbody tr th {\n",
       "        vertical-align: top;\n",
       "    }\n",
       "\n",
       "    .dataframe thead th {\n",
       "        text-align: right;\n",
       "    }\n",
       "</style>\n",
       "<table border=\"1\" class=\"dataframe\">\n",
       "  <thead>\n",
       "    <tr style=\"text-align: right;\">\n",
       "      <th></th>\n",
       "      <th>T5_1OP_H</th>\n",
       "      <th>T5_1MC_H</th>\n",
       "      <th>T5_1CC_H</th>\n",
       "      <th>T5_1MCC_H</th>\n",
       "      <th>T5_1CCC_H</th>\n",
       "      <th>T5_1OPFC_H</th>\n",
       "      <th>T5_1OPMC_H</th>\n",
       "      <th>T5_1CO_H</th>\n",
       "      <th>T5_1CCO_H</th>\n",
       "      <th>T5_1OPFCO_H</th>\n",
       "      <th>...</th>\n",
       "      <th>T6_7_NS</th>\n",
       "      <th>T6_7_T</th>\n",
       "      <th>T6_8_O</th>\n",
       "      <th>T6_8_TA</th>\n",
       "      <th>T6_8_UHH</th>\n",
       "      <th>T6_8_OVD</th>\n",
       "      <th>T6_8_T</th>\n",
       "      <th>GUID</th>\n",
       "      <th>GEOGID</th>\n",
       "      <th>GEOGDESC</th>\n",
       "    </tr>\n",
       "  </thead>\n",
       "  <tbody>\n",
       "    <tr>\n",
       "      <th>0</th>\n",
       "      <td>12,102</td>\n",
       "      <td>8,456</td>\n",
       "      <td>1,928</td>\n",
       "      <td>17,908</td>\n",
       "      <td>2,475</td>\n",
       "      <td>836</td>\n",
       "      <td>4,825</td>\n",
       "      <td>527</td>\n",
       "      <td>1,005</td>\n",
       "      <td>108</td>\n",
       "      <td>...</td>\n",
       "      <td>1,878</td>\n",
       "      <td>53,633</td>\n",
       "      <td>53,850</td>\n",
       "      <td>1,329</td>\n",
       "      <td>812</td>\n",
       "      <td>4,664</td>\n",
       "      <td>60,655</td>\n",
       "      <td>AA601F40-12B7-41E8-A384-74688CC75084</td>\n",
       "      <td>DC2013_01</td>\n",
       "      <td>Carlow-Kilkenny</td>\n",
       "    </tr>\n",
       "    <tr>\n",
       "      <th>1</th>\n",
       "      <td>10,567</td>\n",
       "      <td>6,741</td>\n",
       "      <td>1,265</td>\n",
       "      <td>15,218</td>\n",
       "      <td>1,829</td>\n",
       "      <td>720</td>\n",
       "      <td>3,785</td>\n",
       "      <td>388</td>\n",
       "      <td>808</td>\n",
       "      <td>86</td>\n",
       "      <td>...</td>\n",
       "      <td>1,745</td>\n",
       "      <td>43,668</td>\n",
       "      <td>43,816</td>\n",
       "      <td>1,138</td>\n",
       "      <td>761</td>\n",
       "      <td>6,424</td>\n",
       "      <td>52,139</td>\n",
       "      <td>AC869BFE-5EB7-4479-AF27-670D394B2656</td>\n",
       "      <td>DC2013_02</td>\n",
       "      <td>Cavan-Monaghan</td>\n",
       "    </tr>\n",
       "    <tr>\n",
       "      <th>2</th>\n",
       "      <td>10,760</td>\n",
       "      <td>6,876</td>\n",
       "      <td>1,418</td>\n",
       "      <td>13,261</td>\n",
       "      <td>1,631</td>\n",
       "      <td>658</td>\n",
       "      <td>3,452</td>\n",
       "      <td>334</td>\n",
       "      <td>579</td>\n",
       "      <td>87</td>\n",
       "      <td>...</td>\n",
       "      <td>1,564</td>\n",
       "      <td>41,320</td>\n",
       "      <td>41,618</td>\n",
       "      <td>1,172</td>\n",
       "      <td>4,817</td>\n",
       "      <td>6,006</td>\n",
       "      <td>53,613</td>\n",
       "      <td>3D7FB62A-AF60-4D22-A873-542ACE8EA01D</td>\n",
       "      <td>DC2013_03</td>\n",
       "      <td>Clare</td>\n",
       "    </tr>\n",
       "    <tr>\n",
       "      <th>3</th>\n",
       "      <td>9,978</td>\n",
       "      <td>6,497</td>\n",
       "      <td>1,668</td>\n",
       "      <td>15,001</td>\n",
       "      <td>2,048</td>\n",
       "      <td>665</td>\n",
       "      <td>3,952</td>\n",
       "      <td>429</td>\n",
       "      <td>741</td>\n",
       "      <td>73</td>\n",
       "      <td>...</td>\n",
       "      <td>1,691</td>\n",
       "      <td>43,172</td>\n",
       "      <td>43,376</td>\n",
       "      <td>1,237</td>\n",
       "      <td>1,121</td>\n",
       "      <td>4,350</td>\n",
       "      <td>50,084</td>\n",
       "      <td>48BFAC96-2DFF-4372-B216-A46EA183E87E</td>\n",
       "      <td>DC2013_04</td>\n",
       "      <td>Cork East</td>\n",
       "    </tr>\n",
       "    <tr>\n",
       "      <th>4</th>\n",
       "      <td>11,224</td>\n",
       "      <td>6,116</td>\n",
       "      <td>1,934</td>\n",
       "      <td>12,542</td>\n",
       "      <td>1,563</td>\n",
       "      <td>620</td>\n",
       "      <td>4,170</td>\n",
       "      <td>509</td>\n",
       "      <td>745</td>\n",
       "      <td>65</td>\n",
       "      <td>...</td>\n",
       "      <td>2,535</td>\n",
       "      <td>44,992</td>\n",
       "      <td>45,415</td>\n",
       "      <td>1,226</td>\n",
       "      <td>67</td>\n",
       "      <td>3,424</td>\n",
       "      <td>50,132</td>\n",
       "      <td>CD9AB3FF-8A12-4F77-96D4-5F4EF76E07CC</td>\n",
       "      <td>DC2013_05</td>\n",
       "      <td>Cork North-Central</td>\n",
       "    </tr>\n",
       "  </tbody>\n",
       "</table>\n",
       "<p>5 rows × 151 columns</p>\n",
       "</div>"
      ],
      "text/plain": [
       "  T5_1OP_H T5_1MC_H T5_1CC_H T5_1MCC_H T5_1CCC_H  T5_1OPFC_H T5_1OPMC_H  \\\n",
       "0   12,102    8,456    1,928    17,908     2,475         836      4,825   \n",
       "1   10,567    6,741    1,265    15,218     1,829         720      3,785   \n",
       "2   10,760    6,876    1,418    13,261     1,631         658      3,452   \n",
       "3    9,978    6,497    1,668    15,001     2,048         665      3,952   \n",
       "4   11,224    6,116    1,934    12,542     1,563         620      4,170   \n",
       "\n",
       "  T5_1CO_H T5_1CCO_H  T5_1OPFCO_H  ...  T6_7_NS  T6_7_T  T6_8_O T6_8_TA  \\\n",
       "0      527     1,005          108  ...    1,878  53,633  53,850   1,329   \n",
       "1      388       808           86  ...    1,745  43,668  43,816   1,138   \n",
       "2      334       579           87  ...    1,564  41,320  41,618   1,172   \n",
       "3      429       741           73  ...    1,691  43,172  43,376   1,237   \n",
       "4      509       745           65  ...    2,535  44,992  45,415   1,226   \n",
       "\n",
       "  T6_8_UHH T6_8_OVD  T6_8_T                                  GUID     GEOGID  \\\n",
       "0      812    4,664  60,655  AA601F40-12B7-41E8-A384-74688CC75084  DC2013_01   \n",
       "1      761    6,424  52,139  AC869BFE-5EB7-4479-AF27-670D394B2656  DC2013_02   \n",
       "2    4,817    6,006  53,613  3D7FB62A-AF60-4D22-A873-542ACE8EA01D  DC2013_03   \n",
       "3    1,121    4,350  50,084  48BFAC96-2DFF-4372-B216-A46EA183E87E  DC2013_04   \n",
       "4       67    3,424  50,132  CD9AB3FF-8A12-4F77-96D4-5F4EF76E07CC  DC2013_05   \n",
       "\n",
       "             GEOGDESC  \n",
       "0     Carlow-Kilkenny  \n",
       "1      Cavan-Monaghan  \n",
       "2               Clare  \n",
       "3           Cork East  \n",
       "4  Cork North-Central  \n",
       "\n",
       "[5 rows x 151 columns]"
      ]
     },
     "execution_count": 131,
     "metadata": {},
     "output_type": "execute_result"
    }
   ],
   "source": [
    "Census = pd.concat([Census_test,ID], axis=1)\n",
    "Census.head()"
   ]
  },
  {
   "attachments": {},
   "cell_type": "markdown",
   "metadata": {},
   "source": [
    "Comparing average household size between Ireland and scotland"
   ]
  },
  {
   "cell_type": "code",
   "execution_count": 132,
   "metadata": {},
   "outputs": [
    {
     "data": {
      "text/html": [
       "<div>\n",
       "<style scoped>\n",
       "    .dataframe tbody tr th:only-of-type {\n",
       "        vertical-align: middle;\n",
       "    }\n",
       "\n",
       "    .dataframe tbody tr th {\n",
       "        vertical-align: top;\n",
       "    }\n",
       "\n",
       "    .dataframe thead th {\n",
       "        text-align: right;\n",
       "    }\n",
       "</style>\n",
       "<table border=\"1\" class=\"dataframe\">\n",
       "  <thead>\n",
       "    <tr style=\"text-align: right;\">\n",
       "      <th></th>\n",
       "      <th>T5_2_1PH</th>\n",
       "      <th>T5_2_2PH</th>\n",
       "      <th>T5_2_3PH</th>\n",
       "      <th>T5_2_4PH</th>\n",
       "      <th>T5_2_5PH</th>\n",
       "      <th>T5_2_6PH</th>\n",
       "      <th>T5_2_7PH</th>\n",
       "      <th>T5_2_GE8PH</th>\n",
       "      <th>T5_2_TH</th>\n",
       "    </tr>\n",
       "  </thead>\n",
       "  <tbody>\n",
       "    <tr>\n",
       "      <th>0</th>\n",
       "      <td>12,102</td>\n",
       "      <td>15,312</td>\n",
       "      <td>9,541</td>\n",
       "      <td>9,379</td>\n",
       "      <td>5,099</td>\n",
       "      <td>1,750</td>\n",
       "      <td>429</td>\n",
       "      <td>200</td>\n",
       "      <td>53,812</td>\n",
       "    </tr>\n",
       "    <tr>\n",
       "      <th>1</th>\n",
       "      <td>10,567</td>\n",
       "      <td>11,730</td>\n",
       "      <td>7,189</td>\n",
       "      <td>7,203</td>\n",
       "      <td>4,599</td>\n",
       "      <td>1,793</td>\n",
       "      <td>471</td>\n",
       "      <td>262</td>\n",
       "      <td>43,814</td>\n",
       "    </tr>\n",
       "    <tr>\n",
       "      <th>2</th>\n",
       "      <td>10,760</td>\n",
       "      <td>11,836</td>\n",
       "      <td>6,736</td>\n",
       "      <td>6,613</td>\n",
       "      <td>3,763</td>\n",
       "      <td>1,293</td>\n",
       "      <td>308</td>\n",
       "      <td>131</td>\n",
       "      <td>41,440</td>\n",
       "    </tr>\n",
       "    <tr>\n",
       "      <th>3</th>\n",
       "      <td>9,978</td>\n",
       "      <td>11,776</td>\n",
       "      <td>7,672</td>\n",
       "      <td>7,886</td>\n",
       "      <td>4,261</td>\n",
       "      <td>1,308</td>\n",
       "      <td>286</td>\n",
       "      <td>108</td>\n",
       "      <td>43,275</td>\n",
       "    </tr>\n",
       "    <tr>\n",
       "      <th>4</th>\n",
       "      <td>11,224</td>\n",
       "      <td>13,171</td>\n",
       "      <td>7,886</td>\n",
       "      <td>7,344</td>\n",
       "      <td>3,730</td>\n",
       "      <td>1,269</td>\n",
       "      <td>302</td>\n",
       "      <td>146</td>\n",
       "      <td>45,072</td>\n",
       "    </tr>\n",
       "  </tbody>\n",
       "</table>\n",
       "</div>"
      ],
      "text/plain": [
       "  T5_2_1PH T5_2_2PH T5_2_3PH T5_2_4PH T5_2_5PH T5_2_6PH  T5_2_7PH  T5_2_GE8PH  \\\n",
       "0   12,102   15,312    9,541    9,379    5,099    1,750       429         200   \n",
       "1   10,567   11,730    7,189    7,203    4,599    1,793       471         262   \n",
       "2   10,760   11,836    6,736    6,613    3,763    1,293       308         131   \n",
       "3    9,978   11,776    7,672    7,886    4,261    1,308       286         108   \n",
       "4   11,224   13,171    7,886    7,344    3,730    1,269       302         146   \n",
       "\n",
       "  T5_2_TH  \n",
       "0  53,812  \n",
       "1  43,814  \n",
       "2  41,440  \n",
       "3  43,275  \n",
       "4  45,072  "
      ]
     },
     "execution_count": 132,
     "metadata": {},
     "output_type": "execute_result"
    }
   ],
   "source": [
    "Ireland_avg_house = Census[['T5_2_1PH',\n",
    "'T5_2_2PH',\n",
    "'T5_2_3PH',\n",
    "'T5_2_4PH',\n",
    "'T5_2_5PH',\n",
    "'T5_2_6PH',\n",
    "'T5_2_7PH',\n",
    "'T5_2_GE8PH',\n",
    "'T5_2_TH' ]]\n",
    "Ireland_avg_house.head()\n"
   ]
  },
  {
   "cell_type": "code",
   "execution_count": 133,
   "metadata": {},
   "outputs": [
    {
     "name": "stdout",
     "output_type": "stream",
     "text": [
      "column not str\n",
      "column not str\n"
     ]
    },
    {
     "name": "stderr",
     "output_type": "stream",
     "text": [
      "C:\\Users\\santi\\AppData\\Local\\Temp\\ipykernel_11676\\1303354070.py:3: SettingWithCopyWarning: \n",
      "A value is trying to be set on a copy of a slice from a DataFrame.\n",
      "Try using .loc[row_indexer,col_indexer] = value instead\n",
      "\n",
      "See the caveats in the documentation: https://pandas.pydata.org/pandas-docs/stable/user_guide/indexing.html#returning-a-view-versus-a-copy\n",
      "  Ireland_avg_house[x] = Ireland_avg_house[x].str.replace(',','')\n",
      "C:\\Users\\santi\\AppData\\Local\\Temp\\ipykernel_11676\\1303354070.py:4: SettingWithCopyWarning: \n",
      "A value is trying to be set on a copy of a slice from a DataFrame.\n",
      "Try using .loc[row_indexer,col_indexer] = value instead\n",
      "\n",
      "See the caveats in the documentation: https://pandas.pydata.org/pandas-docs/stable/user_guide/indexing.html#returning-a-view-versus-a-copy\n",
      "  Ireland_avg_house[x] = pd.to_numeric(Ireland_avg_house[x])\n",
      "C:\\Users\\santi\\AppData\\Local\\Temp\\ipykernel_11676\\1303354070.py:8: SettingWithCopyWarning: \n",
      "A value is trying to be set on a copy of a slice from a DataFrame.\n",
      "Try using .loc[row_indexer,col_indexer] = value instead\n",
      "\n",
      "See the caveats in the documentation: https://pandas.pydata.org/pandas-docs/stable/user_guide/indexing.html#returning-a-view-versus-a-copy\n",
      "  Ireland_avg_house['Average household size'] = (Ireland_avg_house['T5_2_1PH']*1 +\n"
     ]
    },
    {
     "data": {
      "text/html": [
       "<div>\n",
       "<style scoped>\n",
       "    .dataframe tbody tr th:only-of-type {\n",
       "        vertical-align: middle;\n",
       "    }\n",
       "\n",
       "    .dataframe tbody tr th {\n",
       "        vertical-align: top;\n",
       "    }\n",
       "\n",
       "    .dataframe thead th {\n",
       "        text-align: right;\n",
       "    }\n",
       "</style>\n",
       "<table border=\"1\" class=\"dataframe\">\n",
       "  <thead>\n",
       "    <tr style=\"text-align: right;\">\n",
       "      <th></th>\n",
       "      <th>T5_2_1PH</th>\n",
       "      <th>T5_2_2PH</th>\n",
       "      <th>T5_2_3PH</th>\n",
       "      <th>T5_2_4PH</th>\n",
       "      <th>T5_2_5PH</th>\n",
       "      <th>T5_2_6PH</th>\n",
       "      <th>T5_2_7PH</th>\n",
       "      <th>T5_2_GE8PH</th>\n",
       "      <th>T5_2_TH</th>\n",
       "      <th>Average household size</th>\n",
       "    </tr>\n",
       "  </thead>\n",
       "  <tbody>\n",
       "    <tr>\n",
       "      <th>0</th>\n",
       "      <td>12102</td>\n",
       "      <td>15312</td>\n",
       "      <td>9541</td>\n",
       "      <td>9379</td>\n",
       "      <td>5099</td>\n",
       "      <td>1750</td>\n",
       "      <td>429</td>\n",
       "      <td>200</td>\n",
       "      <td>53812</td>\n",
       "      <td>2.777503</td>\n",
       "    </tr>\n",
       "    <tr>\n",
       "      <th>1</th>\n",
       "      <td>10567</td>\n",
       "      <td>11730</td>\n",
       "      <td>7189</td>\n",
       "      <td>7203</td>\n",
       "      <td>4599</td>\n",
       "      <td>1793</td>\n",
       "      <td>471</td>\n",
       "      <td>262</td>\n",
       "      <td>43814</td>\n",
       "      <td>2.819921</td>\n",
       "    </tr>\n",
       "    <tr>\n",
       "      <th>2</th>\n",
       "      <td>10760</td>\n",
       "      <td>11836</td>\n",
       "      <td>6736</td>\n",
       "      <td>6613</td>\n",
       "      <td>3763</td>\n",
       "      <td>1293</td>\n",
       "      <td>308</td>\n",
       "      <td>131</td>\n",
       "      <td>41440</td>\n",
       "      <td>2.675410</td>\n",
       "    </tr>\n",
       "    <tr>\n",
       "      <th>3</th>\n",
       "      <td>9978</td>\n",
       "      <td>11776</td>\n",
       "      <td>7672</td>\n",
       "      <td>7886</td>\n",
       "      <td>4261</td>\n",
       "      <td>1308</td>\n",
       "      <td>286</td>\n",
       "      <td>108</td>\n",
       "      <td>43275</td>\n",
       "      <td>2.775482</td>\n",
       "    </tr>\n",
       "    <tr>\n",
       "      <th>4</th>\n",
       "      <td>11224</td>\n",
       "      <td>13171</td>\n",
       "      <td>7886</td>\n",
       "      <td>7344</td>\n",
       "      <td>3730</td>\n",
       "      <td>1269</td>\n",
       "      <td>302</td>\n",
       "      <td>146</td>\n",
       "      <td>45072</td>\n",
       "      <td>2.665646</td>\n",
       "    </tr>\n",
       "  </tbody>\n",
       "</table>\n",
       "</div>"
      ],
      "text/plain": [
       "   T5_2_1PH  T5_2_2PH  T5_2_3PH  T5_2_4PH  T5_2_5PH  T5_2_6PH  T5_2_7PH  \\\n",
       "0     12102     15312      9541      9379      5099      1750       429   \n",
       "1     10567     11730      7189      7203      4599      1793       471   \n",
       "2     10760     11836      6736      6613      3763      1293       308   \n",
       "3      9978     11776      7672      7886      4261      1308       286   \n",
       "4     11224     13171      7886      7344      3730      1269       302   \n",
       "\n",
       "   T5_2_GE8PH  T5_2_TH  Average household size  \n",
       "0         200    53812                2.777503  \n",
       "1         262    43814                2.819921  \n",
       "2         131    41440                2.675410  \n",
       "3         108    43275                2.775482  \n",
       "4         146    45072                2.665646  "
      ]
     },
     "execution_count": 133,
     "metadata": {},
     "output_type": "execute_result"
    }
   ],
   "source": [
    "\n",
    "for x in Ireland_avg_house.columns:\n",
    "    try:\n",
    "        Ireland_avg_house[x] = Ireland_avg_house[x].str.replace(',','')\n",
    "        Ireland_avg_house[x] = pd.to_numeric(Ireland_avg_house[x])\n",
    "    except:\n",
    "        print('column not str')\n",
    "        \n",
    "Ireland_avg_house['Average household size'] = (Ireland_avg_house['T5_2_1PH']*1 + \n",
    "                                               Ireland_avg_house['T5_2_2PH']*2 + \n",
    "                                               Ireland_avg_house['T5_2_3PH']*3 + \n",
    "                                               Ireland_avg_house['T5_2_4PH']*4 + \n",
    "                                               Ireland_avg_house['T5_2_5PH']*5 + \n",
    "                                               Ireland_avg_house['T5_2_6PH']*6 + \n",
    "                                               Ireland_avg_house['T5_2_7PH']*7 +\n",
    "                                               Ireland_avg_house['T5_2_GE8PH']*8) / Ireland_avg_house['T5_2_TH'] \n",
    "Ireland_avg_house.head()\n"
   ]
  },
  {
   "cell_type": "code",
   "execution_count": 134,
   "metadata": {},
   "outputs": [
    {
     "data": {
      "text/plain": [
       "(40, 10)"
      ]
     },
     "execution_count": 134,
     "metadata": {},
     "output_type": "execute_result"
    }
   ],
   "source": [
    "Ireland_avg_house.shape"
   ]
  },
  {
   "attachments": {},
   "cell_type": "markdown",
   "metadata": {},
   "source": [
    "Scotland Census\n",
    "\n",
    "https://www.nrscotland.gov.uk/statistics-and-data/statistics/statistics-by-theme/households/household-estimates/2021"
   ]
  },
  {
   "cell_type": "code",
   "execution_count": 135,
   "metadata": {},
   "outputs": [
    {
     "data": {
      "text/html": [
       "<div>\n",
       "<style scoped>\n",
       "    .dataframe tbody tr th:only-of-type {\n",
       "        vertical-align: middle;\n",
       "    }\n",
       "\n",
       "    .dataframe tbody tr th {\n",
       "        vertical-align: top;\n",
       "    }\n",
       "\n",
       "    .dataframe thead th {\n",
       "        text-align: right;\n",
       "    }\n",
       "</style>\n",
       "<table border=\"1\" class=\"dataframe\">\n",
       "  <thead>\n",
       "    <tr style=\"text-align: right;\">\n",
       "      <th></th>\n",
       "      <th>Table 3: Average household size for Scotland by council area, June 2001 to 2021 [note 5] [note 6]</th>\n",
       "      <th>Unnamed: 1</th>\n",
       "      <th>Unnamed: 2</th>\n",
       "      <th>Unnamed: 3</th>\n",
       "      <th>Unnamed: 4</th>\n",
       "      <th>Unnamed: 5</th>\n",
       "      <th>Unnamed: 6</th>\n",
       "      <th>Unnamed: 7</th>\n",
       "      <th>Unnamed: 8</th>\n",
       "      <th>Unnamed: 9</th>\n",
       "      <th>...</th>\n",
       "      <th>Unnamed: 15</th>\n",
       "      <th>Unnamed: 16</th>\n",
       "      <th>Unnamed: 17</th>\n",
       "      <th>Unnamed: 18</th>\n",
       "      <th>Unnamed: 19</th>\n",
       "      <th>Unnamed: 20</th>\n",
       "      <th>Unnamed: 21</th>\n",
       "      <th>Unnamed: 22</th>\n",
       "      <th>Unnamed: 23</th>\n",
       "      <th>Unnamed: 24</th>\n",
       "    </tr>\n",
       "  </thead>\n",
       "  <tbody>\n",
       "    <tr>\n",
       "      <th>0</th>\n",
       "      <td>This worksheet contains one table. Some cells ...</td>\n",
       "      <td>NaN</td>\n",
       "      <td>NaN</td>\n",
       "      <td>NaN</td>\n",
       "      <td>NaN</td>\n",
       "      <td>NaN</td>\n",
       "      <td>NaN</td>\n",
       "      <td>NaN</td>\n",
       "      <td>NaN</td>\n",
       "      <td>NaN</td>\n",
       "      <td>...</td>\n",
       "      <td>NaN</td>\n",
       "      <td>NaN</td>\n",
       "      <td>NaN</td>\n",
       "      <td>NaN</td>\n",
       "      <td>NaN</td>\n",
       "      <td>NaN</td>\n",
       "      <td>NaN</td>\n",
       "      <td>NaN</td>\n",
       "      <td>NaN</td>\n",
       "      <td>NaN</td>\n",
       "    </tr>\n",
       "    <tr>\n",
       "      <th>1</th>\n",
       "      <td>Mid-year population estimates for 2021 were no...</td>\n",
       "      <td>NaN</td>\n",
       "      <td>NaN</td>\n",
       "      <td>NaN</td>\n",
       "      <td>NaN</td>\n",
       "      <td>NaN</td>\n",
       "      <td>NaN</td>\n",
       "      <td>NaN</td>\n",
       "      <td>NaN</td>\n",
       "      <td>NaN</td>\n",
       "      <td>...</td>\n",
       "      <td>NaN</td>\n",
       "      <td>NaN</td>\n",
       "      <td>NaN</td>\n",
       "      <td>NaN</td>\n",
       "      <td>NaN</td>\n",
       "      <td>NaN</td>\n",
       "      <td>NaN</td>\n",
       "      <td>NaN</td>\n",
       "      <td>NaN</td>\n",
       "      <td>NaN</td>\n",
       "    </tr>\n",
       "    <tr>\n",
       "      <th>2</th>\n",
       "      <td>Back to contents</td>\n",
       "      <td>NaN</td>\n",
       "      <td>NaN</td>\n",
       "      <td>NaN</td>\n",
       "      <td>NaN</td>\n",
       "      <td>NaN</td>\n",
       "      <td>NaN</td>\n",
       "      <td>NaN</td>\n",
       "      <td>NaN</td>\n",
       "      <td>NaN</td>\n",
       "      <td>...</td>\n",
       "      <td>NaN</td>\n",
       "      <td>NaN</td>\n",
       "      <td>NaN</td>\n",
       "      <td>NaN</td>\n",
       "      <td>NaN</td>\n",
       "      <td>NaN</td>\n",
       "      <td>NaN</td>\n",
       "      <td>NaN</td>\n",
       "      <td>NaN</td>\n",
       "      <td>NaN</td>\n",
       "    </tr>\n",
       "    <tr>\n",
       "      <th>3</th>\n",
       "      <td>Council</td>\n",
       "      <td>2001.00</td>\n",
       "      <td>2002.00</td>\n",
       "      <td>2003.00</td>\n",
       "      <td>2004.00</td>\n",
       "      <td>2005.00</td>\n",
       "      <td>2006.0</td>\n",
       "      <td>2007.00</td>\n",
       "      <td>2008.00</td>\n",
       "      <td>2009.00</td>\n",
       "      <td>...</td>\n",
       "      <td>2015.00</td>\n",
       "      <td>2016.00</td>\n",
       "      <td>2017.00</td>\n",
       "      <td>2018.00</td>\n",
       "      <td>2019.00</td>\n",
       "      <td>2020.00</td>\n",
       "      <td>2021.00</td>\n",
       "      <td>Change 2020 - 2021 \\n %</td>\n",
       "      <td>Change 2011 - 2021 \\n %</td>\n",
       "      <td>Change 2001 - 2021 \\n %</td>\n",
       "    </tr>\n",
       "    <tr>\n",
       "      <th>4</th>\n",
       "      <td>Scotland</td>\n",
       "      <td>2.27</td>\n",
       "      <td>2.25</td>\n",
       "      <td>2.23</td>\n",
       "      <td>2.22</td>\n",
       "      <td>2.21</td>\n",
       "      <td>2.2</td>\n",
       "      <td>2.19</td>\n",
       "      <td>2.18</td>\n",
       "      <td>2.18</td>\n",
       "      <td>...</td>\n",
       "      <td>2.17</td>\n",
       "      <td>2.17</td>\n",
       "      <td>2.16</td>\n",
       "      <td>2.15</td>\n",
       "      <td>2.15</td>\n",
       "      <td>2.14</td>\n",
       "      <td>2.12</td>\n",
       "      <td>-0.934579</td>\n",
       "      <td>-3.196347</td>\n",
       "      <td>-6.60793</td>\n",
       "    </tr>\n",
       "  </tbody>\n",
       "</table>\n",
       "<p>5 rows × 25 columns</p>\n",
       "</div>"
      ],
      "text/plain": [
       "  Table 3: Average household size for Scotland by council area, June 2001 to 2021 [note 5] [note 6]  \\\n",
       "0  This worksheet contains one table. Some cells ...                                                  \n",
       "1  Mid-year population estimates for 2021 were no...                                                  \n",
       "2                                   Back to contents                                                  \n",
       "3                                            Council                                                  \n",
       "4                                           Scotland                                                  \n",
       "\n",
       "   Unnamed: 1  Unnamed: 2  Unnamed: 3  Unnamed: 4  Unnamed: 5  Unnamed: 6  \\\n",
       "0         NaN         NaN         NaN         NaN         NaN         NaN   \n",
       "1         NaN         NaN         NaN         NaN         NaN         NaN   \n",
       "2         NaN         NaN         NaN         NaN         NaN         NaN   \n",
       "3     2001.00     2002.00     2003.00     2004.00     2005.00      2006.0   \n",
       "4        2.27        2.25        2.23        2.22        2.21         2.2   \n",
       "\n",
       "   Unnamed: 7  Unnamed: 8  Unnamed: 9  ...  Unnamed: 15  Unnamed: 16  \\\n",
       "0         NaN         NaN         NaN  ...          NaN          NaN   \n",
       "1         NaN         NaN         NaN  ...          NaN          NaN   \n",
       "2         NaN         NaN         NaN  ...          NaN          NaN   \n",
       "3     2007.00     2008.00     2009.00  ...      2015.00      2016.00   \n",
       "4        2.19        2.18        2.18  ...         2.17         2.17   \n",
       "\n",
       "   Unnamed: 17  Unnamed: 18  Unnamed: 19  Unnamed: 20  Unnamed: 21  \\\n",
       "0          NaN          NaN          NaN          NaN          NaN   \n",
       "1          NaN          NaN          NaN          NaN          NaN   \n",
       "2          NaN          NaN          NaN          NaN          NaN   \n",
       "3      2017.00      2018.00      2019.00      2020.00      2021.00   \n",
       "4         2.16         2.15         2.15         2.14         2.12   \n",
       "\n",
       "               Unnamed: 22              Unnamed: 23              Unnamed: 24  \n",
       "0                      NaN                      NaN                      NaN  \n",
       "1                      NaN                      NaN                      NaN  \n",
       "2                      NaN                      NaN                      NaN  \n",
       "3  Change 2020 - 2021 \\n %  Change 2011 - 2021 \\n %  Change 2001 - 2021 \\n %  \n",
       "4                -0.934579                -3.196347                 -6.60793  \n",
       "\n",
       "[5 rows x 25 columns]"
      ]
     },
     "execution_count": 135,
     "metadata": {},
     "output_type": "execute_result"
    }
   ],
   "source": [
    "scotland = pd.read_excel('C:\\\\Users\\\\santi\\\\OneDrive\\\\Desktop\\\\house-est-21-data.xlsx', sheet_name='Table3')\n",
    "scotland.head()"
   ]
  },
  {
   "cell_type": "code",
   "execution_count": 136,
   "metadata": {},
   "outputs": [
    {
     "data": {
      "text/html": [
       "<div>\n",
       "<style scoped>\n",
       "    .dataframe tbody tr th:only-of-type {\n",
       "        vertical-align: middle;\n",
       "    }\n",
       "\n",
       "    .dataframe tbody tr th {\n",
       "        vertical-align: top;\n",
       "    }\n",
       "\n",
       "    .dataframe thead th {\n",
       "        text-align: right;\n",
       "    }\n",
       "</style>\n",
       "<table border=\"1\" class=\"dataframe\">\n",
       "  <thead>\n",
       "    <tr style=\"text-align: right;\">\n",
       "      <th></th>\n",
       "      <th>Council</th>\n",
       "      <th>2001.0</th>\n",
       "      <th>2002.0</th>\n",
       "      <th>2003.0</th>\n",
       "      <th>2004.0</th>\n",
       "      <th>2005.0</th>\n",
       "      <th>2006.0</th>\n",
       "      <th>2007.0</th>\n",
       "      <th>2008.0</th>\n",
       "      <th>2009.0</th>\n",
       "      <th>...</th>\n",
       "      <th>2015.0</th>\n",
       "      <th>2016.0</th>\n",
       "      <th>2017.0</th>\n",
       "      <th>2018.0</th>\n",
       "      <th>2019.0</th>\n",
       "      <th>2020.0</th>\n",
       "      <th>2021.0</th>\n",
       "      <th>Change 2020 - 2021 \\n %</th>\n",
       "      <th>Change 2011 - 2021 \\n %</th>\n",
       "      <th>Change 2001 - 2021 \\n %</th>\n",
       "    </tr>\n",
       "  </thead>\n",
       "  <tbody>\n",
       "    <tr>\n",
       "      <th>5</th>\n",
       "      <td>Aberdeen City [note 4]</td>\n",
       "      <td>2.13</td>\n",
       "      <td>2.10</td>\n",
       "      <td>2.08</td>\n",
       "      <td>2.05</td>\n",
       "      <td>2.04</td>\n",
       "      <td>2.02</td>\n",
       "      <td>2.01</td>\n",
       "      <td>2.01</td>\n",
       "      <td>2.03</td>\n",
       "      <td>...</td>\n",
       "      <td>2.10</td>\n",
       "      <td>2.07</td>\n",
       "      <td>2.06</td>\n",
       "      <td>2.03</td>\n",
       "      <td>2.03</td>\n",
       "      <td>2.02</td>\n",
       "      <td>2.02</td>\n",
       "      <td>0</td>\n",
       "      <td>-2.415459</td>\n",
       "      <td>-5.164319</td>\n",
       "    </tr>\n",
       "    <tr>\n",
       "      <th>6</th>\n",
       "      <td>Aberdeenshire</td>\n",
       "      <td>2.47</td>\n",
       "      <td>2.45</td>\n",
       "      <td>2.44</td>\n",
       "      <td>2.42</td>\n",
       "      <td>2.41</td>\n",
       "      <td>2.41</td>\n",
       "      <td>2.41</td>\n",
       "      <td>2.40</td>\n",
       "      <td>2.40</td>\n",
       "      <td>...</td>\n",
       "      <td>2.37</td>\n",
       "      <td>2.35</td>\n",
       "      <td>2.34</td>\n",
       "      <td>2.33</td>\n",
       "      <td>2.31</td>\n",
       "      <td>2.29</td>\n",
       "      <td>2.27</td>\n",
       "      <td>-0.873362</td>\n",
       "      <td>-5.020921</td>\n",
       "      <td>-8.097166</td>\n",
       "    </tr>\n",
       "    <tr>\n",
       "      <th>7</th>\n",
       "      <td>Angus</td>\n",
       "      <td>2.27</td>\n",
       "      <td>2.26</td>\n",
       "      <td>2.24</td>\n",
       "      <td>2.24</td>\n",
       "      <td>2.24</td>\n",
       "      <td>2.23</td>\n",
       "      <td>2.23</td>\n",
       "      <td>2.23</td>\n",
       "      <td>2.21</td>\n",
       "      <td>...</td>\n",
       "      <td>2.17</td>\n",
       "      <td>2.16</td>\n",
       "      <td>2.14</td>\n",
       "      <td>2.12</td>\n",
       "      <td>2.11</td>\n",
       "      <td>2.10</td>\n",
       "      <td>2.08</td>\n",
       "      <td>-0.952381</td>\n",
       "      <td>-6.306306</td>\n",
       "      <td>-8.370044</td>\n",
       "    </tr>\n",
       "    <tr>\n",
       "      <th>8</th>\n",
       "      <td>Argyll and Bute</td>\n",
       "      <td>2.24</td>\n",
       "      <td>2.23</td>\n",
       "      <td>2.20</td>\n",
       "      <td>2.19</td>\n",
       "      <td>2.16</td>\n",
       "      <td>2.17</td>\n",
       "      <td>2.17</td>\n",
       "      <td>2.15</td>\n",
       "      <td>2.15</td>\n",
       "      <td>...</td>\n",
       "      <td>2.06</td>\n",
       "      <td>2.06</td>\n",
       "      <td>2.04</td>\n",
       "      <td>2.01</td>\n",
       "      <td>2.00</td>\n",
       "      <td>1.98</td>\n",
       "      <td>1.96</td>\n",
       "      <td>-1.010101</td>\n",
       "      <td>-8.411215</td>\n",
       "      <td>-12.5</td>\n",
       "    </tr>\n",
       "    <tr>\n",
       "      <th>9</th>\n",
       "      <td>City of Edinburgh [note 4]</td>\n",
       "      <td>2.14</td>\n",
       "      <td>2.11</td>\n",
       "      <td>2.09</td>\n",
       "      <td>2.07</td>\n",
       "      <td>2.06</td>\n",
       "      <td>2.05</td>\n",
       "      <td>2.04</td>\n",
       "      <td>2.03</td>\n",
       "      <td>2.04</td>\n",
       "      <td>...</td>\n",
       "      <td>2.11</td>\n",
       "      <td>2.13</td>\n",
       "      <td>2.13</td>\n",
       "      <td>2.13</td>\n",
       "      <td>2.14</td>\n",
       "      <td>2.14</td>\n",
       "      <td>2.12</td>\n",
       "      <td>-0.934579</td>\n",
       "      <td>2.415459</td>\n",
       "      <td>-0.934579</td>\n",
       "    </tr>\n",
       "  </tbody>\n",
       "</table>\n",
       "<p>5 rows × 25 columns</p>\n",
       "</div>"
      ],
      "text/plain": [
       "                      Council  2001.0  2002.0  2003.0  2004.0  2005.0  2006.0  \\\n",
       "5      Aberdeen City [note 4]    2.13    2.10    2.08    2.05    2.04    2.02   \n",
       "6               Aberdeenshire    2.47    2.45    2.44    2.42    2.41    2.41   \n",
       "7                       Angus    2.27    2.26    2.24    2.24    2.24    2.23   \n",
       "8             Argyll and Bute    2.24    2.23    2.20    2.19    2.16    2.17   \n",
       "9  City of Edinburgh [note 4]    2.14    2.11    2.09    2.07    2.06    2.05   \n",
       "\n",
       "   2007.0  2008.0  2009.0  ...  2015.0  2016.0  2017.0  2018.0  2019.0  \\\n",
       "5    2.01    2.01    2.03  ...    2.10    2.07    2.06    2.03    2.03   \n",
       "6    2.41    2.40    2.40  ...    2.37    2.35    2.34    2.33    2.31   \n",
       "7    2.23    2.23    2.21  ...    2.17    2.16    2.14    2.12    2.11   \n",
       "8    2.17    2.15    2.15  ...    2.06    2.06    2.04    2.01    2.00   \n",
       "9    2.04    2.03    2.04  ...    2.11    2.13    2.13    2.13    2.14   \n",
       "\n",
       "   2020.0  2021.0  Change 2020 - 2021 \\n %  Change 2011 - 2021 \\n %  \\\n",
       "5    2.02    2.02                        0                -2.415459   \n",
       "6    2.29    2.27                -0.873362                -5.020921   \n",
       "7    2.10    2.08                -0.952381                -6.306306   \n",
       "8    1.98    1.96                -1.010101                -8.411215   \n",
       "9    2.14    2.12                -0.934579                 2.415459   \n",
       "\n",
       "   Change 2001 - 2021 \\n %  \n",
       "5                -5.164319  \n",
       "6                -8.097166  \n",
       "7                -8.370044  \n",
       "8                    -12.5  \n",
       "9                -0.934579  \n",
       "\n",
       "[5 rows x 25 columns]"
      ]
     },
     "execution_count": 136,
     "metadata": {},
     "output_type": "execute_result"
    }
   ],
   "source": [
    "scotland = scotland.iloc[3:]\n",
    "scotland = scotland.rename(columns=scotland.iloc[0])\n",
    "scotland = scotland.iloc[2:]\n",
    "scotland.head()"
   ]
  },
  {
   "cell_type": "code",
   "execution_count": 137,
   "metadata": {},
   "outputs": [
    {
     "data": {
      "text/plain": [
       "count    32.000000\n",
       "mean      2.180625\n",
       "std       0.102136\n",
       "min       2.050000\n",
       "25%       2.105000\n",
       "50%       2.155000\n",
       "75%       2.240000\n",
       "max       2.420000\n",
       "Name: 2016.0, dtype: float64"
      ]
     },
     "execution_count": 137,
     "metadata": {},
     "output_type": "execute_result"
    }
   ],
   "source": [
    "scotland[2016.00].describe()"
   ]
  },
  {
   "cell_type": "code",
   "execution_count": 138,
   "metadata": {},
   "outputs": [
    {
     "data": {
      "text/plain": [
       "count    40.000000\n",
       "mean      2.754412\n",
       "std       0.185192\n",
       "min       2.236814\n",
       "25%       2.674458\n",
       "50%       2.730714\n",
       "75%       2.840331\n",
       "max       3.100291\n",
       "Name: Average household size, dtype: float64"
      ]
     },
     "execution_count": 138,
     "metadata": {},
     "output_type": "execute_result"
    }
   ],
   "source": [
    "Ireland_avg_house['Average household size'].describe()"
   ]
  },
  {
   "cell_type": "code",
   "execution_count": 139,
   "metadata": {},
   "outputs": [
    {
     "data": {
      "text/plain": [
       "[Text(0.5, 0, 'Ireland'), Text(0, 0.5, 'Average Household size')]"
      ]
     },
     "execution_count": 139,
     "metadata": {},
     "output_type": "execute_result"
    },
    {
     "data": {
      "image/png": "[encoded data removed]",
      "text/plain": [
       "<Figure size 1500x500 with 2 Axes>"
      ]
     },
     "metadata": {},
     "output_type": "display_data"
    }
   ],
   "source": [
    "import seaborn as sns\n",
    "import matplotlib.pyplot as plt\n",
    "\n",
    "sns.set_style(\"darkgrid\")\n",
    "rc = {'figure.figsize':(10,5),\n",
    "      'axes.grid' : True,\n",
    "      'grid.color': '.7',\n",
    "      'font.family':'Corbel',\n",
    "      'font.size' : 18}\n",
    "plt.rcParams.update(rc)\n",
    "\n",
    "\n",
    "fig, ax = plt.subplots(1,2,figsize=(15, 5))\n",
    "fig.suptitle('Average Household size by macro area (Ireland Counties / Scotland Councils) \\n 2016',color= \"black\", weight='bold',fontname=\"Times New Roman\",fontsize=14)\n",
    "sns.boxplot(y= 2016.00,data=scotland,ax=ax[0]).set(\n",
    "    xlabel='Scotland', \n",
    "    ylabel='Average Household Size')\n",
    "sns.boxplot(y= 'Average household size',data=Ireland_avg_house,ax=ax[1], color='green').set(\n",
    "    xlabel='Ireland', \n",
    "    ylabel='Average Household size')"
   ]
  },
  {
   "cell_type": "code",
   "execution_count": 140,
   "metadata": {},
   "outputs": [
    {
     "data": {
      "image/png": "[encoded data removed]",
      "text/plain": [
       "<Figure size 2000x500 with 2 Axes>"
      ]
     },
     "metadata": {},
     "output_type": "display_data"
    }
   ],
   "source": [
    "fig, axes = plt.subplots(nrows=1, ncols=2, figsize=(20, 5))\n",
    "fig.suptitle('Distribution of Average Household size by macro area (Ireland Counties / Scotland Councils) \\n 2016',color= \"black\", weight='bold',fontname=\"Times New Roman\",fontsize=14)\n",
    "\n",
    "sns.histplot(x= scotland[2016.00], kde=True, stat='density', ax=axes[0])\n",
    "sns.histplot(x= Ireland_avg_house['Average household size'], kde=True, stat='density', ax=axes[1],color='green')\n",
    "\n",
    "\n",
    "plt.show()"
   ]
  },
  {
   "attachments": {},
   "cell_type": "markdown",
   "metadata": {},
   "source": [
    "#### Checking for normality a= 0.05"
   ]
  },
  {
   "cell_type": "code",
   "execution_count": 141,
   "metadata": {},
   "outputs": [
    {
     "data": {
      "text/plain": [
       "Text(0.5, 1.0, 'Ireland')"
      ]
     },
     "execution_count": 141,
     "metadata": {},
     "output_type": "execute_result"
    },
    {
     "data": {
      "image/png": "[encoded data removed]",
      "text/plain": [
       "<Figure size 2000x500 with 2 Axes>"
      ]
     },
     "metadata": {},
     "output_type": "display_data"
    }
   ],
   "source": [
    "import statsmodels.api as sm\n",
    "\n",
    "fig, ax = plt.subplots(nrows=1, ncols=2, figsize=(20, 5))\n",
    "fig.suptitle('QQ PLOTS',color= \"black\", weight='bold',fontname=\"Times New Roman\",fontsize=14)\n",
    "\n",
    "fig = sm.qqplot(scotland[2016.00], line='45' ,fit = True, ax=ax[0])\n",
    "ax[0].set_title('Scotland')\n",
    "fig = sm.qqplot(Ireland_avg_house['Average household size'],fit = True, line='45' , ax=ax[1])\n",
    "ax[1].set_title('Ireland')"
   ]
  },
  {
   "cell_type": "code",
   "execution_count": 142,
   "metadata": {},
   "outputs": [
    {
     "name": "stdout",
     "output_type": "stream",
     "text": [
      "Ireland p value: 0.07477682083845139\n",
      "Ireland stat value: 0.9498233795166016\n",
      "Ireland p value: 0.054151393473148346\n",
      "Ireland stat value: 0.9350242018699646\n"
     ]
    }
   ],
   "source": [
    "from scipy.stats import shapiro\n",
    "stat, p = shapiro(Ireland_avg_house['Average household size'])\n",
    "print('Ireland p value: ' + str(p))\n",
    "print('Ireland stat value: ' + str(stat))\n",
    "\n",
    "stat, p = shapiro(scotland[2016.00])\n",
    "print('Ireland p value: ' + str(p))\n",
    "print('Ireland stat value: ' + str(stat))"
   ]
  },
  {
   "attachments": {},
   "cell_type": "markdown",
   "metadata": {},
   "source": [
    "both p values are greater than 0.05, data is considered normal"
   ]
  },
  {
   "attachments": {},
   "cell_type": "markdown",
   "metadata": {},
   "source": [
    "#### Levene test"
   ]
  },
  {
   "cell_type": "code",
   "execution_count": 143,
   "metadata": {},
   "outputs": [
    {
     "name": "stdout",
     "output_type": "stream",
     "text": [
      "Levene test p: 0.03858459942228186\n"
     ]
    }
   ],
   "source": [
    "from scipy.stats import levene\n",
    "stat, p = levene(Ireland_avg_house['Average household size'], scotland[2016.00])\n",
    "print( f'Levene test p: {p}')"
   ]
  },
  {
   "attachments": {},
   "cell_type": "markdown",
   "metadata": {},
   "source": [
    "there is a Significant difference between the variances so we're going for non parametric test"
   ]
  },
  {
   "attachments": {},
   "cell_type": "markdown",
   "metadata": {},
   "source": [
    "H0: median of averages scotland = median of averages Ireland\n",
    "\n",
    "H1: median of averages people per household is different between ireland and scotland"
   ]
  },
  {
   "cell_type": "code",
   "execution_count": 144,
   "metadata": {},
   "outputs": [
    {
     "data": {
      "text/plain": [
       "MannwhitneyuResult(statistic=1266.0, pvalue=1.3456151330532647e-12)"
      ]
     },
     "execution_count": 144,
     "metadata": {},
     "output_type": "execute_result"
    }
   ],
   "source": [
    "from scipy import stats\n",
    "stats.mannwhitneyu(Ireland_avg_house['Average household size'],scotland[2016.00])"
   ]
  },
  {
   "attachments": {},
   "cell_type": "markdown",
   "metadata": {},
   "source": [
    "We reject H0: there's a significanctly difference between the average people in household per macro region between Ireland and Scotland"
   ]
  },
  {
   "attachments": {},
   "cell_type": "markdown",
   "metadata": {},
   "source": [
    "## Tims Serie analysis"
   ]
  },
  {
   "cell_type": "code",
   "execution_count": 145,
   "metadata": {},
   "outputs": [
    {
     "name": "stderr",
     "output_type": "stream",
     "text": [
      "C:\\Users\\santi\\AppData\\Local\\Temp\\ipykernel_11676\\4218614081.py:1: DtypeWarning: Columns (3,8) have mixed types. Specify dtype option on import or set low_memory=False.\n",
      "  Data = pd.read_csv('C:\\\\Users\\\\santi\\\\OneDrive\\\\Desktop\\\\PPR-ALL.csv',encoding= 'unicode_escape' )\n"
     ]
    },
    {
     "data": {
      "text/html": [
       "<div>\n",
       "<style scoped>\n",
       "    .dataframe tbody tr th:only-of-type {\n",
       "        vertical-align: middle;\n",
       "    }\n",
       "\n",
       "    .dataframe tbody tr th {\n",
       "        vertical-align: top;\n",
       "    }\n",
       "\n",
       "    .dataframe thead th {\n",
       "        text-align: right;\n",
       "    }\n",
       "</style>\n",
       "<table border=\"1\" class=\"dataframe\">\n",
       "  <thead>\n",
       "    <tr style=\"text-align: right;\">\n",
       "      <th></th>\n",
       "      <th>Date of Sale (dd/mm/yyyy)</th>\n",
       "      <th>Address</th>\n",
       "      <th>County</th>\n",
       "      <th>Eircode</th>\n",
       "      <th>Price ()</th>\n",
       "      <th>Not Full Market Price</th>\n",
       "      <th>VAT Exclusive</th>\n",
       "      <th>Description of Property</th>\n",
       "      <th>Property Size Description</th>\n",
       "    </tr>\n",
       "  </thead>\n",
       "  <tbody>\n",
       "    <tr>\n",
       "      <th>0</th>\n",
       "      <td>01/01/2010</td>\n",
       "      <td>5 Braemor Drive, Churchtown, Co.Dublin</td>\n",
       "      <td>Dublin</td>\n",
       "      <td>NaN</td>\n",
       "      <td>343,000.00</td>\n",
       "      <td>No</td>\n",
       "      <td>No</td>\n",
       "      <td>Second-Hand Dwelling house /Apartment</td>\n",
       "      <td>NaN</td>\n",
       "    </tr>\n",
       "    <tr>\n",
       "      <th>1</th>\n",
       "      <td>03/01/2010</td>\n",
       "      <td>134 Ashewood Walk, Summerhill Lane, Portlaoise</td>\n",
       "      <td>Laois</td>\n",
       "      <td>NaN</td>\n",
       "      <td>185,000.00</td>\n",
       "      <td>No</td>\n",
       "      <td>Yes</td>\n",
       "      <td>New Dwelling house /Apartment</td>\n",
       "      <td>greater than or equal to 38 sq metres and less...</td>\n",
       "    </tr>\n",
       "    <tr>\n",
       "      <th>2</th>\n",
       "      <td>04/01/2010</td>\n",
       "      <td>1 Meadow Avenue, Dundrum, Dublin 14</td>\n",
       "      <td>Dublin</td>\n",
       "      <td>NaN</td>\n",
       "      <td>438,500.00</td>\n",
       "      <td>No</td>\n",
       "      <td>No</td>\n",
       "      <td>Second-Hand Dwelling house /Apartment</td>\n",
       "      <td>NaN</td>\n",
       "    </tr>\n",
       "    <tr>\n",
       "      <th>3</th>\n",
       "      <td>04/01/2010</td>\n",
       "      <td>1 The Haven, Mornington</td>\n",
       "      <td>Meath</td>\n",
       "      <td>NaN</td>\n",
       "      <td>400,000.00</td>\n",
       "      <td>No</td>\n",
       "      <td>No</td>\n",
       "      <td>Second-Hand Dwelling house /Apartment</td>\n",
       "      <td>NaN</td>\n",
       "    </tr>\n",
       "    <tr>\n",
       "      <th>4</th>\n",
       "      <td>04/01/2010</td>\n",
       "      <td>11 Melville Heights, Kilkenny</td>\n",
       "      <td>Kilkenny</td>\n",
       "      <td>NaN</td>\n",
       "      <td>160,000.00</td>\n",
       "      <td>No</td>\n",
       "      <td>No</td>\n",
       "      <td>Second-Hand Dwelling house /Apartment</td>\n",
       "      <td>NaN</td>\n",
       "    </tr>\n",
       "  </tbody>\n",
       "</table>\n",
       "</div>"
      ],
      "text/plain": [
       "  Date of Sale (dd/mm/yyyy)                                         Address  \\\n",
       "0                01/01/2010          5 Braemor Drive, Churchtown, Co.Dublin   \n",
       "1                03/01/2010  134 Ashewood Walk, Summerhill Lane, Portlaoise   \n",
       "2                04/01/2010             1 Meadow Avenue, Dundrum, Dublin 14   \n",
       "3                04/01/2010                         1 The Haven, Mornington   \n",
       "4                04/01/2010                   11 Melville Heights, Kilkenny   \n",
       "\n",
       "     County Eircode    Price () Not Full Market Price VAT Exclusive  \\\n",
       "0    Dublin     NaN  343,000.00                    No            No   \n",
       "1     Laois     NaN  185,000.00                    No           Yes   \n",
       "2    Dublin     NaN  438,500.00                    No            No   \n",
       "3     Meath     NaN  400,000.00                    No            No   \n",
       "4  Kilkenny     NaN  160,000.00                    No            No   \n",
       "\n",
       "                 Description of Property  \\\n",
       "0  Second-Hand Dwelling house /Apartment   \n",
       "1          New Dwelling house /Apartment   \n",
       "2  Second-Hand Dwelling house /Apartment   \n",
       "3  Second-Hand Dwelling house /Apartment   \n",
       "4  Second-Hand Dwelling house /Apartment   \n",
       "\n",
       "                           Property Size Description  \n",
       "0                                                NaN  \n",
       "1  greater than or equal to 38 sq metres and less...  \n",
       "2                                                NaN  \n",
       "3                                                NaN  \n",
       "4                                                NaN  "
      ]
     },
     "execution_count": 145,
     "metadata": {},
     "output_type": "execute_result"
    }
   ],
   "source": [
    "Data = pd.read_csv('C:\\\\Users\\\\santi\\\\OneDrive\\\\Desktop\\\\PPR-ALL.csv',encoding= 'unicode_escape' )\n",
    "Data.head()"
   ]
  },
  {
   "attachments": {},
   "cell_type": "markdown",
   "metadata": {},
   "source": [
    "dataset is here:  https://www.propertypriceregister.ie/"
   ]
  },
  {
   "cell_type": "code",
   "execution_count": 146,
   "metadata": {},
   "outputs": [
    {
     "data": {
      "text/plain": [
       "Date of Sale (dd/mm/yyyy)         0\n",
       "Address                           0\n",
       "County                            0\n",
       "Eircode                      504949\n",
       "Price ()                         0\n",
       "Not Full Market Price             0\n",
       "VAT Exclusive                     0\n",
       "Description of Property           0\n",
       "Property Size Description    543712\n",
       "dtype: int64"
      ]
     },
     "execution_count": 146,
     "metadata": {},
     "output_type": "execute_result"
    }
   ],
   "source": [
    "Data.isna().sum()"
   ]
  },
  {
   "cell_type": "code",
   "execution_count": 147,
   "metadata": {},
   "outputs": [
    {
     "data": {
      "text/plain": [
       "(595678, 9)"
      ]
     },
     "execution_count": 147,
     "metadata": {},
     "output_type": "execute_result"
    }
   ],
   "source": [
    "Data = Data.drop_duplicates()\n",
    "Data.shape"
   ]
  },
  {
   "cell_type": "code",
   "execution_count": 148,
   "metadata": {},
   "outputs": [
    {
     "name": "stderr",
     "output_type": "stream",
     "text": [
      "C:\\Users\\santi\\AppData\\Local\\Temp\\ipykernel_11676\\4291516210.py:1: DtypeWarning: Columns (3,8) have mixed types. Specify dtype option on import or set low_memory=False.\n",
      "  Data = pd.read_csv('C:\\\\Users\\\\santi\\\\OneDrive\\\\Desktop\\\\PPR-ALL.csv', encoding='unicode_escape')\n",
      "C:\\Users\\santi\\AppData\\Local\\Temp\\ipykernel_11676\\4291516210.py:3: UserWarning: Parsing dates in DD/MM/YYYY format when dayfirst=False (the default) was specified. This may lead to inconsistently parsed dates! Specify a format to ensure consistent parsing.\n",
      "  Data_1['Date of Sale (dd/mm/yyyy)'] = pd.to_datetime(Data_1['Date of Sale (dd/mm/yyyy)'])\n"
     ]
    },
    {
     "data": {
      "text/html": [
       "<div>\n",
       "<style scoped>\n",
       "    .dataframe tbody tr th:only-of-type {\n",
       "        vertical-align: middle;\n",
       "    }\n",
       "\n",
       "    .dataframe tbody tr th {\n",
       "        vertical-align: top;\n",
       "    }\n",
       "\n",
       "    .dataframe thead th {\n",
       "        text-align: right;\n",
       "    }\n",
       "</style>\n",
       "<table border=\"1\" class=\"dataframe\">\n",
       "  <thead>\n",
       "    <tr style=\"text-align: right;\">\n",
       "      <th>County</th>\n",
       "      <th>Carlow</th>\n",
       "      <th>Cavan</th>\n",
       "      <th>Clare</th>\n",
       "      <th>Cork</th>\n",
       "      <th>Donegal</th>\n",
       "      <th>Dublin</th>\n",
       "      <th>Galway</th>\n",
       "      <th>Kerry</th>\n",
       "      <th>Kildare</th>\n",
       "      <th>Kilkenny</th>\n",
       "      <th>...</th>\n",
       "      <th>Monaghan</th>\n",
       "      <th>Offaly</th>\n",
       "      <th>Roscommon</th>\n",
       "      <th>Sligo</th>\n",
       "      <th>Tipperary</th>\n",
       "      <th>Waterford</th>\n",
       "      <th>Westmeath</th>\n",
       "      <th>Wexford</th>\n",
       "      <th>Wicklow</th>\n",
       "      <th>total</th>\n",
       "    </tr>\n",
       "    <tr>\n",
       "      <th>Date of Sale (dd/mm/yyyy)</th>\n",
       "      <th></th>\n",
       "      <th></th>\n",
       "      <th></th>\n",
       "      <th></th>\n",
       "      <th></th>\n",
       "      <th></th>\n",
       "      <th></th>\n",
       "      <th></th>\n",
       "      <th></th>\n",
       "      <th></th>\n",
       "      <th></th>\n",
       "      <th></th>\n",
       "      <th></th>\n",
       "      <th></th>\n",
       "      <th></th>\n",
       "      <th></th>\n",
       "      <th></th>\n",
       "      <th></th>\n",
       "      <th></th>\n",
       "      <th></th>\n",
       "      <th></th>\n",
       "    </tr>\n",
       "  </thead>\n",
       "  <tbody>\n",
       "    <tr>\n",
       "      <th>2010-01-01</th>\n",
       "      <td>0.0</td>\n",
       "      <td>0.0</td>\n",
       "      <td>0.0</td>\n",
       "      <td>0.0</td>\n",
       "      <td>0.0</td>\n",
       "      <td>1.0</td>\n",
       "      <td>0.0</td>\n",
       "      <td>0.0</td>\n",
       "      <td>0.0</td>\n",
       "      <td>0.0</td>\n",
       "      <td>...</td>\n",
       "      <td>0.0</td>\n",
       "      <td>0.0</td>\n",
       "      <td>0.0</td>\n",
       "      <td>0.0</td>\n",
       "      <td>0.0</td>\n",
       "      <td>0.0</td>\n",
       "      <td>0.0</td>\n",
       "      <td>0.0</td>\n",
       "      <td>0.0</td>\n",
       "      <td>1.0</td>\n",
       "    </tr>\n",
       "    <tr>\n",
       "      <th>2010-01-02</th>\n",
       "      <td>0.0</td>\n",
       "      <td>0.0</td>\n",
       "      <td>1.0</td>\n",
       "      <td>7.0</td>\n",
       "      <td>2.0</td>\n",
       "      <td>21.0</td>\n",
       "      <td>3.0</td>\n",
       "      <td>1.0</td>\n",
       "      <td>3.0</td>\n",
       "      <td>3.0</td>\n",
       "      <td>...</td>\n",
       "      <td>1.0</td>\n",
       "      <td>2.0</td>\n",
       "      <td>0.0</td>\n",
       "      <td>0.0</td>\n",
       "      <td>1.0</td>\n",
       "      <td>3.0</td>\n",
       "      <td>1.0</td>\n",
       "      <td>1.0</td>\n",
       "      <td>0.0</td>\n",
       "      <td>57.0</td>\n",
       "    </tr>\n",
       "    <tr>\n",
       "      <th>2010-01-03</th>\n",
       "      <td>0.0</td>\n",
       "      <td>0.0</td>\n",
       "      <td>0.0</td>\n",
       "      <td>11.0</td>\n",
       "      <td>2.0</td>\n",
       "      <td>24.0</td>\n",
       "      <td>3.0</td>\n",
       "      <td>2.0</td>\n",
       "      <td>2.0</td>\n",
       "      <td>2.0</td>\n",
       "      <td>...</td>\n",
       "      <td>0.0</td>\n",
       "      <td>1.0</td>\n",
       "      <td>0.0</td>\n",
       "      <td>1.0</td>\n",
       "      <td>2.0</td>\n",
       "      <td>2.0</td>\n",
       "      <td>1.0</td>\n",
       "      <td>1.0</td>\n",
       "      <td>3.0</td>\n",
       "      <td>70.0</td>\n",
       "    </tr>\n",
       "    <tr>\n",
       "      <th>2010-01-04</th>\n",
       "      <td>1.0</td>\n",
       "      <td>1.0</td>\n",
       "      <td>1.0</td>\n",
       "      <td>13.0</td>\n",
       "      <td>4.0</td>\n",
       "      <td>47.0</td>\n",
       "      <td>9.0</td>\n",
       "      <td>3.0</td>\n",
       "      <td>6.0</td>\n",
       "      <td>2.0</td>\n",
       "      <td>...</td>\n",
       "      <td>1.0</td>\n",
       "      <td>1.0</td>\n",
       "      <td>0.0</td>\n",
       "      <td>3.0</td>\n",
       "      <td>3.0</td>\n",
       "      <td>3.0</td>\n",
       "      <td>5.0</td>\n",
       "      <td>3.0</td>\n",
       "      <td>3.0</td>\n",
       "      <td>123.0</td>\n",
       "    </tr>\n",
       "    <tr>\n",
       "      <th>2010-01-05</th>\n",
       "      <td>0.0</td>\n",
       "      <td>0.0</td>\n",
       "      <td>0.0</td>\n",
       "      <td>1.0</td>\n",
       "      <td>0.0</td>\n",
       "      <td>0.0</td>\n",
       "      <td>0.0</td>\n",
       "      <td>0.0</td>\n",
       "      <td>0.0</td>\n",
       "      <td>0.0</td>\n",
       "      <td>...</td>\n",
       "      <td>0.0</td>\n",
       "      <td>0.0</td>\n",
       "      <td>0.0</td>\n",
       "      <td>0.0</td>\n",
       "      <td>0.0</td>\n",
       "      <td>0.0</td>\n",
       "      <td>0.0</td>\n",
       "      <td>0.0</td>\n",
       "      <td>1.0</td>\n",
       "      <td>2.0</td>\n",
       "    </tr>\n",
       "  </tbody>\n",
       "</table>\n",
       "<p>5 rows × 27 columns</p>\n",
       "</div>"
      ],
      "text/plain": [
       "County                     Carlow  Cavan  Clare  Cork  Donegal  Dublin  \\\n",
       "Date of Sale (dd/mm/yyyy)                                                \n",
       "2010-01-01                    0.0    0.0    0.0   0.0      0.0     1.0   \n",
       "2010-01-02                    0.0    0.0    1.0   7.0      2.0    21.0   \n",
       "2010-01-03                    0.0    0.0    0.0  11.0      2.0    24.0   \n",
       "2010-01-04                    1.0    1.0    1.0  13.0      4.0    47.0   \n",
       "2010-01-05                    0.0    0.0    0.0   1.0      0.0     0.0   \n",
       "\n",
       "County                     Galway  Kerry  Kildare  Kilkenny  ...  Monaghan  \\\n",
       "Date of Sale (dd/mm/yyyy)                                    ...             \n",
       "2010-01-01                    0.0    0.0      0.0       0.0  ...       0.0   \n",
       "2010-01-02                    3.0    1.0      3.0       3.0  ...       1.0   \n",
       "2010-01-03                    3.0    2.0      2.0       2.0  ...       0.0   \n",
       "2010-01-04                    9.0    3.0      6.0       2.0  ...       1.0   \n",
       "2010-01-05                    0.0    0.0      0.0       0.0  ...       0.0   \n",
       "\n",
       "County                     Offaly  Roscommon  Sligo  Tipperary  Waterford  \\\n",
       "Date of Sale (dd/mm/yyyy)                                                   \n",
       "2010-01-01                    0.0        0.0    0.0        0.0        0.0   \n",
       "2010-01-02                    2.0        0.0    0.0        1.0        3.0   \n",
       "2010-01-03                    1.0        0.0    1.0        2.0        2.0   \n",
       "2010-01-04                    1.0        0.0    3.0        3.0        3.0   \n",
       "2010-01-05                    0.0        0.0    0.0        0.0        0.0   \n",
       "\n",
       "County                     Westmeath  Wexford  Wicklow  total  \n",
       "Date of Sale (dd/mm/yyyy)                                      \n",
       "2010-01-01                       0.0      0.0      0.0    1.0  \n",
       "2010-01-02                       1.0      1.0      0.0   57.0  \n",
       "2010-01-03                       1.0      1.0      3.0   70.0  \n",
       "2010-01-04                       5.0      3.0      3.0  123.0  \n",
       "2010-01-05                       0.0      0.0      1.0    2.0  \n",
       "\n",
       "[5 rows x 27 columns]"
      ]
     },
     "execution_count": 148,
     "metadata": {},
     "output_type": "execute_result"
    }
   ],
   "source": [
    "Data = pd.read_csv('C:\\\\Users\\\\santi\\\\OneDrive\\\\Desktop\\\\PPR-ALL.csv', encoding='unicode_escape')\n",
    "Data_1 = Data.groupby(['Date of Sale (dd/mm/yyyy)', 'County'])['Address'].agg('count').reset_index()\n",
    "Data_1['Date of Sale (dd/mm/yyyy)'] = pd.to_datetime(Data_1['Date of Sale (dd/mm/yyyy)'])\n",
    "Data_1 = Data_1.sort_values(by='Date of Sale (dd/mm/yyyy)')\n",
    "Data_1 = Data_1.pivot_table(index='Date of Sale (dd/mm/yyyy)', columns='County', values='Address')\n",
    "Data_1 = Data_1.fillna(0)\n",
    "Data_1['total'] = Data_1.sum(axis=1)\n",
    "Data_Horizontal = Data_1\n",
    "Data_Horizontal.head()"
   ]
  },
  {
   "cell_type": "code",
   "execution_count": 149,
   "metadata": {},
   "outputs": [
    {
     "data": {
      "text/html": [
       "<div>\n",
       "<style scoped>\n",
       "    .dataframe tbody tr th:only-of-type {\n",
       "        vertical-align: middle;\n",
       "    }\n",
       "\n",
       "    .dataframe tbody tr th {\n",
       "        vertical-align: top;\n",
       "    }\n",
       "\n",
       "    .dataframe thead th {\n",
       "        text-align: right;\n",
       "    }\n",
       "</style>\n",
       "<table border=\"1\" class=\"dataframe\">\n",
       "  <thead>\n",
       "    <tr style=\"text-align: right;\">\n",
       "      <th></th>\n",
       "      <th>county</th>\n",
       "      <th># property</th>\n",
       "    </tr>\n",
       "    <tr>\n",
       "      <th>Date of Sale (dd/mm/yyyy)</th>\n",
       "      <th></th>\n",
       "      <th></th>\n",
       "    </tr>\n",
       "  </thead>\n",
       "  <tbody>\n",
       "    <tr>\n",
       "      <th>2010-01-01</th>\n",
       "      <td>Carlow</td>\n",
       "      <td>0.0</td>\n",
       "    </tr>\n",
       "    <tr>\n",
       "      <th>2010-01-02</th>\n",
       "      <td>Carlow</td>\n",
       "      <td>0.0</td>\n",
       "    </tr>\n",
       "    <tr>\n",
       "      <th>2010-01-03</th>\n",
       "      <td>Carlow</td>\n",
       "      <td>0.0</td>\n",
       "    </tr>\n",
       "    <tr>\n",
       "      <th>2010-01-04</th>\n",
       "      <td>Carlow</td>\n",
       "      <td>1.0</td>\n",
       "    </tr>\n",
       "    <tr>\n",
       "      <th>2010-01-05</th>\n",
       "      <td>Carlow</td>\n",
       "      <td>0.0</td>\n",
       "    </tr>\n",
       "  </tbody>\n",
       "</table>\n",
       "</div>"
      ],
      "text/plain": [
       "                           county  # property\n",
       "Date of Sale (dd/mm/yyyy)                    \n",
       "2010-01-01                 Carlow         0.0\n",
       "2010-01-02                 Carlow         0.0\n",
       "2010-01-03                 Carlow         0.0\n",
       "2010-01-04                 Carlow         1.0\n",
       "2010-01-05                 Carlow         0.0"
      ]
     },
     "execution_count": 149,
     "metadata": {},
     "output_type": "execute_result"
    }
   ],
   "source": [
    "Data_vertical =  Data_Horizontal.melt(var_name='county', value_name='# property', ignore_index = False)\n",
    "Data_vertical.head()"
   ]
  },
  {
   "cell_type": "code",
   "execution_count": 150,
   "metadata": {},
   "outputs": [
    {
     "data": {
      "text/html": [
       "<div>\n",
       "<style scoped>\n",
       "    .dataframe tbody tr th:only-of-type {\n",
       "        vertical-align: middle;\n",
       "    }\n",
       "\n",
       "    .dataframe tbody tr th {\n",
       "        vertical-align: top;\n",
       "    }\n",
       "\n",
       "    .dataframe thead th {\n",
       "        text-align: right;\n",
       "    }\n",
       "</style>\n",
       "<table border=\"1\" class=\"dataframe\">\n",
       "  <thead>\n",
       "    <tr style=\"text-align: right;\">\n",
       "      <th></th>\n",
       "      <th>Date of Sale (dd/mm/yyyy)</th>\n",
       "      <th>county</th>\n",
       "      <th># property</th>\n",
       "    </tr>\n",
       "  </thead>\n",
       "  <tbody>\n",
       "    <tr>\n",
       "      <th>119730</th>\n",
       "      <td>2010-01-01</td>\n",
       "      <td>total</td>\n",
       "      <td>1.0</td>\n",
       "    </tr>\n",
       "    <tr>\n",
       "      <th>119731</th>\n",
       "      <td>2010-01-02</td>\n",
       "      <td>total</td>\n",
       "      <td>57.0</td>\n",
       "    </tr>\n",
       "    <tr>\n",
       "      <th>119732</th>\n",
       "      <td>2010-01-03</td>\n",
       "      <td>total</td>\n",
       "      <td>70.0</td>\n",
       "    </tr>\n",
       "    <tr>\n",
       "      <th>119733</th>\n",
       "      <td>2010-01-04</td>\n",
       "      <td>total</td>\n",
       "      <td>123.0</td>\n",
       "    </tr>\n",
       "    <tr>\n",
       "      <th>119734</th>\n",
       "      <td>2010-01-05</td>\n",
       "      <td>total</td>\n",
       "      <td>2.0</td>\n",
       "    </tr>\n",
       "  </tbody>\n",
       "</table>\n",
       "</div>"
      ],
      "text/plain": [
       "       Date of Sale (dd/mm/yyyy) county  # property\n",
       "119730                2010-01-01  total         1.0\n",
       "119731                2010-01-02  total        57.0\n",
       "119732                2010-01-03  total        70.0\n",
       "119733                2010-01-04  total       123.0\n",
       "119734                2010-01-05  total         2.0"
      ]
     },
     "execution_count": 150,
     "metadata": {},
     "output_type": "execute_result"
    }
   ],
   "source": [
    "Total = Data_vertical.reset_index()\n",
    "Total = Total[Total['county']=='total']\n",
    "Total.head()"
   ]
  },
  {
   "cell_type": "code",
   "execution_count": 151,
   "metadata": {},
   "outputs": [
    {
     "name": "stdout",
     "output_type": "stream",
     "text": [
      "<class 'pandas.core.frame.DataFrame'>\n",
      "Int64Index: 4605 entries, 119730 to 124334\n",
      "Data columns (total 3 columns):\n",
      " #   Column                     Non-Null Count  Dtype         \n",
      "---  ------                     --------------  -----         \n",
      " 0   Date of Sale (dd/mm/yyyy)  4605 non-null   datetime64[ns]\n",
      " 1   county                     4605 non-null   object        \n",
      " 2   # property                 4605 non-null   float64       \n",
      "dtypes: datetime64[ns](1), float64(1), object(1)\n",
      "memory usage: 143.9+ KB\n"
     ]
    }
   ],
   "source": [
    "Total.info()\n",
    "_date = '2023-01-01'\n",
    "Total = Total[Total['Date of Sale (dd/mm/yyyy)'] < _date]"
   ]
  },
  {
   "cell_type": "code",
   "execution_count": 152,
   "metadata": {},
   "outputs": [
    {
     "data": {
      "text/plain": [
       "<AxesSubplot:xlabel='Date of Sale (dd/mm/yyyy)', ylabel='# property'>"
      ]
     },
     "execution_count": 152,
     "metadata": {},
     "output_type": "execute_result"
    },
    {
     "data": {
      "image/png": "[encoded data removed]",
      "text/plain": [
       "<Figure size 1000x500 with 1 Axes>"
      ]
     },
     "metadata": {},
     "output_type": "display_data"
    }
   ],
   "source": [
    "rolling_window= 5\n",
    "sns.lineplot(x=Total['Date of Sale (dd/mm/yyyy)'], y=Total['# property'], color='dodgerblue')\n",
    "sns.lineplot(x=Total['Date of Sale (dd/mm/yyyy)'], y=Total['# property'].rolling(52).mean(),  color='black', label='rolling mean')"
   ]
  },
  {
   "cell_type": "code",
   "execution_count": 153,
   "metadata": {},
   "outputs": [
    {
     "name": "stdout",
     "output_type": "stream",
     "text": [
      "(-4.929160459066553, 3.0591830326641223e-05, 32, 4461, {'1%': -3.4318167264794774, '5%': -2.862188117266657, '10%': -2.567114996565668}, 54394.873465119425)\n"
     ]
    }
   ],
   "source": [
    "from statsmodels.tsa.stattools import adfuller\n",
    "\n",
    "result = adfuller(Total['# property'].values)\n",
    "print(result)\n"
   ]
  },
  {
   "attachments": {},
   "cell_type": "markdown",
   "metadata": {},
   "source": [
    "H0 : time serie is stationary\n",
    "\n",
    "H1 : time serie is not stationary\n",
    "\n",
    "p = 0.05"
   ]
  },
  {
   "attachments": {},
   "cell_type": "markdown",
   "metadata": {},
   "source": [
    "In the results, we can see that the p-value obtained from the test is less than 0.05 so we are going to reject the null hypothesis “Time series is stationary”, that means the time series is non-stationary.\n",
    "\n",
    "Since data needs to be stationary: log transformation"
   ]
  },
  {
   "cell_type": "code",
   "execution_count": 154,
   "metadata": {},
   "outputs": [],
   "source": [
    "Total['_property_log'] = np.log(abs(Total['# property']))"
   ]
  },
  {
   "attachments": {},
   "cell_type": "markdown",
   "metadata": {},
   "source": [
    "## Feature engineering"
   ]
  },
  {
   "cell_type": "code",
   "execution_count": 155,
   "metadata": {},
   "outputs": [
    {
     "name": "stderr",
     "output_type": "stream",
     "text": [
      "C:\\Users\\santi\\AppData\\Local\\Temp\\ipykernel_11676\\3025751641.py:5: FutureWarning: weekofyear and week have been deprecated, please use DatetimeIndex.isocalendar().week instead, which returns a Series. To exactly reproduce the behavior of week and weekofyear and return an Index, you may call pd.Int64Index(idx.isocalendar().week)\n",
      "  Total['week_of_year'] = pd.DatetimeIndex(Total['Date of Sale (dd/mm/yyyy)']).weekofyear\n"
     ]
    },
    {
     "data": {
      "text/html": [
       "<div>\n",
       "<style scoped>\n",
       "    .dataframe tbody tr th:only-of-type {\n",
       "        vertical-align: middle;\n",
       "    }\n",
       "\n",
       "    .dataframe tbody tr th {\n",
       "        vertical-align: top;\n",
       "    }\n",
       "\n",
       "    .dataframe thead th {\n",
       "        text-align: right;\n",
       "    }\n",
       "</style>\n",
       "<table border=\"1\" class=\"dataframe\">\n",
       "  <thead>\n",
       "    <tr style=\"text-align: right;\">\n",
       "      <th></th>\n",
       "      <th>Date of Sale (dd/mm/yyyy)</th>\n",
       "      <th>county</th>\n",
       "      <th># property</th>\n",
       "      <th>_property_log</th>\n",
       "      <th>year</th>\n",
       "      <th>month</th>\n",
       "      <th>day</th>\n",
       "      <th>day_of_year</th>\n",
       "      <th>week_of_year</th>\n",
       "      <th>quarter</th>\n",
       "    </tr>\n",
       "  </thead>\n",
       "  <tbody>\n",
       "    <tr>\n",
       "      <th>119730</th>\n",
       "      <td>2010-01-01</td>\n",
       "      <td>total</td>\n",
       "      <td>1.0</td>\n",
       "      <td>0.0</td>\n",
       "      <td>2010</td>\n",
       "      <td>1</td>\n",
       "      <td>1</td>\n",
       "      <td>1</td>\n",
       "      <td>53</td>\n",
       "      <td>1</td>\n",
       "    </tr>\n",
       "  </tbody>\n",
       "</table>\n",
       "</div>"
      ],
      "text/plain": [
       "       Date of Sale (dd/mm/yyyy) county  # property  _property_log  year  \\\n",
       "119730                2010-01-01  total         1.0            0.0  2010   \n",
       "\n",
       "        month  day  day_of_year  week_of_year  quarter  \n",
       "119730      1    1            1            53        1  "
      ]
     },
     "execution_count": 155,
     "metadata": {},
     "output_type": "execute_result"
    }
   ],
   "source": [
    "Total['year'] = pd.DatetimeIndex(Total['Date of Sale (dd/mm/yyyy)']).year\n",
    "Total['month'] = pd.DatetimeIndex(Total['Date of Sale (dd/mm/yyyy)']).month\n",
    "Total['day'] = pd.DatetimeIndex(Total['Date of Sale (dd/mm/yyyy)']).day\n",
    "Total['day_of_year'] = pd.DatetimeIndex(Total['Date of Sale (dd/mm/yyyy)']).dayofyear\n",
    "Total['week_of_year'] = pd.DatetimeIndex(Total['Date of Sale (dd/mm/yyyy)']).weekofyear\n",
    "Total['quarter'] = pd.DatetimeIndex(Total['Date of Sale (dd/mm/yyyy)']).quarter\n",
    "Total.head(1)"
   ]
  },
  {
   "attachments": {},
   "cell_type": "markdown",
   "metadata": {},
   "source": [
    "sin and cos on month??"
   ]
  },
  {
   "cell_type": "code",
   "execution_count": 156,
   "metadata": {},
   "outputs": [],
   "source": [
    "from statsmodels.tsa.seasonal import seasonal_decompose\n",
    "\n",
    "\n",
    "decomp = seasonal_decompose(Total['_property_log'], period=52, model='additive', extrapolate_trend='freq')\n",
    "Total[\"property trend\"] = decomp.trend\n",
    "Total[\"property seasonal\"] = decomp.seasonal"
   ]
  },
  {
   "cell_type": "code",
   "execution_count": 157,
   "metadata": {},
   "outputs": [
    {
     "data": {
      "text/html": [
       "<div>\n",
       "<style scoped>\n",
       "    .dataframe tbody tr th:only-of-type {\n",
       "        vertical-align: middle;\n",
       "    }\n",
       "\n",
       "    .dataframe tbody tr th {\n",
       "        vertical-align: top;\n",
       "    }\n",
       "\n",
       "    .dataframe thead th {\n",
       "        text-align: right;\n",
       "    }\n",
       "</style>\n",
       "<table border=\"1\" class=\"dataframe\">\n",
       "  <thead>\n",
       "    <tr style=\"text-align: right;\">\n",
       "      <th></th>\n",
       "      <th>Date of Sale (dd/mm/yyyy)</th>\n",
       "      <th>county</th>\n",
       "      <th># property</th>\n",
       "      <th>_property_log</th>\n",
       "      <th>year</th>\n",
       "      <th>month</th>\n",
       "      <th>day</th>\n",
       "      <th>day_of_year</th>\n",
       "      <th>week_of_year</th>\n",
       "      <th>quarter</th>\n",
       "      <th>property trend</th>\n",
       "      <th>property seasonal</th>\n",
       "    </tr>\n",
       "  </thead>\n",
       "  <tbody>\n",
       "    <tr>\n",
       "      <th>119730</th>\n",
       "      <td>2010-01-01</td>\n",
       "      <td>total</td>\n",
       "      <td>1.0</td>\n",
       "      <td>0.000000</td>\n",
       "      <td>2010</td>\n",
       "      <td>1</td>\n",
       "      <td>1</td>\n",
       "      <td>1</td>\n",
       "      <td>53</td>\n",
       "      <td>1</td>\n",
       "      <td>2.875679</td>\n",
       "      <td>0.220300</td>\n",
       "    </tr>\n",
       "    <tr>\n",
       "      <th>119731</th>\n",
       "      <td>2010-01-02</td>\n",
       "      <td>total</td>\n",
       "      <td>57.0</td>\n",
       "      <td>4.043051</td>\n",
       "      <td>2010</td>\n",
       "      <td>1</td>\n",
       "      <td>2</td>\n",
       "      <td>2</td>\n",
       "      <td>53</td>\n",
       "      <td>1</td>\n",
       "      <td>2.881243</td>\n",
       "      <td>-0.070937</td>\n",
       "    </tr>\n",
       "    <tr>\n",
       "      <th>119732</th>\n",
       "      <td>2010-01-03</td>\n",
       "      <td>total</td>\n",
       "      <td>70.0</td>\n",
       "      <td>4.248495</td>\n",
       "      <td>2010</td>\n",
       "      <td>1</td>\n",
       "      <td>3</td>\n",
       "      <td>3</td>\n",
       "      <td>53</td>\n",
       "      <td>1</td>\n",
       "      <td>2.886808</td>\n",
       "      <td>-0.041414</td>\n",
       "    </tr>\n",
       "    <tr>\n",
       "      <th>119733</th>\n",
       "      <td>2010-01-04</td>\n",
       "      <td>total</td>\n",
       "      <td>123.0</td>\n",
       "      <td>4.812184</td>\n",
       "      <td>2010</td>\n",
       "      <td>1</td>\n",
       "      <td>4</td>\n",
       "      <td>4</td>\n",
       "      <td>1</td>\n",
       "      <td>1</td>\n",
       "      <td>2.892373</td>\n",
       "      <td>-0.101676</td>\n",
       "    </tr>\n",
       "    <tr>\n",
       "      <th>119734</th>\n",
       "      <td>2010-01-05</td>\n",
       "      <td>total</td>\n",
       "      <td>2.0</td>\n",
       "      <td>0.693147</td>\n",
       "      <td>2010</td>\n",
       "      <td>1</td>\n",
       "      <td>5</td>\n",
       "      <td>5</td>\n",
       "      <td>1</td>\n",
       "      <td>1</td>\n",
       "      <td>2.897938</td>\n",
       "      <td>0.382727</td>\n",
       "    </tr>\n",
       "  </tbody>\n",
       "</table>\n",
       "</div>"
      ],
      "text/plain": [
       "       Date of Sale (dd/mm/yyyy) county  # property  _property_log  year  \\\n",
       "119730                2010-01-01  total         1.0       0.000000  2010   \n",
       "119731                2010-01-02  total        57.0       4.043051  2010   \n",
       "119732                2010-01-03  total        70.0       4.248495  2010   \n",
       "119733                2010-01-04  total       123.0       4.812184  2010   \n",
       "119734                2010-01-05  total         2.0       0.693147  2010   \n",
       "\n",
       "        month  day  day_of_year  week_of_year  quarter  property trend  \\\n",
       "119730      1    1            1            53        1        2.875679   \n",
       "119731      1    2            2            53        1        2.881243   \n",
       "119732      1    3            3            53        1        2.886808   \n",
       "119733      1    4            4             1        1        2.892373   \n",
       "119734      1    5            5             1        1        2.897938   \n",
       "\n",
       "        property seasonal  \n",
       "119730           0.220300  \n",
       "119731          -0.070937  \n",
       "119732          -0.041414  \n",
       "119733          -0.101676  \n",
       "119734           0.382727  "
      ]
     },
     "execution_count": 157,
     "metadata": {},
     "output_type": "execute_result"
    }
   ],
   "source": [
    "Total.head()"
   ]
  },
  {
   "cell_type": "code",
   "execution_count": 158,
   "metadata": {},
   "outputs": [
    {
     "data": {
      "image/png": "[encoded data removed]",
      "text/plain": [
       "<Figure size 1000x500 with 1 Axes>"
      ]
     },
     "metadata": {},
     "output_type": "display_data"
    },
    {
     "data": {
      "image/png": "[encoded data removed]",
      "text/plain": [
       "<Figure size 1000x500 with 1 Axes>"
      ]
     },
     "metadata": {},
     "output_type": "display_data"
    }
   ],
   "source": [
    "Total['property seasonal'].plot()\n",
    "plt.show()\n",
    "Total['property trend'].plot()\n",
    "plt.show()\n"
   ]
  },
  {
   "cell_type": "code",
   "execution_count": 160,
   "metadata": {},
   "outputs": [
    {
     "data": {
      "image/png": "[encoded data removed]",
      "text/plain": [
       "<Figure size 1000x500 with 1 Axes>"
      ]
     },
     "metadata": {},
     "output_type": "display_data"
    }
   ],
   "source": [
    "from pandas.plotting import autocorrelation_plot\n",
    "\n",
    "autocorrelation_plot(Total['_property_log'])\n",
    "plt.show()"
   ]
  },
  {
   "cell_type": "code",
   "execution_count": null,
   "metadata": {},
   "outputs": [],
   "source": [
    "from statsmodels.graphics.tsaplots import plot_acf\n",
    "from statsmodels.graphics.tsaplots import plot_pacf\n",
    "\n",
    "f, ax = plt.subplots(nrows=2, ncols=1, figsize=(16, 8))\n",
    "\n",
    "plot_acf(Total['_property_log'], lags=100, ax=ax[0])\n",
    "plot_pacf(Total['_property_log'], lags=100, ax=ax[1])\n",
    "plt.show()"
   ]
  },
  {
   "cell_type": "code",
   "execution_count": 168,
   "metadata": {},
   "outputs": [],
   "source": [
    "#CV\n",
    "\n",
    "from sklearn.model_selection import TimeSeriesSplit\n",
    "\n",
    "N_SPLITS = 5\n",
    "\n",
    "X = Total['Date of Sale (dd/mm/yyyy)']\n",
    "y = Total['_property_log']\n",
    "\n",
    "folds = TimeSeriesSplit(n_splits=N_SPLITS)"
   ]
  },
  {
   "cell_type": "code",
   "execution_count": 172,
   "metadata": {},
   "outputs": [],
   "source": [
    "train_size = int(0.85 * len(Total))\n",
    "test_size = len(Total) - train_size\n",
    "\n",
    "univariate_df = Total[['Date of Sale (dd/mm/yyyy)', '_property_log']].copy()\n",
    "\n",
    "train = univariate_df.iloc[:train_size, :]\n",
    "\n",
    "x_train, y_train = pd.DataFrame(univariate_df.iloc[:train_size, 0]), pd.DataFrame(univariate_df.iloc[:train_size, 1])\n",
    "x_valid, y_valid = pd.DataFrame(univariate_df.iloc[train_size:, 0]), pd.DataFrame(univariate_df.iloc[train_size:, 1])\n"
   ]
  },
  {
   "cell_type": "code",
   "execution_count": 178,
   "metadata": {},
   "outputs": [
    {
     "name": "stderr",
     "output_type": "stream",
     "text": [
      "c:\\Users\\santi\\anaconda3\\lib\\site-packages\\statsmodels\\tsa\\base\\tsa_model.py:471: ValueWarning: An unsupported index was provided and will be ignored when e.g. forecasting.\n",
      "  self._init_dates(dates, freq)\n",
      "c:\\Users\\santi\\anaconda3\\lib\\site-packages\\statsmodels\\tsa\\base\\tsa_model.py:471: ValueWarning: An unsupported index was provided and will be ignored when e.g. forecasting.\n",
      "  self._init_dates(dates, freq)\n",
      "c:\\Users\\santi\\anaconda3\\lib\\site-packages\\statsmodels\\tsa\\base\\tsa_model.py:471: ValueWarning: An unsupported index was provided and will be ignored when e.g. forecasting.\n",
      "  self._init_dates(dates, freq)\n",
      "c:\\Users\\santi\\anaconda3\\lib\\site-packages\\statsmodels\\tsa\\base\\tsa_model.py:834: ValueWarning: No supported index is available. Prediction results will be given with an integer index beginning at `start`.\n",
      "  return get_prediction_index(\n"
     ]
    },
    {
     "ename": "TypeError",
     "evalue": "Expected sequence or array-like, got <class 'float'>",
     "output_type": "error",
     "traceback": [
      "\u001b[1;31m---------------------------------------------------------------------------\u001b[0m",
      "\u001b[1;31mTypeError\u001b[0m                                 Traceback (most recent call last)",
      "Cell \u001b[1;32mIn[178], line 13\u001b[0m\n\u001b[0;32m     10\u001b[0m y_pred, se, conf \u001b[39m=\u001b[39m model_fit\u001b[39m.\u001b[39mforecast(\u001b[39m3\u001b[39m)\n\u001b[0;32m     12\u001b[0m \u001b[39m# Calcuate metrics\u001b[39;00m\n\u001b[1;32m---> 13\u001b[0m score_mae \u001b[39m=\u001b[39m mean_absolute_error(y_valid, y_pred)\n\u001b[0;32m     14\u001b[0m score_rmse \u001b[39m=\u001b[39m math\u001b[39m.\u001b[39msqrt(mean_squared_error(y_valid, y_pred))\n",
      "File \u001b[1;32mc:\\Users\\santi\\anaconda3\\lib\\site-packages\\sklearn\\metrics\\_regression.py:196\u001b[0m, in \u001b[0;36mmean_absolute_error\u001b[1;34m(y_true, y_pred, sample_weight, multioutput)\u001b[0m\n\u001b[0;32m    141\u001b[0m \u001b[39mdef\u001b[39;00m \u001b[39mmean_absolute_error\u001b[39m(\n\u001b[0;32m    142\u001b[0m     y_true, y_pred, \u001b[39m*\u001b[39m, sample_weight\u001b[39m=\u001b[39m\u001b[39mNone\u001b[39;00m, multioutput\u001b[39m=\u001b[39m\u001b[39m\"\u001b[39m\u001b[39muniform_average\u001b[39m\u001b[39m\"\u001b[39m\n\u001b[0;32m    143\u001b[0m ):\n\u001b[0;32m    144\u001b[0m     \u001b[39m\"\"\"Mean absolute error regression loss.\u001b[39;00m\n\u001b[0;32m    145\u001b[0m \n\u001b[0;32m    146\u001b[0m \u001b[39m    Read more in the :ref:`User Guide <mean_absolute_error>`.\u001b[39;00m\n\u001b[1;32m   (...)\u001b[0m\n\u001b[0;32m    194\u001b[0m \u001b[39m    0.85...\u001b[39;00m\n\u001b[0;32m    195\u001b[0m \u001b[39m    \"\"\"\u001b[39;00m\n\u001b[1;32m--> 196\u001b[0m     y_type, y_true, y_pred, multioutput \u001b[39m=\u001b[39m _check_reg_targets(\n\u001b[0;32m    197\u001b[0m         y_true, y_pred, multioutput\n\u001b[0;32m    198\u001b[0m     )\n\u001b[0;32m    199\u001b[0m     check_consistent_length(y_true, y_pred, sample_weight)\n\u001b[0;32m    200\u001b[0m     output_errors \u001b[39m=\u001b[39m np\u001b[39m.\u001b[39maverage(np\u001b[39m.\u001b[39mabs(y_pred \u001b[39m-\u001b[39m y_true), weights\u001b[39m=\u001b[39msample_weight, axis\u001b[39m=\u001b[39m\u001b[39m0\u001b[39m)\n",
      "File \u001b[1;32mc:\\Users\\santi\\anaconda3\\lib\\site-packages\\sklearn\\metrics\\_regression.py:100\u001b[0m, in \u001b[0;36m_check_reg_targets\u001b[1;34m(y_true, y_pred, multioutput, dtype)\u001b[0m\n\u001b[0;32m     66\u001b[0m \u001b[39mdef\u001b[39;00m \u001b[39m_check_reg_targets\u001b[39m(y_true, y_pred, multioutput, dtype\u001b[39m=\u001b[39m\u001b[39m\"\u001b[39m\u001b[39mnumeric\u001b[39m\u001b[39m\"\u001b[39m):\n\u001b[0;32m     67\u001b[0m     \u001b[39m\"\"\"Check that y_true and y_pred belong to the same regression task.\u001b[39;00m\n\u001b[0;32m     68\u001b[0m \n\u001b[0;32m     69\u001b[0m \u001b[39m    Parameters\u001b[39;00m\n\u001b[1;32m   (...)\u001b[0m\n\u001b[0;32m     98\u001b[0m \u001b[39m        correct keyword.\u001b[39;00m\n\u001b[0;32m     99\u001b[0m \u001b[39m    \"\"\"\u001b[39;00m\n\u001b[1;32m--> 100\u001b[0m     check_consistent_length(y_true, y_pred)\n\u001b[0;32m    101\u001b[0m     y_true \u001b[39m=\u001b[39m check_array(y_true, ensure_2d\u001b[39m=\u001b[39m\u001b[39mFalse\u001b[39;00m, dtype\u001b[39m=\u001b[39mdtype)\n\u001b[0;32m    102\u001b[0m     y_pred \u001b[39m=\u001b[39m check_array(y_pred, ensure_2d\u001b[39m=\u001b[39m\u001b[39mFalse\u001b[39;00m, dtype\u001b[39m=\u001b[39mdtype)\n",
      "File \u001b[1;32mc:\\Users\\santi\\anaconda3\\lib\\site-packages\\sklearn\\utils\\validation.py:394\u001b[0m, in \u001b[0;36mcheck_consistent_length\u001b[1;34m(*arrays)\u001b[0m\n\u001b[0;32m    383\u001b[0m \u001b[39mdef\u001b[39;00m \u001b[39mcheck_consistent_length\u001b[39m(\u001b[39m*\u001b[39marrays):\n\u001b[0;32m    384\u001b[0m     \u001b[39m\"\"\"Check that all arrays have consistent first dimensions.\u001b[39;00m\n\u001b[0;32m    385\u001b[0m \n\u001b[0;32m    386\u001b[0m \u001b[39m    Checks whether all objects in arrays have the same shape or length.\u001b[39;00m\n\u001b[1;32m   (...)\u001b[0m\n\u001b[0;32m    391\u001b[0m \u001b[39m        Objects that will be checked for consistent length.\u001b[39;00m\n\u001b[0;32m    392\u001b[0m \u001b[39m    \"\"\"\u001b[39;00m\n\u001b[1;32m--> 394\u001b[0m     lengths \u001b[39m=\u001b[39m [_num_samples(X) \u001b[39mfor\u001b[39;00m X \u001b[39min\u001b[39;00m arrays \u001b[39mif\u001b[39;00m X \u001b[39mis\u001b[39;00m \u001b[39mnot\u001b[39;00m \u001b[39mNone\u001b[39;00m]\n\u001b[0;32m    395\u001b[0m     uniques \u001b[39m=\u001b[39m np\u001b[39m.\u001b[39munique(lengths)\n\u001b[0;32m    396\u001b[0m     \u001b[39mif\u001b[39;00m \u001b[39mlen\u001b[39m(uniques) \u001b[39m>\u001b[39m \u001b[39m1\u001b[39m:\n",
      "File \u001b[1;32mc:\\Users\\santi\\anaconda3\\lib\\site-packages\\sklearn\\utils\\validation.py:394\u001b[0m, in \u001b[0;36m<listcomp>\u001b[1;34m(.0)\u001b[0m\n\u001b[0;32m    383\u001b[0m \u001b[39mdef\u001b[39;00m \u001b[39mcheck_consistent_length\u001b[39m(\u001b[39m*\u001b[39marrays):\n\u001b[0;32m    384\u001b[0m     \u001b[39m\"\"\"Check that all arrays have consistent first dimensions.\u001b[39;00m\n\u001b[0;32m    385\u001b[0m \n\u001b[0;32m    386\u001b[0m \u001b[39m    Checks whether all objects in arrays have the same shape or length.\u001b[39;00m\n\u001b[1;32m   (...)\u001b[0m\n\u001b[0;32m    391\u001b[0m \u001b[39m        Objects that will be checked for consistent length.\u001b[39;00m\n\u001b[0;32m    392\u001b[0m \u001b[39m    \"\"\"\u001b[39;00m\n\u001b[1;32m--> 394\u001b[0m     lengths \u001b[39m=\u001b[39m [_num_samples(X) \u001b[39mfor\u001b[39;00m X \u001b[39min\u001b[39;00m arrays \u001b[39mif\u001b[39;00m X \u001b[39mis\u001b[39;00m \u001b[39mnot\u001b[39;00m \u001b[39mNone\u001b[39;00m]\n\u001b[0;32m    395\u001b[0m     uniques \u001b[39m=\u001b[39m np\u001b[39m.\u001b[39munique(lengths)\n\u001b[0;32m    396\u001b[0m     \u001b[39mif\u001b[39;00m \u001b[39mlen\u001b[39m(uniques) \u001b[39m>\u001b[39m \u001b[39m1\u001b[39m:\n",
      "File \u001b[1;32mc:\\Users\\santi\\anaconda3\\lib\\site-packages\\sklearn\\utils\\validation.py:331\u001b[0m, in \u001b[0;36m_num_samples\u001b[1;34m(x)\u001b[0m\n\u001b[0;32m    329\u001b[0m         x \u001b[39m=\u001b[39m np\u001b[39m.\u001b[39masarray(x)\n\u001b[0;32m    330\u001b[0m     \u001b[39melse\u001b[39;00m:\n\u001b[1;32m--> 331\u001b[0m         \u001b[39mraise\u001b[39;00m \u001b[39mTypeError\u001b[39;00m(message)\n\u001b[0;32m    333\u001b[0m \u001b[39mif\u001b[39;00m \u001b[39mhasattr\u001b[39m(x, \u001b[39m\"\u001b[39m\u001b[39mshape\u001b[39m\u001b[39m\"\u001b[39m) \u001b[39mand\u001b[39;00m x\u001b[39m.\u001b[39mshape \u001b[39mis\u001b[39;00m \u001b[39mnot\u001b[39;00m \u001b[39mNone\u001b[39;00m:\n\u001b[0;32m    334\u001b[0m     \u001b[39mif\u001b[39;00m \u001b[39mlen\u001b[39m(x\u001b[39m.\u001b[39mshape) \u001b[39m==\u001b[39m \u001b[39m0\u001b[39m:\n",
      "\u001b[1;31mTypeError\u001b[0m: Expected sequence or array-like, got <class 'float'>"
     ]
    }
   ],
   "source": [
    "from statsmodels.tsa.arima.model import ARIMA\n",
    "from sklearn.metrics import mean_absolute_error, mean_squared_error\n",
    "import math\n",
    "\n",
    "# Fit model\n",
    "model = ARIMA(y_train, order=(1,1,1))\n",
    "model_fit = model.fit()\n",
    "\n",
    "# Prediction with ARIMA\n",
    "y_pred, se, conf = model_fit.forecast(3)\n",
    "\n",
    "# Calcuate metrics\n",
    "score_mae = mean_absolute_error(y_valid, y_pred)\n",
    "score_rmse = math.sqrt(mean_squared_error(y_valid, y_pred))\n",
    "\n",
    "#print(Fore.GREEN + 'RMSE: {}'.format(score_rmse))"
   ]
  },
  {
   "cell_type": "code",
   "execution_count": null,
   "metadata": {},
   "outputs": [],
   "source": []
  },
  {
   "cell_type": "code",
   "execution_count": null,
   "metadata": {},
   "outputs": [],
   "source": []
  },
  {
   "cell_type": "code",
   "execution_count": null,
   "metadata": {},
   "outputs": [],
   "source": []
  },
  {
   "cell_type": "code",
   "execution_count": null,
   "metadata": {},
   "outputs": [],
   "source": []
  },
  {
   "cell_type": "code",
   "execution_count": null,
   "metadata": {},
   "outputs": [],
   "source": []
  },
  {
   "cell_type": "code",
   "execution_count": null,
   "metadata": {},
   "outputs": [],
   "source": [
    "# [[[1], [2], [3], [4], [5]]] [6]\n",
    "# [[[2], [3], [4], [5], [6]]] [7]\n",
    "# [[[3], [4], [5], [6], [7]]] [8]\n",
    "\n",
    "def df_to_X_y(df, window_size=5):\n",
    "  df_as_np = df.to_numpy()\n",
    "  X = []\n",
    "  y = []\n",
    "  for i in range(len(df_as_np)-window_size):\n",
    "    row = [[a] for a in df_as_np[i:i+window_size]]\n",
    "    X.append(row)\n",
    "    label = df_as_np[i+window_size]\n",
    "    y.append(label)\n",
    "  return np.array(X), np.array(y)"
   ]
  },
  {
   "cell_type": "code",
   "execution_count": null,
   "metadata": {},
   "outputs": [
    {
     "data": {
      "text/plain": [
       "((4489, 5, 1, 10), (4489, 10))"
      ]
     },
     "execution_count": 87,
     "metadata": {},
     "output_type": "execute_result"
    }
   ],
   "source": [
    "WINDOW_SIZE = 5\n",
    "X1, y1 = df_to_X_y(Total, WINDOW_SIZE)\n",
    "X1.shape, y1.shape"
   ]
  },
  {
   "cell_type": "code",
   "execution_count": null,
   "metadata": {},
   "outputs": [
    {
     "name": "stdout",
     "output_type": "stream",
     "text": [
      "[[[[Timestamp('2010-01-01 00:00:00') 'total' 1.0 ... 1 53 1]]\n",
      "\n",
      "  [[Timestamp('2010-01-02 00:00:00') 'total' 57.0 ... 2 53 1]]\n",
      "\n",
      "  [[Timestamp('2010-01-03 00:00:00') 'total' 70.0 ... 3 53 1]]\n",
      "\n",
      "  [[Timestamp('2010-01-04 00:00:00') 'total' 123.0 ... 4 1 1]]\n",
      "\n",
      "  [[Timestamp('2010-01-05 00:00:00') 'total' 2.0 ... 5 1 1]]]\n",
      "\n",
      "\n",
      " [[[Timestamp('2010-01-02 00:00:00') 'total' 57.0 ... 2 53 1]]\n",
      "\n",
      "  [[Timestamp('2010-01-03 00:00:00') 'total' 70.0 ... 3 53 1]]\n",
      "\n",
      "  [[Timestamp('2010-01-04 00:00:00') 'total' 123.0 ... 4 1 1]]\n",
      "\n",
      "  [[Timestamp('2010-01-05 00:00:00') 'total' 2.0 ... 5 1 1]]\n",
      "\n",
      "  [[Timestamp('2010-01-06 00:00:00') 'total' 77.0 ... 6 1 1]]]\n",
      "\n",
      "\n",
      " [[[Timestamp('2010-01-03 00:00:00') 'total' 70.0 ... 3 53 1]]\n",
      "\n",
      "  [[Timestamp('2010-01-04 00:00:00') 'total' 123.0 ... 4 1 1]]\n",
      "\n",
      "  [[Timestamp('2010-01-05 00:00:00') 'total' 2.0 ... 5 1 1]]\n",
      "\n",
      "  [[Timestamp('2010-01-06 00:00:00') 'total' 77.0 ... 6 1 1]]\n",
      "\n",
      "  [[Timestamp('2010-01-07 00:00:00') 'total' 107.0 ... 7 1 1]]]\n",
      "\n",
      "\n",
      " ...\n",
      "\n",
      "\n",
      " [[[Timestamp('2022-12-23 00:00:00') 'total' 75.0 ... 357 51 4]]\n",
      "\n",
      "  [[Timestamp('2022-12-24 00:00:00') 'total' 2.0 ... 358 51 4]]\n",
      "\n",
      "  [[Timestamp('2022-12-25 00:00:00') 'total' 1.0 ... 359 51 4]]\n",
      "\n",
      "  [[Timestamp('2022-12-27 00:00:00') 'total' 4.0 ... 361 52 4]]\n",
      "\n",
      "  [[Timestamp('2022-12-28 00:00:00') 'total' 4.0 ... 362 52 4]]]\n",
      "\n",
      "\n",
      " [[[Timestamp('2022-12-24 00:00:00') 'total' 2.0 ... 358 51 4]]\n",
      "\n",
      "  [[Timestamp('2022-12-25 00:00:00') 'total' 1.0 ... 359 51 4]]\n",
      "\n",
      "  [[Timestamp('2022-12-27 00:00:00') 'total' 4.0 ... 361 52 4]]\n",
      "\n",
      "  [[Timestamp('2022-12-28 00:00:00') 'total' 4.0 ... 362 52 4]]\n",
      "\n",
      "  [[Timestamp('2022-12-29 00:00:00') 'total' 6.0 ... 363 52 4]]]\n",
      "\n",
      "\n",
      " [[[Timestamp('2022-12-25 00:00:00') 'total' 1.0 ... 359 51 4]]\n",
      "\n",
      "  [[Timestamp('2022-12-27 00:00:00') 'total' 4.0 ... 361 52 4]]\n",
      "\n",
      "  [[Timestamp('2022-12-28 00:00:00') 'total' 4.0 ... 362 52 4]]\n",
      "\n",
      "  [[Timestamp('2022-12-29 00:00:00') 'total' 6.0 ... 363 52 4]]\n",
      "\n",
      "  [[Timestamp('2022-12-30 00:00:00') 'total' 16.0 ... 364 52 4]]]]\n"
     ]
    }
   ],
   "source": [
    "print(X1)"
   ]
  },
  {
   "cell_type": "code",
   "execution_count": null,
   "metadata": {},
   "outputs": [],
   "source": [
    "from sklearn.model_selection import train_test_split\n",
    "\n",
    "X_train, X_rem, y_train, y_rem = train_test_split(X1,y1, train_size=0.8)\n",
    "\n",
    "# Now since we want the valid and test size to be equal (10% each of overall data). \n",
    "# we have to define valid_size=0.5 (that is 50% of remaining data)\n",
    "test_size = 0.5\n",
    "X_valid, X_test, y_valid, y_test = train_test_split(X_rem,y_rem, test_size=0.5)"
   ]
  },
  {
   "cell_type": "code",
   "execution_count": null,
   "metadata": {},
   "outputs": [],
   "source": [
    "from tensorflow.keras.models import Sequential\n",
    "from tensorflow.keras.layers import *\n",
    "from tensorflow.keras.callbacks import ModelCheckpoint\n",
    "from tensorflow.keras.losses import MeanSquaredError\n",
    "from tensorflow.keras.metrics import RootMeanSquaredError\n",
    "from tensorflow.keras.optimizers import Adam\n",
    "\n",
    "model1 = Sequential()\n",
    "model1.add(InputLayer((5, 1)))\n",
    "model1.add(LSTM(64))\n",
    "model1.add(Dense(8, 'relu'))\n",
    "model1.add(Dense(1, 'linear'))"
   ]
  },
  {
   "cell_type": "code",
   "execution_count": null,
   "metadata": {},
   "outputs": [],
   "source": [
    "cp1 = ModelCheckpoint('model1/', save_best_only=True)\n",
    "model1.compile(loss=MeanSquaredError(), optimizer=Adam(learning_rate=0.00001), metrics=[RootMeanSquaredError()])"
   ]
  },
  {
   "cell_type": "code",
   "execution_count": null,
   "metadata": {},
   "outputs": [
    {
     "ename": "ValueError",
     "evalue": "Failed to convert a NumPy array to a Tensor (Unsupported object type Timestamp).",
     "output_type": "error",
     "traceback": [
      "\u001b[1;31m---------------------------------------------------------------------------\u001b[0m",
      "\u001b[1;31mValueError\u001b[0m                                Traceback (most recent call last)",
      "Cell \u001b[1;32mIn[92], line 1\u001b[0m\n\u001b[1;32m----> 1\u001b[0m model1\u001b[39m.\u001b[39;49mfit(X_train, y_train,  epochs\u001b[39m=\u001b[39;49m\u001b[39m10\u001b[39;49m, callbacks\u001b[39m=\u001b[39;49m[cp1])\n",
      "File \u001b[1;32mc:\\Users\\santi\\anaconda3\\lib\\site-packages\\keras\\utils\\traceback_utils.py:70\u001b[0m, in \u001b[0;36mfilter_traceback.<locals>.error_handler\u001b[1;34m(*args, **kwargs)\u001b[0m\n\u001b[0;32m     67\u001b[0m     filtered_tb \u001b[39m=\u001b[39m _process_traceback_frames(e\u001b[39m.\u001b[39m__traceback__)\n\u001b[0;32m     68\u001b[0m     \u001b[39m# To get the full stack trace, call:\u001b[39;00m\n\u001b[0;32m     69\u001b[0m     \u001b[39m# `tf.debugging.disable_traceback_filtering()`\u001b[39;00m\n\u001b[1;32m---> 70\u001b[0m     \u001b[39mraise\u001b[39;00m e\u001b[39m.\u001b[39mwith_traceback(filtered_tb) \u001b[39mfrom\u001b[39;00m \u001b[39mNone\u001b[39m\n\u001b[0;32m     71\u001b[0m \u001b[39mfinally\u001b[39;00m:\n\u001b[0;32m     72\u001b[0m     \u001b[39mdel\u001b[39;00m filtered_tb\n",
      "File \u001b[1;32mc:\\Users\\santi\\anaconda3\\lib\\site-packages\\tensorflow\\python\\framework\\constant_op.py:103\u001b[0m, in \u001b[0;36mconvert_to_eager_tensor\u001b[1;34m(value, ctx, dtype)\u001b[0m\n\u001b[0;32m    101\u001b[0m     dtype \u001b[39m=\u001b[39m dtypes\u001b[39m.\u001b[39mas_dtype(dtype)\u001b[39m.\u001b[39mas_datatype_enum\n\u001b[0;32m    102\u001b[0m ctx\u001b[39m.\u001b[39mensure_initialized()\n\u001b[1;32m--> 103\u001b[0m \u001b[39mreturn\u001b[39;00m ops\u001b[39m.\u001b[39;49mEagerTensor(value, ctx\u001b[39m.\u001b[39;49mdevice_name, dtype)\n",
      "\u001b[1;31mValueError\u001b[0m: Failed to convert a NumPy array to a Tensor (Unsupported object type Timestamp)."
     ]
    }
   ],
   "source": [
    "model1.fit(X_train, y_train,  epochs=10, callbacks=[cp1])"
   ]
  },
  {
   "cell_type": "code",
   "execution_count": null,
   "metadata": {},
   "outputs": [
    {
     "name": "stdout",
     "output_type": "stream",
     "text": [
      "115/115 [==============================] - 0s 1ms/step\n"
     ]
    },
    {
     "data": {
      "text/html": [
       "<div>\n",
       "<style scoped>\n",
       "    .dataframe tbody tr th:only-of-type {\n",
       "        vertical-align: middle;\n",
       "    }\n",
       "\n",
       "    .dataframe tbody tr th {\n",
       "        vertical-align: top;\n",
       "    }\n",
       "\n",
       "    .dataframe thead th {\n",
       "        text-align: right;\n",
       "    }\n",
       "</style>\n",
       "<table border=\"1\" class=\"dataframe\">\n",
       "  <thead>\n",
       "    <tr style=\"text-align: right;\">\n",
       "      <th></th>\n",
       "      <th>Train Predictions</th>\n",
       "      <th>Actuals</th>\n",
       "    </tr>\n",
       "  </thead>\n",
       "  <tbody>\n",
       "    <tr>\n",
       "      <th>0</th>\n",
       "      <td>2.258863</td>\n",
       "      <td>64.0</td>\n",
       "    </tr>\n",
       "    <tr>\n",
       "      <th>1</th>\n",
       "      <td>1.511666</td>\n",
       "      <td>135.0</td>\n",
       "    </tr>\n",
       "    <tr>\n",
       "      <th>2</th>\n",
       "      <td>2.253585</td>\n",
       "      <td>117.0</td>\n",
       "    </tr>\n",
       "    <tr>\n",
       "      <th>3</th>\n",
       "      <td>1.612568</td>\n",
       "      <td>1.0</td>\n",
       "    </tr>\n",
       "    <tr>\n",
       "      <th>4</th>\n",
       "      <td>1.515289</td>\n",
       "      <td>1.0</td>\n",
       "    </tr>\n",
       "    <tr>\n",
       "      <th>...</th>\n",
       "      <td>...</td>\n",
       "      <td>...</td>\n",
       "    </tr>\n",
       "    <tr>\n",
       "      <th>3675</th>\n",
       "      <td>1.526668</td>\n",
       "      <td>154.0</td>\n",
       "    </tr>\n",
       "    <tr>\n",
       "      <th>3676</th>\n",
       "      <td>2.242435</td>\n",
       "      <td>4.0</td>\n",
       "    </tr>\n",
       "    <tr>\n",
       "      <th>3677</th>\n",
       "      <td>1.641383</td>\n",
       "      <td>66.0</td>\n",
       "    </tr>\n",
       "    <tr>\n",
       "      <th>3678</th>\n",
       "      <td>2.278311</td>\n",
       "      <td>143.0</td>\n",
       "    </tr>\n",
       "    <tr>\n",
       "      <th>3679</th>\n",
       "      <td>2.202434</td>\n",
       "      <td>240.0</td>\n",
       "    </tr>\n",
       "  </tbody>\n",
       "</table>\n",
       "<p>3680 rows × 2 columns</p>\n",
       "</div>"
      ],
      "text/plain": [
       "      Train Predictions  Actuals\n",
       "0              2.258863     64.0\n",
       "1              1.511666    135.0\n",
       "2              2.253585    117.0\n",
       "3              1.612568      1.0\n",
       "4              1.515289      1.0\n",
       "...                 ...      ...\n",
       "3675           1.526668    154.0\n",
       "3676           2.242435      4.0\n",
       "3677           1.641383     66.0\n",
       "3678           2.278311    143.0\n",
       "3679           2.202434    240.0\n",
       "\n",
       "[3680 rows x 2 columns]"
      ]
     },
     "execution_count": 148,
     "metadata": {},
     "output_type": "execute_result"
    }
   ],
   "source": [
    "train_predictions = model1.predict(X_train).flatten()\n",
    "train_results = pd.DataFrame(data={'Train Predictions':train_predictions, 'Actuals':y_train})\n",
    "train_results"
   ]
  },
  {
   "cell_type": "code",
   "execution_count": null,
   "metadata": {},
   "outputs": [
    {
     "data": {
      "text/plain": [
       "[<matplotlib.lines.Line2D at 0x190326c4e80>]"
      ]
     },
     "execution_count": 149,
     "metadata": {},
     "output_type": "execute_result"
    },
    {
     "data": {
      "image/png": "[encoded data removed]",
      "text/plain": [
       "<Figure size 1000x500 with 1 Axes>"
      ]
     },
     "metadata": {},
     "output_type": "display_data"
    }
   ],
   "source": [
    "import matplotlib.pyplot as plt\n",
    "plt.plot(train_results['Train Predictions'][50:100])\n",
    "plt.plot(train_results['Actuals'][50:100])"
   ]
  }
 ],
 "metadata": {
  "kernelspec": {
   "display_name": "base",
   "language": "python",
   "name": "python3"
  },
  "language_info": {
   "codemirror_mode": {
    "name": "ipython",
    "version": 3
   },
   "file_extension": ".py",
   "mimetype": "text/x-python",
   "name": "python",
   "nbconvert_exporter": "python",
   "pygments_lexer": "ipython3",
   "version": "3.9.7"
  },
  "orig_nbformat": 4
 },
 "nbformat": 4,
 "nbformat_minor": 2
}
