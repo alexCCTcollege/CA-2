{
 "cells": [
  {
   "cell_type": "code",
   "execution_count": 67,
   "id": "b3f886ab",
   "metadata": {},
   "outputs": [
    {
     "name": "stderr",
     "output_type": "stream",
     "text": [
      "[nltk_data] Downloading package stopwords to\n",
      "[nltk_data]     C:\\Users\\santi\\AppData\\Roaming\\nltk_data...\n",
      "[nltk_data]   Package stopwords is already up-to-date!\n"
     ]
    }
   ],
   "source": [
    "import os\n",
    "import pandas as pd\n",
    "import numpy as np\n",
    "from GoogleNews import GoogleNews\n",
    "import seaborn as sns\n",
    "import matplotlib.pyplot as plt\n",
    "from PIL import Image\n",
    "from os import path\n",
    "from nltk.corpus import stopwords\n",
    "from textblob import TextBlob\n",
    "import statsmodels.api as sm\n",
    "from scipy import stats\n",
    "from nltk.probability import FreqDist\n",
    "import nltk\n",
    "nltk.download('stopwords')\n",
    "from scipy.stats import shapiro"
   ]
  },
  {
   "attachments": {},
   "cell_type": "markdown",
   "id": "ece28345",
   "metadata": {},
   "source": [
    "In order to extract articles I'm going to use a library called GoogleNews\n",
    "https://pypi.org/project/GoogleNews/\n",
    "\n",
    "license here:\n",
    "https://github.com/Iceloof/GoogleNews/blob/master/LICENSE"
   ]
  },
  {
   "cell_type": "code",
   "execution_count": 68,
   "id": "0cf2d97d",
   "metadata": {},
   "outputs": [],
   "source": [
    "dict_time = {'06/01/2020' : '12/31/2020',\n",
    "             '06/01/2021' : '12/31/2021',\n",
    "             '06/01/2022' : '12/31/2022',\n",
    "             '06/01/2023' : '12/31/2023',\n",
    "             '06/01/2019' : '12/31/2019',\n",
    "             '06/01/2018' : '12/31/2018',\n",
    "             '06/01/2017' : '12/31/2017',\n",
    "             '06/01/2016' : '12/31/2016',\n",
    "             '06/01/2015' : '12/31/2015',\n",
    "             '06/01/2014' : '12/31/2014',\n",
    "             '01/01/2020' : '06/01/2020',\n",
    "             '01/01/2021' : '06/01/2021',\n",
    "             '01/01/2022' : '06/01/2022',\n",
    "             '01/01/2023' : '06/01/2023',\n",
    "             '01/01/2019' : '06/01/2019',\n",
    "             '01/01/2018' : '06/01/2018',\n",
    "             '01/01/2017' : '06/01/2017',\n",
    "             '01/01/2016' : '06/01/2016',\n",
    "             '01/01/2015' : '06/01/2015',\n",
    "             '01/01/2014' : '06/01/2014'}\n",
    "\n",
    "def search_gn(s):\n",
    "  df_final = pd.DataFrame()\n",
    "  for x in dict_time:\n",
    "    googlenews = GoogleNews(start=x,end=dict_time[x])\n",
    "    googlenews.get_news(s)\n",
    "    googlenews.enableException(True)\n",
    "    result_FINAL = googlenews.result(sort=True)\n",
    "    df_n = pd.DataFrame(result_FINAL)\n",
    "    df_n['year'] = dict_time[x]\n",
    "    df_n['year']= df_n['year'].str[-4:]\n",
    "    df_final = df_final.append(df_n)\n",
    "    \n",
    "  return df_final"
   ]
  },
  {
   "cell_type": "code",
   "execution_count": 69,
   "id": "243bfa5c",
   "metadata": {},
   "outputs": [],
   "source": [
    "Ireland = search_gn('Housing Ireland') \n",
    "Uk = search_gn('Housing UK') \n",
    "USA = search_gn('Housing USA') "
   ]
  },
  {
   "cell_type": "code",
   "execution_count": 70,
   "id": "bbf4408d",
   "metadata": {},
   "outputs": [],
   "source": [
    "Ireland = Ireland.drop_duplicates()\n",
    "Uk = Uk.drop_duplicates()\n",
    "USA = USA.drop_duplicates()\n",
    "\n",
    "Ireland['Country'] = 'Eire'\n",
    "Uk['Country'] = 'UK'\n",
    "USA['Country'] = 'USA'"
   ]
  },
  {
   "cell_type": "code",
   "execution_count": 89,
   "id": "b0248a48",
   "metadata": {},
   "outputs": [
    {
     "ename": "TypeError",
     "evalue": "cannot concatenate object of type '<class 'list'>'; only Series and DataFrame objs are valid",
     "output_type": "error",
     "traceback": [
      "\u001b[1;31m---------------------------------------------------------------------------\u001b[0m",
      "\u001b[1;31mTypeError\u001b[0m                                 Traceback (most recent call last)",
      "\u001b[1;32m~\\AppData\\Local\\Temp/ipykernel_28808/3717301473.py\u001b[0m in \u001b[0;36m<module>\u001b[1;34m\u001b[0m\n\u001b[0;32m      1\u001b[0m \u001b[0mframes\u001b[0m \u001b[1;33m=\u001b[0m \u001b[1;33m[\u001b[0m\u001b[0mIreland\u001b[0m\u001b[1;33m,\u001b[0m\u001b[0mUSA\u001b[0m\u001b[1;33m,\u001b[0m\u001b[0mUk\u001b[0m\u001b[1;33m]\u001b[0m\u001b[1;33m\u001b[0m\u001b[1;33m\u001b[0m\u001b[0m\n\u001b[1;32m----> 2\u001b[1;33m \u001b[0mHeadlines\u001b[0m \u001b[1;33m=\u001b[0m \u001b[0mpd\u001b[0m\u001b[1;33m.\u001b[0m\u001b[0mconcat\u001b[0m\u001b[1;33m(\u001b[0m\u001b[0mframes\u001b[0m\u001b[1;33m)\u001b[0m\u001b[1;33m\u001b[0m\u001b[1;33m\u001b[0m\u001b[0m\n\u001b[0m\u001b[0;32m      3\u001b[0m \u001b[0mHeadlines\u001b[0m\u001b[1;33m.\u001b[0m\u001b[0minfo\u001b[0m\u001b[1;33m(\u001b[0m\u001b[1;33m)\u001b[0m\u001b[1;33m\u001b[0m\u001b[1;33m\u001b[0m\u001b[0m\n",
      "\u001b[1;32mc:\\Users\\santi\\anaconda3\\lib\\site-packages\\pandas\\util\\_decorators.py\u001b[0m in \u001b[0;36mwrapper\u001b[1;34m(*args, **kwargs)\u001b[0m\n\u001b[0;32m    309\u001b[0m                     \u001b[0mstacklevel\u001b[0m\u001b[1;33m=\u001b[0m\u001b[0mstacklevel\u001b[0m\u001b[1;33m,\u001b[0m\u001b[1;33m\u001b[0m\u001b[1;33m\u001b[0m\u001b[0m\n\u001b[0;32m    310\u001b[0m                 )\n\u001b[1;32m--> 311\u001b[1;33m             \u001b[1;32mreturn\u001b[0m \u001b[0mfunc\u001b[0m\u001b[1;33m(\u001b[0m\u001b[1;33m*\u001b[0m\u001b[0margs\u001b[0m\u001b[1;33m,\u001b[0m \u001b[1;33m**\u001b[0m\u001b[0mkwargs\u001b[0m\u001b[1;33m)\u001b[0m\u001b[1;33m\u001b[0m\u001b[1;33m\u001b[0m\u001b[0m\n\u001b[0m\u001b[0;32m    312\u001b[0m \u001b[1;33m\u001b[0m\u001b[0m\n\u001b[0;32m    313\u001b[0m         \u001b[1;32mreturn\u001b[0m \u001b[0mwrapper\u001b[0m\u001b[1;33m\u001b[0m\u001b[1;33m\u001b[0m\u001b[0m\n",
      "\u001b[1;32mc:\\Users\\santi\\anaconda3\\lib\\site-packages\\pandas\\core\\reshape\\concat.py\u001b[0m in \u001b[0;36mconcat\u001b[1;34m(objs, axis, join, ignore_index, keys, levels, names, verify_integrity, sort, copy)\u001b[0m\n\u001b[0;32m    292\u001b[0m     \u001b[0mValueError\u001b[0m\u001b[1;33m:\u001b[0m \u001b[0mIndexes\u001b[0m \u001b[0mhave\u001b[0m \u001b[0moverlapping\u001b[0m \u001b[0mvalues\u001b[0m\u001b[1;33m:\u001b[0m \u001b[1;33m[\u001b[0m\u001b[1;34m'a'\u001b[0m\u001b[1;33m]\u001b[0m\u001b[1;33m\u001b[0m\u001b[1;33m\u001b[0m\u001b[0m\n\u001b[0;32m    293\u001b[0m     \"\"\"\n\u001b[1;32m--> 294\u001b[1;33m     op = _Concatenator(\n\u001b[0m\u001b[0;32m    295\u001b[0m         \u001b[0mobjs\u001b[0m\u001b[1;33m,\u001b[0m\u001b[1;33m\u001b[0m\u001b[1;33m\u001b[0m\u001b[0m\n\u001b[0;32m    296\u001b[0m         \u001b[0maxis\u001b[0m\u001b[1;33m=\u001b[0m\u001b[0maxis\u001b[0m\u001b[1;33m,\u001b[0m\u001b[1;33m\u001b[0m\u001b[1;33m\u001b[0m\u001b[0m\n",
      "\u001b[1;32mc:\\Users\\santi\\anaconda3\\lib\\site-packages\\pandas\\core\\reshape\\concat.py\u001b[0m in \u001b[0;36m__init__\u001b[1;34m(self, objs, axis, join, keys, levels, names, ignore_index, verify_integrity, copy, sort)\u001b[0m\n\u001b[0;32m    382\u001b[0m                     \u001b[1;34m\"only Series and DataFrame objs are valid\"\u001b[0m\u001b[1;33m\u001b[0m\u001b[1;33m\u001b[0m\u001b[0m\n\u001b[0;32m    383\u001b[0m                 )\n\u001b[1;32m--> 384\u001b[1;33m                 \u001b[1;32mraise\u001b[0m \u001b[0mTypeError\u001b[0m\u001b[1;33m(\u001b[0m\u001b[0mmsg\u001b[0m\u001b[1;33m)\u001b[0m\u001b[1;33m\u001b[0m\u001b[1;33m\u001b[0m\u001b[0m\n\u001b[0m\u001b[0;32m    385\u001b[0m \u001b[1;33m\u001b[0m\u001b[0m\n\u001b[0;32m    386\u001b[0m             \u001b[0mndims\u001b[0m\u001b[1;33m.\u001b[0m\u001b[0madd\u001b[0m\u001b[1;33m(\u001b[0m\u001b[0mobj\u001b[0m\u001b[1;33m.\u001b[0m\u001b[0mndim\u001b[0m\u001b[1;33m)\u001b[0m\u001b[1;33m\u001b[0m\u001b[1;33m\u001b[0m\u001b[0m\n",
      "\u001b[1;31mTypeError\u001b[0m: cannot concatenate object of type '<class 'list'>'; only Series and DataFrame objs are valid"
     ]
    }
   ],
   "source": [
    "frames = [Ireland,USA,Uk]\n",
    "Headlines = pd.concat(frames)\n",
    "Headlines.info()"
   ]
  },
  {
   "cell_type": "code",
   "execution_count": 72,
   "id": "1006fc3d",
   "metadata": {},
   "outputs": [
    {
     "data": {
      "text/html": [
       "<div>\n",
       "<style scoped>\n",
       "    .dataframe tbody tr th:only-of-type {\n",
       "        vertical-align: middle;\n",
       "    }\n",
       "\n",
       "    .dataframe tbody tr th {\n",
       "        vertical-align: top;\n",
       "    }\n",
       "\n",
       "    .dataframe thead th {\n",
       "        text-align: right;\n",
       "    }\n",
       "</style>\n",
       "<table border=\"1\" class=\"dataframe\">\n",
       "  <thead>\n",
       "    <tr style=\"text-align: right;\">\n",
       "      <th></th>\n",
       "      <th>title</th>\n",
       "      <th>desc</th>\n",
       "      <th>date</th>\n",
       "      <th>datetime</th>\n",
       "      <th>link</th>\n",
       "      <th>img</th>\n",
       "      <th>media</th>\n",
       "      <th>site</th>\n",
       "      <th>year</th>\n",
       "      <th>Country</th>\n",
       "    </tr>\n",
       "  </thead>\n",
       "  <tbody>\n",
       "    <tr>\n",
       "      <th>0</th>\n",
       "      <td>Cabinet to discuss impact of housing Ukrainian...</td>\n",
       "      <td>None</td>\n",
       "      <td>1 hour ago</td>\n",
       "      <td>2023-05-03 22:54:13.338042</td>\n",
       "      <td>news.google.com/./articles/CBMiPmh0dHBzOi8vd3d...</td>\n",
       "      <td>https://lh3.googleusercontent.com/pZ5_jocQtI4K...</td>\n",
       "      <td>Irish Examiner</td>\n",
       "      <td>None</td>\n",
       "      <td>2020</td>\n",
       "      <td>Eire</td>\n",
       "    </tr>\n",
       "    <tr>\n",
       "      <th>1</th>\n",
       "      <td>Spending on housing 32.5% lower than planned f...</td>\n",
       "      <td>None</td>\n",
       "      <td>3 hours ago</td>\n",
       "      <td>2023-05-03 20:54:13.334046</td>\n",
       "      <td>news.google.com/./articles/CBMigAFodHRwczovL3d...</td>\n",
       "      <td>https://lh3.googleusercontent.com/SdqfETkyt1XH...</td>\n",
       "      <td>The Irish Times</td>\n",
       "      <td>None</td>\n",
       "      <td>2020</td>\n",
       "      <td>Eire</td>\n",
       "    </tr>\n",
       "    <tr>\n",
       "      <th>2</th>\n",
       "      <td>gov.ie - Castletown House to host Other Voices</td>\n",
       "      <td>None</td>\n",
       "      <td>9 hours ago</td>\n",
       "      <td>2023-05-03 14:54:13.346155</td>\n",
       "      <td>news.google.com/./articles/CBMiUGh0dHBzOi8vd3d...</td>\n",
       "      <td>https://encrypted-tbn0.gstatic.com/faviconV2?u...</td>\n",
       "      <td>Gov.ie</td>\n",
       "      <td>None</td>\n",
       "      <td>2020</td>\n",
       "      <td>Eire</td>\n",
       "    </tr>\n",
       "    <tr>\n",
       "      <th>3</th>\n",
       "      <td>Apprenticeships key to unlocking housing crisi...</td>\n",
       "      <td>None</td>\n",
       "      <td>9 hours ago</td>\n",
       "      <td>2023-05-03 14:54:13.338042</td>\n",
       "      <td>news.google.com/./articles/CBMid2h0dHBzOi8vbGF...</td>\n",
       "      <td>https://encrypted-tbn2.gstatic.com/faviconV2?u...</td>\n",
       "      <td>The Labour Party</td>\n",
       "      <td>None</td>\n",
       "      <td>2020</td>\n",
       "      <td>Eire</td>\n",
       "    </tr>\n",
       "    <tr>\n",
       "      <th>4</th>\n",
       "      <td>'I work very hard': Darragh O'Brien insists he...</td>\n",
       "      <td>None</td>\n",
       "      <td>9 hours ago</td>\n",
       "      <td>2023-05-03 14:54:13.337042</td>\n",
       "      <td>news.google.com/./articles/CBMiNWh0dHBzOi8vd3d...</td>\n",
       "      <td>https://lh3.googleusercontent.com/pZ5_jocQtI4K...</td>\n",
       "      <td>Irish Examiner</td>\n",
       "      <td>None</td>\n",
       "      <td>2020</td>\n",
       "      <td>Eire</td>\n",
       "    </tr>\n",
       "  </tbody>\n",
       "</table>\n",
       "</div>"
      ],
      "text/plain": [
       "                                               title  desc         date  \\\n",
       "0  Cabinet to discuss impact of housing Ukrainian...  None   1 hour ago   \n",
       "1  Spending on housing 32.5% lower than planned f...  None  3 hours ago   \n",
       "2     gov.ie - Castletown House to host Other Voices  None  9 hours ago   \n",
       "3  Apprenticeships key to unlocking housing crisi...  None  9 hours ago   \n",
       "4  'I work very hard': Darragh O'Brien insists he...  None  9 hours ago   \n",
       "\n",
       "                    datetime  \\\n",
       "0 2023-05-03 22:54:13.338042   \n",
       "1 2023-05-03 20:54:13.334046   \n",
       "2 2023-05-03 14:54:13.346155   \n",
       "3 2023-05-03 14:54:13.338042   \n",
       "4 2023-05-03 14:54:13.337042   \n",
       "\n",
       "                                                link  \\\n",
       "0  news.google.com/./articles/CBMiPmh0dHBzOi8vd3d...   \n",
       "1  news.google.com/./articles/CBMigAFodHRwczovL3d...   \n",
       "2  news.google.com/./articles/CBMiUGh0dHBzOi8vd3d...   \n",
       "3  news.google.com/./articles/CBMid2h0dHBzOi8vbGF...   \n",
       "4  news.google.com/./articles/CBMiNWh0dHBzOi8vd3d...   \n",
       "\n",
       "                                                 img             media  site  \\\n",
       "0  https://lh3.googleusercontent.com/pZ5_jocQtI4K...    Irish Examiner  None   \n",
       "1  https://lh3.googleusercontent.com/SdqfETkyt1XH...   The Irish Times  None   \n",
       "2  https://encrypted-tbn0.gstatic.com/faviconV2?u...            Gov.ie  None   \n",
       "3  https://encrypted-tbn2.gstatic.com/faviconV2?u...  The Labour Party  None   \n",
       "4  https://lh3.googleusercontent.com/pZ5_jocQtI4K...    Irish Examiner  None   \n",
       "\n",
       "   year Country  \n",
       "0  2020    Eire  \n",
       "1  2020    Eire  \n",
       "2  2020    Eire  \n",
       "3  2020    Eire  \n",
       "4  2020    Eire  "
      ]
     },
     "execution_count": 72,
     "metadata": {},
     "output_type": "execute_result"
    }
   ],
   "source": [
    "Headlines.head()"
   ]
  },
  {
   "cell_type": "code",
   "execution_count": 73,
   "id": "bbd4bc83",
   "metadata": {},
   "outputs": [
    {
     "data": {
      "text/html": [
       "<div>\n",
       "<style scoped>\n",
       "    .dataframe tbody tr th:only-of-type {\n",
       "        vertical-align: middle;\n",
       "    }\n",
       "\n",
       "    .dataframe tbody tr th {\n",
       "        vertical-align: top;\n",
       "    }\n",
       "\n",
       "    .dataframe thead th {\n",
       "        text-align: right;\n",
       "    }\n",
       "</style>\n",
       "<table border=\"1\" class=\"dataframe\">\n",
       "  <thead>\n",
       "    <tr style=\"text-align: right;\">\n",
       "      <th></th>\n",
       "      <th>title</th>\n",
       "      <th>media</th>\n",
       "      <th>year</th>\n",
       "      <th>Country</th>\n",
       "    </tr>\n",
       "  </thead>\n",
       "  <tbody>\n",
       "    <tr>\n",
       "      <th>0</th>\n",
       "      <td>Cabinet to discuss impact of housing Ukrainian...</td>\n",
       "      <td>Irish Examiner</td>\n",
       "      <td>2020</td>\n",
       "      <td>Eire</td>\n",
       "    </tr>\n",
       "    <tr>\n",
       "      <th>1</th>\n",
       "      <td>Spending on housing 32.5% lower than planned f...</td>\n",
       "      <td>The Irish Times</td>\n",
       "      <td>2020</td>\n",
       "      <td>Eire</td>\n",
       "    </tr>\n",
       "    <tr>\n",
       "      <th>2</th>\n",
       "      <td>gov.ie - Castletown House to host Other Voices</td>\n",
       "      <td>Gov.ie</td>\n",
       "      <td>2020</td>\n",
       "      <td>Eire</td>\n",
       "    </tr>\n",
       "    <tr>\n",
       "      <th>3</th>\n",
       "      <td>Apprenticeships key to unlocking housing crisi...</td>\n",
       "      <td>The Labour Party</td>\n",
       "      <td>2020</td>\n",
       "      <td>Eire</td>\n",
       "    </tr>\n",
       "    <tr>\n",
       "      <th>4</th>\n",
       "      <td>'I work very hard': Darragh O'Brien insists he...</td>\n",
       "      <td>Irish Examiner</td>\n",
       "      <td>2020</td>\n",
       "      <td>Eire</td>\n",
       "    </tr>\n",
       "  </tbody>\n",
       "</table>\n",
       "</div>"
      ],
      "text/plain": [
       "                                               title             media  year  \\\n",
       "0  Cabinet to discuss impact of housing Ukrainian...    Irish Examiner  2020   \n",
       "1  Spending on housing 32.5% lower than planned f...   The Irish Times  2020   \n",
       "2     gov.ie - Castletown House to host Other Voices            Gov.ie  2020   \n",
       "3  Apprenticeships key to unlocking housing crisi...  The Labour Party  2020   \n",
       "4  'I work very hard': Darragh O'Brien insists he...    Irish Examiner  2020   \n",
       "\n",
       "  Country  \n",
       "0    Eire  \n",
       "1    Eire  \n",
       "2    Eire  \n",
       "3    Eire  \n",
       "4    Eire  "
      ]
     },
     "execution_count": 73,
     "metadata": {},
     "output_type": "execute_result"
    }
   ],
   "source": [
    "headlines = Headlines[['title','media','year','Country']]\n",
    "headlines.head()"
   ]
  },
  {
   "cell_type": "code",
   "execution_count": 74,
   "id": "f175498a",
   "metadata": {},
   "outputs": [
    {
     "data": {
      "text/plain": [
       "title      0\n",
       "media      0\n",
       "year       0\n",
       "Country    0\n",
       "dtype: int64"
      ]
     },
     "execution_count": 74,
     "metadata": {},
     "output_type": "execute_result"
    }
   ],
   "source": [
    "headlines.isna().sum()"
   ]
  },
  {
   "cell_type": "code",
   "execution_count": 75,
   "id": "5ff61573",
   "metadata": {},
   "outputs": [
    {
     "data": {
      "text/plain": [
       "Text(0.5, 1.0, 'Number of articles by newspaper')"
      ]
     },
     "execution_count": 75,
     "metadata": {},
     "output_type": "execute_result"
    },
    {
     "data": {
      "image/png": "[encoded data removed]",
      "text/plain": [
       "<Figure size 432x288 with 1 Axes>"
      ]
     },
     "metadata": {},
     "output_type": "display_data"
    }
   ],
   "source": [
    "custom = {\"axes.edgecolor\": \"black\", \"grid.color\": \"white\"}\n",
    "sns.set_style(\"darkgrid\", rc = custom)\n",
    "ax = sns.countplot(y=headlines[\"media\"], order=headlines.media.value_counts().iloc[:10].index)\n",
    "ax.bar_label(ax.containers[0], padding=-20, color='white', fontsize=10)\n",
    "headlines[\"media\"].unique()\n",
    "ax.set_xlabel(\"Number of articles\",fontsize=12)\n",
    "ax.set_ylabel(\" \")\n",
    "ax.set_title(\"Number of articles by newspaper\",fontsize=14)"
   ]
  },
  {
   "cell_type": "code",
   "execution_count": 76,
   "id": "853cdd6f",
   "metadata": {},
   "outputs": [
    {
     "name": "stderr",
     "output_type": "stream",
     "text": [
      "C:\\Users\\santi\\AppData\\Local\\Temp/ipykernel_28808/3791301456.py:7: SettingWithCopyWarning: \n",
      "A value is trying to be set on a copy of a slice from a DataFrame.\n",
      "Try using .loc[row_indexer,col_indexer] = value instead\n",
      "\n",
      "See the caveats in the documentation: https://pandas.pydata.org/pandas-docs/stable/user_guide/indexing.html#returning-a-view-versus-a-copy\n",
      "  headlines['polarity'] = headlines['title'].apply(sentiment_calc)\n"
     ]
    }
   ],
   "source": [
    "def sentiment_calc(text):\n",
    "    try:\n",
    "        return TextBlob(text).polarity  #there's also subjectivity if we want\n",
    "    except:\n",
    "        return None\n",
    "\n",
    "headlines['polarity'] = headlines['title'].apply(sentiment_calc)"
   ]
  },
  {
   "cell_type": "code",
   "execution_count": 77,
   "id": "f2fd3b71",
   "metadata": {},
   "outputs": [
    {
     "data": {
      "text/html": [
       "<div>\n",
       "<style scoped>\n",
       "    .dataframe tbody tr th:only-of-type {\n",
       "        vertical-align: middle;\n",
       "    }\n",
       "\n",
       "    .dataframe tbody tr th {\n",
       "        vertical-align: top;\n",
       "    }\n",
       "\n",
       "    .dataframe thead th {\n",
       "        text-align: right;\n",
       "    }\n",
       "</style>\n",
       "<table border=\"1\" class=\"dataframe\">\n",
       "  <thead>\n",
       "    <tr style=\"text-align: right;\">\n",
       "      <th></th>\n",
       "      <th>title</th>\n",
       "      <th>media</th>\n",
       "      <th>year</th>\n",
       "      <th>Country</th>\n",
       "      <th>polarity</th>\n",
       "    </tr>\n",
       "  </thead>\n",
       "  <tbody>\n",
       "    <tr>\n",
       "      <th>0</th>\n",
       "      <td>Cabinet to discuss impact of housing Ukrainian...</td>\n",
       "      <td>Irish Examiner</td>\n",
       "      <td>2020</td>\n",
       "      <td>Eire</td>\n",
       "      <td>0.000000</td>\n",
       "    </tr>\n",
       "    <tr>\n",
       "      <th>1</th>\n",
       "      <td>Spending on housing 32.5% lower than planned f...</td>\n",
       "      <td>The Irish Times</td>\n",
       "      <td>2020</td>\n",
       "      <td>Eire</td>\n",
       "      <td>0.250000</td>\n",
       "    </tr>\n",
       "    <tr>\n",
       "      <th>2</th>\n",
       "      <td>gov.ie - Castletown House to host Other Voices</td>\n",
       "      <td>Gov.ie</td>\n",
       "      <td>2020</td>\n",
       "      <td>Eire</td>\n",
       "      <td>-0.125000</td>\n",
       "    </tr>\n",
       "    <tr>\n",
       "      <th>3</th>\n",
       "      <td>Apprenticeships key to unlocking housing crisi...</td>\n",
       "      <td>The Labour Party</td>\n",
       "      <td>2020</td>\n",
       "      <td>Eire</td>\n",
       "      <td>0.000000</td>\n",
       "    </tr>\n",
       "    <tr>\n",
       "      <th>4</th>\n",
       "      <td>'I work very hard': Darragh O'Brien insists he...</td>\n",
       "      <td>Irish Examiner</td>\n",
       "      <td>2020</td>\n",
       "      <td>Eire</td>\n",
       "      <td>-0.379167</td>\n",
       "    </tr>\n",
       "  </tbody>\n",
       "</table>\n",
       "</div>"
      ],
      "text/plain": [
       "                                               title             media  year  \\\n",
       "0  Cabinet to discuss impact of housing Ukrainian...    Irish Examiner  2020   \n",
       "1  Spending on housing 32.5% lower than planned f...   The Irish Times  2020   \n",
       "2     gov.ie - Castletown House to host Other Voices            Gov.ie  2020   \n",
       "3  Apprenticeships key to unlocking housing crisi...  The Labour Party  2020   \n",
       "4  'I work very hard': Darragh O'Brien insists he...    Irish Examiner  2020   \n",
       "\n",
       "  Country  polarity  \n",
       "0    Eire  0.000000  \n",
       "1    Eire  0.250000  \n",
       "2    Eire -0.125000  \n",
       "3    Eire  0.000000  \n",
       "4    Eire -0.379167  "
      ]
     },
     "execution_count": 77,
     "metadata": {},
     "output_type": "execute_result"
    }
   ],
   "source": [
    "headlines.head()"
   ]
  },
  {
   "cell_type": "code",
   "execution_count": 78,
   "id": "c0175acf",
   "metadata": {},
   "outputs": [
    {
     "data": {
      "text/plain": [
       "<AxesSubplot:xlabel='Country', ylabel='polarity'>"
      ]
     },
     "execution_count": 78,
     "metadata": {},
     "output_type": "execute_result"
    },
    {
     "data": {
      "image/png": "[encoded data removed]",
      "text/plain": [
       "<Figure size 1080x360 with 2 Axes>"
      ]
     },
     "metadata": {},
     "output_type": "display_data"
    }
   ],
   "source": [
    "headlines = headlines.sort_values('year')\n",
    "fig, ax = plt.subplots(1,2,figsize=(15, 5))\n",
    "sns.lineplot(data = headlines,x='year',y='polarity',hue='Country',ax=ax[0])\n",
    "sns.boxplot(y= 'polarity',data=headlines,x='Country',ax=ax[1])"
   ]
  },
  {
   "cell_type": "code",
   "execution_count": 79,
   "id": "31108c30",
   "metadata": {},
   "outputs": [
    {
     "name": "stdout",
     "output_type": "stream",
     "text": [
      "p value 0.0\n",
      "stat value 0.7312585115432739\n"
     ]
    },
    {
     "name": "stderr",
     "output_type": "stream",
     "text": [
      "c:\\Users\\santi\\anaconda3\\lib\\site-packages\\statsmodels\\graphics\\gofplots.py:993: UserWarning: marker is redundantly defined by the 'marker' keyword argument and the fmt string \"bo\" (-> marker='o'). The keyword argument will take precedence.\n",
      "  ax.plot(x, y, fmt, **plot_style)\n"
     ]
    },
    {
     "data": {
      "image/png": "[encoded data removed]",
      "text/plain": [
       "<Figure size 432x288 with 1 Axes>"
      ]
     },
     "metadata": {},
     "output_type": "display_data"
    }
   ],
   "source": [
    "fig = sm.qqplot(headlines['polarity'], line='45')\n",
    "plt.title('QQ plots')\n",
    "stat, p = shapiro(headlines['polarity'])\n",
    "print('p value ' + str(p))\n",
    "print('stat value ' + str(stat))"
   ]
  },
  {
   "cell_type": "code",
   "execution_count": 80,
   "id": "503ebbc5",
   "metadata": {},
   "outputs": [
    {
     "data": {
      "text/plain": [
       "KruskalResult(statistic=19.387967637719296, pvalue=6.165329894858369e-05)"
      ]
     },
     "execution_count": 80,
     "metadata": {},
     "output_type": "execute_result"
    }
   ],
   "source": [
    "a = headlines[headlines['Country']=='Eire']\n",
    "b = headlines[headlines['Country']=='USA'] \n",
    "c = headlines[headlines['Country']=='UK']\n",
    "\n",
    "stats.kruskal(a['polarity'],b['polarity'],c['polarity'])"
   ]
  },
  {
   "cell_type": "code",
   "execution_count": 81,
   "id": "7bff344d",
   "metadata": {},
   "outputs": [],
   "source": [
    "import string\n",
    "stopwords = set(stopwords.words(\"english\"))\n",
    "stopwords.add('housing')\n",
    "stopwords.add('house')\n",
    "stopwords.add('ireland')\n",
    "stopwords.add('usa')\n",
    "stopwords.add('uk')\n",
    "stopwords.add('us')\n",
    "stopwords.add(' ')\n",
    "stopwords.add('')\n",
    "stopwords.add('home')\n",
    "stopwords.add('homes')\n",
    "stopwords.add('irish')\n"
   ]
  },
  {
   "cell_type": "code",
   "execution_count": 82,
   "id": "46851229",
   "metadata": {},
   "outputs": [],
   "source": [
    "\n",
    "def tk(x):\n",
    "    text = x.str.cat(sep=' ')\n",
    "    tokens = nltk.word_tokenize(text)\n",
    "    tokens = [''.join(char for char in item if char not in string.punctuation) for item in tokens]\n",
    "    tokens = [x.lower() for x in tokens]\n",
    "    filtered_token = []\n",
    "    for w in tokens:\n",
    "        if w not in stopwords:\n",
    "          filtered_token.append(w)\n",
    "    return filtered_token\n",
    "\n",
    "eire = tk(a['title'])\n",
    "USA = tk(b['title'])\n",
    "uk = tk(c['title'])\n"
   ]
  },
  {
   "cell_type": "code",
   "execution_count": 83,
   "id": "8133b331",
   "metadata": {},
   "outputs": [
    {
     "data": {
      "image/png": "[encoded data removed]",
      "text/plain": [
       "<Figure size 1080x360 with 3 Axes>"
      ]
     },
     "metadata": {},
     "output_type": "display_data"
    }
   ],
   "source": [
    "from collections import Counter\n",
    "fig, ax = plt.subplots(1,3,figsize=(15, 5))\n",
    "fig.suptitle('Top 5 Most popular words in headlines by country',fontsize=18)\n",
    "a = Counter(eire)\n",
    "a = pd.DataFrame.from_dict(a, orient='index').reset_index()\n",
    "sns.barplot(y=0 ,x='index',data=a.nlargest(5, 0), ax=ax[0], palette= 'mako')\n",
    "ax[0].set_title('Ireland')\n",
    "ax[0].set(xlabel='words', ylabel='frequency')\n",
    "ax[0].tick_params(axis='x',labelrotation=45, labelsize=12)\n",
    "ax[0].tick_params(labelsize=12)\n",
    "a = Counter(USA)\n",
    "a = pd.DataFrame.from_dict(a, orient='index').reset_index()\n",
    "sns.barplot(y=0,x='index',data=a.nlargest(5, 0),ax=ax[1], palette= 'rocket')\n",
    "ax[1].set_title('USA')\n",
    "ax[1].set(xlabel='words', ylabel='frequency')\n",
    "ax[1].tick_params(axis='x',labelrotation=45,labelsize=12)\n",
    "ax[1].tick_params(labelsize=12)\n",
    "a = Counter(uk)\n",
    "a = pd.DataFrame.from_dict(a, orient='index').reset_index()\n",
    "sns.barplot(y=0,x='index',data=a.nlargest(5, 0), ax=ax[2], palette= 'viridis')\n",
    "ax[2].set_title('UK')\n",
    "ax[2].set(xlabel='words', ylabel='frequency')\n",
    "ax[2].tick_params(axis='x',labelrotation=45,labelsize=12)\n",
    "ax[2].tick_params(labelsize=12)\n"
   ]
  },
  {
   "cell_type": "code",
   "execution_count": 84,
   "id": "47f4e7d5",
   "metadata": {},
   "outputs": [
    {
     "data": {
      "image/png": "[encoded data removed]",
      "text/plain": [
       "<Figure size 1440x576 with 2 Axes>"
      ]
     },
     "metadata": {},
     "output_type": "display_data"
    }
   ],
   "source": [
    "f, (ax_top, ax_bottom) = plt.subplots(ncols=1, nrows=2, sharex=True, gridspec_kw={'hspace':0.05},figsize=(20, 8))\n",
    "f.suptitle('Distribution of Polarity scores by country',fontsize=18)\n",
    "sns.histplot(x= 'polarity',data=headlines, hue='Country',kde=True , ax=ax_top, element=\"step\")\n",
    "sns.histplot(x= 'polarity',data=headlines, hue='Country',kde=True , ax=ax_bottom, element=\"step\")\n",
    "ax_top.set_ylim(bottom=125) \n",
    "ax_bottom.set_ylim(0,100)\n",
    "\n",
    "sns.despine(ax=ax_bottom)\n",
    "sns.despine(ax=ax_top, bottom=True)\n",
    "\n",
    "ax = ax_top\n",
    "d = .015 \n",
    "kwargs = dict(transform=ax.transAxes, color='k', clip_on=False)\n",
    "ax.plot((-d, +d), (-d, +d), **kwargs)\n",
    "\n",
    "ax2 = ax_bottom\n",
    "kwargs.update(transform=ax2.transAxes)  \n",
    "ax2.plot((-d, +d), (1 - d, 1 + d), **kwargs) \n",
    "\n",
    "ax_bottom.legend_.remove()\n",
    "plt.show()"
   ]
  },
  {
   "cell_type": "markdown",
   "id": "52af546e",
   "metadata": {},
   "source": [
    "#### real sentiment analysis"
   ]
  },
  {
   "cell_type": "code",
   "execution_count": 123,
   "id": "cf0a1368",
   "metadata": {},
   "outputs": [
    {
     "data": {
      "text/html": [
       "<div>\n",
       "<style scoped>\n",
       "    .dataframe tbody tr th:only-of-type {\n",
       "        vertical-align: middle;\n",
       "    }\n",
       "\n",
       "    .dataframe tbody tr th {\n",
       "        vertical-align: top;\n",
       "    }\n",
       "\n",
       "    .dataframe thead th {\n",
       "        text-align: right;\n",
       "    }\n",
       "</style>\n",
       "<table border=\"1\" class=\"dataframe\">\n",
       "  <thead>\n",
       "    <tr style=\"text-align: right;\">\n",
       "      <th></th>\n",
       "      <th>title</th>\n",
       "      <th>media</th>\n",
       "      <th>Country</th>\n",
       "      <th>year</th>\n",
       "    </tr>\n",
       "  </thead>\n",
       "  <tbody>\n",
       "    <tr>\n",
       "      <th>0</th>\n",
       "      <td>Cabinet to discuss impact of housing Ukrainian...</td>\n",
       "      <td>Irish Examiner</td>\n",
       "      <td>Eire</td>\n",
       "      <td>2020</td>\n",
       "    </tr>\n",
       "    <tr>\n",
       "      <th>1</th>\n",
       "      <td>Spending on housing 32.5% lower than planned f...</td>\n",
       "      <td>The Irish Times</td>\n",
       "      <td>Eire</td>\n",
       "      <td>2020</td>\n",
       "    </tr>\n",
       "    <tr>\n",
       "      <th>2</th>\n",
       "      <td>gov.ie - Castletown House to host Other Voices</td>\n",
       "      <td>Gov.ie</td>\n",
       "      <td>Eire</td>\n",
       "      <td>2020</td>\n",
       "    </tr>\n",
       "    <tr>\n",
       "      <th>3</th>\n",
       "      <td>Apprenticeships key to unlocking housing crisi...</td>\n",
       "      <td>The Labour Party</td>\n",
       "      <td>Eire</td>\n",
       "      <td>2020</td>\n",
       "    </tr>\n",
       "    <tr>\n",
       "      <th>4</th>\n",
       "      <td>'I work very hard': Darragh O'Brien insists he...</td>\n",
       "      <td>Irish Examiner</td>\n",
       "      <td>Eire</td>\n",
       "      <td>2020</td>\n",
       "    </tr>\n",
       "  </tbody>\n",
       "</table>\n",
       "</div>"
      ],
      "text/plain": [
       "                                               title             media  \\\n",
       "0  Cabinet to discuss impact of housing Ukrainian...    Irish Examiner   \n",
       "1  Spending on housing 32.5% lower than planned f...   The Irish Times   \n",
       "2     gov.ie - Castletown House to host Other Voices            Gov.ie   \n",
       "3  Apprenticeships key to unlocking housing crisi...  The Labour Party   \n",
       "4  'I work very hard': Darragh O'Brien insists he...    Irish Examiner   \n",
       "\n",
       "  Country  year  \n",
       "0    Eire  2020  \n",
       "1    Eire  2020  \n",
       "2    Eire  2020  \n",
       "3    Eire  2020  \n",
       "4    Eire  2020  "
      ]
     },
     "execution_count": 123,
     "metadata": {},
     "output_type": "execute_result"
    }
   ],
   "source": [
    "headlines = Headlines[['title','media','Country','year']]\n",
    "headlines.head()"
   ]
  },
  {
   "cell_type": "code",
   "execution_count": 119,
   "id": "5be8c216",
   "metadata": {},
   "outputs": [
    {
     "data": {
      "text/html": [
       "<div>\n",
       "<style scoped>\n",
       "    .dataframe tbody tr th:only-of-type {\n",
       "        vertical-align: middle;\n",
       "    }\n",
       "\n",
       "    .dataframe tbody tr th {\n",
       "        vertical-align: top;\n",
       "    }\n",
       "\n",
       "    .dataframe thead th {\n",
       "        text-align: right;\n",
       "    }\n",
       "</style>\n",
       "<table border=\"1\" class=\"dataframe\">\n",
       "  <thead>\n",
       "    <tr style=\"text-align: right;\">\n",
       "      <th></th>\n",
       "      <th>title</th>\n",
       "      <th>year</th>\n",
       "    </tr>\n",
       "  </thead>\n",
       "  <tbody>\n",
       "    <tr>\n",
       "      <th>0</th>\n",
       "      <td>Cabinet to discuss impact of housing Ukrainian...</td>\n",
       "      <td>2020</td>\n",
       "    </tr>\n",
       "    <tr>\n",
       "      <th>1</th>\n",
       "      <td>Spending on housing 32.5% lower than planned f...</td>\n",
       "      <td>2020</td>\n",
       "    </tr>\n",
       "    <tr>\n",
       "      <th>2</th>\n",
       "      <td>gov.ie - Castletown House to host Other Voices</td>\n",
       "      <td>2020</td>\n",
       "    </tr>\n",
       "    <tr>\n",
       "      <th>3</th>\n",
       "      <td>Apprenticeships key to unlocking housing crisi...</td>\n",
       "      <td>2020</td>\n",
       "    </tr>\n",
       "    <tr>\n",
       "      <th>4</th>\n",
       "      <td>'I work very hard': Darragh O'Brien insists he...</td>\n",
       "      <td>2020</td>\n",
       "    </tr>\n",
       "  </tbody>\n",
       "</table>\n",
       "</div>"
      ],
      "text/plain": [
       "                                               title  year\n",
       "0  Cabinet to discuss impact of housing Ukrainian...  2020\n",
       "1  Spending on housing 32.5% lower than planned f...  2020\n",
       "2     gov.ie - Castletown House to host Other Voices  2020\n",
       "3  Apprenticeships key to unlocking housing crisi...  2020\n",
       "4  'I work very hard': Darragh O'Brien insists he...  2020"
      ]
     },
     "execution_count": 119,
     "metadata": {},
     "output_type": "execute_result"
    }
   ],
   "source": [
    "test = headlines[['title','year']]\n",
    "test.head()"
   ]
  },
  {
   "cell_type": "code",
   "execution_count": 125,
   "id": "090fa1cd",
   "metadata": {},
   "outputs": [
    {
     "name": "stderr",
     "output_type": "stream",
     "text": [
      "[nltk_data] Downloading package names to\n",
      "[nltk_data]     C:\\Users\\santi\\AppData\\Roaming\\nltk_data...\n",
      "[nltk_data]   Package names is already up-to-date!\n"
     ]
    }
   ],
   "source": [
    "from nltk.tokenize import word_tokenize\n",
    "stop_words = set(stopwords.words(\"english\"))\n",
    "#do we need to delete names? no right?\n",
    "from nltk.corpus import names\n",
    "nltk.download('names')\n",
    "all_names = set(names.words())\n",
    "from nltk.stem import PorterStemmer\n",
    "ps = PorterStemmer()\n",
    "\n",
    "'''  AL POSTO DI STEMMER\n",
    "\n",
    "from nltk.stem import WordNetLemmatizer\n",
    "\n",
    "lemmatizer = WordNetLemmatizer()\n",
    "lemmatizer.lemmatize(word)       '''\n",
    "\n",
    "test['title_token'] = test['title'].apply(lambda row: [ps.stem(word.lower()) for word in nltk.word_tokenize(row) if word.lower() not in stop_words ])\n"
   ]
  },
  {
   "cell_type": "code",
   "execution_count": 128,
   "id": "01778982",
   "metadata": {},
   "outputs": [
    {
     "data": {
      "text/html": [
       "<div>\n",
       "<style scoped>\n",
       "    .dataframe tbody tr th:only-of-type {\n",
       "        vertical-align: middle;\n",
       "    }\n",
       "\n",
       "    .dataframe tbody tr th {\n",
       "        vertical-align: top;\n",
       "    }\n",
       "\n",
       "    .dataframe thead th {\n",
       "        text-align: right;\n",
       "    }\n",
       "</style>\n",
       "<table border=\"1\" class=\"dataframe\">\n",
       "  <thead>\n",
       "    <tr style=\"text-align: right;\">\n",
       "      <th></th>\n",
       "      <th>title</th>\n",
       "      <th>year</th>\n",
       "      <th>title_token</th>\n",
       "    </tr>\n",
       "  </thead>\n",
       "  <tbody>\n",
       "    <tr>\n",
       "      <th>0</th>\n",
       "      <td>Cabinet to discuss impact of housing Ukrainian...</td>\n",
       "      <td>2020</td>\n",
       "      <td>[cabinet, discuss, impact, hous, ukrainian, up...</td>\n",
       "    </tr>\n",
       "    <tr>\n",
       "      <th>1</th>\n",
       "      <td>Spending on housing 32.5% lower than planned f...</td>\n",
       "      <td>2020</td>\n",
       "      <td>[spend, hous, 32.5, %, lower, plan, first, fou...</td>\n",
       "    </tr>\n",
       "    <tr>\n",
       "      <th>2</th>\n",
       "      <td>gov.ie - Castletown House to host Other Voices</td>\n",
       "      <td>2020</td>\n",
       "      <td>[gov.i, -, castletown, hous, host, voic]</td>\n",
       "    </tr>\n",
       "    <tr>\n",
       "      <th>3</th>\n",
       "      <td>Apprenticeships key to unlocking housing crisi...</td>\n",
       "      <td>2020</td>\n",
       "      <td>[apprenticeship, key, unlock, hous, crisi, sol...</td>\n",
       "    </tr>\n",
       "    <tr>\n",
       "      <th>4</th>\n",
       "      <td>'I work very hard': Darragh O'Brien insists he...</td>\n",
       "      <td>2020</td>\n",
       "      <td>[', work, hard, ', :, darragh, o'brien, insist...</td>\n",
       "    </tr>\n",
       "  </tbody>\n",
       "</table>\n",
       "</div>"
      ],
      "text/plain": [
       "                                               title  year  \\\n",
       "0  Cabinet to discuss impact of housing Ukrainian...  2020   \n",
       "1  Spending on housing 32.5% lower than planned f...  2020   \n",
       "2     gov.ie - Castletown House to host Other Voices  2020   \n",
       "3  Apprenticeships key to unlocking housing crisi...  2020   \n",
       "4  'I work very hard': Darragh O'Brien insists he...  2020   \n",
       "\n",
       "                                         title_token  \n",
       "0  [cabinet, discuss, impact, hous, ukrainian, up...  \n",
       "1  [spend, hous, 32.5, %, lower, plan, first, fou...  \n",
       "2           [gov.i, -, castletown, hous, host, voic]  \n",
       "3  [apprenticeship, key, unlock, hous, crisi, sol...  \n",
       "4  [', work, hard, ', :, darragh, o'brien, insist...  "
      ]
     },
     "execution_count": 128,
     "metadata": {},
     "output_type": "execute_result"
    }
   ],
   "source": [
    "test.head()"
   ]
  },
  {
   "cell_type": "code",
   "execution_count": 130,
   "id": "43a44692",
   "metadata": {},
   "outputs": [],
   "source": [
    "def is_letter_only(word):\n",
    "    for char in word:\n",
    "        if not char.isalpha():\n",
    "            return False\n",
    "    return True"
   ]
  },
  {
   "cell_type": "code",
   "execution_count": 131,
   "id": "f1951dcd",
   "metadata": {},
   "outputs": [
    {
     "name": "stdout",
     "output_type": "stream",
     "text": [
      "['cabinet', 'discuss', 'impact', 'hous', 'ukrainian', 'upcom', '...']\n"
     ]
    },
    {
     "ename": "AttributeError",
     "evalue": "'list' object has no attribute 'split'",
     "output_type": "error",
     "traceback": [
      "\u001b[1;31m---------------------------------------------------------------------------\u001b[0m",
      "\u001b[1;31mAttributeError\u001b[0m                            Traceback (most recent call last)",
      "\u001b[1;32m~\\AppData\\Local\\Temp/ipykernel_28808/2456157527.py\u001b[0m in \u001b[0;36m<module>\u001b[1;34m\u001b[0m\n\u001b[0;32m      4\u001b[0m \u001b[1;32mfor\u001b[0m \u001b[0mdoc\u001b[0m \u001b[1;32min\u001b[0m \u001b[0mtest\u001b[0m\u001b[1;33m[\u001b[0m\u001b[1;34m'title_token'\u001b[0m\u001b[1;33m]\u001b[0m\u001b[1;33m:\u001b[0m\u001b[1;33m\u001b[0m\u001b[1;33m\u001b[0m\u001b[0m\n\u001b[0;32m      5\u001b[0m     \u001b[0mprint\u001b[0m\u001b[1;33m(\u001b[0m\u001b[0mdoc\u001b[0m\u001b[1;33m)\u001b[0m\u001b[1;33m\u001b[0m\u001b[1;33m\u001b[0m\u001b[0m\n\u001b[1;32m----> 6\u001b[1;33m     \u001b[0mdoc_cleaned\u001b[0m \u001b[1;33m=\u001b[0m \u001b[1;34m' '\u001b[0m\u001b[1;33m.\u001b[0m\u001b[0mjoin\u001b[0m\u001b[1;33m(\u001b[0m\u001b[0mword\u001b[0m \u001b[1;32mfor\u001b[0m \u001b[0mword\u001b[0m \u001b[1;32min\u001b[0m \u001b[0mdoc\u001b[0m\u001b[1;33m.\u001b[0m\u001b[0msplit\u001b[0m\u001b[1;33m(\u001b[0m\u001b[1;33m)\u001b[0m \u001b[1;32mif\u001b[0m \u001b[0mis_letter_only\u001b[0m\u001b[1;33m(\u001b[0m\u001b[0mword\u001b[0m\u001b[1;33m)\u001b[0m\u001b[1;33m)\u001b[0m\u001b[1;33m\u001b[0m\u001b[1;33m\u001b[0m\u001b[0m\n\u001b[0m\u001b[0;32m      7\u001b[0m     \u001b[0mdata_cleaned\u001b[0m\u001b[1;33m.\u001b[0m\u001b[0mappend\u001b[0m\u001b[1;33m(\u001b[0m\u001b[0mdoc_cleaned\u001b[0m\u001b[1;33m)\u001b[0m\u001b[1;33m\u001b[0m\u001b[1;33m\u001b[0m\u001b[0m\n",
      "\u001b[1;31mAttributeError\u001b[0m: 'list' object has no attribute 'split'"
     ]
    }
   ],
   "source": [
    "data_cleaned = []\n",
    "\n",
    "# Create a loop for all documents\n",
    "for doc in test['title_token']:\n",
    "    print(doc)\n",
    "    doc_cleaned = ' '.join(word for word in doc.split() if is_letter_only(word))\n",
    "    data_cleaned.append(doc_cleaned)\n"
   ]
  }
 ],
 "metadata": {
  "kernelspec": {
   "display_name": "Python 3 (ipykernel)",
   "language": "python",
   "name": "python3"
  },
  "language_info": {
   "codemirror_mode": {
    "name": "ipython",
    "version": 3
   },
   "file_extension": ".py",
   "mimetype": "text/x-python",
   "name": "python",
   "nbconvert_exporter": "python",
   "pygments_lexer": "ipython3",
   "version": "3.9.7"
  }
 },
 "nbformat": 4,
 "nbformat_minor": 5
}
