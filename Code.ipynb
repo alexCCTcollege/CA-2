{
 "cells": [
  {
   "cell_type": "code",
   "execution_count": 17,
   "id": "b3f886ab",
   "metadata": {},
   "outputs": [],
   "source": [
    "import pandas as pd\n",
    "import numpy as np\n",
    "from GoogleNews import GoogleNews"
   ]
  },
  {
   "cell_type": "code",
   "execution_count": 88,
   "id": "0cf2d97d",
   "metadata": {},
   "outputs": [],
   "source": [
    "dict_time = {'06/01/2020' : '12/31/2020',\n",
    "             '06/01/2021' : '12/31/2021',\n",
    "             '06/01/2022' : '12/31/2022',\n",
    "             '06/01/2023' : '12/31/2023',\n",
    "             '06/01/2019' : '12/31/2019',\n",
    "             '06/01/2018' : '12/31/2018',\n",
    "             '06/01/2017' : '12/31/2017',\n",
    "             '06/01/2016' : '12/31/2016',\n",
    "             '06/01/2015' : '12/31/2015',\n",
    "             '06/01/2014' : '12/31/2014',\n",
    "             '01/01/2020' : '06/01/2020',\n",
    "             '01/01/2021' : '06/01/2021',\n",
    "             '01/01/2022' : '06/01/2022',\n",
    "             '01/01/2023' : '06/01/2023',\n",
    "             '01/01/2019' : '06/01/2019',\n",
    "             '01/01/2018' : '06/01/2018',\n",
    "             '01/01/2017' : '06/01/2017',\n",
    "             '01/01/2016' : '06/01/2016',\n",
    "             '01/01/2015' : '06/01/2015',\n",
    "             '01/01/2014' : '06/01/2014'}\n",
    "\n",
    "df_final = pd.DataFrame()\n",
    "\n",
    "for x in dict_time:\n",
    "    googlenews = GoogleNews(start=x,end=dict_time[x])\n",
    "    googlenews.get_news('Housing Ireland')\n",
    "    googlenews.enableException(True)\n",
    "    result_FINAL = googlenews.result(sort=True)\n",
    "    df_n = pd.DataFrame(result_FINAL)\n",
    "    df_final = df_final.append(df_n)"
   ]
  },
  {
   "cell_type": "code",
   "execution_count": 89,
   "id": "bbf4408d",
   "metadata": {},
   "outputs": [
    {
     "data": {
      "text/plain": [
       "(1973, 8)"
      ]
     },
     "execution_count": 89,
     "metadata": {},
     "output_type": "execute_result"
    }
   ],
   "source": [
    "df_final = df_final.drop_duplicates()\n",
    "df_final.shape"
   ]
  },
  {
   "cell_type": "code",
   "execution_count": 90,
   "id": "3b6373e5",
   "metadata": {},
   "outputs": [
    {
     "data": {
      "text/html": [
       "<div>\n",
       "<style scoped>\n",
       "    .dataframe tbody tr th:only-of-type {\n",
       "        vertical-align: middle;\n",
       "    }\n",
       "\n",
       "    .dataframe tbody tr th {\n",
       "        vertical-align: top;\n",
       "    }\n",
       "\n",
       "    .dataframe thead th {\n",
       "        text-align: right;\n",
       "    }\n",
       "</style>\n",
       "<table border=\"1\" class=\"dataframe\">\n",
       "  <thead>\n",
       "    <tr style=\"text-align: right;\">\n",
       "      <th></th>\n",
       "      <th>title</th>\n",
       "      <th>desc</th>\n",
       "      <th>date</th>\n",
       "      <th>datetime</th>\n",
       "      <th>link</th>\n",
       "      <th>img</th>\n",
       "      <th>media</th>\n",
       "      <th>site</th>\n",
       "    </tr>\n",
       "  </thead>\n",
       "  <tbody>\n",
       "    <tr>\n",
       "      <th>0</th>\n",
       "      <td>One third of voters think Sinn Féin can solve ...</td>\n",
       "      <td>None</td>\n",
       "      <td>12 hours ago</td>\n",
       "      <td>2023-04-30 09:47:19.230740</td>\n",
       "      <td>news.google.com/./articles/CBMiZmh0dHBzOi8vd3d...</td>\n",
       "      <td>https://lh3.googleusercontent.com/L0CCOoBbdEeT...</td>\n",
       "      <td>Newstalk</td>\n",
       "      <td>None</td>\n",
       "    </tr>\n",
       "    <tr>\n",
       "      <th>1</th>\n",
       "      <td>Housing Measures: What's changed, what will im...</td>\n",
       "      <td>None</td>\n",
       "      <td>14 hours ago</td>\n",
       "      <td>2023-04-30 07:47:19.221658</td>\n",
       "      <td>news.google.com/./articles/CBMiO2h0dHBzOi8vd3d...</td>\n",
       "      <td>https://encrypted-tbn0.gstatic.com/faviconV2?u...</td>\n",
       "      <td>RTE.ie</td>\n",
       "      <td>None</td>\n",
       "    </tr>\n",
       "    <tr>\n",
       "      <th>2</th>\n",
       "      <td>Ireland's largest private landlord facing AGM ...</td>\n",
       "      <td>None</td>\n",
       "      <td>16 hours ago</td>\n",
       "      <td>2023-04-30 05:47:19.227657</td>\n",
       "      <td>news.google.com/./articles/CBMiaWh0dHBzOi8vd3d...</td>\n",
       "      <td>https://encrypted-tbn0.gstatic.com/faviconV2?u...</td>\n",
       "      <td>RTE.ie</td>\n",
       "      <td>None</td>\n",
       "    </tr>\n",
       "    <tr>\n",
       "      <th>3</th>\n",
       "      <td>Roderic O'Gorman 'displeased' over tree fellin...</td>\n",
       "      <td>None</td>\n",
       "      <td>19 hours ago</td>\n",
       "      <td>2023-04-30 02:47:19.238806</td>\n",
       "      <td>news.google.com/./articles/CBMifmh0dHBzOi8vd3d...</td>\n",
       "      <td>https://lh3.googleusercontent.com/kTyLj7syU8e5...</td>\n",
       "      <td>Independent.ie</td>\n",
       "      <td>None</td>\n",
       "    </tr>\n",
       "    <tr>\n",
       "      <th>4</th>\n",
       "      <td>FactFind: Was the 2008 crash caused by buildin...</td>\n",
       "      <td>None</td>\n",
       "      <td>21 hours ago</td>\n",
       "      <td>2023-04-30 00:47:19.222648</td>\n",
       "      <td>news.google.com/./articles/CBMiVmh0dHBzOi8vd3d...</td>\n",
       "      <td>https://lh3.googleusercontent.com/qgMy3IS7uLh6...</td>\n",
       "      <td>TheJournal.ie</td>\n",
       "      <td>None</td>\n",
       "    </tr>\n",
       "  </tbody>\n",
       "</table>\n",
       "</div>"
      ],
      "text/plain": [
       "                                               title  desc          date  \\\n",
       "0  One third of voters think Sinn Féin can solve ...  None  12 hours ago   \n",
       "1  Housing Measures: What's changed, what will im...  None  14 hours ago   \n",
       "2  Ireland's largest private landlord facing AGM ...  None  16 hours ago   \n",
       "3  Roderic O'Gorman 'displeased' over tree fellin...  None  19 hours ago   \n",
       "4  FactFind: Was the 2008 crash caused by buildin...  None  21 hours ago   \n",
       "\n",
       "                    datetime  \\\n",
       "0 2023-04-30 09:47:19.230740   \n",
       "1 2023-04-30 07:47:19.221658   \n",
       "2 2023-04-30 05:47:19.227657   \n",
       "3 2023-04-30 02:47:19.238806   \n",
       "4 2023-04-30 00:47:19.222648   \n",
       "\n",
       "                                                link  \\\n",
       "0  news.google.com/./articles/CBMiZmh0dHBzOi8vd3d...   \n",
       "1  news.google.com/./articles/CBMiO2h0dHBzOi8vd3d...   \n",
       "2  news.google.com/./articles/CBMiaWh0dHBzOi8vd3d...   \n",
       "3  news.google.com/./articles/CBMifmh0dHBzOi8vd3d...   \n",
       "4  news.google.com/./articles/CBMiVmh0dHBzOi8vd3d...   \n",
       "\n",
       "                                                 img           media  site  \n",
       "0  https://lh3.googleusercontent.com/L0CCOoBbdEeT...        Newstalk  None  \n",
       "1  https://encrypted-tbn0.gstatic.com/faviconV2?u...          RTE.ie  None  \n",
       "2  https://encrypted-tbn0.gstatic.com/faviconV2?u...          RTE.ie  None  \n",
       "3  https://lh3.googleusercontent.com/kTyLj7syU8e5...  Independent.ie  None  \n",
       "4  https://lh3.googleusercontent.com/qgMy3IS7uLh6...   TheJournal.ie  None  "
      ]
     },
     "execution_count": 90,
     "metadata": {},
     "output_type": "execute_result"
    }
   ],
   "source": [
    "df_final.head()"
   ]
  }
 ],
 "metadata": {
  "kernelspec": {
   "display_name": "Python 3 (ipykernel)",
   "language": "python",
   "name": "python3"
  },
  "language_info": {
   "codemirror_mode": {
    "name": "ipython",
    "version": 3
   },
   "file_extension": ".py",
   "mimetype": "text/x-python",
   "name": "python",
   "nbconvert_exporter": "python",
   "pygments_lexer": "ipython3",
   "version": "3.9.7"
  }
 },
 "nbformat": 4,
 "nbformat_minor": 5
}
