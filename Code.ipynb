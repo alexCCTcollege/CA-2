{
 "cells": [
  {
   "cell_type": "code",
   "execution_count": 5,
   "id": "b3f886ab",
   "metadata": {},
   "outputs": [],
   "source": [
    "\n",
    "# code file\n",
    "import pandas as pandas\n",
    "import numpy as np\n",
    "from bs4 import BeautifulSoup as bs\n",
    "import urllib.request,sys,time\n",
    "import requests"
   ]
  },
  {
   "cell_type": "code",
   "execution_count": 7,
   "id": "baa77918",
   "metadata": {},
   "outputs": [
    {
     "name": "stdout",
     "output_type": "stream",
     "text": [
      "HTTP Error 429: Too Many Requests\n",
      "0\n"
     ]
    }
   ],
   "source": [
    "from GoogleNews import GoogleNews\n",
    "from newspaper import Article\n",
    "import pandas as pd\n",
    "\n",
    "#googlenews = GoogleNews(lang='en', region='US')\n",
    "\n",
    "googlenews = GoogleNews(start='01/01/2013', end='04/04/2023')\n",
    "googlenews.search('Housing Ireland')\n",
    "result = googlenews.result(sort=True)\n",
    "df = pd.DataFrame.from_dict(result)\n",
    "print(googlenews.total_count())\n",
    "titles = googlenews.get_texts()"
   ]
  }
 ],
 "metadata": {
  "kernelspec": {
   "display_name": "Python 3 (ipykernel)",
   "language": "python",
   "name": "python3"
  },
  "language_info": {
   "codemirror_mode": {
    "name": "ipython",
    "version": 3
   },
   "file_extension": ".py",
   "mimetype": "text/x-python",
   "name": "python",
   "nbconvert_exporter": "python",
   "pygments_lexer": "ipython3",
   "version": "3.9.7"
  }
 },
 "nbformat": 4,
 "nbformat_minor": 5
}
