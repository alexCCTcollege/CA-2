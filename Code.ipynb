{
 "cells": [
  {
   "cell_type": "code",
   "execution_count": 323,
   "id": "b3f886ab",
   "metadata": {},
   "outputs": [
    {
     "name": "stderr",
     "output_type": "stream",
     "text": [
      "[nltk_data] Downloading package stopwords to\n",
      "[nltk_data]     C:\\Users\\santi\\AppData\\Roaming\\nltk_data...\n",
      "[nltk_data]   Package stopwords is already up-to-date!\n"
     ]
    },
    {
     "data": {
      "text/plain": [
       "True"
      ]
     },
     "execution_count": 323,
     "metadata": {},
     "output_type": "execute_result"
    }
   ],
   "source": [
    "import os\n",
    "import pandas as pd\n",
    "import numpy as np\n",
    "from GoogleNews import GoogleNews\n",
    "import seaborn as sns\n",
    "import matplotlib.pyplot as plt\n",
    "from PIL import Image\n",
    "from os import path\n",
    "from nltk.corpus import stopwords\n",
    "from textblob import TextBlob\n",
    "import statsmodels.api as sm\n",
    "from scipy import stats\n",
    "from nltk.probability import FreqDist\n",
    "import nltk\n",
    "nltk.download('stopwords')"
   ]
  },
  {
   "attachments": {},
   "cell_type": "markdown",
   "id": "ece28345",
   "metadata": {},
   "source": [
    "In order to extract articles I'm going to use a library called GoogleNews\n",
    "https://pypi.org/project/GoogleNews/\n",
    "\n",
    "license here:\n",
    "https://github.com/Iceloof/GoogleNews/blob/master/LICENSE"
   ]
  },
  {
   "cell_type": "code",
   "execution_count": 212,
   "id": "0cf2d97d",
   "metadata": {},
   "outputs": [],
   "source": [
    "dict_time = {'06/01/2020' : '12/31/2020',\n",
    "             '06/01/2021' : '12/31/2021',\n",
    "             '06/01/2022' : '12/31/2022',\n",
    "             '06/01/2023' : '12/31/2023',\n",
    "             '06/01/2019' : '12/31/2019',\n",
    "             '06/01/2018' : '12/31/2018',\n",
    "             '06/01/2017' : '12/31/2017',\n",
    "             '06/01/2016' : '12/31/2016',\n",
    "             '06/01/2015' : '12/31/2015',\n",
    "             '06/01/2014' : '12/31/2014',\n",
    "             '01/01/2020' : '06/01/2020',\n",
    "             '01/01/2021' : '06/01/2021',\n",
    "             '01/01/2022' : '06/01/2022',\n",
    "             '01/01/2023' : '06/01/2023',\n",
    "             '01/01/2019' : '06/01/2019',\n",
    "             '01/01/2018' : '06/01/2018',\n",
    "             '01/01/2017' : '06/01/2017',\n",
    "             '01/01/2016' : '06/01/2016',\n",
    "             '01/01/2015' : '06/01/2015',\n",
    "             '01/01/2014' : '06/01/2014'}\n",
    "\n",
    "def search_gn(s):\n",
    "  df_final = pd.DataFrame()\n",
    "  for x in dict_time:\n",
    "    googlenews = GoogleNews(start=x,end=dict_time[x])\n",
    "    googlenews.get_news(s)\n",
    "    googlenews.enableException(True)\n",
    "    result_FINAL = googlenews.result(sort=True)\n",
    "    df_n = pd.DataFrame(result_FINAL)\n",
    "    df_n['year'] = dict_time[x]\n",
    "    df_n['year']= df_n['year'].str[-4:]\n",
    "    df_final = df_final.append(df_n)\n",
    "    \n",
    "  return df_final"
   ]
  },
  {
   "cell_type": "code",
   "execution_count": 213,
   "id": "243bfa5c",
   "metadata": {},
   "outputs": [],
   "source": [
    "Ireland = search_gn('Housing Ireland') \n",
    "Uk = search_gn('Housing UK') \n",
    "USA = search_gn('Housing USA') "
   ]
  },
  {
   "cell_type": "code",
   "execution_count": 224,
   "id": "bbf4408d",
   "metadata": {},
   "outputs": [],
   "source": [
    "Ireland = Ireland.drop_duplicates()\n",
    "Uk = Uk.drop_duplicates()\n",
    "USA = USA.drop_duplicates()\n",
    "\n",
    "Ireland['Country'] = 'Eire'\n",
    "Uk['Country'] = 'UK'\n",
    "USA['Country'] = 'USA'"
   ]
  },
  {
   "cell_type": "code",
   "execution_count": 238,
   "id": "b0248a48",
   "metadata": {},
   "outputs": [
    {
     "name": "stdout",
     "output_type": "stream",
     "text": [
      "<class 'pandas.core.frame.DataFrame'>\n",
      "Int64Index: 4160 entries, 0 to 85\n",
      "Data columns (total 10 columns):\n",
      " #   Column    Non-Null Count  Dtype         \n",
      "---  ------    --------------  -----         \n",
      " 0   title     4160 non-null   object        \n",
      " 1   desc      0 non-null      object        \n",
      " 2   date      4160 non-null   object        \n",
      " 3   datetime  4160 non-null   datetime64[ns]\n",
      " 4   link      4160 non-null   object        \n",
      " 5   img       4160 non-null   object        \n",
      " 6   media     4160 non-null   object        \n",
      " 7   site      0 non-null      object        \n",
      " 8   year      4160 non-null   object        \n",
      " 9   Country   4160 non-null   object        \n",
      "dtypes: datetime64[ns](1), object(9)\n",
      "memory usage: 357.5+ KB\n"
     ]
    }
   ],
   "source": [
    "frames = [Ireland,USA,Uk]\n",
    "Headlines = pd.concat(frames)\n",
    "Headlines.info()"
   ]
  },
  {
   "cell_type": "code",
   "execution_count": 239,
   "id": "1006fc3d",
   "metadata": {},
   "outputs": [
    {
     "data": {
      "text/html": [
       "<div>\n",
       "<style scoped>\n",
       "    .dataframe tbody tr th:only-of-type {\n",
       "        vertical-align: middle;\n",
       "    }\n",
       "\n",
       "    .dataframe tbody tr th {\n",
       "        vertical-align: top;\n",
       "    }\n",
       "\n",
       "    .dataframe thead th {\n",
       "        text-align: right;\n",
       "    }\n",
       "</style>\n",
       "<table border=\"1\" class=\"dataframe\">\n",
       "  <thead>\n",
       "    <tr style=\"text-align: right;\">\n",
       "      <th></th>\n",
       "      <th>title</th>\n",
       "      <th>desc</th>\n",
       "      <th>date</th>\n",
       "      <th>datetime</th>\n",
       "      <th>link</th>\n",
       "      <th>img</th>\n",
       "      <th>media</th>\n",
       "      <th>site</th>\n",
       "      <th>year</th>\n",
       "      <th>Country</th>\n",
       "    </tr>\n",
       "  </thead>\n",
       "  <tbody>\n",
       "    <tr>\n",
       "      <th>0</th>\n",
       "      <td>Oliver Mangan: Sweet spot means we can tackle ...</td>\n",
       "      <td>None</td>\n",
       "      <td>55 minutes ago</td>\n",
       "      <td>2023-05-01 13:49:33.360467</td>\n",
       "      <td>news.google.com/./articles/CBMiQWh0dHBzOi8vd3d...</td>\n",
       "      <td>https://lh3.googleusercontent.com/pZ5_jocQtI4K...</td>\n",
       "      <td>Irish Examiner</td>\n",
       "      <td>None</td>\n",
       "      <td>2020</td>\n",
       "      <td>Eire</td>\n",
       "    </tr>\n",
       "    <tr>\n",
       "      <th>1</th>\n",
       "      <td>Ciarán Nugent: Young people have good reason t...</td>\n",
       "      <td>None</td>\n",
       "      <td>1 hour ago</td>\n",
       "      <td>2023-05-01 13:44:33.362777</td>\n",
       "      <td>news.google.com/./articles/CBMiQWh0dHBzOi8vd3d...</td>\n",
       "      <td>https://lh3.googleusercontent.com/pZ5_jocQtI4K...</td>\n",
       "      <td>Irish Examiner</td>\n",
       "      <td>None</td>\n",
       "      <td>2020</td>\n",
       "      <td>Eire</td>\n",
       "    </tr>\n",
       "    <tr>\n",
       "      <th>2</th>\n",
       "      <td>FactFind: Was the 2008 crash caused by buildin...</td>\n",
       "      <td>None</td>\n",
       "      <td>1 hour ago</td>\n",
       "      <td>2023-05-01 13:44:33.357467</td>\n",
       "      <td>news.google.com/./articles/CBMiVmh0dHBzOi8vd3d...</td>\n",
       "      <td>https://lh3.googleusercontent.com/qgMy3IS7uLh6...</td>\n",
       "      <td>TheJournal.ie</td>\n",
       "      <td>None</td>\n",
       "      <td>2020</td>\n",
       "      <td>Eire</td>\n",
       "    </tr>\n",
       "    <tr>\n",
       "      <th>3</th>\n",
       "      <td>Ireland: Teaching by example: housing your emp...</td>\n",
       "      <td>None</td>\n",
       "      <td>4 hours ago</td>\n",
       "      <td>2023-05-01 10:44:33.363776</td>\n",
       "      <td>news.google.com/./articles/CBMiiwFodHRwczovL3d...</td>\n",
       "      <td>https://lh3.googleusercontent.com/nzOrQvRJTDSm...</td>\n",
       "      <td>Aspen Daily News</td>\n",
       "      <td>None</td>\n",
       "      <td>2020</td>\n",
       "      <td>Eire</td>\n",
       "    </tr>\n",
       "    <tr>\n",
       "      <th>4</th>\n",
       "      <td>Nursing is in crisis – how can it be resolved?</td>\n",
       "      <td>None</td>\n",
       "      <td>12 hours ago</td>\n",
       "      <td>2023-05-01 02:44:33.370563</td>\n",
       "      <td>news.google.com/./articles/CBMiSGh0dHBzOi8vd3d...</td>\n",
       "      <td>https://lh3.googleusercontent.com/pZ5_jocQtI4K...</td>\n",
       "      <td>Irish Examiner</td>\n",
       "      <td>None</td>\n",
       "      <td>2020</td>\n",
       "      <td>Eire</td>\n",
       "    </tr>\n",
       "  </tbody>\n",
       "</table>\n",
       "</div>"
      ],
      "text/plain": [
       "                                               title  desc            date  \\\n",
       "0  Oliver Mangan: Sweet spot means we can tackle ...  None  55 minutes ago   \n",
       "1  Ciarán Nugent: Young people have good reason t...  None      1 hour ago   \n",
       "2  FactFind: Was the 2008 crash caused by buildin...  None      1 hour ago   \n",
       "3  Ireland: Teaching by example: housing your emp...  None     4 hours ago   \n",
       "4     Nursing is in crisis – how can it be resolved?  None    12 hours ago   \n",
       "\n",
       "                    datetime  \\\n",
       "0 2023-05-01 13:49:33.360467   \n",
       "1 2023-05-01 13:44:33.362777   \n",
       "2 2023-05-01 13:44:33.357467   \n",
       "3 2023-05-01 10:44:33.363776   \n",
       "4 2023-05-01 02:44:33.370563   \n",
       "\n",
       "                                                link  \\\n",
       "0  news.google.com/./articles/CBMiQWh0dHBzOi8vd3d...   \n",
       "1  news.google.com/./articles/CBMiQWh0dHBzOi8vd3d...   \n",
       "2  news.google.com/./articles/CBMiVmh0dHBzOi8vd3d...   \n",
       "3  news.google.com/./articles/CBMiiwFodHRwczovL3d...   \n",
       "4  news.google.com/./articles/CBMiSGh0dHBzOi8vd3d...   \n",
       "\n",
       "                                                 img             media  site  \\\n",
       "0  https://lh3.googleusercontent.com/pZ5_jocQtI4K...    Irish Examiner  None   \n",
       "1  https://lh3.googleusercontent.com/pZ5_jocQtI4K...    Irish Examiner  None   \n",
       "2  https://lh3.googleusercontent.com/qgMy3IS7uLh6...     TheJournal.ie  None   \n",
       "3  https://lh3.googleusercontent.com/nzOrQvRJTDSm...  Aspen Daily News  None   \n",
       "4  https://lh3.googleusercontent.com/pZ5_jocQtI4K...    Irish Examiner  None   \n",
       "\n",
       "   year Country  \n",
       "0  2020    Eire  \n",
       "1  2020    Eire  \n",
       "2  2020    Eire  \n",
       "3  2020    Eire  \n",
       "4  2020    Eire  "
      ]
     },
     "execution_count": 239,
     "metadata": {},
     "output_type": "execute_result"
    }
   ],
   "source": [
    "Headlines.head()"
   ]
  },
  {
   "cell_type": "code",
   "execution_count": 240,
   "id": "bbd4bc83",
   "metadata": {},
   "outputs": [
    {
     "data": {
      "text/html": [
       "<div>\n",
       "<style scoped>\n",
       "    .dataframe tbody tr th:only-of-type {\n",
       "        vertical-align: middle;\n",
       "    }\n",
       "\n",
       "    .dataframe tbody tr th {\n",
       "        vertical-align: top;\n",
       "    }\n",
       "\n",
       "    .dataframe thead th {\n",
       "        text-align: right;\n",
       "    }\n",
       "</style>\n",
       "<table border=\"1\" class=\"dataframe\">\n",
       "  <thead>\n",
       "    <tr style=\"text-align: right;\">\n",
       "      <th></th>\n",
       "      <th>title</th>\n",
       "      <th>media</th>\n",
       "      <th>year</th>\n",
       "      <th>Country</th>\n",
       "    </tr>\n",
       "  </thead>\n",
       "  <tbody>\n",
       "    <tr>\n",
       "      <th>0</th>\n",
       "      <td>Oliver Mangan: Sweet spot means we can tackle ...</td>\n",
       "      <td>Irish Examiner</td>\n",
       "      <td>2020</td>\n",
       "      <td>Eire</td>\n",
       "    </tr>\n",
       "    <tr>\n",
       "      <th>1</th>\n",
       "      <td>Ciarán Nugent: Young people have good reason t...</td>\n",
       "      <td>Irish Examiner</td>\n",
       "      <td>2020</td>\n",
       "      <td>Eire</td>\n",
       "    </tr>\n",
       "    <tr>\n",
       "      <th>2</th>\n",
       "      <td>FactFind: Was the 2008 crash caused by buildin...</td>\n",
       "      <td>TheJournal.ie</td>\n",
       "      <td>2020</td>\n",
       "      <td>Eire</td>\n",
       "    </tr>\n",
       "    <tr>\n",
       "      <th>3</th>\n",
       "      <td>Ireland: Teaching by example: housing your emp...</td>\n",
       "      <td>Aspen Daily News</td>\n",
       "      <td>2020</td>\n",
       "      <td>Eire</td>\n",
       "    </tr>\n",
       "    <tr>\n",
       "      <th>4</th>\n",
       "      <td>Nursing is in crisis – how can it be resolved?</td>\n",
       "      <td>Irish Examiner</td>\n",
       "      <td>2020</td>\n",
       "      <td>Eire</td>\n",
       "    </tr>\n",
       "  </tbody>\n",
       "</table>\n",
       "</div>"
      ],
      "text/plain": [
       "                                               title             media  year  \\\n",
       "0  Oliver Mangan: Sweet spot means we can tackle ...    Irish Examiner  2020   \n",
       "1  Ciarán Nugent: Young people have good reason t...    Irish Examiner  2020   \n",
       "2  FactFind: Was the 2008 crash caused by buildin...     TheJournal.ie  2020   \n",
       "3  Ireland: Teaching by example: housing your emp...  Aspen Daily News  2020   \n",
       "4     Nursing is in crisis – how can it be resolved?    Irish Examiner  2020   \n",
       "\n",
       "  Country  \n",
       "0    Eire  \n",
       "1    Eire  \n",
       "2    Eire  \n",
       "3    Eire  \n",
       "4    Eire  "
      ]
     },
     "execution_count": 240,
     "metadata": {},
     "output_type": "execute_result"
    }
   ],
   "source": [
    "headlines = Headlines[['title','media','year','Country']]\n",
    "headlines.head()"
   ]
  },
  {
   "cell_type": "code",
   "execution_count": 241,
   "id": "f175498a",
   "metadata": {},
   "outputs": [
    {
     "data": {
      "text/plain": [
       "title      0\n",
       "media      0\n",
       "year       0\n",
       "Country    0\n",
       "dtype: int64"
      ]
     },
     "execution_count": 241,
     "metadata": {},
     "output_type": "execute_result"
    }
   ],
   "source": [
    "headlines.isna().sum()"
   ]
  },
  {
   "cell_type": "code",
   "execution_count": 242,
   "id": "5ff61573",
   "metadata": {},
   "outputs": [
    {
     "data": {
      "text/plain": [
       "Text(0.5, 1.0, 'Number of articles by newspaper')"
      ]
     },
     "execution_count": 242,
     "metadata": {},
     "output_type": "execute_result"
    },
    {
     "data": {
      "image/png": "[encoded data removed]",
      "text/plain": [
       "<Figure size 432x288 with 1 Axes>"
      ]
     },
     "metadata": {},
     "output_type": "display_data"
    }
   ],
   "source": [
    "custom = {\"axes.edgecolor\": \"black\", \"grid.color\": \"white\"}\n",
    "sns.set_style(\"darkgrid\", rc = custom)\n",
    "ax = sns.countplot(y=headlines[\"media\"], order=headlines.media.value_counts().iloc[:10].index)\n",
    "ax.bar_label(ax.containers[0], padding=-20, color='white', fontsize=10)\n",
    "headlines[\"media\"].unique()\n",
    "ax.set_xlabel(\"Number of articles\",fontsize=12)\n",
    "ax.set_ylabel(\" \")\n",
    "ax.set_title(\"Number of articles by newspaper\",fontsize=14)"
   ]
  },
  {
   "cell_type": "code",
   "execution_count": 245,
   "id": "853cdd6f",
   "metadata": {},
   "outputs": [
    {
     "name": "stderr",
     "output_type": "stream",
     "text": [
      "C:\\Users\\santi\\AppData\\Local\\Temp/ipykernel_4056/2986002967.py:7: SettingWithCopyWarning: \n",
      "A value is trying to be set on a copy of a slice from a DataFrame.\n",
      "Try using .loc[row_indexer,col_indexer] = value instead\n",
      "\n",
      "See the caveats in the documentation: https://pandas.pydata.org/pandas-docs/stable/user_guide/indexing.html#returning-a-view-versus-a-copy\n",
      "  headlines['polarity'] = headlines['title'].apply(sentiment_calc)\n"
     ]
    }
   ],
   "source": [
    "def sentiment_calc(text):\n",
    "    try:\n",
    "        return TextBlob(text).polarity  #there's also subjectivity if we want\n",
    "    except:\n",
    "        return None\n",
    "\n",
    "headlines['polarity'] = headlines['title'].apply(sentiment_calc)"
   ]
  },
  {
   "cell_type": "code",
   "execution_count": 246,
   "id": "f2fd3b71",
   "metadata": {},
   "outputs": [
    {
     "data": {
      "text/html": [
       "<div>\n",
       "<style scoped>\n",
       "    .dataframe tbody tr th:only-of-type {\n",
       "        vertical-align: middle;\n",
       "    }\n",
       "\n",
       "    .dataframe tbody tr th {\n",
       "        vertical-align: top;\n",
       "    }\n",
       "\n",
       "    .dataframe thead th {\n",
       "        text-align: right;\n",
       "    }\n",
       "</style>\n",
       "<table border=\"1\" class=\"dataframe\">\n",
       "  <thead>\n",
       "    <tr style=\"text-align: right;\">\n",
       "      <th></th>\n",
       "      <th>title</th>\n",
       "      <th>media</th>\n",
       "      <th>year</th>\n",
       "      <th>Country</th>\n",
       "      <th>polarity</th>\n",
       "    </tr>\n",
       "  </thead>\n",
       "  <tbody>\n",
       "    <tr>\n",
       "      <th>0</th>\n",
       "      <td>Oliver Mangan: Sweet spot means we can tackle ...</td>\n",
       "      <td>Irish Examiner</td>\n",
       "      <td>2020</td>\n",
       "      <td>Eire</td>\n",
       "      <td>0.35</td>\n",
       "    </tr>\n",
       "    <tr>\n",
       "      <th>1</th>\n",
       "      <td>Ciarán Nugent: Young people have good reason t...</td>\n",
       "      <td>Irish Examiner</td>\n",
       "      <td>2020</td>\n",
       "      <td>Eire</td>\n",
       "      <td>0.40</td>\n",
       "    </tr>\n",
       "    <tr>\n",
       "      <th>2</th>\n",
       "      <td>FactFind: Was the 2008 crash caused by buildin...</td>\n",
       "      <td>TheJournal.ie</td>\n",
       "      <td>2020</td>\n",
       "      <td>Eire</td>\n",
       "      <td>0.50</td>\n",
       "    </tr>\n",
       "    <tr>\n",
       "      <th>3</th>\n",
       "      <td>Ireland: Teaching by example: housing your emp...</td>\n",
       "      <td>Aspen Daily News</td>\n",
       "      <td>2020</td>\n",
       "      <td>Eire</td>\n",
       "      <td>0.00</td>\n",
       "    </tr>\n",
       "    <tr>\n",
       "      <th>4</th>\n",
       "      <td>Nursing is in crisis – how can it be resolved?</td>\n",
       "      <td>Irish Examiner</td>\n",
       "      <td>2020</td>\n",
       "      <td>Eire</td>\n",
       "      <td>0.00</td>\n",
       "    </tr>\n",
       "  </tbody>\n",
       "</table>\n",
       "</div>"
      ],
      "text/plain": [
       "                                               title             media  year  \\\n",
       "0  Oliver Mangan: Sweet spot means we can tackle ...    Irish Examiner  2020   \n",
       "1  Ciarán Nugent: Young people have good reason t...    Irish Examiner  2020   \n",
       "2  FactFind: Was the 2008 crash caused by buildin...     TheJournal.ie  2020   \n",
       "3  Ireland: Teaching by example: housing your emp...  Aspen Daily News  2020   \n",
       "4     Nursing is in crisis – how can it be resolved?    Irish Examiner  2020   \n",
       "\n",
       "  Country  polarity  \n",
       "0    Eire      0.35  \n",
       "1    Eire      0.40  \n",
       "2    Eire      0.50  \n",
       "3    Eire      0.00  \n",
       "4    Eire      0.00  "
      ]
     },
     "execution_count": 246,
     "metadata": {},
     "output_type": "execute_result"
    }
   ],
   "source": [
    "headlines.head()"
   ]
  },
  {
   "cell_type": "code",
   "execution_count": 392,
   "id": "c0175acf",
   "metadata": {},
   "outputs": [
    {
     "data": {
      "text/plain": [
       "<AxesSubplot:xlabel='Country', ylabel='polarity'>"
      ]
     },
     "execution_count": 392,
     "metadata": {},
     "output_type": "execute_result"
    },
    {
     "data": {
      "image/png": "[encoded data removed]",
      "text/plain": [
       "<Figure size 1080x360 with 2 Axes>"
      ]
     },
     "metadata": {},
     "output_type": "display_data"
    }
   ],
   "source": [
    "headlines = headlines.sort_values('year')\n",
    "fig, ax = plt.subplots(1,2,figsize=(15, 5))\n",
    "fig.suptitle('Polarity scores by country',fontsize=18)\n",
    "sns.lineplot(data = headlines,x='year',y='polarity',hue='Country',ax=ax[0])\n",
    "sns.boxplot(y= 'polarity',data=headlines,x='Country',ax=ax[1])"
   ]
  },
  {
   "cell_type": "code",
   "execution_count": 388,
   "id": "31108c30",
   "metadata": {},
   "outputs": [
    {
     "name": "stdout",
     "output_type": "stream",
     "text": [
      "p value 0.0\n",
      "stat value 0.8271624445915222\n"
     ]
    },
    {
     "name": "stderr",
     "output_type": "stream",
     "text": [
      "c:\\Users\\santi\\anaconda3\\lib\\site-packages\\statsmodels\\graphics\\gofplots.py:993: UserWarning: marker is redundantly defined by the 'marker' keyword argument and the fmt string \"bo\" (-> marker='o'). The keyword argument will take precedence.\n",
      "  ax.plot(x, y, fmt, **plot_style)\n"
     ]
    },
    {
     "data": {
      "image/png": "[encoded data removed]",
      "text/plain": [
       "<Figure size 432x288 with 1 Axes>"
      ]
     },
     "metadata": {},
     "output_type": "display_data"
    }
   ],
   "source": [
    "fig = sm.qqplot(headlines['polarity'], line='45')\n",
    "plt.title('QQ plots')\n",
    "stat, p = shapiro(headlines['polarity'])\n",
    "print('p value ' + str(p))\n",
    "print('stat value ' + str(stat))"
   ]
  },
  {
   "cell_type": "code",
   "execution_count": 397,
   "id": "503ebbc5",
   "metadata": {},
   "outputs": [
    {
     "name": "stdout",
     "output_type": "stream",
     "text": [
      "Levene: LeveneResult(statistic=4.454076335346041, pvalue=0.011686619088025763) \n",
      " Anova : KruskalResult(statistic=106.74867635505025, pvalue=6.604188403409497e-24)\n"
     ]
    }
   ],
   "source": [
    "a = headlines[headlines['Country']=='Eire']\n",
    "b = headlines[headlines['Country']=='USA'] \n",
    "c = headlines[headlines['Country']=='UK']\n",
    "\n",
    "lev = stats.levene(a['polarity'],b['polarity'],c['polarity'], center='median')\n",
    "\n",
    "krus = stats.kruskal(a['polarity'],b['polarity'],c['polarity'])\n",
    "\n",
    "print(f'Levene: {lev} \\n Anova : {krus}')\n",
    "\n",
    "#remember to insert that kruskal wallis does not assume equal variance and normality, only random samples"
   ]
  },
  {
   "cell_type": "code",
   "execution_count": 319,
   "id": "7bff344d",
   "metadata": {},
   "outputs": [],
   "source": [
    "import string\n",
    "stopwords = set(stopwords.words(\"english\"))\n",
    "stopwords.add('housing')\n",
    "stopwords.add('house')\n",
    "stopwords.add('ireland')\n",
    "stopwords.add('usa')\n",
    "stopwords.add('uk')\n",
    "stopwords.add('us')\n",
    "stopwords.add(' ')\n",
    "stopwords.add('')\n",
    "stopwords.add('home')\n",
    "stopwords.add('homes')\n",
    "stopwords.add('irish')\n"
   ]
  },
  {
   "cell_type": "code",
   "execution_count": 320,
   "id": "46851229",
   "metadata": {},
   "outputs": [],
   "source": [
    "\n",
    "def tk(x):\n",
    "    text = x.str.cat(sep=' ')\n",
    "    tokens = nltk.word_tokenize(text)\n",
    "    tokens = [''.join(char for char in item if char not in string.punctuation) for item in tokens]\n",
    "    tokens = [x.lower() for x in tokens]\n",
    "    filtered_token = []\n",
    "    for w in tokens:\n",
    "        if w not in stopwords:\n",
    "          filtered_token.append(w)\n",
    "    return filtered_token\n",
    "\n",
    "eire = tk(a['title'])\n",
    "USA = tk(b['title'])\n",
    "uk = tk(c['title'])\n"
   ]
  },
  {
   "cell_type": "code",
   "execution_count": 398,
   "id": "8133b331",
   "metadata": {},
   "outputs": [
    {
     "data": {
      "image/png": "[encoded data removed]",
      "text/plain": [
       "<Figure size 1080x360 with 3 Axes>"
      ]
     },
     "metadata": {},
     "output_type": "display_data"
    }
   ],
   "source": [
    "from collections import Counter\n",
    "fig, ax = plt.subplots(1,3,figsize=(15, 5))\n",
    "fig.suptitle('Top 5 Most popular words in headlines by country',fontsize=16)\n",
    "a = Counter(eire)\n",
    "a = pd.DataFrame.from_dict(a, orient='index').reset_index()\n",
    "sns.barplot(y=0 ,x='index',data=a.nlargest(5, 0), ax=ax[0], palette= ['gray' if word != 'crisis' else 'orange' for word in a.nlargest(5, 0)['index']])\n",
    "ax[0].set_title('Ireland')\n",
    "ax[0].set(xlabel='words', ylabel='frequency')\n",
    "ax[0].tick_params(axis='x',labelrotation=45, labelsize=12)\n",
    "ax[0].tick_params(labelsize=12)\n",
    "a = Counter(USA)\n",
    "a = pd.DataFrame.from_dict(a, orient='index').reset_index()\n",
    "sns.barplot(y=0,x='index',data=a.nlargest(5, 0),ax=ax[1], palette= ['gray' if word != 'crisis' else 'orange' for word in a.nlargest(5, 0)['index']])\n",
    "ax[1].set_title('USA')\n",
    "ax[1].set(xlabel='words', ylabel='frequency')\n",
    "ax[1].tick_params(axis='x',labelrotation=45,labelsize=12)\n",
    "ax[1].tick_params(labelsize=12)\n",
    "a = Counter(uk)\n",
    "a = pd.DataFrame.from_dict(a, orient='index').reset_index()\n",
    "sns.barplot(y=0,x='index',data=a.nlargest(5, 0), ax=ax[2], palette= ['gray' if word != 'crisis' else 'orange' for word in a.nlargest(5, 0)['index']])\n",
    "ax[2].set_title('UK')\n",
    "ax[2].set(xlabel='words', ylabel='frequency')\n",
    "ax[2].tick_params(axis='x',labelrotation=45,labelsize=12)\n",
    "ax[2].tick_params(labelsize=12)\n"
   ]
  },
  {
   "cell_type": "code",
   "execution_count": null,
   "id": "d330f75d",
   "metadata": {},
   "outputs": [],
   "source": [
    "import plotly.express as px \n",
    "u = "
   ]
  }
 ],
 "metadata": {
  "kernelspec": {
   "display_name": "Python 3 (ipykernel)",
   "language": "python",
   "name": "python3"
  },
  "language_info": {
   "codemirror_mode": {
    "name": "ipython",
    "version": 3
   },
   "file_extension": ".py",
   "mimetype": "text/x-python",
   "name": "python",
   "nbconvert_exporter": "python",
   "pygments_lexer": "ipython3",
   "version": "3.9.7"
  }
 },
 "nbformat": 4,
 "nbformat_minor": 5
}
