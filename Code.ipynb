{
 "cells": [
  {
   "cell_type": "code",
   "execution_count": 171,
   "id": "b3f886ab",
   "metadata": {},
   "outputs": [],
   "source": [
    "import os\n",
    "import pandas as pd\n",
    "import numpy as np\n",
    "from GoogleNews import GoogleNews\n",
    "import seaborn as sns\n",
    "import matplotlib as plt\n",
    "from PIL import Image\n",
    "from os import path\n",
    "from wordcloud import WordCloud, STOPWORDS\n",
    "import nltk"
   ]
  },
  {
   "attachments": {},
   "cell_type": "markdown",
   "id": "ece28345",
   "metadata": {},
   "source": [
    "In order to extract articles I'm going to use a library called GoogleNews\n",
    "https://pypi.org/project/GoogleNews/\n",
    "\n",
    "license here:\n",
    "https://github.com/Iceloof/GoogleNews/blob/master/LICENSE"
   ]
  },
  {
   "cell_type": "code",
   "execution_count": 94,
   "id": "0cf2d97d",
   "metadata": {},
   "outputs": [],
   "source": [
    "dict_time = {'06/01/2020' : '12/31/2020',\n",
    "             '06/01/2021' : '12/31/2021',\n",
    "             '06/01/2022' : '12/31/2022',\n",
    "             '06/01/2023' : '12/31/2023',\n",
    "             '06/01/2019' : '12/31/2019',\n",
    "             '06/01/2018' : '12/31/2018',\n",
    "             '06/01/2017' : '12/31/2017',\n",
    "             '06/01/2016' : '12/31/2016',\n",
    "             '06/01/2015' : '12/31/2015',\n",
    "             '06/01/2014' : '12/31/2014',\n",
    "             '01/01/2020' : '06/01/2020',\n",
    "             '01/01/2021' : '06/01/2021',\n",
    "             '01/01/2022' : '06/01/2022',\n",
    "             '01/01/2023' : '06/01/2023',\n",
    "             '01/01/2019' : '06/01/2019',\n",
    "             '01/01/2018' : '06/01/2018',\n",
    "             '01/01/2017' : '06/01/2017',\n",
    "             '01/01/2016' : '06/01/2016',\n",
    "             '01/01/2015' : '06/01/2015',\n",
    "             '01/01/2014' : '06/01/2014'}\n",
    "\n",
    "df_final = pd.DataFrame()\n",
    "\n",
    "for x in dict_time:\n",
    "    googlenews = GoogleNews(start=x,end=dict_time[x])\n",
    "    googlenews.get_news('Housing Ireland')\n",
    "    googlenews.enableException(True)\n",
    "    result_FINAL = googlenews.result(sort=True)\n",
    "    df_n = pd.DataFrame(result_FINAL)\n",
    "    df_n['year'] = dict_time[x]\n",
    "    df_n['year']= df_n['year'].str[-4:]\n",
    "    df_final = df_final.append(df_n)"
   ]
  },
  {
   "cell_type": "code",
   "execution_count": 95,
   "id": "bbf4408d",
   "metadata": {},
   "outputs": [
    {
     "data": {
      "text/plain": [
       "(1989, 9)"
      ]
     },
     "execution_count": 95,
     "metadata": {},
     "output_type": "execute_result"
    }
   ],
   "source": [
    "df_final = df_final.drop_duplicates()\n",
    "df_final.shape"
   ]
  },
  {
   "cell_type": "code",
   "execution_count": 101,
   "id": "bbd4bc83",
   "metadata": {},
   "outputs": [
    {
     "data": {
      "text/html": [
       "<div>\n",
       "<style scoped>\n",
       "    .dataframe tbody tr th:only-of-type {\n",
       "        vertical-align: middle;\n",
       "    }\n",
       "\n",
       "    .dataframe tbody tr th {\n",
       "        vertical-align: top;\n",
       "    }\n",
       "\n",
       "    .dataframe thead th {\n",
       "        text-align: right;\n",
       "    }\n",
       "</style>\n",
       "<table border=\"1\" class=\"dataframe\">\n",
       "  <thead>\n",
       "    <tr style=\"text-align: right;\">\n",
       "      <th></th>\n",
       "      <th>title</th>\n",
       "      <th>media</th>\n",
       "      <th>year</th>\n",
       "    </tr>\n",
       "  </thead>\n",
       "  <tbody>\n",
       "    <tr>\n",
       "      <th>0</th>\n",
       "      <td>One third of voters think Sinn Féin can solve ...</td>\n",
       "      <td>Newstalk</td>\n",
       "      <td>2020</td>\n",
       "    </tr>\n",
       "    <tr>\n",
       "      <th>1</th>\n",
       "      <td>Housing Measures: What's changed, what will im...</td>\n",
       "      <td>RTE.ie</td>\n",
       "      <td>2020</td>\n",
       "    </tr>\n",
       "    <tr>\n",
       "      <th>2</th>\n",
       "      <td>Ireland's largest private landlord facing AGM ...</td>\n",
       "      <td>RTE.ie</td>\n",
       "      <td>2020</td>\n",
       "    </tr>\n",
       "    <tr>\n",
       "      <th>3</th>\n",
       "      <td>Roderic O'Gorman 'displeased' over tree fellin...</td>\n",
       "      <td>Independent.ie</td>\n",
       "      <td>2020</td>\n",
       "    </tr>\n",
       "    <tr>\n",
       "      <th>4</th>\n",
       "      <td>FactFind: Was the 2008 crash caused by buildin...</td>\n",
       "      <td>TheJournal.ie</td>\n",
       "      <td>2020</td>\n",
       "    </tr>\n",
       "  </tbody>\n",
       "</table>\n",
       "</div>"
      ],
      "text/plain": [
       "                                               title           media  year\n",
       "0  One third of voters think Sinn Féin can solve ...        Newstalk  2020\n",
       "1  Housing Measures: What's changed, what will im...          RTE.ie  2020\n",
       "2  Ireland's largest private landlord facing AGM ...          RTE.ie  2020\n",
       "3  Roderic O'Gorman 'displeased' over tree fellin...  Independent.ie  2020\n",
       "4  FactFind: Was the 2008 crash caused by buildin...   TheJournal.ie  2020"
      ]
     },
     "execution_count": 101,
     "metadata": {},
     "output_type": "execute_result"
    }
   ],
   "source": [
    "headlines = df_final[['title','media','year']]\n",
    "headlines.head()"
   ]
  },
  {
   "cell_type": "code",
   "execution_count": 111,
   "id": "f175498a",
   "metadata": {},
   "outputs": [
    {
     "data": {
      "text/plain": [
       "title    0\n",
       "media    0\n",
       "year     0\n",
       "dtype: int64"
      ]
     },
     "execution_count": 111,
     "metadata": {},
     "output_type": "execute_result"
    }
   ],
   "source": [
    "headlines.isna().sum()"
   ]
  },
  {
   "cell_type": "code",
   "execution_count": 159,
   "id": "5ff61573",
   "metadata": {},
   "outputs": [
    {
     "data": {
      "text/plain": [
       "Text(0.5, 1.0, 'Number of articles by newspaper')"
      ]
     },
     "execution_count": 159,
     "metadata": {},
     "output_type": "execute_result"
    },
    {
     "data": {
      "image/png": "[encoded data removed]",
      "text/plain": [
       "<Figure size 432x288 with 1 Axes>"
      ]
     },
     "metadata": {},
     "output_type": "display_data"
    }
   ],
   "source": [
    "custom = {\"axes.edgecolor\": \"black\", \"grid.color\": \"white\"}\n",
    "sns.set_style(\"darkgrid\", rc = custom)\n",
    "ax = sns.countplot(y=headlines[\"media\"], order=headlines.media.value_counts().iloc[:10].index)\n",
    "ax.bar_label(ax.containers[0], padding=-20, color='white', fontsize=10)\n",
    "headlines[\"media\"].unique()\n",
    "ax.set_xlabel(\"Number of articles\",fontsize=12)\n",
    "ax.set_ylabel(\" \")\n",
    "ax.set_title(\"Number of articles by newspaper\",fontsize=14)"
   ]
  },
  {
   "cell_type": "code",
   "execution_count": 194,
   "id": "0491c378",
   "metadata": {},
   "outputs": [],
   "source": [
    "stopwords = set(STOPWORDS)\n",
    "text = headlines['title'].str.cat(sep=' ')\n",
    "tokens = nltk.word_tokenize(text)\n"
   ]
  },
  {
   "cell_type": "code",
   "execution_count": 209,
   "id": "7e848a35",
   "metadata": {},
   "outputs": [],
   "source": [
    "headlines.to_csv('C:\\\\Users\\\\santi\\\\OneDrive\\\\Documenti\\prove.csv')"
   ]
  }
 ],
 "metadata": {
  "kernelspec": {
   "display_name": "Python 3 (ipykernel)",
   "language": "python",
   "name": "python3"
  },
  "language_info": {
   "codemirror_mode": {
    "name": "ipython",
    "version": 3
   },
   "file_extension": ".py",
   "mimetype": "text/x-python",
   "name": "python",
   "nbconvert_exporter": "python",
   "pygments_lexer": "ipython3",
   "version": "3.9.7"
  }
 },
 "nbformat": 4,
 "nbformat_minor": 5
}
