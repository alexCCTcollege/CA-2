{
 "cells": [
  {
   "cell_type": "code",
   "execution_count": 1,
   "id": "d162b11c",
   "metadata": {
    "ExecuteTime": {
     "end_time": "2023-04-17T19:10:35.912019Z",
     "start_time": "2023-04-17T19:10:35.111838Z"
    }
   },
   "outputs": [],
   "source": [
    "import pandas as pd\n",
    "df = pd.read_csv(\"Motorola.csv\")"
   ]
  },
  {
   "cell_type": "code",
   "execution_count": 2,
   "id": "274bb16e",
   "metadata": {
    "ExecuteTime": {
     "end_time": "2023-04-17T19:10:39.056365Z",
     "start_time": "2023-04-17T19:10:39.030358Z"
    }
   },
   "outputs": [
    {
     "data": {
      "text/html": [
       "<div>\n",
       "<style scoped>\n",
       "    .dataframe tbody tr th:only-of-type {\n",
       "        vertical-align: middle;\n",
       "    }\n",
       "\n",
       "    .dataframe tbody tr th {\n",
       "        vertical-align: top;\n",
       "    }\n",
       "\n",
       "    .dataframe thead th {\n",
       "        text-align: right;\n",
       "    }\n",
       "</style>\n",
       "<table border=\"1\" class=\"dataframe\">\n",
       "  <thead>\n",
       "    <tr style=\"text-align: right;\">\n",
       "      <th></th>\n",
       "      <th>Year</th>\n",
       "      <th>Company</th>\n",
       "      <th>Revenue (in millions)</th>\n",
       "      <th>Profit (in millions)</th>\n",
       "    </tr>\n",
       "  </thead>\n",
       "  <tbody>\n",
       "    <tr>\n",
       "      <th>0</th>\n",
       "      <td>1955</td>\n",
       "      <td>Motorola</td>\n",
       "      <td>205.2</td>\n",
       "      <td>7.6</td>\n",
       "    </tr>\n",
       "    <tr>\n",
       "      <th>1</th>\n",
       "      <td>1956</td>\n",
       "      <td>Motorola</td>\n",
       "      <td>226.7</td>\n",
       "      <td>8.5</td>\n",
       "    </tr>\n",
       "    <tr>\n",
       "      <th>2</th>\n",
       "      <td>1957</td>\n",
       "      <td>Motorola</td>\n",
       "      <td>227.6</td>\n",
       "      <td>8.0</td>\n",
       "    </tr>\n",
       "    <tr>\n",
       "      <th>3</th>\n",
       "      <td>1958</td>\n",
       "      <td>Motorola</td>\n",
       "      <td>226.4</td>\n",
       "      <td>7.8</td>\n",
       "    </tr>\n",
       "    <tr>\n",
       "      <th>4</th>\n",
       "      <td>1959</td>\n",
       "      <td>Motorola</td>\n",
       "      <td>216.6</td>\n",
       "      <td>7.4</td>\n",
       "    </tr>\n",
       "  </tbody>\n",
       "</table>\n",
       "</div>"
      ],
      "text/plain": [
       "   Year   Company  Revenue (in millions)  Profit (in millions)\n",
       "0  1955  Motorola                  205.2                   7.6\n",
       "1  1956  Motorola                  226.7                   8.5\n",
       "2  1957  Motorola                  227.6                   8.0\n",
       "3  1958  Motorola                  226.4                   7.8\n",
       "4  1959  Motorola                  216.6                   7.4"
      ]
     },
     "execution_count": 2,
     "metadata": {},
     "output_type": "execute_result"
    }
   ],
   "source": [
    "df.head()"
   ]
  },
  {
   "cell_type": "code",
   "execution_count": 6,
   "id": "1c793b68",
   "metadata": {
    "ExecuteTime": {
     "end_time": "2023-04-17T19:14:22.751252Z",
     "start_time": "2023-04-17T19:14:22.741251Z"
    }
   },
   "outputs": [],
   "source": [
    "students = {\"Data Analytics\": \n",
    "[\"Patrizia\",\n",
    "\"Rabeea\",\n",
    "\"Bibian\"], \n",
    "\"Business\": [\n",
    "{\"Brian\": [\n",
    "            \"Intro to business\",\n",
    "            \"Law and Ethics\"\n",
    "        ]}\n",
    "    ]\n",
    "        }\n",
    "        "
   ]
  },
  {
   "cell_type": "code",
   "execution_count": 11,
   "id": "246d47b0",
   "metadata": {
    "ExecuteTime": {
     "end_time": "2023-04-17T19:14:53.856935Z",
     "start_time": "2023-04-17T19:14:53.843932Z"
    }
   },
   "outputs": [
    {
     "data": {
      "text/plain": [
       "['Intro to business', 'Law and Ethics']"
      ]
     },
     "execution_count": 11,
     "metadata": {},
     "output_type": "execute_result"
    }
   ],
   "source": [
    "students[\"Business\"][0][\"Brian\"]"
   ]
  },
  {
   "cell_type": "markdown",
   "id": "767a9c2b",
   "metadata": {},
   "source": [
    "## MySQL"
   ]
  },
  {
   "cell_type": "code",
   "execution_count": 12,
   "id": "fd64ebff",
   "metadata": {
    "ExecuteTime": {
     "end_time": "2023-04-17T20:02:59.000151Z",
     "start_time": "2023-04-17T20:02:53.752857Z"
    }
   },
   "outputs": [
    {
     "name": "stdout",
     "output_type": "stream",
     "text": [
      "Defaulting to user installation because normal site-packages is not writeable\n",
      "Requirement already satisfied: mysql-connector-python in c:\\users\\sam\\appdata\\roaming\\python\\python39\\site-packages (8.0.31)\n",
      "Requirement already satisfied: protobuf<=3.20.1,>=3.11.0 in c:\\users\\sam\\appdata\\roaming\\python\\python39\\site-packages (from mysql-connector-python) (3.20.1)\n"
     ]
    }
   ],
   "source": [
    "#!pip install mysql-connector-python"
   ]
  },
  {
   "cell_type": "code",
   "execution_count": 13,
   "id": "060a6c70",
   "metadata": {
    "ExecuteTime": {
     "end_time": "2023-04-17T20:03:22.187394Z",
     "start_time": "2023-04-17T20:03:21.992351Z"
    }
   },
   "outputs": [],
   "source": [
    "import mysql.connector"
   ]
  },
  {
   "cell_type": "code",
   "execution_count": 19,
   "id": "fea33a83",
   "metadata": {
    "ExecuteTime": {
     "end_time": "2023-04-17T20:19:54.582818Z",
     "start_time": "2023-04-17T20:19:54.574817Z"
    }
   },
   "outputs": [],
   "source": [
    "host=\"localhost\" # \"127.0.0.1\"\n",
    "user=\"pda2023\" # root\n",
    "password=\"pda2023\" # root password"
   ]
  },
  {
   "cell_type": "code",
   "execution_count": 16,
   "id": "a32e7226",
   "metadata": {
    "ExecuteTime": {
     "end_time": "2023-04-17T20:12:57.624983Z",
     "start_time": "2023-04-17T20:12:57.601978Z"
    }
   },
   "outputs": [
    {
     "name": "stdout",
     "output_type": "stream",
     "text": [
      "<mysql.connector.connection.MySQLConnection object at 0x000001EE00167520>\n"
     ]
    }
   ],
   "source": [
    "db = mysql.connector.connect(\n",
    "    host=host,\n",
    "    user=user,\n",
    "    password=password,\n",
    "    #port=3306\n",
    ")\n",
    "print(db)"
   ]
  },
  {
   "cell_type": "code",
   "execution_count": 17,
   "id": "4bbdd4a1",
   "metadata": {
    "ExecuteTime": {
     "end_time": "2023-04-17T20:15:54.258348Z",
     "start_time": "2023-04-17T20:15:54.240343Z"
    }
   },
   "outputs": [],
   "source": [
    "conn = db.cursor()"
   ]
  },
  {
   "cell_type": "code",
   "execution_count": 18,
   "id": "ce81f90c",
   "metadata": {
    "ExecuteTime": {
     "end_time": "2023-04-17T20:16:36.462787Z",
     "start_time": "2023-04-17T20:16:36.447783Z"
    }
   },
   "outputs": [],
   "source": [
    "conn = db.cursor()\n",
    "conn.execute(\"CREATE DATABASE students;\")\n",
    "conn.execute(\"SHOW DATABASES;\")"
   ]
  },
  {
   "cell_type": "code",
   "execution_count": 20,
   "id": "b51f2b15",
   "metadata": {
    "ExecuteTime": {
     "end_time": "2023-04-17T20:20:18.401203Z",
     "start_time": "2023-04-17T20:20:18.398202Z"
    }
   },
   "outputs": [],
   "source": [
    "conn.execute(\"SHOW DATABASES;\")"
   ]
  },
  {
   "cell_type": "code",
   "execution_count": 21,
   "id": "d9881fee",
   "metadata": {
    "ExecuteTime": {
     "end_time": "2023-04-17T20:20:58.964693Z",
     "start_time": "2023-04-17T20:20:58.957692Z"
    },
    "collapsed": true
   },
   "outputs": [
    {
     "name": "stdout",
     "output_type": "stream",
     "text": [
      "('bank',)\n",
      "('companies',)\n",
      "('information_schema',)\n",
      "('mysql',)\n",
      "('performance_schema',)\n",
      "('sakila',)\n",
      "('students',)\n",
      "('sys',)\n",
      "('testdb',)\n",
      "('trades',)\n",
      "('world',)\n",
      "('world_cup',)\n"
     ]
    }
   ],
   "source": [
    "for result in conn:\n",
    "    print(result)"
   ]
  },
  {
   "cell_type": "code",
   "execution_count": 22,
   "id": "a30dac64",
   "metadata": {
    "ExecuteTime": {
     "end_time": "2023-04-17T20:23:22.835775Z",
     "start_time": "2023-04-17T20:23:22.827773Z"
    }
   },
   "outputs": [],
   "source": [
    "conn.execute(\"USE students;\")"
   ]
  },
  {
   "cell_type": "code",
   "execution_count": 23,
   "id": "b8c87104",
   "metadata": {
    "ExecuteTime": {
     "end_time": "2023-04-17T20:24:05.349680Z",
     "start_time": "2023-04-17T20:24:05.339678Z"
    }
   },
   "outputs": [
    {
     "data": {
      "text/plain": [
       "True"
      ]
     },
     "execution_count": 23,
     "metadata": {},
     "output_type": "execute_result"
    }
   ],
   "source": [
    "conn.close()"
   ]
  },
  {
   "cell_type": "code",
   "execution_count": 24,
   "id": "bde1117a",
   "metadata": {
    "ExecuteTime": {
     "end_time": "2023-04-17T20:24:54.730152Z",
     "start_time": "2023-04-17T20:24:54.699142Z"
    }
   },
   "outputs": [],
   "source": [
    "db = mysql.connector.connect(\n",
    "    host=host,\n",
    "    user=user,\n",
    "    password=password,\n",
    "    #port=3306,\n",
    "    database=\"students\"\n",
    ")\n",
    "conn = db.cursor()"
   ]
  },
  {
   "cell_type": "code",
   "execution_count": 26,
   "id": "877a01b2",
   "metadata": {
    "ExecuteTime": {
     "end_time": "2023-04-17T20:27:11.161186Z",
     "start_time": "2023-04-17T20:27:11.146181Z"
    }
   },
   "outputs": [],
   "source": [
    "#conn.execute(\"CREATE DATABASE students;\")\n",
    "conn.execute(\"CREATE DATABASE IF NOT EXISTS students;\")"
   ]
  },
  {
   "cell_type": "code",
   "execution_count": 29,
   "id": "a29765da",
   "metadata": {
    "ExecuteTime": {
     "end_time": "2023-04-17T20:30:40.632002Z",
     "start_time": "2023-04-17T20:30:40.615997Z"
    }
   },
   "outputs": [],
   "source": [
    "conn.execute(\"CREATE TABLE IF NOT EXISTS test (id INT);\")"
   ]
  },
  {
   "cell_type": "code",
   "execution_count": 30,
   "id": "4629f236",
   "metadata": {
    "ExecuteTime": {
     "end_time": "2023-04-17T20:32:56.141695Z",
     "start_time": "2023-04-17T20:32:56.134694Z"
    }
   },
   "outputs": [],
   "source": [
    "conn.execute(\"CREATE TABLE IF NOT EXISTS students (name VARCHAR(255), age INT, studentNum INT PRIMARY KEY);\")"
   ]
  },
  {
   "cell_type": "code",
   "execution_count": 38,
   "id": "783ee0ad",
   "metadata": {
    "ExecuteTime": {
     "end_time": "2023-04-17T20:36:57.662968Z",
     "start_time": "2023-04-17T20:36:57.652967Z"
    }
   },
   "outputs": [],
   "source": [
    "conn.execute(\"SHOW TABLES;\")\n",
    "for result in conn:\n",
    "    print(result)"
   ]
  },
  {
   "cell_type": "code",
   "execution_count": 39,
   "id": "39c0645a",
   "metadata": {
    "ExecuteTime": {
     "end_time": "2023-04-17T20:37:00.397585Z",
     "start_time": "2023-04-17T20:37:00.390584Z"
    }
   },
   "outputs": [],
   "source": [
    "conn.execute(\"INSERT INTO students (name, age, studentNum) VALUES ('Sam', 49, 123)\")"
   ]
  },
  {
   "cell_type": "code",
   "execution_count": 42,
   "id": "af60b9af",
   "metadata": {
    "ExecuteTime": {
     "end_time": "2023-04-17T20:37:30.142836Z",
     "start_time": "2023-04-17T20:37:30.132833Z"
    }
   },
   "outputs": [],
   "source": [
    "conn.execute(\"INSERT INTO students (name, age, studentNum) VALUES ('Sam', 49, 124)\")"
   ]
  },
  {
   "cell_type": "code",
   "execution_count": 44,
   "id": "24c23a61",
   "metadata": {
    "ExecuteTime": {
     "end_time": "2023-04-17T20:40:08.276154Z",
     "start_time": "2023-04-17T20:40:08.258151Z"
    }
   },
   "outputs": [
    {
     "name": "stdout",
     "output_type": "stream",
     "text": [
      "('Sam', 49, 123)\n",
      "('Sam', 49, 124)\n"
     ]
    }
   ],
   "source": [
    "conn.execute(\"SELECT * FROM students;\")\n",
    "for result in conn:\n",
    "    print(result)"
   ]
  },
  {
   "cell_type": "code",
   "execution_count": 51,
   "id": "cd5d9041",
   "metadata": {
    "ExecuteTime": {
     "end_time": "2023-04-17T20:41:05.863760Z",
     "start_time": "2023-04-17T20:41:05.857760Z"
    }
   },
   "outputs": [
    {
     "name": "stdout",
     "output_type": "stream",
     "text": [
      "('Sam', 49, 123)\n"
     ]
    }
   ],
   "source": [
    "conn.execute(\"SELECT * FROM students WHERE studentNum=123;\")\n",
    "for result in conn:\n",
    "    print(result)"
   ]
  },
  {
   "cell_type": "code",
   "execution_count": 56,
   "id": "a09dfc6c",
   "metadata": {
    "ExecuteTime": {
     "end_time": "2023-04-17T20:47:19.243628Z",
     "start_time": "2023-04-17T20:47:19.230626Z"
    }
   },
   "outputs": [
    {
     "name": "stdout",
     "output_type": "stream",
     "text": [
      "('Sam',)\n"
     ]
    }
   ],
   "source": [
    "conn.execute(\"SELECT name FROM students WHERE studentNum=123;\")\n",
    "for result in conn:\n",
    "    print(result)"
   ]
  },
  {
   "cell_type": "code",
   "execution_count": 54,
   "id": "5a9bdf99",
   "metadata": {
    "ExecuteTime": {
     "end_time": "2023-04-17T20:42:49.196891Z",
     "start_time": "2023-04-17T20:42:49.184889Z"
    }
   },
   "outputs": [],
   "source": [
    "db.commit()"
   ]
  },
  {
   "cell_type": "code",
   "execution_count": 57,
   "id": "a5817e67",
   "metadata": {
    "ExecuteTime": {
     "end_time": "2023-04-17T20:47:24.632320Z",
     "start_time": "2023-04-17T20:47:24.622319Z"
    }
   },
   "outputs": [],
   "source": [
    "conn.execute(\"UPDATE students SET name='Joe' WHERE studentNum=124;\")"
   ]
  },
  {
   "cell_type": "code",
   "execution_count": 64,
   "id": "18f5dda9",
   "metadata": {
    "ExecuteTime": {
     "end_time": "2023-04-17T20:49:08.042141Z",
     "start_time": "2023-04-17T20:49:08.030138Z"
    }
   },
   "outputs": [
    {
     "name": "stdout",
     "output_type": "stream",
     "text": [
      "('Sam', 49, 123)\n",
      "('Joe', 49, 124)\n"
     ]
    }
   ],
   "source": [
    "conn.execute(\"SELECT * FROM students;\")\n",
    "for result in conn:\n",
    "    print(result)"
   ]
  },
  {
   "cell_type": "code",
   "execution_count": 61,
   "id": "1bc46138",
   "metadata": {
    "ExecuteTime": {
     "end_time": "2023-04-17T20:48:13.309947Z",
     "start_time": "2023-04-17T20:48:13.293944Z"
    }
   },
   "outputs": [],
   "source": [
    "db.commit()"
   ]
  },
  {
   "cell_type": "code",
   "execution_count": 65,
   "id": "b99bd5c3",
   "metadata": {
    "ExecuteTime": {
     "end_time": "2023-04-17T20:49:10.990998Z",
     "start_time": "2023-04-17T20:49:10.973994Z"
    }
   },
   "outputs": [
    {
     "data": {
      "text/plain": [
       "True"
      ]
     },
     "execution_count": 65,
     "metadata": {},
     "output_type": "execute_result"
    }
   ],
   "source": [
    "conn.close()"
   ]
  },
  {
   "cell_type": "markdown",
   "id": "dc0b385b",
   "metadata": {},
   "source": [
    "# Exercise 1\n",
    "\n",
    "Create a new table called programmes\n",
    "\n",
    "The columns are the programme name (primary key), as well as up to 6 modules\n",
    "\n",
    "Insert the MSc Data Analytics with the modules for this semester"
   ]
  },
  {
   "cell_type": "markdown",
   "id": "8f975b41",
   "metadata": {},
   "source": [
    "# Exercise 2\n",
    "\n",
    "Read one of the company csv files\n",
    "\n",
    "Store it in a table in a **new** database"
   ]
  },
  {
   "cell_type": "code",
   "execution_count": null,
   "id": "b0675b3c",
   "metadata": {},
   "outputs": [],
   "source": []
  }
 ],
 "metadata": {
  "kernelspec": {
   "display_name": "Python 3 (ipykernel)",
   "language": "python",
   "name": "python3"
  },
  "language_info": {
   "codemirror_mode": {
    "name": "ipython",
    "version": 3
   },
   "file_extension": ".py",
   "mimetype": "text/x-python",
   "name": "python",
   "nbconvert_exporter": "python",
   "pygments_lexer": "ipython3",
   "version": "3.9.7"
  }
 },
 "nbformat": 4,
 "nbformat_minor": 5
}
