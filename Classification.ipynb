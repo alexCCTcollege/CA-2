{
 "cells": [
  {
   "cell_type": "code",
   "execution_count": 75,
   "metadata": {},
   "outputs": [],
   "source": [
    "import pandas as pd\n",
    "\n",
    "# https://www.propertypriceregister.ie/website/npsra/pprweb.nsf/page/ppr-home-en"
   ]
  },
  {
   "cell_type": "code",
   "execution_count": 76,
   "metadata": {},
   "outputs": [
    {
     "name": "stderr",
     "output_type": "stream",
     "text": [
      "C:\\Users\\santi\\AppData\\Local\\Temp\\ipykernel_10332\\2076600314.py:1: DtypeWarning: Columns (3,8) have mixed types. Specify dtype option on import or set low_memory=False.\n",
      "  df = pd.read_csv(\"C:\\\\Users\\\\santi\\\\OneDrive\\\\Desktop\\\\PPR-ALL.csv\", encoding=\"unicode_escape\")\n"
     ]
    }
   ],
   "source": [
    "df = pd.read_csv(\"C:\\\\Users\\\\santi\\\\OneDrive\\\\Desktop\\\\PPR-ALL.csv\", encoding=\"unicode_escape\")\n",
    "df = df.sample(100000)\n",
    "df = df.reset_index()"
   ]
  },
  {
   "cell_type": "code",
   "execution_count": 77,
   "metadata": {},
   "outputs": [
    {
     "data": {
      "text/html": [
       "<div>\n",
       "<style scoped>\n",
       "    .dataframe tbody tr th:only-of-type {\n",
       "        vertical-align: middle;\n",
       "    }\n",
       "\n",
       "    .dataframe tbody tr th {\n",
       "        vertical-align: top;\n",
       "    }\n",
       "\n",
       "    .dataframe thead th {\n",
       "        text-align: right;\n",
       "    }\n",
       "</style>\n",
       "<table border=\"1\" class=\"dataframe\">\n",
       "  <thead>\n",
       "    <tr style=\"text-align: right;\">\n",
       "      <th></th>\n",
       "      <th>index</th>\n",
       "      <th>Date of Sale (dd/mm/yyyy)</th>\n",
       "      <th>Address</th>\n",
       "      <th>County</th>\n",
       "      <th>Eircode</th>\n",
       "      <th>Price ()</th>\n",
       "      <th>Not Full Market Price</th>\n",
       "      <th>VAT Exclusive</th>\n",
       "      <th>Description of Property</th>\n",
       "      <th>Property Size Description</th>\n",
       "    </tr>\n",
       "  </thead>\n",
       "  <tbody>\n",
       "    <tr>\n",
       "      <th>0</th>\n",
       "      <td>291651</td>\n",
       "      <td>21/12/2017</td>\n",
       "      <td>269 TIRELLAN HEIGHTS, GALWAY, GALWAY</td>\n",
       "      <td>Galway</td>\n",
       "      <td>NaN</td>\n",
       "      <td>215,000.00</td>\n",
       "      <td>No</td>\n",
       "      <td>No</td>\n",
       "      <td>Second-Hand Dwelling house /Apartment</td>\n",
       "      <td>NaN</td>\n",
       "    </tr>\n",
       "    <tr>\n",
       "      <th>1</th>\n",
       "      <td>10099</td>\n",
       "      <td>12/07/2010</td>\n",
       "      <td>5 Cherbury Mews, Booterstown Avenue</td>\n",
       "      <td>Dublin</td>\n",
       "      <td>NaN</td>\n",
       "      <td>370,000.00</td>\n",
       "      <td>No</td>\n",
       "      <td>No</td>\n",
       "      <td>Second-Hand Dwelling house /Apartment</td>\n",
       "      <td>NaN</td>\n",
       "    </tr>\n",
       "    <tr>\n",
       "      <th>2</th>\n",
       "      <td>494445</td>\n",
       "      <td>01/09/2021</td>\n",
       "      <td>23 LOWER ARD ODONNELL, LETTERKENNY, DONEGAL</td>\n",
       "      <td>Donegal</td>\n",
       "      <td>F92V8DW</td>\n",
       "      <td>28,969.94</td>\n",
       "      <td>No</td>\n",
       "      <td>No</td>\n",
       "      <td>Second-Hand Dwelling house /Apartment</td>\n",
       "      <td>NaN</td>\n",
       "    </tr>\n",
       "    <tr>\n",
       "      <th>3</th>\n",
       "      <td>78973</td>\n",
       "      <td>02/08/2013</td>\n",
       "      <td>113 Sandford Wood, Swords</td>\n",
       "      <td>Dublin</td>\n",
       "      <td>NaN</td>\n",
       "      <td>250,000.00</td>\n",
       "      <td>No</td>\n",
       "      <td>No</td>\n",
       "      <td>Second-Hand Dwelling house /Apartment</td>\n",
       "      <td>NaN</td>\n",
       "    </tr>\n",
       "    <tr>\n",
       "      <th>4</th>\n",
       "      <td>264954</td>\n",
       "      <td>24/07/2017</td>\n",
       "      <td>APT 3, MALT HOUSE, GEORGES QUAY</td>\n",
       "      <td>Waterford</td>\n",
       "      <td>NaN</td>\n",
       "      <td>60,000.00</td>\n",
       "      <td>No</td>\n",
       "      <td>No</td>\n",
       "      <td>Second-Hand Dwelling house /Apartment</td>\n",
       "      <td>NaN</td>\n",
       "    </tr>\n",
       "  </tbody>\n",
       "</table>\n",
       "</div>"
      ],
      "text/plain": [
       "    index Date of Sale (dd/mm/yyyy)  \\\n",
       "0  291651                21/12/2017   \n",
       "1   10099                12/07/2010   \n",
       "2  494445                01/09/2021   \n",
       "3   78973                02/08/2013   \n",
       "4  264954                24/07/2017   \n",
       "\n",
       "                                       Address     County  Eircode  \\\n",
       "0         269 TIRELLAN HEIGHTS, GALWAY, GALWAY     Galway      NaN   \n",
       "1          5 Cherbury Mews, Booterstown Avenue     Dublin      NaN   \n",
       "2  23 LOWER ARD ODONNELL, LETTERKENNY, DONEGAL    Donegal  F92V8DW   \n",
       "3                    113 Sandford Wood, Swords     Dublin      NaN   \n",
       "4              APT 3, MALT HOUSE, GEORGES QUAY  Waterford      NaN   \n",
       "\n",
       "     Price () Not Full Market Price VAT Exclusive  \\\n",
       "0  215,000.00                    No            No   \n",
       "1  370,000.00                    No            No   \n",
       "2   28,969.94                    No            No   \n",
       "3  250,000.00                    No            No   \n",
       "4   60,000.00                    No            No   \n",
       "\n",
       "                 Description of Property Property Size Description  \n",
       "0  Second-Hand Dwelling house /Apartment                       NaN  \n",
       "1  Second-Hand Dwelling house /Apartment                       NaN  \n",
       "2  Second-Hand Dwelling house /Apartment                       NaN  \n",
       "3  Second-Hand Dwelling house /Apartment                       NaN  \n",
       "4  Second-Hand Dwelling house /Apartment                       NaN  "
      ]
     },
     "execution_count": 77,
     "metadata": {},
     "output_type": "execute_result"
    }
   ],
   "source": [
    "df.head()"
   ]
  },
  {
   "cell_type": "code",
   "execution_count": 78,
   "metadata": {},
   "outputs": [
    {
     "data": {
      "text/plain": [
       "(100000, 10)"
      ]
     },
     "execution_count": 78,
     "metadata": {},
     "output_type": "execute_result"
    }
   ],
   "source": [
    "df.shape"
   ]
  },
  {
   "cell_type": "code",
   "execution_count": 79,
   "metadata": {},
   "outputs": [
    {
     "data": {
      "text/plain": [
       "index                            0\n",
       "Date of Sale (dd/mm/yyyy)        0\n",
       "Address                          0\n",
       "County                           0\n",
       "Eircode                      84597\n",
       "Price ()                        0\n",
       "Not Full Market Price            0\n",
       "VAT Exclusive                    0\n",
       "Description of Property          0\n",
       "Property Size Description    91101\n",
       "dtype: int64"
      ]
     },
     "execution_count": 79,
     "metadata": {},
     "output_type": "execute_result"
    }
   ],
   "source": [
    "df.isna().sum()\n"
   ]
  },
  {
   "cell_type": "code",
   "execution_count": 80,
   "metadata": {},
   "outputs": [
    {
     "data": {
      "text/plain": [
       "Index(['index', 'Date of Sale (dd/mm/yyyy)', 'Address', 'County', 'Eircode',\n",
       "       'Price ()', 'Not Full Market Price', 'VAT Exclusive',\n",
       "       'Description of Property', 'Property Size Description'],\n",
       "      dtype='object')"
      ]
     },
     "execution_count": 80,
     "metadata": {},
     "output_type": "execute_result"
    }
   ],
   "source": [
    "df.columns"
   ]
  },
  {
   "cell_type": "code",
   "execution_count": 81,
   "metadata": {},
   "outputs": [
    {
     "name": "stderr",
     "output_type": "stream",
     "text": [
      "C:\\Users\\santi\\AppData\\Local\\Temp\\ipykernel_10332\\2904156962.py:4: FutureWarning: The default value of regex will change from True to False in a future version.\n",
      "  df['Address'] = df['Address'].str.replace('\\d+', '')\n"
     ]
    }
   ],
   "source": [
    "df['Price'] = df['Price ()']\n",
    "df['Price'] = df['Price'].str[1:]\n",
    "df['Price'] = df['Price'].str.replace(',', '')\n",
    "df['Address'] = df['Address'].str.replace('\\d+', '')\n",
    "df['Address'] = df['Address'].str.replace(',', '')\n",
    "df['Address'] = df['Address'].str.upper()"
   ]
  },
  {
   "attachments": {},
   "cell_type": "markdown",
   "metadata": {},
   "source": [
    "dropped eircode explain why"
   ]
  },
  {
   "cell_type": "code",
   "execution_count": 82,
   "metadata": {},
   "outputs": [],
   "source": [
    "df = df[['Address', 'County','Price','Description of Property']]"
   ]
  },
  {
   "cell_type": "code",
   "execution_count": 83,
   "metadata": {},
   "outputs": [],
   "source": [
    "df['Price'] = df['Price'].astype('float')"
   ]
  },
  {
   "cell_type": "code",
   "execution_count": 84,
   "metadata": {},
   "outputs": [
    {
     "name": "stdout",
     "output_type": "stream",
     "text": [
      "<class 'pandas.core.frame.DataFrame'>\n",
      "RangeIndex: 100000 entries, 0 to 99999\n",
      "Data columns (total 4 columns):\n",
      " #   Column                   Non-Null Count   Dtype  \n",
      "---  ------                   --------------   -----  \n",
      " 0   Address                  100000 non-null  object \n",
      " 1   County                   100000 non-null  object \n",
      " 2   Price                    100000 non-null  float64\n",
      " 3   Description of Property  100000 non-null  object \n",
      "dtypes: float64(1), object(3)\n",
      "memory usage: 3.1+ MB\n"
     ]
    }
   ],
   "source": [
    "df.info()"
   ]
  },
  {
   "cell_type": "code",
   "execution_count": 85,
   "metadata": {},
   "outputs": [
    {
     "data": {
      "text/plain": [
       "array(['Galway', 'Dublin', 'Donegal', 'Waterford', 'Meath', 'Mayo',\n",
       "       'Roscommon', 'Cork', 'Westmeath', 'Limerick', 'Tipperary', 'Laois',\n",
       "       'Kildare', 'Louth', 'Wexford', 'Clare', 'Carlow', 'Wicklow',\n",
       "       'Monaghan', 'Kilkenny', 'Longford', 'Offaly', 'Cavan', 'Leitrim',\n",
       "       'Sligo', 'Kerry'], dtype=object)"
      ]
     },
     "execution_count": 85,
     "metadata": {},
     "output_type": "execute_result"
    }
   ],
   "source": [
    "df.County.unique()"
   ]
  },
  {
   "attachments": {},
   "cell_type": "markdown",
   "metadata": {},
   "source": [
    "Data transformation address"
   ]
  },
  {
   "cell_type": "code",
   "execution_count": 86,
   "metadata": {},
   "outputs": [
    {
     "data": {
      "text/plain": [
       "77734      SKYLARK PARK VIEW ST. MARNOCK'S BAY PORTMARNOCK\n",
       "89965                        THE PADDOCKS CLONTARF DUBLIN \n",
       "74528                               GLENN FIA MOGEELY CORK\n",
       "28843               CROCKAUNADREENAGH RATHCOOLE CO. DUBLIN\n",
       "35558                   BUSHY PARK HOUSE TERENURE DUBLIN W\n",
       "51172                              THE WAY KILCOCK KILDARE\n",
       "45721                  CHURCHFIELD GLEN ASHBOURNE CO MEATH\n",
       "34882             HILLVIEW LAWNS POTTERY ROAD DUNLAOGHAIRE\n",
       "68176                         HARBOUR COURT COURTMACSHERRY\n",
       "24196    APARTMENT NO.A ABELARD SQUARE PHOENIX PARK RAC...\n",
       "26354                       RIVER VIEW MAIN ST BALLINASLOE\n",
       "14705                    ST IGNATIUS RD DRUMCONDRA DUBLIN \n",
       "47030                           CONVENT RD BALLINROBE MAYO\n",
       "32144                              LAHINCH KILCOLLIN CLARA\n",
       "5557                          WOODS PLACE OFF YORK ST CORK\n",
       "66522         APT  WILLBROOK HOUSE NORTHBROOK AVE RANELAGH\n",
       "79382                          GILROY AVE EDENDERRY OFFALY\n",
       "79205                     CLONAVOE CLONBULLOGUE CO. OFFALY\n",
       "93648                     DUBLIN ROAD MOORESTOWN DROMISKIN\n",
       "97175                           MALAHIDE RD DUBLIN  DUBLIN\n",
       "Name: Address, dtype: object"
      ]
     },
     "execution_count": 86,
     "metadata": {},
     "output_type": "execute_result"
    }
   ],
   "source": [
    "df['Address'].sample(20)"
   ]
  },
  {
   "cell_type": "code",
   "execution_count": 87,
   "metadata": {},
   "outputs": [
    {
     "name": "stderr",
     "output_type": "stream",
     "text": [
      "C:\\Users\\santi\\AppData\\Local\\Temp\\ipykernel_10332\\316044791.py:1: FutureWarning: The default value of regex will change from True to False in a future version.\n",
      "  df['Address'] = df['Address'].str.replace('\\d+', '')\n"
     ]
    }
   ],
   "source": [
    "df['Address'] = df['Address'].str.replace('\\d+', '')\n",
    "df['Address'] = df['Address'].str.replace(',', '')\n",
    "df['Address'] = df['Address'].str.upper()"
   ]
  },
  {
   "cell_type": "code",
   "execution_count": 88,
   "metadata": {},
   "outputs": [
    {
     "data": {
      "text/plain": [
       "5286               ASHFIELD OLD GOLF LINKS ROAD KILKENNY\n",
       "50530                         QUEEN ST CLONMEL TIPPERARY\n",
       "3749     A FITZHAVEN SQ COURTBRACK AVE CIRCULAR RD SOUTH\n",
       "45893                  OAK PARK PLACE CRADDOCKSTOWN NAAS\n",
       "Name: Address, dtype: object"
      ]
     },
     "execution_count": 88,
     "metadata": {},
     "output_type": "execute_result"
    }
   ],
   "source": [
    "df['Address'].sample(4)"
   ]
  },
  {
   "cell_type": "code",
   "execution_count": 89,
   "metadata": {},
   "outputs": [
    {
     "data": {
      "text/html": [
       "<div>\n",
       "<style scoped>\n",
       "    .dataframe tbody tr th:only-of-type {\n",
       "        vertical-align: middle;\n",
       "    }\n",
       "\n",
       "    .dataframe tbody tr th {\n",
       "        vertical-align: top;\n",
       "    }\n",
       "\n",
       "    .dataframe thead th {\n",
       "        text-align: right;\n",
       "    }\n",
       "</style>\n",
       "<table border=\"1\" class=\"dataframe\">\n",
       "  <thead>\n",
       "    <tr style=\"text-align: right;\">\n",
       "      <th></th>\n",
       "      <th>Address</th>\n",
       "      <th>County</th>\n",
       "      <th>Price</th>\n",
       "      <th>Description of Property</th>\n",
       "    </tr>\n",
       "  </thead>\n",
       "  <tbody>\n",
       "    <tr>\n",
       "      <th>0</th>\n",
       "      <td>TIRELLAN HEIGHTS GALWAY GALWAY</td>\n",
       "      <td>Galway</td>\n",
       "      <td>215000.00</td>\n",
       "      <td>Second-Hand Dwelling house /Apartment</td>\n",
       "    </tr>\n",
       "    <tr>\n",
       "      <th>1</th>\n",
       "      <td>CHERBURY MEWS BOOTERSTOWN AVENUE</td>\n",
       "      <td>Dublin</td>\n",
       "      <td>370000.00</td>\n",
       "      <td>Second-Hand Dwelling house /Apartment</td>\n",
       "    </tr>\n",
       "    <tr>\n",
       "      <th>2</th>\n",
       "      <td>LOWER ARD ODONNELL LETTERKENNY DONEGAL</td>\n",
       "      <td>Donegal</td>\n",
       "      <td>28969.94</td>\n",
       "      <td>Second-Hand Dwelling house /Apartment</td>\n",
       "    </tr>\n",
       "    <tr>\n",
       "      <th>3</th>\n",
       "      <td>SANDFORD WOOD SWORDS</td>\n",
       "      <td>Dublin</td>\n",
       "      <td>250000.00</td>\n",
       "      <td>Second-Hand Dwelling house /Apartment</td>\n",
       "    </tr>\n",
       "    <tr>\n",
       "      <th>4</th>\n",
       "      <td>APT  MALT HOUSE GEORGES QUAY</td>\n",
       "      <td>Waterford</td>\n",
       "      <td>60000.00</td>\n",
       "      <td>Second-Hand Dwelling house /Apartment</td>\n",
       "    </tr>\n",
       "  </tbody>\n",
       "</table>\n",
       "</div>"
      ],
      "text/plain": [
       "                                   Address     County      Price  \\\n",
       "0           TIRELLAN HEIGHTS GALWAY GALWAY     Galway  215000.00   \n",
       "1         CHERBURY MEWS BOOTERSTOWN AVENUE     Dublin  370000.00   \n",
       "2   LOWER ARD ODONNELL LETTERKENNY DONEGAL    Donegal   28969.94   \n",
       "3                     SANDFORD WOOD SWORDS     Dublin  250000.00   \n",
       "4             APT  MALT HOUSE GEORGES QUAY  Waterford   60000.00   \n",
       "\n",
       "                 Description of Property  \n",
       "0  Second-Hand Dwelling house /Apartment  \n",
       "1  Second-Hand Dwelling house /Apartment  \n",
       "2  Second-Hand Dwelling house /Apartment  \n",
       "3  Second-Hand Dwelling house /Apartment  \n",
       "4  Second-Hand Dwelling house /Apartment  "
      ]
     },
     "execution_count": 89,
     "metadata": {},
     "output_type": "execute_result"
    }
   ],
   "source": [
    "df.head()"
   ]
  },
  {
   "cell_type": "code",
   "execution_count": 90,
   "metadata": {},
   "outputs": [],
   "source": [
    "df['Description of Property'] = df['Description of Property'].str.replace('Second-Hand Dwelling house /Apartment', 'Second-Hand')\n",
    "df['Description of Property'] = df['Description of Property'].str.replace('New Dwelling house /Apartment', 'New')\n",
    "df['Description of Property'] = df['Description of Property'].str.replace('Teach/Árasán Cónaithe Atháimhe','Second-Hand')\n",
    "df['Description of Property'] = df['Description of Property'].str.replace('Teach/Árasán Cónaithe Nua','New')\n",
    "df = df[df['Description of Property'] != 'Teach/?ras?n C?naithe Nua']\n",
    "df = df.dropna()"
   ]
  },
  {
   "cell_type": "code",
   "execution_count": 91,
   "metadata": {},
   "outputs": [
    {
     "data": {
      "image/png": "[encoded data removed]",
      "text/plain": [
       "<Figure size 2000x800 with 2 Axes>"
      ]
     },
     "metadata": {},
     "output_type": "display_data"
    }
   ],
   "source": [
    "import matplotlib.pyplot as plt\n",
    "import seaborn as sns\n",
    "\n",
    "custom = {\"axes.edgecolor\": \"black\", \"grid.color\": \"white\"}\n",
    "sns.set_style(\"darkgrid\", rc = custom)\n",
    "\n",
    "f, (ax_top, ax_bottom) = plt.subplots(ncols=1, nrows=2, sharex=True, gridspec_kw={'hspace':0.05},figsize=(20, 8))\n",
    "f.suptitle('Distribution of Prices by property type',fontsize=18,color= \"black\", weight='bold',fontname=\"Times New Roman\")\n",
    "a = sns.boxplot(data=df,x='Description of Property',y='Price',ax=ax_bottom)\n",
    "b = sns.boxplot(data=df,x='Description of Property',y='Price',ax=ax_top)\n",
    "ax_top.set_ylim(bottom=1e6) \n",
    "ax_bottom.set_ylim(0,1e6)\n",
    "\n",
    "sns.despine(ax=ax_bottom)\n",
    "sns.despine(ax=ax_top, bottom=True)\n",
    "\n",
    "ax = ax_top\n",
    "d = .015\n",
    "kwargs = dict(transform=ax.transAxes, color='k', clip_on=False)\n",
    "ax.plot((-d, +d), (-d, +d), **kwargs)\n",
    "\n",
    "ax2 = ax_bottom\n",
    "kwargs.update(transform=ax2.transAxes)  \n",
    "ax2.plot((-d, +d), (1 - d, 1 + d), **kwargs) \n",
    "\n",
    "ax_top.set(xlabel=None,ylabel=None)\n",
    "b.ticklabel_format(style='plain', axis='y')\n",
    "a.ticklabel_format(style='plain', axis='y')\n",
    "ax_top.yaxis.set_major_formatter('€ {x:1.0f}')\n",
    "ax_bottom.yaxis.set_major_formatter('€ {x:1.0f}')\n",
    "plt.show()\n",
    "\n"
   ]
  },
  {
   "cell_type": "code",
   "execution_count": 92,
   "metadata": {},
   "outputs": [
    {
     "data": {
      "image/png": "[encoded data removed]",
      "text/plain": [
       "<Figure size 2000x1000 with 2 Axes>"
      ]
     },
     "metadata": {},
     "output_type": "display_data"
    }
   ],
   "source": [
    "import seaborn as sns\n",
    "\n",
    "f, axes = plt.subplots(ncols=2, nrows=1,figsize=(20, 10))\n",
    "\n",
    "plott = sns.kdeplot(df['Price'], ax=axes[0])\n",
    "plott.set_title('Price Distribution up to 1M', fontweight='bold')\n",
    "plott.ticklabel_format(style='plain', axis='x')\n",
    "plott.xaxis.set_major_formatter('€ {x:1.0f}')\n",
    "plott.set_xlim([0, 10000000])\n",
    "\n",
    "plott2 = sns.kdeplot(df['Price'], ax=axes[1])\n",
    "plott2.set_title('Total Price Distribution', fontweight='bold')\n",
    "\n",
    "plt.show()\n"
   ]
  },
  {
   "cell_type": "code",
   "execution_count": 93,
   "metadata": {},
   "outputs": [
    {
     "name": "stdout",
     "output_type": "stream",
     "text": [
      "reject H0\n",
      "reject H0\n"
     ]
    },
    {
     "name": "stderr",
     "output_type": "stream",
     "text": [
      "c:\\Users\\santi\\anaconda3\\lib\\site-packages\\scipy\\stats\\_morestats.py:1816: UserWarning: p-value may not be accurate for N > 5000.\n",
      "  warnings.warn(\"p-value may not be accurate for N > 5000.\")\n"
     ]
    }
   ],
   "source": [
    "from scipy.stats import shapiro,kstest,mannwhitneyu\n",
    "for x in [df[df['Description of Property'] == 'Second-Hand'],df[df['Description of Property'] == 'New'] ]:\n",
    "    stat, p = kstest(x['Price'],'norm')\n",
    "    stat, p2 = shapiro(x['Price'])\n",
    "    if p>0.05 or p2>0.05:\n",
    "        print('accept H0')\n",
    "    else:\n",
    "        print('reject H0')\n",
    "\n",
    "    "
   ]
  },
  {
   "cell_type": "code",
   "execution_count": 94,
   "metadata": {},
   "outputs": [],
   "source": [
    "secon = df[df['Description of Property'] == 'Second-Hand']\n",
    "new = df[df['Description of Property'] == 'New']"
   ]
  },
  {
   "cell_type": "code",
   "execution_count": 95,
   "metadata": {},
   "outputs": [
    {
     "data": {
      "text/plain": [
       "MannwhitneyuResult(statistic=543741982.5, pvalue=0.0)"
      ]
     },
     "execution_count": 95,
     "metadata": {},
     "output_type": "execute_result"
    }
   ],
   "source": [
    "mannwhitneyu(secon['Price'],new['Price'])"
   ]
  },
  {
   "cell_type": "code",
   "execution_count": 96,
   "metadata": {},
   "outputs": [],
   "source": [
    "secon = []\n",
    "new = []"
   ]
  },
  {
   "cell_type": "code",
   "execution_count": 97,
   "metadata": {},
   "outputs": [
    {
     "name": "stdout",
     "output_type": "stream",
     "text": [
      "<class 'pandas.core.frame.DataFrame'>\n",
      "Int64Index: 100000 entries, 0 to 99999\n",
      "Data columns (total 4 columns):\n",
      " #   Column                   Non-Null Count   Dtype  \n",
      "---  ------                   --------------   -----  \n",
      " 0   Address                  100000 non-null  object \n",
      " 1   County                   100000 non-null  object \n",
      " 2   Price                    100000 non-null  float64\n",
      " 3   Description of Property  100000 non-null  object \n",
      "dtypes: float64(1), object(3)\n",
      "memory usage: 3.8+ MB\n"
     ]
    }
   ],
   "source": [
    "df.info()"
   ]
  },
  {
   "cell_type": "code",
   "execution_count": 98,
   "metadata": {},
   "outputs": [],
   "source": [
    "from sklearn.feature_extraction.text import CountVectorizer,TfidfVectorizer\n",
    "\n",
    "\n",
    "vectorizer = TfidfVectorizer(max_features=1000)\n",
    "\n",
    "# Fit and transform the text column\n",
    "bag_of_words = vectorizer.fit_transform(df['Address'])\n",
    "type(bag_of_words)\n",
    "\n",
    "# Convert the bag_of_words to a DataFrame\n",
    "bag_of_words_df = pd.DataFrame(bag_of_words.toarray(), columns=vectorizer.get_feature_names_out())\n",
    "\n",
    "# Concatenate the desired columns with the bag_of_words DataFrame\n",
    "df = pd.concat([df, bag_of_words_df], axis=1)"
   ]
  },
  {
   "cell_type": "code",
   "execution_count": 99,
   "metadata": {},
   "outputs": [],
   "source": [
    "from sklearn.preprocessing import RobustScaler\n",
    "from sklearn.compose import ColumnTransformer\n",
    "\n",
    "scaler = RobustScaler()\n",
    "\n",
    "# Select the column you want to scale\n",
    "column_to_scale = df['Price']\n",
    "\n",
    "# Reshape the column to match the expected input shape of the scaler\n",
    "reshaped_column = column_to_scale.values.reshape(-1, 1)\n",
    "\n",
    "# Apply the scaling transformation to the reshaped column\n",
    "scaled_column = scaler.fit_transform(reshaped_column)\n",
    "\n",
    "# Create a new column in the DataFrame with the scaled values\n",
    "df['Price'] = scaled_column"
   ]
  },
  {
   "cell_type": "code",
   "execution_count": 100,
   "metadata": {},
   "outputs": [],
   "source": [
    "# cleaning memory\n",
    "reshaped_column = []\n",
    "scaled_column = []\n",
    "bag_of_words_df = []\n",
    "x = []\n",
    "column_to_scale = []\n",
    "y = []"
   ]
  },
  {
   "cell_type": "code",
   "execution_count": 101,
   "metadata": {},
   "outputs": [],
   "source": [
    "df.drop('Address', axis=1, inplace=True)"
   ]
  },
  {
   "cell_type": "code",
   "execution_count": 102,
   "metadata": {},
   "outputs": [],
   "source": [
    "df = pd.get_dummies(df, columns=['County'])"
   ]
  },
  {
   "cell_type": "code",
   "execution_count": 103,
   "metadata": {},
   "outputs": [
    {
     "data": {
      "text/html": [
       "<div>\n",
       "<style scoped>\n",
       "    .dataframe tbody tr th:only-of-type {\n",
       "        vertical-align: middle;\n",
       "    }\n",
       "\n",
       "    .dataframe tbody tr th {\n",
       "        vertical-align: top;\n",
       "    }\n",
       "\n",
       "    .dataframe thead th {\n",
       "        text-align: right;\n",
       "    }\n",
       "</style>\n",
       "<table border=\"1\" class=\"dataframe\">\n",
       "  <thead>\n",
       "    <tr style=\"text-align: right;\">\n",
       "      <th></th>\n",
       "      <th>Price</th>\n",
       "      <th>Description of Property</th>\n",
       "      <th>abbey</th>\n",
       "      <th>abbeyfeale</th>\n",
       "      <th>abbeylands</th>\n",
       "      <th>abbeyleix</th>\n",
       "      <th>abbeyside</th>\n",
       "      <th>abhainn</th>\n",
       "      <th>achill</th>\n",
       "      <th>adamstown</th>\n",
       "      <th>...</th>\n",
       "      <th>County_Meath</th>\n",
       "      <th>County_Monaghan</th>\n",
       "      <th>County_Offaly</th>\n",
       "      <th>County_Roscommon</th>\n",
       "      <th>County_Sligo</th>\n",
       "      <th>County_Tipperary</th>\n",
       "      <th>County_Waterford</th>\n",
       "      <th>County_Westmeath</th>\n",
       "      <th>County_Wexford</th>\n",
       "      <th>County_Wicklow</th>\n",
       "    </tr>\n",
       "  </thead>\n",
       "  <tbody>\n",
       "    <tr>\n",
       "      <th>0</th>\n",
       "      <td>0.005089</td>\n",
       "      <td>Second-Hand</td>\n",
       "      <td>0.0</td>\n",
       "      <td>0.0</td>\n",
       "      <td>0.0</td>\n",
       "      <td>0.0</td>\n",
       "      <td>0.0</td>\n",
       "      <td>0.0</td>\n",
       "      <td>0.0</td>\n",
       "      <td>0.0</td>\n",
       "      <td>...</td>\n",
       "      <td>0</td>\n",
       "      <td>0</td>\n",
       "      <td>0</td>\n",
       "      <td>0</td>\n",
       "      <td>0</td>\n",
       "      <td>0</td>\n",
       "      <td>0</td>\n",
       "      <td>0</td>\n",
       "      <td>0</td>\n",
       "      <td>0</td>\n",
       "    </tr>\n",
       "    <tr>\n",
       "      <th>1</th>\n",
       "      <td>0.793893</td>\n",
       "      <td>Second-Hand</td>\n",
       "      <td>0.0</td>\n",
       "      <td>0.0</td>\n",
       "      <td>0.0</td>\n",
       "      <td>0.0</td>\n",
       "      <td>0.0</td>\n",
       "      <td>0.0</td>\n",
       "      <td>0.0</td>\n",
       "      <td>0.0</td>\n",
       "      <td>...</td>\n",
       "      <td>0</td>\n",
       "      <td>0</td>\n",
       "      <td>0</td>\n",
       "      <td>0</td>\n",
       "      <td>0</td>\n",
       "      <td>0</td>\n",
       "      <td>0</td>\n",
       "      <td>0</td>\n",
       "      <td>0</td>\n",
       "      <td>0</td>\n",
       "    </tr>\n",
       "    <tr>\n",
       "      <th>2</th>\n",
       "      <td>-0.941629</td>\n",
       "      <td>Second-Hand</td>\n",
       "      <td>0.0</td>\n",
       "      <td>0.0</td>\n",
       "      <td>0.0</td>\n",
       "      <td>0.0</td>\n",
       "      <td>0.0</td>\n",
       "      <td>0.0</td>\n",
       "      <td>0.0</td>\n",
       "      <td>0.0</td>\n",
       "      <td>...</td>\n",
       "      <td>0</td>\n",
       "      <td>0</td>\n",
       "      <td>0</td>\n",
       "      <td>0</td>\n",
       "      <td>0</td>\n",
       "      <td>0</td>\n",
       "      <td>0</td>\n",
       "      <td>0</td>\n",
       "      <td>0</td>\n",
       "      <td>0</td>\n",
       "    </tr>\n",
       "    <tr>\n",
       "      <th>3</th>\n",
       "      <td>0.183206</td>\n",
       "      <td>Second-Hand</td>\n",
       "      <td>0.0</td>\n",
       "      <td>0.0</td>\n",
       "      <td>0.0</td>\n",
       "      <td>0.0</td>\n",
       "      <td>0.0</td>\n",
       "      <td>0.0</td>\n",
       "      <td>0.0</td>\n",
       "      <td>0.0</td>\n",
       "      <td>...</td>\n",
       "      <td>0</td>\n",
       "      <td>0</td>\n",
       "      <td>0</td>\n",
       "      <td>0</td>\n",
       "      <td>0</td>\n",
       "      <td>0</td>\n",
       "      <td>0</td>\n",
       "      <td>0</td>\n",
       "      <td>0</td>\n",
       "      <td>0</td>\n",
       "    </tr>\n",
       "    <tr>\n",
       "      <th>4</th>\n",
       "      <td>-0.783715</td>\n",
       "      <td>Second-Hand</td>\n",
       "      <td>0.0</td>\n",
       "      <td>0.0</td>\n",
       "      <td>0.0</td>\n",
       "      <td>0.0</td>\n",
       "      <td>0.0</td>\n",
       "      <td>0.0</td>\n",
       "      <td>0.0</td>\n",
       "      <td>0.0</td>\n",
       "      <td>...</td>\n",
       "      <td>0</td>\n",
       "      <td>0</td>\n",
       "      <td>0</td>\n",
       "      <td>0</td>\n",
       "      <td>0</td>\n",
       "      <td>0</td>\n",
       "      <td>1</td>\n",
       "      <td>0</td>\n",
       "      <td>0</td>\n",
       "      <td>0</td>\n",
       "    </tr>\n",
       "  </tbody>\n",
       "</table>\n",
       "<p>5 rows × 1028 columns</p>\n",
       "</div>"
      ],
      "text/plain": [
       "      Price Description of Property  abbey  abbeyfeale  abbeylands  abbeyleix  \\\n",
       "0  0.005089             Second-Hand    0.0         0.0         0.0        0.0   \n",
       "1  0.793893             Second-Hand    0.0         0.0         0.0        0.0   \n",
       "2 -0.941629             Second-Hand    0.0         0.0         0.0        0.0   \n",
       "3  0.183206             Second-Hand    0.0         0.0         0.0        0.0   \n",
       "4 -0.783715             Second-Hand    0.0         0.0         0.0        0.0   \n",
       "\n",
       "   abbeyside  abhainn  achill  adamstown  ...  County_Meath  County_Monaghan  \\\n",
       "0        0.0      0.0     0.0        0.0  ...             0                0   \n",
       "1        0.0      0.0     0.0        0.0  ...             0                0   \n",
       "2        0.0      0.0     0.0        0.0  ...             0                0   \n",
       "3        0.0      0.0     0.0        0.0  ...             0                0   \n",
       "4        0.0      0.0     0.0        0.0  ...             0                0   \n",
       "\n",
       "   County_Offaly  County_Roscommon  County_Sligo  County_Tipperary  \\\n",
       "0              0                 0             0                 0   \n",
       "1              0                 0             0                 0   \n",
       "2              0                 0             0                 0   \n",
       "3              0                 0             0                 0   \n",
       "4              0                 0             0                 0   \n",
       "\n",
       "   County_Waterford  County_Westmeath  County_Wexford  County_Wicklow  \n",
       "0                 0                 0               0               0  \n",
       "1                 0                 0               0               0  \n",
       "2                 0                 0               0               0  \n",
       "3                 0                 0               0               0  \n",
       "4                 1                 0               0               0  \n",
       "\n",
       "[5 rows x 1028 columns]"
      ]
     },
     "execution_count": 103,
     "metadata": {},
     "output_type": "execute_result"
    }
   ],
   "source": [
    "df.head()"
   ]
  },
  {
   "cell_type": "code",
   "execution_count": 104,
   "metadata": {},
   "outputs": [
    {
     "data": {
      "text/plain": [
       "(100000, 1028)"
      ]
     },
     "execution_count": 104,
     "metadata": {},
     "output_type": "execute_result"
    }
   ],
   "source": [
    "df.shape"
   ]
  },
  {
   "attachments": {},
   "cell_type": "markdown",
   "metadata": {},
   "source": [
    "X, Y PCA and train test split"
   ]
  },
  {
   "cell_type": "code",
   "execution_count": 105,
   "metadata": {},
   "outputs": [],
   "source": [
    "X = df.drop('Description of Property', axis=1)"
   ]
  },
  {
   "cell_type": "code",
   "execution_count": 106,
   "metadata": {},
   "outputs": [],
   "source": [
    "y = df['Description of Property']"
   ]
  },
  {
   "cell_type": "code",
   "execution_count": 107,
   "metadata": {},
   "outputs": [],
   "source": [
    "#clean memory\n",
    "df = []"
   ]
  },
  {
   "cell_type": "code",
   "execution_count": 108,
   "metadata": {},
   "outputs": [],
   "source": [
    "X = X.dropna()"
   ]
  },
  {
   "cell_type": "code",
   "execution_count": 111,
   "metadata": {},
   "outputs": [
    {
     "name": "stdout",
     "output_type": "stream",
     "text": [
      "Using 1 components, we can explain 0.9504274187541073% of the variability in the original data.\n"
     ]
    }
   ],
   "source": [
    "from sklearn.decomposition import PCA\n",
    "\n",
    "for comp in range(X.shape[1]):\n",
    "    pca = PCA(n_components= comp, random_state=42)\n",
    "    pca.fit(X)\n",
    "    comp_check = pca.explained_variance_ratio_\n",
    "    final_comp = comp\n",
    "    if comp_check.sum() > 0.80:\n",
    "        break\n",
    "        \n",
    "Final_PCA = PCA(n_components= final_comp,random_state=42)\n",
    "Final_PCA.fit(X)\n",
    "cluster_df = Final_PCA.transform(X)\n",
    "num_comps = comp_check.shape[0]\n",
    "print(\"Using {} components, we can explain {}% of the variability in the original data.\".format(final_comp,comp_check.sum()))\n"
   ]
  },
  {
   "cell_type": "code",
   "execution_count": 119,
   "metadata": {},
   "outputs": [
    {
     "data": {
      "text/html": [
       "<style>#sk-container-id-1 {color: black;background-color: white;}#sk-container-id-1 pre{padding: 0;}#sk-container-id-1 div.sk-toggleable {background-color: white;}#sk-container-id-1 label.sk-toggleable__label {cursor: pointer;display: block;width: 100%;margin-bottom: 0;padding: 0.3em;box-sizing: border-box;text-align: center;}#sk-container-id-1 label.sk-toggleable__label-arrow:before {content: \"▸\";float: left;margin-right: 0.25em;color: #696969;}#sk-container-id-1 label.sk-toggleable__label-arrow:hover:before {color: black;}#sk-container-id-1 div.sk-estimator:hover label.sk-toggleable__label-arrow:before {color: black;}#sk-container-id-1 div.sk-toggleable__content {max-height: 0;max-width: 0;overflow: hidden;text-align: left;background-color: #f0f8ff;}#sk-container-id-1 div.sk-toggleable__content pre {margin: 0.2em;color: black;border-radius: 0.25em;background-color: #f0f8ff;}#sk-container-id-1 input.sk-toggleable__control:checked~div.sk-toggleable__content {max-height: 200px;max-width: 100%;overflow: auto;}#sk-container-id-1 input.sk-toggleable__control:checked~label.sk-toggleable__label-arrow:before {content: \"▾\";}#sk-container-id-1 div.sk-estimator input.sk-toggleable__control:checked~label.sk-toggleable__label {background-color: #d4ebff;}#sk-container-id-1 div.sk-label input.sk-toggleable__control:checked~label.sk-toggleable__label {background-color: #d4ebff;}#sk-container-id-1 input.sk-hidden--visually {border: 0;clip: rect(1px 1px 1px 1px);clip: rect(1px, 1px, 1px, 1px);height: 1px;margin: -1px;overflow: hidden;padding: 0;position: absolute;width: 1px;}#sk-container-id-1 div.sk-estimator {font-family: monospace;background-color: #f0f8ff;border: 1px dotted black;border-radius: 0.25em;box-sizing: border-box;margin-bottom: 0.5em;}#sk-container-id-1 div.sk-estimator:hover {background-color: #d4ebff;}#sk-container-id-1 div.sk-parallel-item::after {content: \"\";width: 100%;border-bottom: 1px solid gray;flex-grow: 1;}#sk-container-id-1 div.sk-label:hover label.sk-toggleable__label {background-color: #d4ebff;}#sk-container-id-1 div.sk-serial::before {content: \"\";position: absolute;border-left: 1px solid gray;box-sizing: border-box;top: 0;bottom: 0;left: 50%;z-index: 0;}#sk-container-id-1 div.sk-serial {display: flex;flex-direction: column;align-items: center;background-color: white;padding-right: 0.2em;padding-left: 0.2em;position: relative;}#sk-container-id-1 div.sk-item {position: relative;z-index: 1;}#sk-container-id-1 div.sk-parallel {display: flex;align-items: stretch;justify-content: center;background-color: white;position: relative;}#sk-container-id-1 div.sk-item::before, #sk-container-id-1 div.sk-parallel-item::before {content: \"\";position: absolute;border-left: 1px solid gray;box-sizing: border-box;top: 0;bottom: 0;left: 50%;z-index: -1;}#sk-container-id-1 div.sk-parallel-item {display: flex;flex-direction: column;z-index: 1;position: relative;background-color: white;}#sk-container-id-1 div.sk-parallel-item:first-child::after {align-self: flex-end;width: 50%;}#sk-container-id-1 div.sk-parallel-item:last-child::after {align-self: flex-start;width: 50%;}#sk-container-id-1 div.sk-parallel-item:only-child::after {width: 0;}#sk-container-id-1 div.sk-dashed-wrapped {border: 1px dashed gray;margin: 0 0.4em 0.5em 0.4em;box-sizing: border-box;padding-bottom: 0.4em;background-color: white;}#sk-container-id-1 div.sk-label label {font-family: monospace;font-weight: bold;display: inline-block;line-height: 1.2em;}#sk-container-id-1 div.sk-label-container {text-align: center;}#sk-container-id-1 div.sk-container {/* jupyter's `normalize.less` sets `[hidden] { display: none; }` but bootstrap.min.css set `[hidden] { display: none !important; }` so we also need the `!important` here to be able to override the default hidden behavior on the sphinx rendered scikit-learn.org. See: https://github.com/scikit-learn/scikit-learn/issues/21755 */display: inline-block !important;position: relative;}#sk-container-id-1 div.sk-text-repr-fallback {display: none;}</style><div id=\"sk-container-id-1\" class=\"sk-top-container\"><div class=\"sk-text-repr-fallback\"><pre>RandomForestClassifier(n_estimators=150)</pre><b>In a Jupyter environment, please rerun this cell to show the HTML representation or trust the notebook. <br />On GitHub, the HTML representation is unable to render, please try loading this page with nbviewer.org.</b></div><div class=\"sk-container\" hidden><div class=\"sk-item\"><div class=\"sk-estimator sk-toggleable\"><input class=\"sk-toggleable__control sk-hidden--visually\" id=\"sk-estimator-id-1\" type=\"checkbox\" checked><label for=\"sk-estimator-id-1\" class=\"sk-toggleable__label sk-toggleable__label-arrow\">RandomForestClassifier</label><div class=\"sk-toggleable__content\"><pre>RandomForestClassifier(n_estimators=150)</pre></div></div></div></div></div>"
      ],
      "text/plain": [
       "RandomForestClassifier(n_estimators=150)"
      ]
     },
     "execution_count": 119,
     "metadata": {},
     "output_type": "execute_result"
    }
   ],
   "source": [
    "from sklearn.model_selection import train_test_split\n",
    "from sklearn.ensemble import RandomForestClassifier\n",
    "from sklearn.inspection import permutation_importance\n",
    "\n",
    "X_train, X_test, y_train, y_test = train_test_split(X, y, test_size=0.25, random_state=42)\n",
    "rf = RandomForestClassifier(n_estimators=150)\n",
    "rf.fit(X_train, y_train)"
   ]
  },
  {
   "cell_type": "code",
   "execution_count": 124,
   "metadata": {},
   "outputs": [
    {
     "data": {
      "text/html": [
       "<div>\n",
       "<style scoped>\n",
       "    .dataframe tbody tr th:only-of-type {\n",
       "        vertical-align: middle;\n",
       "    }\n",
       "\n",
       "    .dataframe tbody tr th {\n",
       "        vertical-align: top;\n",
       "    }\n",
       "\n",
       "    .dataframe thead th {\n",
       "        text-align: right;\n",
       "    }\n",
       "</style>\n",
       "<table border=\"1\" class=\"dataframe\">\n",
       "  <thead>\n",
       "    <tr style=\"text-align: right;\">\n",
       "      <th></th>\n",
       "      <th>value</th>\n",
       "      <th>Feature</th>\n",
       "    </tr>\n",
       "  </thead>\n",
       "  <tbody>\n",
       "    <tr>\n",
       "      <th>0</th>\n",
       "      <td>0.149407</td>\n",
       "      <td>Price</td>\n",
       "    </tr>\n",
       "    <tr>\n",
       "      <th>1</th>\n",
       "      <td>0.001837</td>\n",
       "      <td>abbey</td>\n",
       "    </tr>\n",
       "    <tr>\n",
       "      <th>2</th>\n",
       "      <td>0.000053</td>\n",
       "      <td>abbeyfeale</td>\n",
       "    </tr>\n",
       "    <tr>\n",
       "      <th>3</th>\n",
       "      <td>0.000107</td>\n",
       "      <td>abbeylands</td>\n",
       "    </tr>\n",
       "    <tr>\n",
       "      <th>4</th>\n",
       "      <td>0.000166</td>\n",
       "      <td>abbeyleix</td>\n",
       "    </tr>\n",
       "  </tbody>\n",
       "</table>\n",
       "</div>"
      ],
      "text/plain": [
       "      value     Feature\n",
       "0  0.149407       Price\n",
       "1  0.001837       abbey\n",
       "2  0.000053  abbeyfeale\n",
       "3  0.000107  abbeylands\n",
       "4  0.000166   abbeyleix"
      ]
     },
     "execution_count": 124,
     "metadata": {},
     "output_type": "execute_result"
    }
   ],
   "source": [
    "Imp = {'value' : rf.feature_importances_, 'Feature': X.columns}\n",
    "Imp = pd.DataFrame(Imp)\n",
    "Imp.head()"
   ]
  },
  {
   "cell_type": "code",
   "execution_count": 131,
   "metadata": {},
   "outputs": [
    {
     "name": "stdout",
     "output_type": "stream",
     "text": [
      "0.3620240850917953\n"
     ]
    },
    {
     "data": {
      "image/png": "[encoded data removed]",
      "text/plain": [
       "<Figure size 640x480 with 1 Axes>"
      ]
     },
     "metadata": {},
     "output_type": "display_data"
    }
   ],
   "source": [
    "sorted_Imp = Imp.sort_values('value', ascending=False)\n",
    "\n",
    "# Select the top 10 rows\n",
    "top_20 = sorted_Imp.head(20)\n",
    "print(top_20['value'].sum())\n",
    "# Create the bar plot\n",
    "sns.barplot(data=top_20, x='value', y='Feature')\n",
    "plt.xlabel('Value')\n",
    "plt.ylabel('Feature')\n",
    "plt.title('Top 20 Feature importance')\n",
    "plt.show()"
   ]
  }
 ],
 "metadata": {
  "kernelspec": {
   "display_name": "base",
   "language": "python",
   "name": "python3"
  },
  "language_info": {
   "codemirror_mode": {
    "name": "ipython",
    "version": 3
   },
   "file_extension": ".py",
   "mimetype": "text/x-python",
   "name": "python",
   "nbconvert_exporter": "python",
   "pygments_lexer": "ipython3",
   "version": "3.9.7"
  },
  "orig_nbformat": 4
 },
 "nbformat": 4,
 "nbformat_minor": 2
}
