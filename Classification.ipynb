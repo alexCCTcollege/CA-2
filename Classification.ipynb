{
 "cells": [
  {
   "cell_type": "code",
   "execution_count": 1,
   "metadata": {},
   "outputs": [],
   "source": [
    "import pandas as pd\n",
    "\n",
    "# https://www.propertypriceregister.ie/website/npsra/pprweb.nsf/page/ppr-home-en"
   ]
  },
  {
   "cell_type": "code",
   "execution_count": 2,
   "metadata": {},
   "outputs": [
    {
     "name": "stderr",
     "output_type": "stream",
     "text": [
      "C:\\Users\\santi\\AppData\\Local\\Temp\\ipykernel_1876\\1811125323.py:1: DtypeWarning: Columns (3,8) have mixed types. Specify dtype option on import or set low_memory=False.\n",
      "  df = pd.read_csv(\"C:\\\\Users\\\\santi\\\\OneDrive\\\\Desktop\\\\PPR-ALL.csv\", encoding=\"unicode_escape\")\n"
     ]
    }
   ],
   "source": [
    "df = pd.read_csv(\"C:\\\\Users\\\\santi\\\\OneDrive\\\\Desktop\\\\PPR-ALL.csv\", encoding=\"unicode_escape\")\n",
    "df = df.sample(50000)\n",
    "df = df.reset_index()"
   ]
  },
  {
   "cell_type": "code",
   "execution_count": 3,
   "metadata": {},
   "outputs": [
    {
     "data": {
      "text/html": [
       "<div>\n",
       "<style scoped>\n",
       "    .dataframe tbody tr th:only-of-type {\n",
       "        vertical-align: middle;\n",
       "    }\n",
       "\n",
       "    .dataframe tbody tr th {\n",
       "        vertical-align: top;\n",
       "    }\n",
       "\n",
       "    .dataframe thead th {\n",
       "        text-align: right;\n",
       "    }\n",
       "</style>\n",
       "<table border=\"1\" class=\"dataframe\">\n",
       "  <thead>\n",
       "    <tr style=\"text-align: right;\">\n",
       "      <th></th>\n",
       "      <th>index</th>\n",
       "      <th>Date of Sale (dd/mm/yyyy)</th>\n",
       "      <th>Address</th>\n",
       "      <th>County</th>\n",
       "      <th>Eircode</th>\n",
       "      <th>Price ()</th>\n",
       "      <th>Not Full Market Price</th>\n",
       "      <th>VAT Exclusive</th>\n",
       "      <th>Description of Property</th>\n",
       "      <th>Property Size Description</th>\n",
       "    </tr>\n",
       "  </thead>\n",
       "  <tbody>\n",
       "    <tr>\n",
       "      <th>0</th>\n",
       "      <td>572753</td>\n",
       "      <td>28/11/2022</td>\n",
       "      <td>18 SILVERLAWNS, NAVAN, MEATH</td>\n",
       "      <td>Meath</td>\n",
       "      <td>C15YY90</td>\n",
       "      <td>265,000.00</td>\n",
       "      <td>No</td>\n",
       "      <td>No</td>\n",
       "      <td>Second-Hand Dwelling house /Apartment</td>\n",
       "      <td>NaN</td>\n",
       "    </tr>\n",
       "    <tr>\n",
       "      <th>1</th>\n",
       "      <td>346168</td>\n",
       "      <td>13/12/2018</td>\n",
       "      <td>34 BURKEEN HALL, WICKLOW TOWN, CO. WICKLOW</td>\n",
       "      <td>Wicklow</td>\n",
       "      <td>NaN</td>\n",
       "      <td>334,802.00</td>\n",
       "      <td>No</td>\n",
       "      <td>Yes</td>\n",
       "      <td>New Dwelling house /Apartment</td>\n",
       "      <td>NaN</td>\n",
       "    </tr>\n",
       "    <tr>\n",
       "      <th>2</th>\n",
       "      <td>483895</td>\n",
       "      <td>28/06/2021</td>\n",
       "      <td>7 MILLRACE CRESCENT, DRUMROOSKE, DONEGAL TOWN</td>\n",
       "      <td>Donegal</td>\n",
       "      <td>F94P5P0</td>\n",
       "      <td>137,500.00</td>\n",
       "      <td>No</td>\n",
       "      <td>No</td>\n",
       "      <td>Second-Hand Dwelling house /Apartment</td>\n",
       "      <td>NaN</td>\n",
       "    </tr>\n",
       "    <tr>\n",
       "      <th>3</th>\n",
       "      <td>17528</td>\n",
       "      <td>05/11/2010</td>\n",
       "      <td>44 Paddocks View, Adamstown</td>\n",
       "      <td>Dublin</td>\n",
       "      <td>NaN</td>\n",
       "      <td>226,872.24</td>\n",
       "      <td>No</td>\n",
       "      <td>Yes</td>\n",
       "      <td>New Dwelling house /Apartment</td>\n",
       "      <td>greater than or equal to 38 sq metres and less...</td>\n",
       "    </tr>\n",
       "    <tr>\n",
       "      <th>4</th>\n",
       "      <td>213107</td>\n",
       "      <td>28/07/2016</td>\n",
       "      <td>17 CASTLE MEADOWS, SKEHARD RD, BLACKROCK</td>\n",
       "      <td>Cork</td>\n",
       "      <td>NaN</td>\n",
       "      <td>252,000.00</td>\n",
       "      <td>No</td>\n",
       "      <td>No</td>\n",
       "      <td>Second-Hand Dwelling house /Apartment</td>\n",
       "      <td>NaN</td>\n",
       "    </tr>\n",
       "  </tbody>\n",
       "</table>\n",
       "</div>"
      ],
      "text/plain": [
       "    index Date of Sale (dd/mm/yyyy)  \\\n",
       "0  572753                28/11/2022   \n",
       "1  346168                13/12/2018   \n",
       "2  483895                28/06/2021   \n",
       "3   17528                05/11/2010   \n",
       "4  213107                28/07/2016   \n",
       "\n",
       "                                         Address   County  Eircode  \\\n",
       "0                   18 SILVERLAWNS, NAVAN, MEATH    Meath  C15YY90   \n",
       "1     34 BURKEEN HALL, WICKLOW TOWN, CO. WICKLOW  Wicklow      NaN   \n",
       "2  7 MILLRACE CRESCENT, DRUMROOSKE, DONEGAL TOWN  Donegal  F94P5P0   \n",
       "3                    44 Paddocks View, Adamstown   Dublin      NaN   \n",
       "4       17 CASTLE MEADOWS, SKEHARD RD, BLACKROCK     Cork      NaN   \n",
       "\n",
       "     Price () Not Full Market Price VAT Exclusive  \\\n",
       "0  265,000.00                    No            No   \n",
       "1  334,802.00                    No           Yes   \n",
       "2  137,500.00                    No            No   \n",
       "3  226,872.24                    No           Yes   \n",
       "4  252,000.00                    No            No   \n",
       "\n",
       "                 Description of Property  \\\n",
       "0  Second-Hand Dwelling house /Apartment   \n",
       "1          New Dwelling house /Apartment   \n",
       "2  Second-Hand Dwelling house /Apartment   \n",
       "3          New Dwelling house /Apartment   \n",
       "4  Second-Hand Dwelling house /Apartment   \n",
       "\n",
       "                           Property Size Description  \n",
       "0                                                NaN  \n",
       "1                                                NaN  \n",
       "2                                                NaN  \n",
       "3  greater than or equal to 38 sq metres and less...  \n",
       "4                                                NaN  "
      ]
     },
     "execution_count": 3,
     "metadata": {},
     "output_type": "execute_result"
    }
   ],
   "source": [
    "df.head()"
   ]
  },
  {
   "cell_type": "code",
   "execution_count": 4,
   "metadata": {},
   "outputs": [
    {
     "data": {
      "text/plain": [
       "(50000, 10)"
      ]
     },
     "execution_count": 4,
     "metadata": {},
     "output_type": "execute_result"
    }
   ],
   "source": [
    "df.shape"
   ]
  },
  {
   "cell_type": "code",
   "execution_count": 5,
   "metadata": {},
   "outputs": [
    {
     "data": {
      "text/plain": [
       "index                            0\n",
       "Date of Sale (dd/mm/yyyy)        0\n",
       "Address                          0\n",
       "County                           0\n",
       "Eircode                      42307\n",
       "Price ()                        0\n",
       "Not Full Market Price            0\n",
       "VAT Exclusive                    0\n",
       "Description of Property          0\n",
       "Property Size Description    45631\n",
       "dtype: int64"
      ]
     },
     "execution_count": 5,
     "metadata": {},
     "output_type": "execute_result"
    }
   ],
   "source": [
    "df.isna().sum()\n"
   ]
  },
  {
   "cell_type": "code",
   "execution_count": 6,
   "metadata": {},
   "outputs": [
    {
     "data": {
      "text/plain": [
       "Index(['index', 'Date of Sale (dd/mm/yyyy)', 'Address', 'County', 'Eircode',\n",
       "       'Price ()', 'Not Full Market Price', 'VAT Exclusive',\n",
       "       'Description of Property', 'Property Size Description'],\n",
       "      dtype='object')"
      ]
     },
     "execution_count": 6,
     "metadata": {},
     "output_type": "execute_result"
    }
   ],
   "source": [
    "df.columns"
   ]
  },
  {
   "cell_type": "code",
   "execution_count": 7,
   "metadata": {},
   "outputs": [
    {
     "name": "stderr",
     "output_type": "stream",
     "text": [
      "C:\\Users\\santi\\AppData\\Local\\Temp\\ipykernel_1876\\2904156962.py:4: FutureWarning: The default value of regex will change from True to False in a future version.\n",
      "  df['Address'] = df['Address'].str.replace('\\d+', '')\n"
     ]
    }
   ],
   "source": [
    "df['Price'] = df['Price ()']\n",
    "df['Price'] = df['Price'].str[1:]\n",
    "df['Price'] = df['Price'].str.replace(',', '')\n",
    "df['Address'] = df['Address'].str.replace('\\d+', '')\n",
    "df['Address'] = df['Address'].str.replace(',', '')\n",
    "df['Address'] = df['Address'].str.upper()"
   ]
  },
  {
   "attachments": {},
   "cell_type": "markdown",
   "metadata": {},
   "source": [
    "dropped eircode explain why"
   ]
  },
  {
   "cell_type": "code",
   "execution_count": 8,
   "metadata": {},
   "outputs": [],
   "source": [
    "df = df[['Address', 'County','Price','Description of Property']]"
   ]
  },
  {
   "cell_type": "code",
   "execution_count": 9,
   "metadata": {},
   "outputs": [],
   "source": [
    "df['Price'] = df['Price'].astype('float')"
   ]
  },
  {
   "cell_type": "code",
   "execution_count": 10,
   "metadata": {},
   "outputs": [
    {
     "name": "stdout",
     "output_type": "stream",
     "text": [
      "<class 'pandas.core.frame.DataFrame'>\n",
      "RangeIndex: 50000 entries, 0 to 49999\n",
      "Data columns (total 4 columns):\n",
      " #   Column                   Non-Null Count  Dtype  \n",
      "---  ------                   --------------  -----  \n",
      " 0   Address                  50000 non-null  object \n",
      " 1   County                   50000 non-null  object \n",
      " 2   Price                    50000 non-null  float64\n",
      " 3   Description of Property  50000 non-null  object \n",
      "dtypes: float64(1), object(3)\n",
      "memory usage: 1.5+ MB\n"
     ]
    }
   ],
   "source": [
    "df.info()"
   ]
  },
  {
   "cell_type": "code",
   "execution_count": 11,
   "metadata": {},
   "outputs": [
    {
     "data": {
      "text/plain": [
       "array(['Meath', 'Wicklow', 'Donegal', 'Dublin', 'Cork', 'Kerry', 'Louth',\n",
       "       'Cavan', 'Tipperary', 'Kildare', 'Leitrim', 'Monaghan', 'Laois',\n",
       "       'Galway', 'Waterford', 'Clare', 'Sligo', 'Limerick', 'Mayo',\n",
       "       'Carlow', 'Roscommon', 'Wexford', 'Westmeath', 'Offaly',\n",
       "       'Kilkenny', 'Longford'], dtype=object)"
      ]
     },
     "execution_count": 11,
     "metadata": {},
     "output_type": "execute_result"
    }
   ],
   "source": [
    "df.County.unique()"
   ]
  },
  {
   "attachments": {},
   "cell_type": "markdown",
   "metadata": {},
   "source": [
    "Data transformation address"
   ]
  },
  {
   "cell_type": "code",
   "execution_count": 12,
   "metadata": {},
   "outputs": [
    {
     "data": {
      "text/plain": [
       "10136        SEAGREEN AVENUE BLACKLION GREYSTONES\n",
       "23509       ARDILAUN COURT SYBIL HILL ROAD RAHENY\n",
       "19548               CASTLETIMON PARK KILMORE WEST\n",
       "26303         SEAPOINT AVENUE MONKSTOWN CO DUBLIN\n",
       "29577       CEOL NA MARA LARTIGUE RD BALLYBUNNION\n",
       "23077           SEA HAVEN TRAFALGAR RD GREYSTONES\n",
       "47867             HAZEL GLEN HAZEL BROOK SPA GLEN\n",
       "44042            PHILISBURGH AVE FAIRVIEW DUBLIN \n",
       "24709          ST MARTIN COOGUE NORTH BALLYHAUNIS\n",
       "29788             B SEXTON ST ABBEYSIDE DUNGARVAN\n",
       "23775       BURFORD DRIVE HONEYPARK DUN LAOGHAIRE\n",
       "26580           SUMMERHILL NORTH ST LUKE&#;S CORK\n",
       "34750                    ASHBROOK ORANMORE GALWAY\n",
       "19308          THE LAWN CLOVER MEADOWS ABBEYLANDS\n",
       "29817     ST JUDES PARK ST PATRICKS ROAD LIMERICK\n",
       "16968      ORANMORE RD BALLYFERMOT DUBLIN  DUBLIN\n",
       "35925               STONELEIGH CRADDOCKSTOWN NAAS\n",
       "34109                   CLOS EMER SALTOWN DUNDALK\n",
       "44229                   THE LAURELS DUNDALK LOUTH\n",
       "26866       A MOUNT SION ROAD GREENMOUNT CO. CORK\n",
       "Name: Address, dtype: object"
      ]
     },
     "execution_count": 12,
     "metadata": {},
     "output_type": "execute_result"
    }
   ],
   "source": [
    "df['Address'].sample(20)"
   ]
  },
  {
   "cell_type": "code",
   "execution_count": 13,
   "metadata": {},
   "outputs": [
    {
     "name": "stderr",
     "output_type": "stream",
     "text": [
      "C:\\Users\\santi\\AppData\\Local\\Temp\\ipykernel_1876\\316044791.py:1: FutureWarning: The default value of regex will change from True to False in a future version.\n",
      "  df['Address'] = df['Address'].str.replace('\\d+', '')\n"
     ]
    }
   ],
   "source": [
    "df['Address'] = df['Address'].str.replace('\\d+', '')\n",
    "df['Address'] = df['Address'].str.replace(',', '')\n",
    "df['Address'] = df['Address'].str.upper()"
   ]
  },
  {
   "cell_type": "code",
   "execution_count": 14,
   "metadata": {},
   "outputs": [
    {
     "data": {
      "text/plain": [
       "40565           APT  STRAND VIEW HOWTH ROAD DUBLIN \n",
       "33194                       DOOLARGY AVENUE DUNDALK\n",
       "49632     SPRINGFIELD CLOSE MULLINGAR CO. WESTMEATH\n",
       "41391                 ST MARYS RD EAST WALL DUBLIN \n",
       "Name: Address, dtype: object"
      ]
     },
     "execution_count": 14,
     "metadata": {},
     "output_type": "execute_result"
    }
   ],
   "source": [
    "df['Address'].sample(4)"
   ]
  },
  {
   "cell_type": "code",
   "execution_count": 15,
   "metadata": {},
   "outputs": [
    {
     "data": {
      "text/html": [
       "<div>\n",
       "<style scoped>\n",
       "    .dataframe tbody tr th:only-of-type {\n",
       "        vertical-align: middle;\n",
       "    }\n",
       "\n",
       "    .dataframe tbody tr th {\n",
       "        vertical-align: top;\n",
       "    }\n",
       "\n",
       "    .dataframe thead th {\n",
       "        text-align: right;\n",
       "    }\n",
       "</style>\n",
       "<table border=\"1\" class=\"dataframe\">\n",
       "  <thead>\n",
       "    <tr style=\"text-align: right;\">\n",
       "      <th></th>\n",
       "      <th>Address</th>\n",
       "      <th>County</th>\n",
       "      <th>Price</th>\n",
       "      <th>Description of Property</th>\n",
       "    </tr>\n",
       "  </thead>\n",
       "  <tbody>\n",
       "    <tr>\n",
       "      <th>0</th>\n",
       "      <td>SILVERLAWNS NAVAN MEATH</td>\n",
       "      <td>Meath</td>\n",
       "      <td>265000.00</td>\n",
       "      <td>Second-Hand Dwelling house /Apartment</td>\n",
       "    </tr>\n",
       "    <tr>\n",
       "      <th>1</th>\n",
       "      <td>BURKEEN HALL WICKLOW TOWN CO. WICKLOW</td>\n",
       "      <td>Wicklow</td>\n",
       "      <td>334802.00</td>\n",
       "      <td>New Dwelling house /Apartment</td>\n",
       "    </tr>\n",
       "    <tr>\n",
       "      <th>2</th>\n",
       "      <td>MILLRACE CRESCENT DRUMROOSKE DONEGAL TOWN</td>\n",
       "      <td>Donegal</td>\n",
       "      <td>137500.00</td>\n",
       "      <td>Second-Hand Dwelling house /Apartment</td>\n",
       "    </tr>\n",
       "    <tr>\n",
       "      <th>3</th>\n",
       "      <td>PADDOCKS VIEW ADAMSTOWN</td>\n",
       "      <td>Dublin</td>\n",
       "      <td>226872.24</td>\n",
       "      <td>New Dwelling house /Apartment</td>\n",
       "    </tr>\n",
       "    <tr>\n",
       "      <th>4</th>\n",
       "      <td>CASTLE MEADOWS SKEHARD RD BLACKROCK</td>\n",
       "      <td>Cork</td>\n",
       "      <td>252000.00</td>\n",
       "      <td>Second-Hand Dwelling house /Apartment</td>\n",
       "    </tr>\n",
       "  </tbody>\n",
       "</table>\n",
       "</div>"
      ],
      "text/plain": [
       "                                      Address   County      Price  \\\n",
       "0                     SILVERLAWNS NAVAN MEATH    Meath  265000.00   \n",
       "1       BURKEEN HALL WICKLOW TOWN CO. WICKLOW  Wicklow  334802.00   \n",
       "2   MILLRACE CRESCENT DRUMROOSKE DONEGAL TOWN  Donegal  137500.00   \n",
       "3                     PADDOCKS VIEW ADAMSTOWN   Dublin  226872.24   \n",
       "4         CASTLE MEADOWS SKEHARD RD BLACKROCK     Cork  252000.00   \n",
       "\n",
       "                 Description of Property  \n",
       "0  Second-Hand Dwelling house /Apartment  \n",
       "1          New Dwelling house /Apartment  \n",
       "2  Second-Hand Dwelling house /Apartment  \n",
       "3          New Dwelling house /Apartment  \n",
       "4  Second-Hand Dwelling house /Apartment  "
      ]
     },
     "execution_count": 15,
     "metadata": {},
     "output_type": "execute_result"
    }
   ],
   "source": [
    "df.head()"
   ]
  },
  {
   "cell_type": "code",
   "execution_count": 16,
   "metadata": {},
   "outputs": [],
   "source": [
    "df['Description of Property'] = df['Description of Property'].str.replace('Second-Hand Dwelling house /Apartment', 'Second-Hand')\n",
    "df['Description of Property'] = df['Description of Property'].str.replace('New Dwelling house /Apartment', 'New')\n",
    "df['Description of Property'] = df['Description of Property'].str.replace('Teach/Árasán Cónaithe Atháimhe','Second-Hand')\n",
    "df['Description of Property'] = df['Description of Property'].str.replace('Teach/Árasán Cónaithe Nua','New')\n",
    "df = df[df['Description of Property'] != 'Teach/?ras?n C?naithe Nua']\n",
    "df = df.dropna()"
   ]
  },
  {
   "cell_type": "code",
   "execution_count": 17,
   "metadata": {},
   "outputs": [
    {
     "data": {
      "image/png": "[encoded data removed]",
      "text/plain": [
       "<Figure size 2000x800 with 2 Axes>"
      ]
     },
     "metadata": {},
     "output_type": "display_data"
    }
   ],
   "source": [
    "import matplotlib.pyplot as plt\n",
    "import seaborn as sns\n",
    "\n",
    "custom = {\"axes.edgecolor\": \"black\", \"grid.color\": \"white\"}\n",
    "sns.set_style(\"darkgrid\", rc = custom)\n",
    "\n",
    "f, (ax_top, ax_bottom) = plt.subplots(ncols=1, nrows=2, sharex=True, gridspec_kw={'hspace':0.05},figsize=(20, 8))\n",
    "f.suptitle('Distribution of Prices by property type',fontsize=18,color= \"black\", weight='bold',fontname=\"Times New Roman\")\n",
    "a = sns.boxplot(data=df,x='Description of Property',y='Price',ax=ax_bottom)\n",
    "b = sns.boxplot(data=df,x='Description of Property',y='Price',ax=ax_top)\n",
    "ax_top.set_ylim(bottom=1e6) \n",
    "ax_bottom.set_ylim(0,1e6)\n",
    "\n",
    "sns.despine(ax=ax_bottom)\n",
    "sns.despine(ax=ax_top, bottom=True)\n",
    "\n",
    "ax = ax_top\n",
    "d = .015\n",
    "kwargs = dict(transform=ax.transAxes, color='k', clip_on=False)\n",
    "ax.plot((-d, +d), (-d, +d), **kwargs)\n",
    "\n",
    "ax2 = ax_bottom\n",
    "kwargs.update(transform=ax2.transAxes)  \n",
    "ax2.plot((-d, +d), (1 - d, 1 + d), **kwargs) \n",
    "\n",
    "ax_top.set(xlabel=None,ylabel=None)\n",
    "b.ticklabel_format(style='plain', axis='y')\n",
    "a.ticklabel_format(style='plain', axis='y')\n",
    "ax_top.yaxis.set_major_formatter('€ {x:1.0f}')\n",
    "ax_bottom.yaxis.set_major_formatter('€ {x:1.0f}')\n",
    "plt.show()\n",
    "\n"
   ]
  },
  {
   "cell_type": "code",
   "execution_count": 18,
   "metadata": {},
   "outputs": [
    {
     "data": {
      "image/png": "[encoded data removed]",
      "text/plain": [
       "<Figure size 2000x1000 with 2 Axes>"
      ]
     },
     "metadata": {},
     "output_type": "display_data"
    }
   ],
   "source": [
    "import seaborn as sns\n",
    "\n",
    "f, axes = plt.subplots(ncols=2, nrows=1,figsize=(20, 10))\n",
    "\n",
    "plott = sns.kdeplot(df['Price'], ax=axes[0])\n",
    "plott.set_title('Price Distribution up to 1M', fontweight='bold')\n",
    "plott.ticklabel_format(style='plain', axis='x')\n",
    "plott.xaxis.set_major_formatter('€ {x:1.0f}')\n",
    "plott.set_xlim([0, 10000000])\n",
    "\n",
    "plott2 = sns.kdeplot(df['Price'], ax=axes[1])\n",
    "plott2.set_title('Total Price Distribution', fontweight='bold')\n",
    "\n",
    "plt.show()\n"
   ]
  },
  {
   "cell_type": "code",
   "execution_count": 19,
   "metadata": {},
   "outputs": [
    {
     "name": "stdout",
     "output_type": "stream",
     "text": [
      "reject H0\n",
      "reject H0\n"
     ]
    },
    {
     "name": "stderr",
     "output_type": "stream",
     "text": [
      "c:\\Users\\santi\\anaconda3\\lib\\site-packages\\scipy\\stats\\_morestats.py:1816: UserWarning: p-value may not be accurate for N > 5000.\n",
      "  warnings.warn(\"p-value may not be accurate for N > 5000.\")\n"
     ]
    }
   ],
   "source": [
    "from scipy.stats import shapiro,kstest,mannwhitneyu\n",
    "for x in [df[df['Description of Property'] == 'Second-Hand'],df[df['Description of Property'] == 'New'] ]:\n",
    "    stat, p = kstest(x['Price'],'norm')\n",
    "    stat, p2 = shapiro(x['Price'])\n",
    "    if p>0.05 or p2>0.05:\n",
    "        print('accept H0')\n",
    "    else:\n",
    "        print('reject H0')\n",
    "\n",
    "    "
   ]
  },
  {
   "cell_type": "code",
   "execution_count": 20,
   "metadata": {},
   "outputs": [],
   "source": [
    "secon = df[df['Description of Property'] == 'Second-Hand']\n",
    "new = df[df['Description of Property'] == 'New']"
   ]
  },
  {
   "cell_type": "code",
   "execution_count": 21,
   "metadata": {},
   "outputs": [
    {
     "data": {
      "text/plain": [
       "MannwhitneyuResult(statistic=135847636.5, pvalue=1.5669899470283972e-197)"
      ]
     },
     "execution_count": 21,
     "metadata": {},
     "output_type": "execute_result"
    }
   ],
   "source": [
    "mannwhitneyu(secon['Price'],new['Price'])"
   ]
  },
  {
   "cell_type": "code",
   "execution_count": 22,
   "metadata": {},
   "outputs": [],
   "source": [
    "secon = []\n",
    "new = []"
   ]
  },
  {
   "cell_type": "code",
   "execution_count": 23,
   "metadata": {},
   "outputs": [
    {
     "name": "stdout",
     "output_type": "stream",
     "text": [
      "<class 'pandas.core.frame.DataFrame'>\n",
      "Int64Index: 50000 entries, 0 to 49999\n",
      "Data columns (total 4 columns):\n",
      " #   Column                   Non-Null Count  Dtype  \n",
      "---  ------                   --------------  -----  \n",
      " 0   Address                  50000 non-null  object \n",
      " 1   County                   50000 non-null  object \n",
      " 2   Price                    50000 non-null  float64\n",
      " 3   Description of Property  50000 non-null  object \n",
      "dtypes: float64(1), object(3)\n",
      "memory usage: 1.9+ MB\n"
     ]
    }
   ],
   "source": [
    "df.info()"
   ]
  },
  {
   "cell_type": "code",
   "execution_count": 24,
   "metadata": {},
   "outputs": [],
   "source": [
    "from sklearn.feature_extraction.text import CountVectorizer,TfidfVectorizer\n",
    "\n",
    "\n",
    "vectorizer = TfidfVectorizer(max_features=1000)\n",
    "\n",
    "# Fit and transform the text column\n",
    "bag_of_words = vectorizer.fit_transform(df['Address'])\n",
    "type(bag_of_words)\n",
    "\n",
    "# Convert the bag_of_words to a DataFrame\n",
    "bag_of_words_df = pd.DataFrame(bag_of_words.toarray(), columns=vectorizer.get_feature_names_out())\n",
    "\n",
    "# Concatenate the desired columns with the bag_of_words DataFrame\n",
    "df = pd.concat([df, bag_of_words_df], axis=1)"
   ]
  },
  {
   "cell_type": "code",
   "execution_count": 25,
   "metadata": {},
   "outputs": [],
   "source": [
    "from sklearn.preprocessing import RobustScaler\n",
    "from sklearn.compose import ColumnTransformer\n",
    "\n",
    "scaler = RobustScaler()\n",
    "\n",
    "# Select the column you want to scale\n",
    "column_to_scale = df['Price']\n",
    "\n",
    "# Reshape the column to match the expected input shape of the scaler\n",
    "reshaped_column = column_to_scale.values.reshape(-1, 1)\n",
    "\n",
    "# Apply the scaling transformation to the reshaped column\n",
    "scaled_column = scaler.fit_transform(reshaped_column)\n",
    "\n",
    "# Create a new column in the DataFrame with the scaled values\n",
    "df['Price'] = scaled_column"
   ]
  },
  {
   "cell_type": "code",
   "execution_count": 26,
   "metadata": {},
   "outputs": [],
   "source": [
    "# cleaning memory\n",
    "reshaped_column = []\n",
    "scaled_column = []\n",
    "bag_of_words_df = []\n",
    "x = []\n",
    "column_to_scale = []\n",
    "y = []"
   ]
  },
  {
   "cell_type": "code",
   "execution_count": 27,
   "metadata": {},
   "outputs": [],
   "source": [
    "df.drop('Address', axis=1, inplace=True)"
   ]
  },
  {
   "cell_type": "code",
   "execution_count": 28,
   "metadata": {},
   "outputs": [],
   "source": [
    "df = pd.get_dummies(df, columns=['County'])"
   ]
  },
  {
   "cell_type": "code",
   "execution_count": 29,
   "metadata": {},
   "outputs": [
    {
     "data": {
      "text/html": [
       "<div>\n",
       "<style scoped>\n",
       "    .dataframe tbody tr th:only-of-type {\n",
       "        vertical-align: middle;\n",
       "    }\n",
       "\n",
       "    .dataframe tbody tr th {\n",
       "        vertical-align: top;\n",
       "    }\n",
       "\n",
       "    .dataframe thead th {\n",
       "        text-align: right;\n",
       "    }\n",
       "</style>\n",
       "<table border=\"1\" class=\"dataframe\">\n",
       "  <thead>\n",
       "    <tr style=\"text-align: right;\">\n",
       "      <th></th>\n",
       "      <th>Price</th>\n",
       "      <th>Description of Property</th>\n",
       "      <th>abbey</th>\n",
       "      <th>abbeyfeale</th>\n",
       "      <th>abbeylands</th>\n",
       "      <th>abbeyleix</th>\n",
       "      <th>abbeyside</th>\n",
       "      <th>abbot</th>\n",
       "      <th>abhainn</th>\n",
       "      <th>achill</th>\n",
       "      <th>...</th>\n",
       "      <th>County_Meath</th>\n",
       "      <th>County_Monaghan</th>\n",
       "      <th>County_Offaly</th>\n",
       "      <th>County_Roscommon</th>\n",
       "      <th>County_Sligo</th>\n",
       "      <th>County_Tipperary</th>\n",
       "      <th>County_Waterford</th>\n",
       "      <th>County_Westmeath</th>\n",
       "      <th>County_Wexford</th>\n",
       "      <th>County_Wicklow</th>\n",
       "    </tr>\n",
       "  </thead>\n",
       "  <tbody>\n",
       "    <tr>\n",
       "      <th>0</th>\n",
       "      <td>0.269231</td>\n",
       "      <td>Second-Hand</td>\n",
       "      <td>0.0</td>\n",
       "      <td>0.0</td>\n",
       "      <td>0.0</td>\n",
       "      <td>0.0</td>\n",
       "      <td>0.0</td>\n",
       "      <td>0.0</td>\n",
       "      <td>0.0</td>\n",
       "      <td>0.0</td>\n",
       "      <td>...</td>\n",
       "      <td>1</td>\n",
       "      <td>0</td>\n",
       "      <td>0</td>\n",
       "      <td>0</td>\n",
       "      <td>0</td>\n",
       "      <td>0</td>\n",
       "      <td>0</td>\n",
       "      <td>0</td>\n",
       "      <td>0</td>\n",
       "      <td>0</td>\n",
       "    </tr>\n",
       "    <tr>\n",
       "      <th>1</th>\n",
       "      <td>0.627190</td>\n",
       "      <td>New</td>\n",
       "      <td>0.0</td>\n",
       "      <td>0.0</td>\n",
       "      <td>0.0</td>\n",
       "      <td>0.0</td>\n",
       "      <td>0.0</td>\n",
       "      <td>0.0</td>\n",
       "      <td>0.0</td>\n",
       "      <td>0.0</td>\n",
       "      <td>...</td>\n",
       "      <td>0</td>\n",
       "      <td>0</td>\n",
       "      <td>0</td>\n",
       "      <td>0</td>\n",
       "      <td>0</td>\n",
       "      <td>0</td>\n",
       "      <td>0</td>\n",
       "      <td>0</td>\n",
       "      <td>0</td>\n",
       "      <td>1</td>\n",
       "    </tr>\n",
       "    <tr>\n",
       "      <th>2</th>\n",
       "      <td>-0.384615</td>\n",
       "      <td>Second-Hand</td>\n",
       "      <td>0.0</td>\n",
       "      <td>0.0</td>\n",
       "      <td>0.0</td>\n",
       "      <td>0.0</td>\n",
       "      <td>0.0</td>\n",
       "      <td>0.0</td>\n",
       "      <td>0.0</td>\n",
       "      <td>0.0</td>\n",
       "      <td>...</td>\n",
       "      <td>0</td>\n",
       "      <td>0</td>\n",
       "      <td>0</td>\n",
       "      <td>0</td>\n",
       "      <td>0</td>\n",
       "      <td>0</td>\n",
       "      <td>0</td>\n",
       "      <td>0</td>\n",
       "      <td>0</td>\n",
       "      <td>0</td>\n",
       "    </tr>\n",
       "    <tr>\n",
       "      <th>3</th>\n",
       "      <td>0.073704</td>\n",
       "      <td>New</td>\n",
       "      <td>0.0</td>\n",
       "      <td>0.0</td>\n",
       "      <td>0.0</td>\n",
       "      <td>0.0</td>\n",
       "      <td>0.0</td>\n",
       "      <td>0.0</td>\n",
       "      <td>0.0</td>\n",
       "      <td>0.0</td>\n",
       "      <td>...</td>\n",
       "      <td>0</td>\n",
       "      <td>0</td>\n",
       "      <td>0</td>\n",
       "      <td>0</td>\n",
       "      <td>0</td>\n",
       "      <td>0</td>\n",
       "      <td>0</td>\n",
       "      <td>0</td>\n",
       "      <td>0</td>\n",
       "      <td>0</td>\n",
       "    </tr>\n",
       "    <tr>\n",
       "      <th>4</th>\n",
       "      <td>0.202564</td>\n",
       "      <td>Second-Hand</td>\n",
       "      <td>0.0</td>\n",
       "      <td>0.0</td>\n",
       "      <td>0.0</td>\n",
       "      <td>0.0</td>\n",
       "      <td>0.0</td>\n",
       "      <td>0.0</td>\n",
       "      <td>0.0</td>\n",
       "      <td>0.0</td>\n",
       "      <td>...</td>\n",
       "      <td>0</td>\n",
       "      <td>0</td>\n",
       "      <td>0</td>\n",
       "      <td>0</td>\n",
       "      <td>0</td>\n",
       "      <td>0</td>\n",
       "      <td>0</td>\n",
       "      <td>0</td>\n",
       "      <td>0</td>\n",
       "      <td>0</td>\n",
       "    </tr>\n",
       "  </tbody>\n",
       "</table>\n",
       "<p>5 rows × 1028 columns</p>\n",
       "</div>"
      ],
      "text/plain": [
       "      Price Description of Property  abbey  abbeyfeale  abbeylands  abbeyleix  \\\n",
       "0  0.269231             Second-Hand    0.0         0.0         0.0        0.0   \n",
       "1  0.627190                     New    0.0         0.0         0.0        0.0   \n",
       "2 -0.384615             Second-Hand    0.0         0.0         0.0        0.0   \n",
       "3  0.073704                     New    0.0         0.0         0.0        0.0   \n",
       "4  0.202564             Second-Hand    0.0         0.0         0.0        0.0   \n",
       "\n",
       "   abbeyside  abbot  abhainn  achill  ...  County_Meath  County_Monaghan  \\\n",
       "0        0.0    0.0      0.0     0.0  ...             1                0   \n",
       "1        0.0    0.0      0.0     0.0  ...             0                0   \n",
       "2        0.0    0.0      0.0     0.0  ...             0                0   \n",
       "3        0.0    0.0      0.0     0.0  ...             0                0   \n",
       "4        0.0    0.0      0.0     0.0  ...             0                0   \n",
       "\n",
       "   County_Offaly  County_Roscommon  County_Sligo  County_Tipperary  \\\n",
       "0              0                 0             0                 0   \n",
       "1              0                 0             0                 0   \n",
       "2              0                 0             0                 0   \n",
       "3              0                 0             0                 0   \n",
       "4              0                 0             0                 0   \n",
       "\n",
       "   County_Waterford  County_Westmeath  County_Wexford  County_Wicklow  \n",
       "0                 0                 0               0               0  \n",
       "1                 0                 0               0               1  \n",
       "2                 0                 0               0               0  \n",
       "3                 0                 0               0               0  \n",
       "4                 0                 0               0               0  \n",
       "\n",
       "[5 rows x 1028 columns]"
      ]
     },
     "execution_count": 29,
     "metadata": {},
     "output_type": "execute_result"
    }
   ],
   "source": [
    "df.head()"
   ]
  },
  {
   "cell_type": "code",
   "execution_count": 30,
   "metadata": {},
   "outputs": [
    {
     "data": {
      "text/plain": [
       "(50000, 1028)"
      ]
     },
     "execution_count": 30,
     "metadata": {},
     "output_type": "execute_result"
    }
   ],
   "source": [
    "df.shape"
   ]
  },
  {
   "attachments": {},
   "cell_type": "markdown",
   "metadata": {},
   "source": [
    "X, Y PCA and train test split"
   ]
  },
  {
   "cell_type": "code",
   "execution_count": 31,
   "metadata": {},
   "outputs": [],
   "source": [
    "X = df.drop('Description of Property', axis=1)"
   ]
  },
  {
   "cell_type": "code",
   "execution_count": 32,
   "metadata": {},
   "outputs": [],
   "source": [
    "y = df['Description of Property']"
   ]
  },
  {
   "cell_type": "code",
   "execution_count": 33,
   "metadata": {},
   "outputs": [],
   "source": [
    "#clean memory\n",
    "df = []"
   ]
  },
  {
   "cell_type": "code",
   "execution_count": 34,
   "metadata": {},
   "outputs": [],
   "source": [
    "X = X.dropna()"
   ]
  },
  {
   "cell_type": "code",
   "execution_count": 35,
   "metadata": {},
   "outputs": [
    {
     "name": "stdout",
     "output_type": "stream",
     "text": [
      "Using 1 components, we can explain 0.9208041240464011% of the variability in the original data.\n"
     ]
    }
   ],
   "source": [
    "from sklearn.decomposition import PCA\n",
    "\n",
    "for comp in range(X.shape[1]):\n",
    "    pca = PCA(n_components= comp, random_state=42)\n",
    "    pca.fit(X)\n",
    "    comp_check = pca.explained_variance_ratio_\n",
    "    final_comp = comp\n",
    "    if comp_check.sum() > 0.80:\n",
    "        break\n",
    "        \n",
    "Final_PCA = PCA(n_components= final_comp,random_state=42)\n",
    "Final_PCA.fit(X)\n",
    "cluster_df = Final_PCA.transform(X)\n",
    "num_comps = comp_check.shape[0]\n",
    "print(\"Using {} components, we can explain {}% of the variability in the original data.\".format(final_comp,comp_check.sum()))\n"
   ]
  },
  {
   "cell_type": "code",
   "execution_count": 36,
   "metadata": {},
   "outputs": [
    {
     "data": {
      "text/html": [
       "<style>#sk-container-id-1 {color: black;background-color: white;}#sk-container-id-1 pre{padding: 0;}#sk-container-id-1 div.sk-toggleable {background-color: white;}#sk-container-id-1 label.sk-toggleable__label {cursor: pointer;display: block;width: 100%;margin-bottom: 0;padding: 0.3em;box-sizing: border-box;text-align: center;}#sk-container-id-1 label.sk-toggleable__label-arrow:before {content: \"▸\";float: left;margin-right: 0.25em;color: #696969;}#sk-container-id-1 label.sk-toggleable__label-arrow:hover:before {color: black;}#sk-container-id-1 div.sk-estimator:hover label.sk-toggleable__label-arrow:before {color: black;}#sk-container-id-1 div.sk-toggleable__content {max-height: 0;max-width: 0;overflow: hidden;text-align: left;background-color: #f0f8ff;}#sk-container-id-1 div.sk-toggleable__content pre {margin: 0.2em;color: black;border-radius: 0.25em;background-color: #f0f8ff;}#sk-container-id-1 input.sk-toggleable__control:checked~div.sk-toggleable__content {max-height: 200px;max-width: 100%;overflow: auto;}#sk-container-id-1 input.sk-toggleable__control:checked~label.sk-toggleable__label-arrow:before {content: \"▾\";}#sk-container-id-1 div.sk-estimator input.sk-toggleable__control:checked~label.sk-toggleable__label {background-color: #d4ebff;}#sk-container-id-1 div.sk-label input.sk-toggleable__control:checked~label.sk-toggleable__label {background-color: #d4ebff;}#sk-container-id-1 input.sk-hidden--visually {border: 0;clip: rect(1px 1px 1px 1px);clip: rect(1px, 1px, 1px, 1px);height: 1px;margin: -1px;overflow: hidden;padding: 0;position: absolute;width: 1px;}#sk-container-id-1 div.sk-estimator {font-family: monospace;background-color: #f0f8ff;border: 1px dotted black;border-radius: 0.25em;box-sizing: border-box;margin-bottom: 0.5em;}#sk-container-id-1 div.sk-estimator:hover {background-color: #d4ebff;}#sk-container-id-1 div.sk-parallel-item::after {content: \"\";width: 100%;border-bottom: 1px solid gray;flex-grow: 1;}#sk-container-id-1 div.sk-label:hover label.sk-toggleable__label {background-color: #d4ebff;}#sk-container-id-1 div.sk-serial::before {content: \"\";position: absolute;border-left: 1px solid gray;box-sizing: border-box;top: 0;bottom: 0;left: 50%;z-index: 0;}#sk-container-id-1 div.sk-serial {display: flex;flex-direction: column;align-items: center;background-color: white;padding-right: 0.2em;padding-left: 0.2em;position: relative;}#sk-container-id-1 div.sk-item {position: relative;z-index: 1;}#sk-container-id-1 div.sk-parallel {display: flex;align-items: stretch;justify-content: center;background-color: white;position: relative;}#sk-container-id-1 div.sk-item::before, #sk-container-id-1 div.sk-parallel-item::before {content: \"\";position: absolute;border-left: 1px solid gray;box-sizing: border-box;top: 0;bottom: 0;left: 50%;z-index: -1;}#sk-container-id-1 div.sk-parallel-item {display: flex;flex-direction: column;z-index: 1;position: relative;background-color: white;}#sk-container-id-1 div.sk-parallel-item:first-child::after {align-self: flex-end;width: 50%;}#sk-container-id-1 div.sk-parallel-item:last-child::after {align-self: flex-start;width: 50%;}#sk-container-id-1 div.sk-parallel-item:only-child::after {width: 0;}#sk-container-id-1 div.sk-dashed-wrapped {border: 1px dashed gray;margin: 0 0.4em 0.5em 0.4em;box-sizing: border-box;padding-bottom: 0.4em;background-color: white;}#sk-container-id-1 div.sk-label label {font-family: monospace;font-weight: bold;display: inline-block;line-height: 1.2em;}#sk-container-id-1 div.sk-label-container {text-align: center;}#sk-container-id-1 div.sk-container {/* jupyter's `normalize.less` sets `[hidden] { display: none; }` but bootstrap.min.css set `[hidden] { display: none !important; }` so we also need the `!important` here to be able to override the default hidden behavior on the sphinx rendered scikit-learn.org. See: https://github.com/scikit-learn/scikit-learn/issues/21755 */display: inline-block !important;position: relative;}#sk-container-id-1 div.sk-text-repr-fallback {display: none;}</style><div id=\"sk-container-id-1\" class=\"sk-top-container\"><div class=\"sk-text-repr-fallback\"><pre>RandomForestClassifier(n_estimators=150)</pre><b>In a Jupyter environment, please rerun this cell to show the HTML representation or trust the notebook. <br />On GitHub, the HTML representation is unable to render, please try loading this page with nbviewer.org.</b></div><div class=\"sk-container\" hidden><div class=\"sk-item\"><div class=\"sk-estimator sk-toggleable\"><input class=\"sk-toggleable__control sk-hidden--visually\" id=\"sk-estimator-id-1\" type=\"checkbox\" checked><label for=\"sk-estimator-id-1\" class=\"sk-toggleable__label sk-toggleable__label-arrow\">RandomForestClassifier</label><div class=\"sk-toggleable__content\"><pre>RandomForestClassifier(n_estimators=150)</pre></div></div></div></div></div>"
      ],
      "text/plain": [
       "RandomForestClassifier(n_estimators=150)"
      ]
     },
     "execution_count": 36,
     "metadata": {},
     "output_type": "execute_result"
    }
   ],
   "source": [
    "from sklearn.model_selection import train_test_split\n",
    "from sklearn.ensemble import RandomForestClassifier\n",
    "\n",
    "X_train, X_test, y_train, y_test = train_test_split(X, y, test_size=0.25, random_state=42)\n",
    "rf = RandomForestClassifier(n_estimators=150)\n",
    "rf.fit(X_train, y_train)"
   ]
  },
  {
   "cell_type": "code",
   "execution_count": 37,
   "metadata": {},
   "outputs": [
    {
     "data": {
      "text/html": [
       "<div>\n",
       "<style scoped>\n",
       "    .dataframe tbody tr th:only-of-type {\n",
       "        vertical-align: middle;\n",
       "    }\n",
       "\n",
       "    .dataframe tbody tr th {\n",
       "        vertical-align: top;\n",
       "    }\n",
       "\n",
       "    .dataframe thead th {\n",
       "        text-align: right;\n",
       "    }\n",
       "</style>\n",
       "<table border=\"1\" class=\"dataframe\">\n",
       "  <thead>\n",
       "    <tr style=\"text-align: right;\">\n",
       "      <th></th>\n",
       "      <th>value</th>\n",
       "      <th>Feature</th>\n",
       "    </tr>\n",
       "  </thead>\n",
       "  <tbody>\n",
       "    <tr>\n",
       "      <th>0</th>\n",
       "      <td>0.135356</td>\n",
       "      <td>Price</td>\n",
       "    </tr>\n",
       "    <tr>\n",
       "      <th>1</th>\n",
       "      <td>0.001854</td>\n",
       "      <td>abbey</td>\n",
       "    </tr>\n",
       "    <tr>\n",
       "      <th>2</th>\n",
       "      <td>0.000017</td>\n",
       "      <td>abbeyfeale</td>\n",
       "    </tr>\n",
       "    <tr>\n",
       "      <th>3</th>\n",
       "      <td>0.000087</td>\n",
       "      <td>abbeylands</td>\n",
       "    </tr>\n",
       "    <tr>\n",
       "      <th>4</th>\n",
       "      <td>0.000093</td>\n",
       "      <td>abbeyleix</td>\n",
       "    </tr>\n",
       "  </tbody>\n",
       "</table>\n",
       "</div>"
      ],
      "text/plain": [
       "      value     Feature\n",
       "0  0.135356       Price\n",
       "1  0.001854       abbey\n",
       "2  0.000017  abbeyfeale\n",
       "3  0.000087  abbeylands\n",
       "4  0.000093   abbeyleix"
      ]
     },
     "execution_count": 37,
     "metadata": {},
     "output_type": "execute_result"
    }
   ],
   "source": [
    "Imp = {'value' : rf.feature_importances_, 'Feature': X.columns}\n",
    "Imp = pd.DataFrame(Imp)\n",
    "Imp.head()"
   ]
  },
  {
   "cell_type": "code",
   "execution_count": 38,
   "metadata": {},
   "outputs": [
    {
     "name": "stdout",
     "output_type": "stream",
     "text": [
      "0.3506425868610778\n"
     ]
    },
    {
     "data": {
      "image/png": "[encoded data removed]",
      "text/plain": [
       "<Figure size 640x480 with 1 Axes>"
      ]
     },
     "metadata": {},
     "output_type": "display_data"
    }
   ],
   "source": [
    "sorted_Imp = Imp.sort_values('value', ascending=False)\n",
    "\n",
    "# Select the top 10 rows\n",
    "top_20 = sorted_Imp.head(20)\n",
    "print(top_20['value'].sum())\n",
    "# Create the bar plot\n",
    "sns.barplot(data=top_20, x='value', y='Feature')\n",
    "plt.xlabel('Value')\n",
    "plt.ylabel('Feature')\n",
    "plt.title('Top 20 Feature importance')\n",
    "plt.show()"
   ]
  },
  {
   "cell_type": "code",
   "execution_count": 39,
   "metadata": {},
   "outputs": [
    {
     "name": "stdout",
     "output_type": "stream",
     "text": [
      "        value       Feature\n",
      "0    0.135356         Price\n",
      "816  0.034256          road\n",
      "356  0.026088        dublin\n",
      "917  0.017934           the\n",
      "798  0.015638            rd\n",
      "..        ...           ...\n",
      "521  0.000005     irishtown\n",
      "517  0.000004     huntstown\n",
      "890  0.000003  stoneybatter\n",
      "926  0.000003          tone\n",
      "253  0.000003   clanbrassil\n",
      "\n",
      "[1027 rows x 2 columns]\n"
     ]
    }
   ],
   "source": [
    "print(sorted_Imp)"
   ]
  },
  {
   "cell_type": "code",
   "execution_count": 40,
   "metadata": {},
   "outputs": [
    {
     "name": "stdout",
     "output_type": "stream",
     "text": [
      "237\n"
     ]
    }
   ],
   "source": [
    "for x in range(1000):\n",
    "    if sorted_Imp['value'].head(x).sum()>.75:\n",
    "        print(x)\n",
    "        break\n"
   ]
  },
  {
   "cell_type": "code",
   "execution_count": 41,
   "metadata": {},
   "outputs": [],
   "source": [
    "Feature = sorted_Imp['Feature'].head(237)"
   ]
  },
  {
   "cell_type": "code",
   "execution_count": 42,
   "metadata": {},
   "outputs": [
    {
     "data": {
      "text/plain": [
       "0            Price\n",
       "816           road\n",
       "356         dublin\n",
       "917            the\n",
       "798             rd\n",
       "          ...     \n",
       "544       kilkenny\n",
       "941           unit\n",
       "468     greystones\n",
       "257    clarecastle\n",
       "386    enniscorthy\n",
       "Name: Feature, Length: 237, dtype: object"
      ]
     },
     "execution_count": 42,
     "metadata": {},
     "output_type": "execute_result"
    }
   ],
   "source": [
    "Feature"
   ]
  },
  {
   "cell_type": "code",
   "execution_count": 43,
   "metadata": {},
   "outputs": [
    {
     "data": {
      "text/plain": [
       "(37500, 237)"
      ]
     },
     "execution_count": 43,
     "metadata": {},
     "output_type": "execute_result"
    }
   ],
   "source": [
    "X_train, X_test, y_train, y_test = train_test_split(X.loc[:, X.columns.isin(Feature)], y, test_size=0.25, random_state=42)\n",
    "X_train.shape"
   ]
  },
  {
   "cell_type": "code",
   "execution_count": 44,
   "metadata": {},
   "outputs": [],
   "source": [
    "from sklearn.metrics import confusion_matrix as confucio\n",
    "from sklearn.metrics import precision_score, \\\n",
    "    recall_score, classification_report, \\\n",
    "    accuracy_score, f1_score, roc_auc_score,roc_curve"
   ]
  },
  {
   "cell_type": "code",
   "execution_count": 45,
   "metadata": {},
   "outputs": [],
   "source": [
    "from sklearn.pipeline import Pipeline\n",
    "from imblearn.over_sampling import SMOTE\n",
    "from sklearn.svm import SVC\n",
    "from sklearn.model_selection import GridSearchCV"
   ]
  },
  {
   "cell_type": "code",
   "execution_count": 46,
   "metadata": {},
   "outputs": [
    {
     "data": {
      "text/plain": [
       "<AxesSubplot:xlabel='Description of Property', ylabel='count'>"
      ]
     },
     "execution_count": 46,
     "metadata": {},
     "output_type": "execute_result"
    },
    {
     "data": {
      "image/png": "[encoded data removed]",
      "text/plain": [
       "<Figure size 640x480 with 1 Axes>"
      ]
     },
     "metadata": {},
     "output_type": "display_data"
    }
   ],
   "source": [
    "sns.countplot(x = y)"
   ]
  },
  {
   "cell_type": "code",
   "execution_count": 47,
   "metadata": {},
   "outputs": [],
   "source": [
    "from imblearn.under_sampling import RandomUnderSampler\n",
    "ros = RandomUnderSampler(random_state=42)\n",
    "X_train_rus, y_train_rus= ros.fit_resample(X_train, y_train)"
   ]
  },
  {
   "cell_type": "code",
   "execution_count": 48,
   "metadata": {},
   "outputs": [
    {
     "data": {
      "text/plain": [
       "(12364, 237)"
      ]
     },
     "execution_count": 48,
     "metadata": {},
     "output_type": "execute_result"
    }
   ],
   "source": [
    "X_train_rus.shape"
   ]
  },
  {
   "cell_type": "code",
   "execution_count": 49,
   "metadata": {},
   "outputs": [
    {
     "name": "stdout",
     "output_type": "stream",
     "text": [
      "Optimal parameters:\n",
      " {'classification__C': 1, 'classification__kernel': 'rbf'}\n",
      "Best mean cross-validated score:\n",
      " 0.7744369665362588\n",
      "Elapsed time: 695.85 seconds\n"
     ]
    },
    {
     "data": {
      "image/png": "[encoded data removed]",
      "text/plain": [
       "<Figure size 640x480 with 2 Axes>"
      ]
     },
     "metadata": {},
     "output_type": "display_data"
    }
   ],
   "source": [
    "#svm\n",
    "import time\n",
    "\n",
    "start_time = time.time()\n",
    "x = 'Svm'\n",
    "\n",
    "model = Pipeline([('classification', SVC(random_state=1) )])\n",
    "\n",
    "grid_params = {'classification__kernel': ['linear', 'poly', 'rbf'],\n",
    "              'classification__C': [1,0.1,0.01]}\n",
    "\n",
    "svm_clf = GridSearchCV(estimator=model, param_grid=grid_params, scoring='precision_weighted', cv=5,error_score='raise')\n",
    "\n",
    "# fit the model\n",
    "svm_clf.fit(X_train_rus,y_train_rus)\n",
    "\n",
    "#best parameters,results from grid\n",
    "svm_clf_best_parameters = svm_clf.best_params_\n",
    "print(\"Optimal parameters:\\n\", svm_clf_best_parameters)\n",
    "svm_clf_best_result = svm_clf.best_score_ \n",
    "print(\"Best mean cross-validated score:\\n\", svm_clf_best_result)\n",
    "\n",
    "#metrics\n",
    "y_pred= svm_clf.predict(X_test)\n",
    "#confusion matrix\n",
    "cm = confucio(y_test, y_pred)\n",
    "ax= plt.subplot()\n",
    "sns.heatmap(cm, annot=True, fmt='g', ax=ax)\n",
    "# labels, title and ticks\n",
    "ax.set_xlabel('Predicted labels');ax.set_ylabel('True labels'); \n",
    "ax.set_title('Confusion Matrix'); \n",
    "#ax.xaxis.set_ticklabels(['Dublin', 'Not Dublin']); ax.yaxis.set_ticklabels(['Dublin', 'Not Dublin']);\n",
    "#met(y_test,y_pred,x)\n",
    "\n",
    "#checking time\n",
    "end_time = time.time()\n",
    "elapsed_time = end_time - start_time\n",
    "print(\"Elapsed time: {:.2f} seconds\".format(elapsed_time))"
   ]
  },
  {
   "cell_type": "code",
   "execution_count": 52,
   "metadata": {},
   "outputs": [
    {
     "name": "stdout",
     "output_type": "stream",
     "text": [
      "0.674054054054054\n",
      "0.7657967364107947\n",
      "0.78256\n",
      "0.6926044734929422\n"
     ]
    }
   ],
   "source": [
    "print(precision_score(y_test, y_pred, average='macro')) \n",
    "print(recall_score(y_test, y_pred, average='macro'))\n",
    "print(accuracy_score(y_test, y_pred))\n",
    "print(f1_score(y_test, y_pred , average = 'macro'))\n"
   ]
  }
 ],
 "metadata": {
  "kernelspec": {
   "display_name": "base",
   "language": "python",
   "name": "python3"
  },
  "language_info": {
   "codemirror_mode": {
    "name": "ipython",
    "version": 3
   },
   "file_extension": ".py",
   "mimetype": "text/x-python",
   "name": "python",
   "nbconvert_exporter": "python",
   "pygments_lexer": "ipython3",
   "version": "3.9.7"
  },
  "orig_nbformat": 4
 },
 "nbformat": 4,
 "nbformat_minor": 2
}
