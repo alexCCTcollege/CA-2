{
 "cells": [
  {
   "cell_type": "code",
   "execution_count": 1,
   "id": "d162b11c",
   "metadata": {
    "ExecuteTime": {
     "end_time": "2023-04-24T19:00:43.533637Z",
     "start_time": "2023-04-24T19:00:43.137651Z"
    }
   },
   "outputs": [],
   "source": [
    "import pandas as pd\n",
    "df = pd.read_csv(\"Motorola.csv\")"
   ]
  },
  {
   "cell_type": "code",
   "execution_count": 15,
   "id": "274bb16e",
   "metadata": {
    "ExecuteTime": {
     "end_time": "2023-04-21T12:40:56.971071Z",
     "start_time": "2023-04-21T12:40:56.957068Z"
    }
   },
   "outputs": [
    {
     "data": {
      "text/html": [
       "<div>\n",
       "<style scoped>\n",
       "    .dataframe tbody tr th:only-of-type {\n",
       "        vertical-align: middle;\n",
       "    }\n",
       "\n",
       "    .dataframe tbody tr th {\n",
       "        vertical-align: top;\n",
       "    }\n",
       "\n",
       "    .dataframe thead th {\n",
       "        text-align: right;\n",
       "    }\n",
       "</style>\n",
       "<table border=\"1\" class=\"dataframe\">\n",
       "  <thead>\n",
       "    <tr style=\"text-align: right;\">\n",
       "      <th></th>\n",
       "      <th>Year</th>\n",
       "      <th>Company</th>\n",
       "      <th>Revenue (in millions)</th>\n",
       "      <th>Profit (in millions)</th>\n",
       "    </tr>\n",
       "  </thead>\n",
       "  <tbody>\n",
       "    <tr>\n",
       "      <th>0</th>\n",
       "      <td>1955</td>\n",
       "      <td>Motorola</td>\n",
       "      <td>205.2</td>\n",
       "      <td>7.6</td>\n",
       "    </tr>\n",
       "    <tr>\n",
       "      <th>1</th>\n",
       "      <td>1956</td>\n",
       "      <td>Motorola</td>\n",
       "      <td>226.7</td>\n",
       "      <td>8.5</td>\n",
       "    </tr>\n",
       "    <tr>\n",
       "      <th>2</th>\n",
       "      <td>1957</td>\n",
       "      <td>Motorola</td>\n",
       "      <td>227.6</td>\n",
       "      <td>8.0</td>\n",
       "    </tr>\n",
       "    <tr>\n",
       "      <th>3</th>\n",
       "      <td>1958</td>\n",
       "      <td>Motorola</td>\n",
       "      <td>226.4</td>\n",
       "      <td>7.8</td>\n",
       "    </tr>\n",
       "    <tr>\n",
       "      <th>4</th>\n",
       "      <td>1959</td>\n",
       "      <td>Motorola</td>\n",
       "      <td>216.6</td>\n",
       "      <td>7.4</td>\n",
       "    </tr>\n",
       "  </tbody>\n",
       "</table>\n",
       "</div>"
      ],
      "text/plain": [
       "   Year   Company  Revenue (in millions)  Profit (in millions)\n",
       "0  1955  Motorola                  205.2                   7.6\n",
       "1  1956  Motorola                  226.7                   8.5\n",
       "2  1957  Motorola                  227.6                   8.0\n",
       "3  1958  Motorola                  226.4                   7.8\n",
       "4  1959  Motorola                  216.6                   7.4"
      ]
     },
     "execution_count": 15,
     "metadata": {},
     "output_type": "execute_result"
    }
   ],
   "source": [
    "df.head()"
   ]
  },
  {
   "cell_type": "code",
   "execution_count": 16,
   "id": "1c793b68",
   "metadata": {
    "ExecuteTime": {
     "end_time": "2023-04-21T12:40:56.987074Z",
     "start_time": "2023-04-21T12:40:56.972071Z"
    }
   },
   "outputs": [],
   "source": [
    "students = {\"Data Analytics\": \n",
    "[\"Patrizia\",\n",
    "\"Rabeea\",\n",
    "\"Bibian\"], \n",
    "\"Business\": [\n",
    "{\"Brian\": [\n",
    "            \"Intro to business\",\n",
    "            \"Law and Ethics\"\n",
    "        ]}\n",
    "    ]\n",
    "        }\n",
    "        "
   ]
  },
  {
   "cell_type": "code",
   "execution_count": 17,
   "id": "246d47b0",
   "metadata": {
    "ExecuteTime": {
     "end_time": "2023-04-21T12:40:57.003078Z",
     "start_time": "2023-04-21T12:40:56.989076Z"
    }
   },
   "outputs": [
    {
     "data": {
      "text/plain": [
       "['Intro to business', 'Law and Ethics']"
      ]
     },
     "execution_count": 17,
     "metadata": {},
     "output_type": "execute_result"
    }
   ],
   "source": [
    "students[\"Business\"][0][\"Brian\"]"
   ]
  },
  {
   "cell_type": "markdown",
   "id": "767a9c2b",
   "metadata": {},
   "source": [
    "## MySQL"
   ]
  },
  {
   "cell_type": "code",
   "execution_count": 18,
   "id": "fd64ebff",
   "metadata": {
    "ExecuteTime": {
     "end_time": "2023-04-21T12:40:57.018615Z",
     "start_time": "2023-04-21T12:40:57.004078Z"
    }
   },
   "outputs": [],
   "source": [
    "#!pip install mysql-connector-python"
   ]
  },
  {
   "cell_type": "code",
   "execution_count": 2,
   "id": "060a6c70",
   "metadata": {
    "ExecuteTime": {
     "end_time": "2023-04-24T19:00:47.781055Z",
     "start_time": "2023-04-24T19:00:47.601014Z"
    }
   },
   "outputs": [],
   "source": [
    "import mysql.connector"
   ]
  },
  {
   "cell_type": "code",
   "execution_count": 3,
   "id": "fea33a83",
   "metadata": {
    "ExecuteTime": {
     "end_time": "2023-04-24T19:00:47.971098Z",
     "start_time": "2023-04-24T19:00:47.953095Z"
    }
   },
   "outputs": [],
   "source": [
    "host=\"localhost\" # \"127.0.0.1\"\n",
    "user=\"pda2023\" # root\n",
    "password=\"pda2023\" # root password"
   ]
  },
  {
   "cell_type": "code",
   "execution_count": 4,
   "id": "a32e7226",
   "metadata": {
    "ExecuteTime": {
     "end_time": "2023-04-24T19:00:51.937998Z",
     "start_time": "2023-04-24T19:00:51.872984Z"
    }
   },
   "outputs": [
    {
     "name": "stdout",
     "output_type": "stream",
     "text": [
      "<mysql.connector.connection.MySQLConnection object at 0x0000019BFDE486A0>\n"
     ]
    }
   ],
   "source": [
    "db = mysql.connector.connect(\n",
    "    host=host,\n",
    "    user=user,\n",
    "    password=password,\n",
    "    #port=3306\n",
    ")\n",
    "print(db)"
   ]
  },
  {
   "cell_type": "code",
   "execution_count": 5,
   "id": "4bbdd4a1",
   "metadata": {
    "ExecuteTime": {
     "end_time": "2023-04-24T19:00:52.443113Z",
     "start_time": "2023-04-24T19:00:52.433111Z"
    }
   },
   "outputs": [],
   "source": [
    "conn = db.cursor()"
   ]
  },
  {
   "cell_type": "code",
   "execution_count": 23,
   "id": "ce81f90c",
   "metadata": {
    "ExecuteTime": {
     "end_time": "2023-04-21T12:40:57.110083Z",
     "start_time": "2023-04-21T12:40:57.096823Z"
    }
   },
   "outputs": [],
   "source": [
    "#conn.execute(\"CREATE DATABASE students;\")"
   ]
  },
  {
   "cell_type": "code",
   "execution_count": 24,
   "id": "b51f2b15",
   "metadata": {
    "ExecuteTime": {
     "end_time": "2023-04-21T12:40:57.125185Z",
     "start_time": "2023-04-21T12:40:57.111084Z"
    }
   },
   "outputs": [],
   "source": [
    "conn.execute(\"SHOW DATABASES;\")"
   ]
  },
  {
   "cell_type": "code",
   "execution_count": 25,
   "id": "d9881fee",
   "metadata": {
    "ExecuteTime": {
     "end_time": "2023-04-21T12:40:57.141194Z",
     "start_time": "2023-04-21T12:40:57.126187Z"
    }
   },
   "outputs": [
    {
     "name": "stdout",
     "output_type": "stream",
     "text": [
      "('bank',)\n",
      "('companies',)\n",
      "('information_schema',)\n",
      "('mysql',)\n",
      "('performance_schema',)\n",
      "('sakila',)\n",
      "('students',)\n",
      "('sys',)\n",
      "('testdb',)\n",
      "('trades',)\n",
      "('world',)\n",
      "('world_cup',)\n"
     ]
    }
   ],
   "source": [
    "for result in conn:\n",
    "    print(result)"
   ]
  },
  {
   "cell_type": "code",
   "execution_count": 26,
   "id": "a30dac64",
   "metadata": {
    "ExecuteTime": {
     "end_time": "2023-04-21T12:40:57.157202Z",
     "start_time": "2023-04-21T12:40:57.142196Z"
    }
   },
   "outputs": [],
   "source": [
    "conn.execute(\"USE students;\")"
   ]
  },
  {
   "cell_type": "code",
   "execution_count": 27,
   "id": "b8c87104",
   "metadata": {
    "ExecuteTime": {
     "end_time": "2023-04-21T12:40:57.172877Z",
     "start_time": "2023-04-21T12:40:57.158202Z"
    }
   },
   "outputs": [
    {
     "data": {
      "text/plain": [
       "True"
      ]
     },
     "execution_count": 27,
     "metadata": {},
     "output_type": "execute_result"
    }
   ],
   "source": [
    "conn.close()"
   ]
  },
  {
   "cell_type": "code",
   "execution_count": 28,
   "id": "bde1117a",
   "metadata": {
    "ExecuteTime": {
     "end_time": "2023-04-21T12:40:57.203549Z",
     "start_time": "2023-04-21T12:40:57.173878Z"
    }
   },
   "outputs": [],
   "source": [
    "db = mysql.connector.connect(\n",
    "    host=host,\n",
    "    user=user,\n",
    "    password=password,\n",
    "    #port=3306,\n",
    "    database=\"students\"\n",
    ")\n",
    "conn = db.cursor()"
   ]
  },
  {
   "cell_type": "code",
   "execution_count": 29,
   "id": "877a01b2",
   "metadata": {
    "ExecuteTime": {
     "end_time": "2023-04-21T12:40:57.235129Z",
     "start_time": "2023-04-21T12:40:57.204551Z"
    }
   },
   "outputs": [],
   "source": [
    "#conn.execute(\"CREATE DATABASE students;\")\n",
    "conn.execute(\"CREATE DATABASE IF NOT EXISTS students;\")"
   ]
  },
  {
   "cell_type": "code",
   "execution_count": 30,
   "id": "a29765da",
   "metadata": {
    "ExecuteTime": {
     "end_time": "2023-04-21T12:40:57.250700Z",
     "start_time": "2023-04-21T12:40:57.236131Z"
    }
   },
   "outputs": [],
   "source": [
    "conn.execute(\"CREATE TABLE IF NOT EXISTS test (id INT);\")"
   ]
  },
  {
   "cell_type": "code",
   "execution_count": 31,
   "id": "4629f236",
   "metadata": {
    "ExecuteTime": {
     "end_time": "2023-04-21T12:40:57.266236Z",
     "start_time": "2023-04-21T12:40:57.251704Z"
    }
   },
   "outputs": [],
   "source": [
    "conn.execute(\"CREATE TABLE IF NOT EXISTS students (name VARCHAR(255), age INT, studentNum INT PRIMARY KEY);\")"
   ]
  },
  {
   "cell_type": "code",
   "execution_count": 32,
   "id": "783ee0ad",
   "metadata": {
    "ExecuteTime": {
     "end_time": "2023-04-21T12:40:57.281560Z",
     "start_time": "2023-04-21T12:40:57.267237Z"
    }
   },
   "outputs": [
    {
     "name": "stdout",
     "output_type": "stream",
     "text": [
      "('students',)\n",
      "('test',)\n",
      "('test2',)\n"
     ]
    }
   ],
   "source": [
    "conn.execute(\"SHOW TABLES;\")\n",
    "for result in conn:\n",
    "    print(result)"
   ]
  },
  {
   "cell_type": "code",
   "execution_count": 41,
   "id": "3de3dbe3",
   "metadata": {
    "ExecuteTime": {
     "end_time": "2023-04-21T12:43:49.744896Z",
     "start_time": "2023-04-21T12:43:49.730884Z"
    }
   },
   "outputs": [],
   "source": [
    "for result in conn:\n",
    "    print(result)"
   ]
  },
  {
   "cell_type": "code",
   "execution_count": 46,
   "id": "db841b13",
   "metadata": {
    "ExecuteTime": {
     "end_time": "2023-04-21T12:45:21.530070Z",
     "start_time": "2023-04-21T12:45:21.523069Z"
    }
   },
   "outputs": [
    {
     "data": {
      "text/plain": [
       "\"' OR 1=1 --\""
      ]
     },
     "execution_count": 46,
     "metadata": {},
     "output_type": "execute_result"
    }
   ],
   "source": [
    "userName = \"' OR 1=1 --\"\n",
    "userName"
   ]
  },
  {
   "cell_type": "code",
   "execution_count": 48,
   "id": "ec1f4e7e",
   "metadata": {
    "ExecuteTime": {
     "end_time": "2023-04-21T12:47:42.657395Z",
     "start_time": "2023-04-21T12:47:42.642390Z"
    }
   },
   "outputs": [
    {
     "name": "stdout",
     "output_type": "stream",
     "text": [
      "' OR 1=1 --\n",
      "SELECT * FROM students WHERE name='' OR 1=1 --';\n"
     ]
    },
    {
     "data": {
      "text/plain": [
       "\"SELECT * FROM students WHERE name='' OR 1=1 --';\""
      ]
     },
     "execution_count": 48,
     "metadata": {},
     "output_type": "execute_result"
    }
   ],
   "source": [
    "#userName = input(\"What is your username?\")\n",
    "userName = \"' OR 1=1 --\"\n",
    "print(userName)\n",
    "statement = f\"SELECT * FROM students WHERE name='{userName}';\"\n",
    "print(statement)\n",
    "statement\n",
    "# conn.execute(statement)\n",
    "# for result in conn:\n",
    "#     print(result)"
   ]
  },
  {
   "cell_type": "code",
   "execution_count": 35,
   "id": "d3d894c0",
   "metadata": {
    "ExecuteTime": {
     "end_time": "2023-04-21T12:41:54.960711Z",
     "start_time": "2023-04-21T12:41:54.947708Z"
    }
   },
   "outputs": [
    {
     "name": "stdout",
     "output_type": "stream",
     "text": [
      "('Sam', 49, 123)\n",
      "('Joe', 49, 124)\n"
     ]
    }
   ],
   "source": []
  },
  {
   "cell_type": "code",
   "execution_count": 33,
   "id": "39c0645a",
   "metadata": {
    "ExecuteTime": {
     "end_time": "2023-04-21T12:40:57.329290Z",
     "start_time": "2023-04-21T12:40:57.282560Z"
    }
   },
   "outputs": [
    {
     "ename": "IntegrityError",
     "evalue": "1062 (23000): Duplicate entry '123' for key 'students.PRIMARY'",
     "output_type": "error",
     "traceback": [
      "\u001b[1;31m---------------------------------------------------------------------------\u001b[0m",
      "\u001b[1;31mIntegrityError\u001b[0m                            Traceback (most recent call last)",
      "Input \u001b[1;32mIn [33]\u001b[0m, in \u001b[0;36m<cell line: 1>\u001b[1;34m()\u001b[0m\n\u001b[1;32m----> 1\u001b[0m \u001b[43mconn\u001b[49m\u001b[38;5;241;43m.\u001b[39;49m\u001b[43mexecute\u001b[49m\u001b[43m(\u001b[49m\u001b[38;5;124;43m\"\u001b[39;49m\u001b[38;5;124;43mINSERT INTO students (name, age, studentNum) VALUES (\u001b[39;49m\u001b[38;5;124;43m'\u001b[39;49m\u001b[38;5;124;43mSam\u001b[39;49m\u001b[38;5;124;43m'\u001b[39;49m\u001b[38;5;124;43m, 49, 123)\u001b[39;49m\u001b[38;5;124;43m\"\u001b[39;49m\u001b[43m)\u001b[49m\n",
      "File \u001b[1;32m~\\AppData\\Roaming\\Python\\Python39\\site-packages\\mysql\\connector\\cursor.py:564\u001b[0m, in \u001b[0;36mMySQLCursor.execute\u001b[1;34m(self, operation, params, multi)\u001b[0m\n\u001b[0;32m    561\u001b[0m     \u001b[38;5;28;01mreturn\u001b[39;00m \u001b[38;5;28mself\u001b[39m\u001b[38;5;241m.\u001b[39m_execute_iter(\u001b[38;5;28mself\u001b[39m\u001b[38;5;241m.\u001b[39m_connection\u001b[38;5;241m.\u001b[39mcmd_query_iter(stmt))\n\u001b[0;32m    563\u001b[0m \u001b[38;5;28;01mtry\u001b[39;00m:\n\u001b[1;32m--> 564\u001b[0m     \u001b[38;5;28mself\u001b[39m\u001b[38;5;241m.\u001b[39m_handle_result(\u001b[38;5;28;43mself\u001b[39;49m\u001b[38;5;241;43m.\u001b[39;49m\u001b[43m_connection\u001b[49m\u001b[38;5;241;43m.\u001b[39;49m\u001b[43mcmd_query\u001b[49m\u001b[43m(\u001b[49m\u001b[43mstmt\u001b[49m\u001b[43m)\u001b[49m)\n\u001b[0;32m    565\u001b[0m \u001b[38;5;28;01mexcept\u001b[39;00m InterfaceError \u001b[38;5;28;01mas\u001b[39;00m err:\n\u001b[0;32m    566\u001b[0m     \u001b[38;5;28;01mif\u001b[39;00m \u001b[38;5;28mself\u001b[39m\u001b[38;5;241m.\u001b[39m_connection\u001b[38;5;241m.\u001b[39mhave_next_result:\n",
      "File \u001b[1;32m~\\AppData\\Roaming\\Python\\Python39\\site-packages\\mysql\\connector\\connection.py:990\u001b[0m, in \u001b[0;36mMySQLConnection.cmd_query\u001b[1;34m(self, query, raw, buffered, raw_as_string)\u001b[0m\n\u001b[0;32m    988\u001b[0m query \u001b[38;5;241m=\u001b[39m \u001b[38;5;28mbytes\u001b[39m(packet)\n\u001b[0;32m    989\u001b[0m \u001b[38;5;28;01mtry\u001b[39;00m:\n\u001b[1;32m--> 990\u001b[0m     result \u001b[38;5;241m=\u001b[39m \u001b[38;5;28;43mself\u001b[39;49m\u001b[38;5;241;43m.\u001b[39;49m\u001b[43m_handle_result\u001b[49m\u001b[43m(\u001b[49m\u001b[38;5;28;43mself\u001b[39;49m\u001b[38;5;241;43m.\u001b[39;49m\u001b[43m_send_cmd\u001b[49m\u001b[43m(\u001b[49m\u001b[43mServerCmd\u001b[49m\u001b[38;5;241;43m.\u001b[39;49m\u001b[43mQUERY\u001b[49m\u001b[43m,\u001b[49m\u001b[43m \u001b[49m\u001b[43mquery\u001b[49m\u001b[43m)\u001b[49m\u001b[43m)\u001b[49m\n\u001b[0;32m    991\u001b[0m \u001b[38;5;28;01mexcept\u001b[39;00m ProgrammingError \u001b[38;5;28;01mas\u001b[39;00m err:\n\u001b[0;32m    992\u001b[0m     \u001b[38;5;28;01mif\u001b[39;00m err\u001b[38;5;241m.\u001b[39merrno \u001b[38;5;241m==\u001b[39m \u001b[38;5;241m3948\u001b[39m \u001b[38;5;129;01mand\u001b[39;00m \u001b[38;5;124m\"\u001b[39m\u001b[38;5;124mLoading local data is disabled\u001b[39m\u001b[38;5;124m\"\u001b[39m \u001b[38;5;129;01min\u001b[39;00m err\u001b[38;5;241m.\u001b[39mmsg:\n",
      "File \u001b[1;32m~\\AppData\\Roaming\\Python\\Python39\\site-packages\\mysql\\connector\\connection.py:784\u001b[0m, in \u001b[0;36mMySQLConnection._handle_result\u001b[1;34m(self, packet)\u001b[0m\n\u001b[0;32m    782\u001b[0m     \u001b[38;5;28;01mreturn\u001b[39;00m \u001b[38;5;28mself\u001b[39m\u001b[38;5;241m.\u001b[39m_handle_eof(packet)\n\u001b[0;32m    783\u001b[0m \u001b[38;5;28;01mif\u001b[39;00m packet[\u001b[38;5;241m4\u001b[39m] \u001b[38;5;241m==\u001b[39m \u001b[38;5;241m255\u001b[39m:\n\u001b[1;32m--> 784\u001b[0m     \u001b[38;5;28;01mraise\u001b[39;00m get_exception(packet)\n\u001b[0;32m    786\u001b[0m \u001b[38;5;66;03m# We have a text result set\u001b[39;00m\n\u001b[0;32m    787\u001b[0m column_count \u001b[38;5;241m=\u001b[39m \u001b[38;5;28mself\u001b[39m\u001b[38;5;241m.\u001b[39m_protocol\u001b[38;5;241m.\u001b[39mparse_column_count(packet)\n",
      "\u001b[1;31mIntegrityError\u001b[0m: 1062 (23000): Duplicate entry '123' for key 'students.PRIMARY'"
     ]
    }
   ],
   "source": [
    "conn.execute(\"INSERT INTO students (name, age, studentNum) VALUES ('Sam', 49, 123)\")"
   ]
  },
  {
   "cell_type": "code",
   "execution_count": null,
   "id": "af60b9af",
   "metadata": {
    "ExecuteTime": {
     "end_time": "2023-04-21T12:40:57.330291Z",
     "start_time": "2023-04-21T12:40:57.330291Z"
    }
   },
   "outputs": [],
   "source": [
    "conn.execute(\"INSERT INTO students (name, age, studentNum) VALUES ('Sam', 49, 124)\")"
   ]
  },
  {
   "cell_type": "code",
   "execution_count": null,
   "id": "24c23a61",
   "metadata": {
    "ExecuteTime": {
     "end_time": "2023-04-21T12:40:57.332291Z",
     "start_time": "2023-04-21T12:40:57.332291Z"
    }
   },
   "outputs": [],
   "source": [
    "conn.execute(\"SELECT * FROM students;\")\n",
    "for result in conn:\n",
    "    print(result)"
   ]
  },
  {
   "cell_type": "code",
   "execution_count": null,
   "id": "cd5d9041",
   "metadata": {
    "ExecuteTime": {
     "end_time": "2023-04-21T12:40:57.332291Z",
     "start_time": "2023-04-21T12:40:57.332291Z"
    }
   },
   "outputs": [],
   "source": [
    "conn.execute(\"SELECT * FROM students WHERE studentNum=123;\")\n",
    "for result in conn:\n",
    "    print(result)"
   ]
  },
  {
   "cell_type": "code",
   "execution_count": null,
   "id": "a09dfc6c",
   "metadata": {
    "ExecuteTime": {
     "end_time": "2023-04-21T12:40:57.334292Z",
     "start_time": "2023-04-21T12:40:57.334292Z"
    }
   },
   "outputs": [],
   "source": [
    "conn.execute(\"SELECT name FROM students WHERE studentNum=123;\")\n",
    "for result in conn:\n",
    "    print(result)"
   ]
  },
  {
   "cell_type": "code",
   "execution_count": null,
   "id": "5a9bdf99",
   "metadata": {
    "ExecuteTime": {
     "end_time": "2023-04-21T12:40:57.335292Z",
     "start_time": "2023-04-21T12:40:57.335292Z"
    }
   },
   "outputs": [],
   "source": [
    "db.commit()"
   ]
  },
  {
   "cell_type": "code",
   "execution_count": null,
   "id": "a5817e67",
   "metadata": {
    "ExecuteTime": {
     "end_time": "2023-04-21T12:40:57.336292Z",
     "start_time": "2023-04-21T12:40:57.336292Z"
    }
   },
   "outputs": [],
   "source": [
    "conn.execute(\"UPDATE students SET name='Joe' WHERE studentNum=124;\")"
   ]
  },
  {
   "cell_type": "code",
   "execution_count": null,
   "id": "18f5dda9",
   "metadata": {
    "ExecuteTime": {
     "end_time": "2023-04-21T12:40:57.337292Z",
     "start_time": "2023-04-21T12:40:57.337292Z"
    }
   },
   "outputs": [],
   "source": [
    "conn.execute(\"SELECT * FROM students;\")\n",
    "for result in conn:\n",
    "    print(result)"
   ]
  },
  {
   "cell_type": "code",
   "execution_count": null,
   "id": "1bc46138",
   "metadata": {
    "ExecuteTime": {
     "end_time": "2023-04-21T12:40:57.338293Z",
     "start_time": "2023-04-21T12:40:57.338293Z"
    }
   },
   "outputs": [],
   "source": [
    "db.commit()"
   ]
  },
  {
   "cell_type": "code",
   "execution_count": null,
   "id": "b99bd5c3",
   "metadata": {
    "ExecuteTime": {
     "end_time": "2023-04-21T12:40:57.339292Z",
     "start_time": "2023-04-21T12:40:57.339292Z"
    }
   },
   "outputs": [],
   "source": [
    "conn.close()"
   ]
  },
  {
   "cell_type": "markdown",
   "id": "dc0b385b",
   "metadata": {},
   "source": [
    "# Exercise 1\n",
    "\n",
    "Create a new table called programmes\n",
    "\n",
    "The columns are the programme name (primary key), as well as up to 6 modules\n",
    "\n",
    "Insert the MSc Data Analytics with the modules for this semester"
   ]
  },
  {
   "cell_type": "code",
   "execution_count": 6,
   "id": "3d6f0509",
   "metadata": {
    "ExecuteTime": {
     "end_time": "2023-04-24T19:05:23.739387Z",
     "start_time": "2023-04-24T19:05:23.728384Z"
    }
   },
   "outputs": [],
   "source": [
    "conn.execute(\"CREATE DATABASE programmes;\")"
   ]
  },
  {
   "cell_type": "code",
   "execution_count": 9,
   "id": "282d5e95",
   "metadata": {
    "ExecuteTime": {
     "end_time": "2023-04-24T19:07:25.135784Z",
     "start_time": "2023-04-24T19:07:25.117779Z"
    }
   },
   "outputs": [],
   "source": [
    "conn.execute(\"USE programmes;\")"
   ]
  },
  {
   "cell_type": "code",
   "execution_count": 10,
   "id": "850d03ed",
   "metadata": {
    "ExecuteTime": {
     "end_time": "2023-04-24T19:07:25.907959Z",
     "start_time": "2023-04-24T19:07:25.885953Z"
    }
   },
   "outputs": [],
   "source": [
    "conn.execute(\"CREATE TABLE programmes (name VARCHAR(50) PRIMARY KEY, module1 VARCHAR(50),module2 VARCHAR(50),module3 VARCHAR(50),module4 VARCHAR(50),module5 VARCHAR(50),module6 VARCHAR(50));\")"
   ]
  },
  {
   "cell_type": "code",
   "execution_count": 12,
   "id": "1333cd9d",
   "metadata": {
    "ExecuteTime": {
     "end_time": "2023-04-24T19:11:27.736779Z",
     "start_time": "2023-04-24T19:11:27.722776Z"
    }
   },
   "outputs": [],
   "source": [
    "conn.execute(\"INSERT INTO programmes (name, module1, module2, module3, module4) VALUES ('MSc Data Analytics', 'Programming for Data Analyitics', 'Data Visualisation and Preperation', 'Machine Learning', 'Statistics');\")"
   ]
  },
  {
   "cell_type": "code",
   "execution_count": 13,
   "id": "c984e289",
   "metadata": {
    "ExecuteTime": {
     "end_time": "2023-04-24T19:12:33.224444Z",
     "start_time": "2023-04-24T19:12:33.210441Z"
    }
   },
   "outputs": [
    {
     "name": "stdout",
     "output_type": "stream",
     "text": [
      "('MSc Data Analytics', 'Programming for Data Analyitics', 'Data Visualisation and Preperation', 'Machine Learning', 'Statistics', None, None)\n"
     ]
    }
   ],
   "source": [
    "conn.execute(\"SELECT * FROM programmes;\")\n",
    "for result in conn:\n",
    "    print(result)"
   ]
  },
  {
   "cell_type": "code",
   "execution_count": 14,
   "id": "66daec68",
   "metadata": {
    "ExecuteTime": {
     "end_time": "2023-04-24T19:13:26.982431Z",
     "start_time": "2023-04-24T19:13:26.969431Z"
    }
   },
   "outputs": [],
   "source": [
    "db.commit()"
   ]
  },
  {
   "cell_type": "code",
   "execution_count": null,
   "id": "204a77d6",
   "metadata": {},
   "outputs": [],
   "source": []
  },
  {
   "cell_type": "code",
   "execution_count": null,
   "id": "b68db238",
   "metadata": {},
   "outputs": [],
   "source": []
  },
  {
   "cell_type": "code",
   "execution_count": null,
   "id": "db582f37",
   "metadata": {},
   "outputs": [],
   "source": []
  },
  {
   "cell_type": "markdown",
   "id": "8f975b41",
   "metadata": {},
   "source": [
    "# Exercise 2\n",
    "\n",
    "Read one of the company csv files\n",
    "\n",
    "Store it in a table in a **new** database"
   ]
  },
  {
   "cell_type": "code",
   "execution_count": 17,
   "id": "536e753d",
   "metadata": {
    "ExecuteTime": {
     "end_time": "2023-04-24T19:14:53.180864Z",
     "start_time": "2023-04-24T19:14:53.160860Z"
    }
   },
   "outputs": [],
   "source": [
    "conn.execute(\"DROP DATABASE companies;\")"
   ]
  },
  {
   "cell_type": "code",
   "execution_count": 18,
   "id": "b0675b3c",
   "metadata": {
    "ExecuteTime": {
     "end_time": "2023-04-24T19:14:56.668653Z",
     "start_time": "2023-04-24T19:14:56.648648Z"
    }
   },
   "outputs": [],
   "source": [
    "conn.execute(\"CREATE DATABASE companies;\")"
   ]
  },
  {
   "cell_type": "code",
   "execution_count": 19,
   "id": "24469ba1",
   "metadata": {
    "ExecuteTime": {
     "end_time": "2023-04-24T19:15:29.225742Z",
     "start_time": "2023-04-24T19:15:29.208739Z"
    }
   },
   "outputs": [],
   "source": [
    "conn.execute(\"USE companies;\")"
   ]
  },
  {
   "cell_type": "code",
   "execution_count": 20,
   "id": "c33f0e01",
   "metadata": {
    "ExecuteTime": {
     "end_time": "2023-04-24T19:15:55.720995Z",
     "start_time": "2023-04-24T19:15:55.704991Z"
    }
   },
   "outputs": [
    {
     "data": {
      "text/html": [
       "<div>\n",
       "<style scoped>\n",
       "    .dataframe tbody tr th:only-of-type {\n",
       "        vertical-align: middle;\n",
       "    }\n",
       "\n",
       "    .dataframe tbody tr th {\n",
       "        vertical-align: top;\n",
       "    }\n",
       "\n",
       "    .dataframe thead th {\n",
       "        text-align: right;\n",
       "    }\n",
       "</style>\n",
       "<table border=\"1\" class=\"dataframe\">\n",
       "  <thead>\n",
       "    <tr style=\"text-align: right;\">\n",
       "      <th></th>\n",
       "      <th>Year</th>\n",
       "      <th>Company</th>\n",
       "      <th>Revenue (in millions)</th>\n",
       "      <th>Profit (in millions)</th>\n",
       "    </tr>\n",
       "  </thead>\n",
       "  <tbody>\n",
       "    <tr>\n",
       "      <th>0</th>\n",
       "      <td>1955</td>\n",
       "      <td>Motorola</td>\n",
       "      <td>205.2</td>\n",
       "      <td>7.6</td>\n",
       "    </tr>\n",
       "    <tr>\n",
       "      <th>1</th>\n",
       "      <td>1956</td>\n",
       "      <td>Motorola</td>\n",
       "      <td>226.7</td>\n",
       "      <td>8.5</td>\n",
       "    </tr>\n",
       "    <tr>\n",
       "      <th>2</th>\n",
       "      <td>1957</td>\n",
       "      <td>Motorola</td>\n",
       "      <td>227.6</td>\n",
       "      <td>8.0</td>\n",
       "    </tr>\n",
       "    <tr>\n",
       "      <th>3</th>\n",
       "      <td>1958</td>\n",
       "      <td>Motorola</td>\n",
       "      <td>226.4</td>\n",
       "      <td>7.8</td>\n",
       "    </tr>\n",
       "    <tr>\n",
       "      <th>4</th>\n",
       "      <td>1959</td>\n",
       "      <td>Motorola</td>\n",
       "      <td>216.6</td>\n",
       "      <td>7.4</td>\n",
       "    </tr>\n",
       "  </tbody>\n",
       "</table>\n",
       "</div>"
      ],
      "text/plain": [
       "   Year   Company  Revenue (in millions)  Profit (in millions)\n",
       "0  1955  Motorola                  205.2                   7.6\n",
       "1  1956  Motorola                  226.7                   8.5\n",
       "2  1957  Motorola                  227.6                   8.0\n",
       "3  1958  Motorola                  226.4                   7.8\n",
       "4  1959  Motorola                  216.6                   7.4"
      ]
     },
     "execution_count": 20,
     "metadata": {},
     "output_type": "execute_result"
    }
   ],
   "source": [
    "df.head()"
   ]
  },
  {
   "cell_type": "code",
   "execution_count": 21,
   "id": "d8c65691",
   "metadata": {
    "ExecuteTime": {
     "end_time": "2023-04-24T19:17:35.821790Z",
     "start_time": "2023-04-24T19:17:35.782781Z"
    }
   },
   "outputs": [],
   "source": [
    "conn.execute(\"CREATE TABLE motorola (Year INT, Company VARCHAR(50), Revenue DOUBLE, Profit DOUBLE);\")"
   ]
  },
  {
   "cell_type": "code",
   "execution_count": 25,
   "id": "2f67e563",
   "metadata": {
    "ExecuteTime": {
     "end_time": "2023-04-24T19:19:20.232396Z",
     "start_time": "2023-04-24T19:19:20.214391Z"
    }
   },
   "outputs": [
    {
     "data": {
      "text/plain": [
       "str"
      ]
     },
     "execution_count": 25,
     "metadata": {},
     "output_type": "execute_result"
    }
   ],
   "source": [
    "type(df.iloc[0,1])"
   ]
  },
  {
   "cell_type": "code",
   "execution_count": 26,
   "id": "82df0470",
   "metadata": {
    "ExecuteTime": {
     "end_time": "2023-04-24T19:19:27.578468Z",
     "start_time": "2023-04-24T19:19:27.574468Z"
    }
   },
   "outputs": [
    {
     "data": {
      "text/plain": [
       "'Motorola'"
      ]
     },
     "execution_count": 26,
     "metadata": {},
     "output_type": "execute_result"
    }
   ],
   "source": [
    "df.iloc[0,1]"
   ]
  },
  {
   "cell_type": "code",
   "execution_count": 27,
   "id": "4e89c3c0",
   "metadata": {
    "ExecuteTime": {
     "end_time": "2023-04-24T19:20:15.769083Z",
     "start_time": "2023-04-24T19:20:15.750080Z"
    }
   },
   "outputs": [],
   "source": [
    "conn.execute(f\"INSERT INTO motorola (Year, Company, Revenue, Profit) VALUES ({df.iloc[0,0]}, '{df.iloc[0,1]}', {df.iloc[0, 2]}, {df.iloc[0,3]});\")"
   ]
  },
  {
   "cell_type": "code",
   "execution_count": 28,
   "id": "5b5a912a",
   "metadata": {
    "ExecuteTime": {
     "end_time": "2023-04-24T19:22:50.818086Z",
     "start_time": "2023-04-24T19:22:50.804083Z"
    }
   },
   "outputs": [],
   "source": [
    "db.commit()"
   ]
  },
  {
   "cell_type": "code",
   "execution_count": 30,
   "id": "8445ec13",
   "metadata": {
    "ExecuteTime": {
     "end_time": "2023-04-24T19:23:52.303040Z",
     "start_time": "2023-04-24T19:23:52.293038Z"
    }
   },
   "outputs": [
    {
     "data": {
      "text/plain": [
       "204"
      ]
     },
     "execution_count": 30,
     "metadata": {},
     "output_type": "execute_result"
    }
   ],
   "source": [
    "df.size"
   ]
  },
  {
   "cell_type": "code",
   "execution_count": 33,
   "id": "ec0ef494",
   "metadata": {
    "ExecuteTime": {
     "end_time": "2023-04-24T19:25:50.744814Z",
     "start_time": "2023-04-24T19:25:50.738813Z"
    }
   },
   "outputs": [
    {
     "data": {
      "text/plain": [
       "51"
      ]
     },
     "execution_count": 33,
     "metadata": {},
     "output_type": "execute_result"
    }
   ],
   "source": [
    "df.shape[0]"
   ]
  },
  {
   "cell_type": "code",
   "execution_count": 31,
   "id": "0c0286e9",
   "metadata": {
    "ExecuteTime": {
     "end_time": "2023-04-24T19:25:24.616225Z",
     "start_time": "2023-04-24T19:25:23.522955Z"
    }
   },
   "outputs": [
    {
     "ename": "IndexError",
     "evalue": "index 51 is out of bounds for axis 0 with size 51",
     "output_type": "error",
     "traceback": [
      "\u001b[1;31m---------------------------------------------------------------------------\u001b[0m",
      "\u001b[1;31mIndexError\u001b[0m                                Traceback (most recent call last)",
      "Input \u001b[1;32mIn [31]\u001b[0m, in \u001b[0;36m<cell line: 1>\u001b[1;34m()\u001b[0m\n\u001b[0;32m      1\u001b[0m \u001b[38;5;28;01mfor\u001b[39;00m row \u001b[38;5;129;01min\u001b[39;00m \u001b[38;5;28mrange\u001b[39m(\u001b[38;5;241m1\u001b[39m, df\u001b[38;5;241m.\u001b[39msize):\n\u001b[1;32m----> 2\u001b[0m     conn\u001b[38;5;241m.\u001b[39mexecute(\u001b[38;5;124mf\u001b[39m\u001b[38;5;124m\"\u001b[39m\u001b[38;5;124mINSERT INTO motorola (Year, Company, Revenue, Profit) VALUES (\u001b[39m\u001b[38;5;132;01m{\u001b[39;00mdf\u001b[38;5;241m.\u001b[39miloc[row,\u001b[38;5;241m0\u001b[39m]\u001b[38;5;132;01m}\u001b[39;00m\u001b[38;5;124m, \u001b[39m\u001b[38;5;124m'\u001b[39m\u001b[38;5;132;01m{\u001b[39;00mdf\u001b[38;5;241m.\u001b[39miloc[row,\u001b[38;5;241m1\u001b[39m]\u001b[38;5;132;01m}\u001b[39;00m\u001b[38;5;124m'\u001b[39m\u001b[38;5;124m, \u001b[39m\u001b[38;5;132;01m{\u001b[39;00mdf\u001b[38;5;241m.\u001b[39miloc[row, \u001b[38;5;241m2\u001b[39m]\u001b[38;5;132;01m}\u001b[39;00m\u001b[38;5;124m, \u001b[39m\u001b[38;5;132;01m{\u001b[39;00mdf\u001b[38;5;241m.\u001b[39miloc[row,\u001b[38;5;241m3\u001b[39m]\u001b[38;5;132;01m}\u001b[39;00m\u001b[38;5;124m);\u001b[39m\u001b[38;5;124m\"\u001b[39m)\n\u001b[0;32m      3\u001b[0m db\u001b[38;5;241m.\u001b[39mcommit()\n",
      "File \u001b[1;32mC:\\ProgramData\\Anaconda3\\lib\\site-packages\\pandas\\core\\indexing.py:960\u001b[0m, in \u001b[0;36m_LocationIndexer.__getitem__\u001b[1;34m(self, key)\u001b[0m\n\u001b[0;32m    958\u001b[0m     key \u001b[38;5;241m=\u001b[39m \u001b[38;5;28mtuple\u001b[39m(com\u001b[38;5;241m.\u001b[39mapply_if_callable(x, \u001b[38;5;28mself\u001b[39m\u001b[38;5;241m.\u001b[39mobj) \u001b[38;5;28;01mfor\u001b[39;00m x \u001b[38;5;129;01min\u001b[39;00m key)\n\u001b[0;32m    959\u001b[0m     \u001b[38;5;28;01mif\u001b[39;00m \u001b[38;5;28mself\u001b[39m\u001b[38;5;241m.\u001b[39m_is_scalar_access(key):\n\u001b[1;32m--> 960\u001b[0m         \u001b[38;5;28;01mreturn\u001b[39;00m \u001b[38;5;28;43mself\u001b[39;49m\u001b[38;5;241;43m.\u001b[39;49m\u001b[43mobj\u001b[49m\u001b[38;5;241;43m.\u001b[39;49m\u001b[43m_get_value\u001b[49m\u001b[43m(\u001b[49m\u001b[38;5;241;43m*\u001b[39;49m\u001b[43mkey\u001b[49m\u001b[43m,\u001b[49m\u001b[43m \u001b[49m\u001b[43mtakeable\u001b[49m\u001b[38;5;241;43m=\u001b[39;49m\u001b[38;5;28;43mself\u001b[39;49m\u001b[38;5;241;43m.\u001b[39;49m\u001b[43m_takeable\u001b[49m\u001b[43m)\u001b[49m\n\u001b[0;32m    961\u001b[0m     \u001b[38;5;28;01mreturn\u001b[39;00m \u001b[38;5;28mself\u001b[39m\u001b[38;5;241m.\u001b[39m_getitem_tuple(key)\n\u001b[0;32m    962\u001b[0m \u001b[38;5;28;01melse\u001b[39;00m:\n\u001b[0;32m    963\u001b[0m     \u001b[38;5;66;03m# we by definition only have the 0th axis\u001b[39;00m\n",
      "File \u001b[1;32mC:\\ProgramData\\Anaconda3\\lib\\site-packages\\pandas\\core\\frame.py:3613\u001b[0m, in \u001b[0;36mDataFrame._get_value\u001b[1;34m(self, index, col, takeable)\u001b[0m\n\u001b[0;32m   3611\u001b[0m \u001b[38;5;28;01mif\u001b[39;00m takeable:\n\u001b[0;32m   3612\u001b[0m     series \u001b[38;5;241m=\u001b[39m \u001b[38;5;28mself\u001b[39m\u001b[38;5;241m.\u001b[39m_ixs(col, axis\u001b[38;5;241m=\u001b[39m\u001b[38;5;241m1\u001b[39m)\n\u001b[1;32m-> 3613\u001b[0m     \u001b[38;5;28;01mreturn\u001b[39;00m \u001b[43mseries\u001b[49m\u001b[38;5;241;43m.\u001b[39;49m\u001b[43m_values\u001b[49m\u001b[43m[\u001b[49m\u001b[43mindex\u001b[49m\u001b[43m]\u001b[49m\n\u001b[0;32m   3615\u001b[0m series \u001b[38;5;241m=\u001b[39m \u001b[38;5;28mself\u001b[39m\u001b[38;5;241m.\u001b[39m_get_item_cache(col)\n\u001b[0;32m   3616\u001b[0m engine \u001b[38;5;241m=\u001b[39m \u001b[38;5;28mself\u001b[39m\u001b[38;5;241m.\u001b[39mindex\u001b[38;5;241m.\u001b[39m_engine\n",
      "\u001b[1;31mIndexError\u001b[0m: index 51 is out of bounds for axis 0 with size 51"
     ]
    }
   ],
   "source": [
    "for row in range(1, df.size): # shape[0]\n",
    "    conn.execute(f\"INSERT INTO motorola (Year, Company, Revenue, Profit) VALUES ({df.iloc[row,0]}, '{df.iloc[row,1]}', {df.iloc[row, 2]}, {df.iloc[row,3]});\")\n",
    "db.commit()"
   ]
  },
  {
   "cell_type": "code",
   "execution_count": 34,
   "id": "0f2a0886",
   "metadata": {
    "ExecuteTime": {
     "end_time": "2023-04-24T19:26:28.142747Z",
     "start_time": "2023-04-24T19:26:28.131745Z"
    }
   },
   "outputs": [],
   "source": [
    "db.commit()"
   ]
  },
  {
   "cell_type": "code",
   "execution_count": 35,
   "id": "c56f47e7",
   "metadata": {
    "ExecuteTime": {
     "end_time": "2023-04-24T19:27:22.921873Z",
     "start_time": "2023-04-24T19:27:22.913873Z"
    }
   },
   "outputs": [
    {
     "name": "stdout",
     "output_type": "stream",
     "text": [
      "(1955, 'Motorola', 205.2, 7.6)\n",
      "(1956, 'Motorola', 226.7, 8.5)\n",
      "(1957, 'Motorola', 227.6, 8.0)\n",
      "(1958, 'Motorola', 226.4, 7.8)\n",
      "(1959, 'Motorola', 216.6, 7.4)\n",
      "(1960, 'Motorola', 289.5, 14.2)\n",
      "(1961, 'Motorola', 299.1, 12.6)\n",
      "(1962, 'Motorola', 298.2, 9.5)\n",
      "(1963, 'Motorola', 346.9, 13.2)\n",
      "(1964, 'Motorola', 377.9, 12.9)\n",
      "(1965, 'Motorola', 419.1, 20.7)\n",
      "(1966, 'Motorola', 517.0, 31.8)\n",
      "(1967, 'Motorola', 682.4, 33.0)\n",
      "(1968, 'Motorola', 630.0, 18.8)\n",
      "(1969, 'Motorola', 775.1, 28.3)\n",
      "(1970, 'Motorola', 873.2, 33.8)\n",
      "(1971, 'Motorola', 796.4, 24.2)\n",
      "(1972, 'Motorola', 926.6, 31.8)\n",
      "(1973, 'Motorola', 1163.3, 52.0)\n",
      "(1974, 'Motorola', 1437.1, 82.0)\n",
      "(1975, 'Motorola', 1367.2, 70.7)\n",
      "(1976, 'Motorola', 1311.8, 41.1)\n",
      "(1977, 'Motorola', 1494.1, 85.4)\n",
      "(1978, 'Motorola', 1833.9, 106.3)\n",
      "(1979, 'Motorola', 2219.7, 125.2)\n",
      "(1980, 'Motorola', 2713.8, 154.3)\n",
      "(1981, 'Motorola', 3098.8, 186.1)\n",
      "(1982, 'Motorola', 3335.9, 175.0)\n",
      "(1983, 'Motorola', 3785.8, 178.0)\n",
      "(1984, 'Motorola', 4328.0, 244.0)\n",
      "(1985, 'Motorola', 5534.0, 387.0)\n",
      "(1986, 'Motorola', 5443.0, 72.0)\n",
      "(1987, 'Motorola', 5888.0, 194.0)\n",
      "(1988, 'Motorola', 6707.0, 308.0)\n",
      "(1989, 'Motorola', 8250.0, 445.0)\n",
      "(1990, 'Motorola', 9620.0, 498.0)\n",
      "(1991, 'Motorola', 10885.0, 499.0)\n",
      "(1992, 'Motorola', 11341.0, 454.0)\n",
      "(1993, 'Motorola', 13341.0, 453.0)\n",
      "(1994, 'Motorola', 16963.0, 1022.0)\n",
      "(1995, 'Motorola', 22245.0, 1560.0)\n",
      "(1996, 'Motorola', 27037.0, 1781.0)\n",
      "(1997, 'Motorola', 27973.0, 1154.0)\n",
      "(1998, 'Motorola', 29794.0, 1180.0)\n",
      "(1999, 'Motorola', 29398.0, -962.0)\n",
      "(2000, 'Motorola', 30931.0, 817.0)\n",
      "(2001, 'Motorola', 37580.0, 1318.0)\n",
      "(2002, 'Motorola', 30004.0, -3937.0)\n",
      "(2003, 'Motorola', 26679.0, -2485.0)\n",
      "(2004, 'Motorola', 27058.0, 893.0)\n",
      "(2005, 'Motorola', 35349.0, 1532.0)\n"
     ]
    }
   ],
   "source": [
    "conn.execute(\"SELECT * FROM motorola;\")\n",
    "for result in conn:\n",
    "    print(result)"
   ]
  },
  {
   "cell_type": "code",
   "execution_count": 36,
   "id": "4bdfc474",
   "metadata": {
    "ExecuteTime": {
     "end_time": "2023-04-24T19:30:00.023223Z",
     "start_time": "2023-04-24T19:30:00.016221Z"
    }
   },
   "outputs": [],
   "source": [
    "conn.execute(\"UPDATE motorola SET Company = 'Nokia';\")"
   ]
  },
  {
   "cell_type": "code",
   "execution_count": 39,
   "id": "7784db61",
   "metadata": {
    "ExecuteTime": {
     "end_time": "2023-04-24T19:31:02.738835Z",
     "start_time": "2023-04-24T19:31:02.735833Z"
    }
   },
   "outputs": [],
   "source": [
    "def read_table(table='motorola'):\n",
    "    conn.execute(f\"SELECT * FROM {table};\")\n",
    "    for result in conn:\n",
    "        print(result)"
   ]
  },
  {
   "cell_type": "code",
   "execution_count": 40,
   "id": "67c629b9",
   "metadata": {
    "ExecuteTime": {
     "end_time": "2023-04-24T19:31:10.903961Z",
     "start_time": "2023-04-24T19:31:10.895959Z"
    }
   },
   "outputs": [
    {
     "name": "stdout",
     "output_type": "stream",
     "text": [
      "(1955, 'Nokia', 205.2, 7.6)\n",
      "(1956, 'Nokia', 226.7, 8.5)\n",
      "(1957, 'Nokia', 227.6, 8.0)\n",
      "(1958, 'Nokia', 226.4, 7.8)\n",
      "(1959, 'Nokia', 216.6, 7.4)\n",
      "(1960, 'Nokia', 289.5, 14.2)\n",
      "(1961, 'Nokia', 299.1, 12.6)\n",
      "(1962, 'Nokia', 298.2, 9.5)\n",
      "(1963, 'Nokia', 346.9, 13.2)\n",
      "(1964, 'Nokia', 377.9, 12.9)\n",
      "(1965, 'Nokia', 419.1, 20.7)\n",
      "(1966, 'Nokia', 517.0, 31.8)\n",
      "(1967, 'Nokia', 682.4, 33.0)\n",
      "(1968, 'Nokia', 630.0, 18.8)\n",
      "(1969, 'Nokia', 775.1, 28.3)\n",
      "(1970, 'Nokia', 873.2, 33.8)\n",
      "(1971, 'Nokia', 796.4, 24.2)\n",
      "(1972, 'Nokia', 926.6, 31.8)\n",
      "(1973, 'Nokia', 1163.3, 52.0)\n",
      "(1974, 'Nokia', 1437.1, 82.0)\n",
      "(1975, 'Nokia', 1367.2, 70.7)\n",
      "(1976, 'Nokia', 1311.8, 41.1)\n",
      "(1977, 'Nokia', 1494.1, 85.4)\n",
      "(1978, 'Nokia', 1833.9, 106.3)\n",
      "(1979, 'Nokia', 2219.7, 125.2)\n",
      "(1980, 'Nokia', 2713.8, 154.3)\n",
      "(1981, 'Nokia', 3098.8, 186.1)\n",
      "(1982, 'Nokia', 3335.9, 175.0)\n",
      "(1983, 'Nokia', 3785.8, 178.0)\n",
      "(1984, 'Nokia', 4328.0, 244.0)\n",
      "(1985, 'Nokia', 5534.0, 387.0)\n",
      "(1986, 'Nokia', 5443.0, 72.0)\n",
      "(1987, 'Nokia', 5888.0, 194.0)\n",
      "(1988, 'Nokia', 6707.0, 308.0)\n",
      "(1989, 'Nokia', 8250.0, 445.0)\n",
      "(1990, 'Nokia', 9620.0, 498.0)\n",
      "(1991, 'Nokia', 10885.0, 499.0)\n",
      "(1992, 'Nokia', 11341.0, 454.0)\n",
      "(1993, 'Nokia', 13341.0, 453.0)\n",
      "(1994, 'Nokia', 16963.0, 1022.0)\n",
      "(1995, 'Nokia', 22245.0, 1560.0)\n",
      "(1996, 'Nokia', 27037.0, 1781.0)\n",
      "(1997, 'Nokia', 27973.0, 1154.0)\n",
      "(1998, 'Nokia', 29794.0, 1180.0)\n",
      "(1999, 'Nokia', 29398.0, -962.0)\n",
      "(2000, 'Nokia', 30931.0, 817.0)\n",
      "(2001, 'Nokia', 37580.0, 1318.0)\n",
      "(2002, 'Nokia', 30004.0, -3937.0)\n",
      "(2003, 'Nokia', 26679.0, -2485.0)\n",
      "(2004, 'Nokia', 27058.0, 893.0)\n",
      "(2005, 'Nokia', 35349.0, 1532.0)\n"
     ]
    }
   ],
   "source": [
    "read_table()"
   ]
  },
  {
   "cell_type": "code",
   "execution_count": 41,
   "id": "2bbcbb02",
   "metadata": {
    "ExecuteTime": {
     "end_time": "2023-04-24T19:32:06.489928Z",
     "start_time": "2023-04-24T19:32:06.478926Z"
    }
   },
   "outputs": [],
   "source": [
    "conn.execute(\"DELETE FROM motorola WHERE Year=2005;\")"
   ]
  },
  {
   "cell_type": "code",
   "execution_count": 42,
   "id": "1d6d672d",
   "metadata": {
    "ExecuteTime": {
     "end_time": "2023-04-24T19:32:11.424043Z",
     "start_time": "2023-04-24T19:32:11.408040Z"
    }
   },
   "outputs": [
    {
     "name": "stdout",
     "output_type": "stream",
     "text": [
      "(1955, 'Nokia', 205.2, 7.6)\n",
      "(1956, 'Nokia', 226.7, 8.5)\n",
      "(1957, 'Nokia', 227.6, 8.0)\n",
      "(1958, 'Nokia', 226.4, 7.8)\n",
      "(1959, 'Nokia', 216.6, 7.4)\n",
      "(1960, 'Nokia', 289.5, 14.2)\n",
      "(1961, 'Nokia', 299.1, 12.6)\n",
      "(1962, 'Nokia', 298.2, 9.5)\n",
      "(1963, 'Nokia', 346.9, 13.2)\n",
      "(1964, 'Nokia', 377.9, 12.9)\n",
      "(1965, 'Nokia', 419.1, 20.7)\n",
      "(1966, 'Nokia', 517.0, 31.8)\n",
      "(1967, 'Nokia', 682.4, 33.0)\n",
      "(1968, 'Nokia', 630.0, 18.8)\n",
      "(1969, 'Nokia', 775.1, 28.3)\n",
      "(1970, 'Nokia', 873.2, 33.8)\n",
      "(1971, 'Nokia', 796.4, 24.2)\n",
      "(1972, 'Nokia', 926.6, 31.8)\n",
      "(1973, 'Nokia', 1163.3, 52.0)\n",
      "(1974, 'Nokia', 1437.1, 82.0)\n",
      "(1975, 'Nokia', 1367.2, 70.7)\n",
      "(1976, 'Nokia', 1311.8, 41.1)\n",
      "(1977, 'Nokia', 1494.1, 85.4)\n",
      "(1978, 'Nokia', 1833.9, 106.3)\n",
      "(1979, 'Nokia', 2219.7, 125.2)\n",
      "(1980, 'Nokia', 2713.8, 154.3)\n",
      "(1981, 'Nokia', 3098.8, 186.1)\n",
      "(1982, 'Nokia', 3335.9, 175.0)\n",
      "(1983, 'Nokia', 3785.8, 178.0)\n",
      "(1984, 'Nokia', 4328.0, 244.0)\n",
      "(1985, 'Nokia', 5534.0, 387.0)\n",
      "(1986, 'Nokia', 5443.0, 72.0)\n",
      "(1987, 'Nokia', 5888.0, 194.0)\n",
      "(1988, 'Nokia', 6707.0, 308.0)\n",
      "(1989, 'Nokia', 8250.0, 445.0)\n",
      "(1990, 'Nokia', 9620.0, 498.0)\n",
      "(1991, 'Nokia', 10885.0, 499.0)\n",
      "(1992, 'Nokia', 11341.0, 454.0)\n",
      "(1993, 'Nokia', 13341.0, 453.0)\n",
      "(1994, 'Nokia', 16963.0, 1022.0)\n",
      "(1995, 'Nokia', 22245.0, 1560.0)\n",
      "(1996, 'Nokia', 27037.0, 1781.0)\n",
      "(1997, 'Nokia', 27973.0, 1154.0)\n",
      "(1998, 'Nokia', 29794.0, 1180.0)\n",
      "(1999, 'Nokia', 29398.0, -962.0)\n",
      "(2000, 'Nokia', 30931.0, 817.0)\n",
      "(2001, 'Nokia', 37580.0, 1318.0)\n",
      "(2002, 'Nokia', 30004.0, -3937.0)\n",
      "(2003, 'Nokia', 26679.0, -2485.0)\n",
      "(2004, 'Nokia', 27058.0, 893.0)\n"
     ]
    }
   ],
   "source": [
    "read_table()"
   ]
  },
  {
   "cell_type": "code",
   "execution_count": 43,
   "id": "bb6539d8",
   "metadata": {
    "ExecuteTime": {
     "end_time": "2023-04-24T19:32:49.672849Z",
     "start_time": "2023-04-24T19:32:49.662847Z"
    }
   },
   "outputs": [],
   "source": [
    "db.commit()"
   ]
  },
  {
   "cell_type": "code",
   "execution_count": 44,
   "id": "3b057696",
   "metadata": {
    "ExecuteTime": {
     "end_time": "2023-04-24T19:35:50.464162Z",
     "start_time": "2023-04-24T19:35:47.053392Z"
    }
   },
   "outputs": [
    {
     "name": "stdout",
     "output_type": "stream",
     "text": [
      "What year would you like to delete?2004\n",
      "(1955, 'Nokia', 205.2, 7.6)\n",
      "(1956, 'Nokia', 226.7, 8.5)\n",
      "(1957, 'Nokia', 227.6, 8.0)\n",
      "(1958, 'Nokia', 226.4, 7.8)\n",
      "(1959, 'Nokia', 216.6, 7.4)\n",
      "(1960, 'Nokia', 289.5, 14.2)\n",
      "(1961, 'Nokia', 299.1, 12.6)\n",
      "(1962, 'Nokia', 298.2, 9.5)\n",
      "(1963, 'Nokia', 346.9, 13.2)\n",
      "(1964, 'Nokia', 377.9, 12.9)\n",
      "(1965, 'Nokia', 419.1, 20.7)\n",
      "(1966, 'Nokia', 517.0, 31.8)\n",
      "(1967, 'Nokia', 682.4, 33.0)\n",
      "(1968, 'Nokia', 630.0, 18.8)\n",
      "(1969, 'Nokia', 775.1, 28.3)\n",
      "(1970, 'Nokia', 873.2, 33.8)\n",
      "(1971, 'Nokia', 796.4, 24.2)\n",
      "(1972, 'Nokia', 926.6, 31.8)\n",
      "(1973, 'Nokia', 1163.3, 52.0)\n",
      "(1974, 'Nokia', 1437.1, 82.0)\n",
      "(1975, 'Nokia', 1367.2, 70.7)\n",
      "(1976, 'Nokia', 1311.8, 41.1)\n",
      "(1977, 'Nokia', 1494.1, 85.4)\n",
      "(1978, 'Nokia', 1833.9, 106.3)\n",
      "(1979, 'Nokia', 2219.7, 125.2)\n",
      "(1980, 'Nokia', 2713.8, 154.3)\n",
      "(1981, 'Nokia', 3098.8, 186.1)\n",
      "(1982, 'Nokia', 3335.9, 175.0)\n",
      "(1983, 'Nokia', 3785.8, 178.0)\n",
      "(1984, 'Nokia', 4328.0, 244.0)\n",
      "(1985, 'Nokia', 5534.0, 387.0)\n",
      "(1986, 'Nokia', 5443.0, 72.0)\n",
      "(1987, 'Nokia', 5888.0, 194.0)\n",
      "(1988, 'Nokia', 6707.0, 308.0)\n",
      "(1989, 'Nokia', 8250.0, 445.0)\n",
      "(1990, 'Nokia', 9620.0, 498.0)\n",
      "(1991, 'Nokia', 10885.0, 499.0)\n",
      "(1992, 'Nokia', 11341.0, 454.0)\n",
      "(1993, 'Nokia', 13341.0, 453.0)\n",
      "(1994, 'Nokia', 16963.0, 1022.0)\n",
      "(1995, 'Nokia', 22245.0, 1560.0)\n",
      "(1996, 'Nokia', 27037.0, 1781.0)\n",
      "(1997, 'Nokia', 27973.0, 1154.0)\n",
      "(1998, 'Nokia', 29794.0, 1180.0)\n",
      "(1999, 'Nokia', 29398.0, -962.0)\n",
      "(2000, 'Nokia', 30931.0, 817.0)\n",
      "(2001, 'Nokia', 37580.0, 1318.0)\n",
      "(2002, 'Nokia', 30004.0, -3937.0)\n",
      "(2003, 'Nokia', 26679.0, -2485.0)\n"
     ]
    }
   ],
   "source": [
    "# 2004\n",
    "year = input(\"What year would you like to delete?\")\n",
    "conn.execute(f\"DELETE FROM motorola WHERE Year={year};\")\n",
    "read_table()"
   ]
  },
  {
   "cell_type": "code",
   "execution_count": 45,
   "id": "054aaa84",
   "metadata": {
    "ExecuteTime": {
     "end_time": "2023-04-24T19:36:49.169143Z",
     "start_time": "2023-04-24T19:36:42.396611Z"
    }
   },
   "outputs": [
    {
     "name": "stdout",
     "output_type": "stream",
     "text": [
      "What year would you like to delete?2003 OR 1=1 --\n"
     ]
    }
   ],
   "source": [
    "# 2003 OR 1=1 --\n",
    "# comment in SQL is --\n",
    "year = input(\"What year would you like to delete?\")\n",
    "conn.execute(f\"DELETE FROM motorola WHERE Year={year};\")\n",
    "read_table()"
   ]
  },
  {
   "cell_type": "code",
   "execution_count": 46,
   "id": "1c11e703",
   "metadata": {
    "ExecuteTime": {
     "end_time": "2023-04-24T19:36:55.671954Z",
     "start_time": "2023-04-24T19:36:55.660951Z"
    }
   },
   "outputs": [],
   "source": [
    "read_table()"
   ]
  },
  {
   "cell_type": "code",
   "execution_count": 47,
   "id": "299f1814",
   "metadata": {
    "ExecuteTime": {
     "end_time": "2023-04-24T19:37:11.086349Z",
     "start_time": "2023-04-24T19:37:11.068345Z"
    }
   },
   "outputs": [],
   "source": [
    "db.commit()"
   ]
  },
  {
   "cell_type": "code",
   "execution_count": null,
   "id": "46e1b2d8",
   "metadata": {},
   "outputs": [],
   "source": [
    "# where year = 2003 OR 1=1"
   ]
  }
 ],
 "metadata": {
  "kernelspec": {
   "display_name": "Python 3 (ipykernel)",
   "language": "python",
   "name": "python3"
  },
  "language_info": {
   "codemirror_mode": {
    "name": "ipython",
    "version": 3
   },
   "file_extension": ".py",
   "mimetype": "text/x-python",
   "name": "python",
   "nbconvert_exporter": "python",
   "pygments_lexer": "ipython3",
   "version": "3.9.12"
  }
 },
 "nbformat": 4,
 "nbformat_minor": 5
}
