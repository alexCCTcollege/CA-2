{
 "cells": [
  {
   "cell_type": "markdown",
   "id": "73ac2d33",
   "metadata": {},
   "source": [
    "JSON - JavaScript Object Notation"
   ]
  },
  {
   "cell_type": "code",
   "execution_count": 1,
   "id": "8ca8aeca",
   "metadata": {
    "ExecuteTime": {
     "end_time": "2023-04-24T20:29:53.179491Z",
     "start_time": "2023-04-24T20:29:50.303845Z"
    }
   },
   "outputs": [
    {
     "name": "stdout",
     "output_type": "stream",
     "text": [
      "Defaulting to user installation because normal site-packages is not writeable\n",
      "Requirement already satisfied: pymongo in c:\\users\\sam\\appdata\\roaming\\python\\python39\\site-packages (4.3.3)\n",
      "Requirement already satisfied: dnspython<3.0.0,>=1.16.0 in c:\\users\\sam\\appdata\\roaming\\python\\python39\\site-packages (from pymongo) (2.2.1)\n"
     ]
    }
   ],
   "source": [
    "!pip install pymongo"
   ]
  },
  {
   "cell_type": "code",
   "execution_count": 3,
   "id": "56ce6286",
   "metadata": {
    "ExecuteTime": {
     "end_time": "2023-04-24T20:31:32.581155Z",
     "start_time": "2023-04-24T20:31:32.140057Z"
    }
   },
   "outputs": [],
   "source": [
    "import pymongo"
   ]
  },
  {
   "cell_type": "code",
   "execution_count": 4,
   "id": "8e707afc",
   "metadata": {
    "ExecuteTime": {
     "end_time": "2023-04-24T20:31:34.046487Z",
     "start_time": "2023-04-24T20:31:33.996476Z"
    }
   },
   "outputs": [],
   "source": [
    "client = pymongo.MongoClient(\"mongodb://localhost:27017\")"
   ]
  },
  {
   "cell_type": "code",
   "execution_count": 5,
   "id": "23cf6ec3",
   "metadata": {
    "ExecuteTime": {
     "end_time": "2023-04-24T20:32:16.755040Z",
     "start_time": "2023-04-24T20:32:16.748038Z"
    }
   },
   "outputs": [],
   "source": [
    "db = client[\"Test\"] # How to make a DB (Document)"
   ]
  },
  {
   "cell_type": "code",
   "execution_count": 6,
   "id": "28aabe8d",
   "metadata": {
    "ExecuteTime": {
     "end_time": "2023-04-24T20:33:02.806743Z",
     "start_time": "2023-04-24T20:33:02.794738Z"
    }
   },
   "outputs": [],
   "source": [
    "# Collection = table\n",
    "coll = db[\"testCollection\"]"
   ]
  },
  {
   "cell_type": "code",
   "execution_count": 7,
   "id": "df7c73f9",
   "metadata": {
    "ExecuteTime": {
     "end_time": "2023-04-24T20:35:07.076546Z",
     "start_time": "2023-04-24T20:35:07.066544Z"
    }
   },
   "outputs": [
    {
     "data": {
      "text/plain": [
       "['admin', 'config', 'local']"
      ]
     },
     "execution_count": 7,
     "metadata": {},
     "output_type": "execute_result"
    }
   ],
   "source": [
    "client.list_database_names()"
   ]
  },
  {
   "cell_type": "code",
   "execution_count": 10,
   "id": "42865e88",
   "metadata": {
    "ExecuteTime": {
     "end_time": "2023-04-24T20:36:01.453795Z",
     "start_time": "2023-04-24T20:36:01.433790Z"
    }
   },
   "outputs": [
    {
     "data": {
      "text/plain": [
       "[]"
      ]
     },
     "execution_count": 10,
     "metadata": {},
     "output_type": "execute_result"
    }
   ],
   "source": [
    "db.list_collection_names()"
   ]
  },
  {
   "cell_type": "code",
   "execution_count": 11,
   "id": "6358d314",
   "metadata": {
    "ExecuteTime": {
     "end_time": "2023-04-24T20:36:46.893231Z",
     "start_time": "2023-04-24T20:36:46.889230Z"
    }
   },
   "outputs": [],
   "source": [
    "testDict = {\"name\": \"Sam\", \"Student Number\": 42}"
   ]
  },
  {
   "cell_type": "code",
   "execution_count": 12,
   "id": "198ea583",
   "metadata": {
    "ExecuteTime": {
     "end_time": "2023-04-24T20:37:03.164970Z",
     "start_time": "2023-04-24T20:37:03.128963Z"
    }
   },
   "outputs": [],
   "source": [
    "res = coll.insert_one(testDict)"
   ]
  },
  {
   "cell_type": "code",
   "execution_count": 13,
   "id": "18767198",
   "metadata": {
    "ExecuteTime": {
     "end_time": "2023-04-24T20:37:10.991740Z",
     "start_time": "2023-04-24T20:37:10.984752Z"
    }
   },
   "outputs": [
    {
     "data": {
      "text/plain": [
       "['Test', 'admin', 'config', 'local']"
      ]
     },
     "execution_count": 13,
     "metadata": {},
     "output_type": "execute_result"
    }
   ],
   "source": [
    "client.list_database_names()"
   ]
  },
  {
   "cell_type": "code",
   "execution_count": 14,
   "id": "3df90897",
   "metadata": {
    "ExecuteTime": {
     "end_time": "2023-04-24T20:37:15.962369Z",
     "start_time": "2023-04-24T20:37:15.945365Z"
    }
   },
   "outputs": [
    {
     "data": {
      "text/plain": [
       "['testCollection']"
      ]
     },
     "execution_count": 14,
     "metadata": {},
     "output_type": "execute_result"
    }
   ],
   "source": [
    "db.list_collection_names()"
   ]
  },
  {
   "cell_type": "code",
   "execution_count": 15,
   "id": "60d1463c",
   "metadata": {
    "ExecuteTime": {
     "end_time": "2023-04-24T20:38:11.397021Z",
     "start_time": "2023-04-24T20:38:11.384016Z"
    }
   },
   "outputs": [
    {
     "data": {
      "text/plain": [
       "ObjectId('6446e86f11014587120281cd')"
      ]
     },
     "execution_count": 15,
     "metadata": {},
     "output_type": "execute_result"
    }
   ],
   "source": [
    "res.inserted_id"
   ]
  },
  {
   "cell_type": "code",
   "execution_count": 16,
   "id": "33b2e0f6",
   "metadata": {
    "ExecuteTime": {
     "end_time": "2023-04-24T20:39:04.476951Z",
     "start_time": "2023-04-24T20:39:04.471950Z"
    }
   },
   "outputs": [],
   "source": [
    "testDict = {\"name\": \"Sam\", \"Student Number\": 42, \"_id\": 9}"
   ]
  },
  {
   "cell_type": "code",
   "execution_count": 17,
   "id": "578c370b",
   "metadata": {
    "ExecuteTime": {
     "end_time": "2023-04-24T20:39:22.091933Z",
     "start_time": "2023-04-24T20:39:22.087932Z"
    }
   },
   "outputs": [],
   "source": [
    "res = coll.insert_one(testDict)"
   ]
  },
  {
   "cell_type": "code",
   "execution_count": 18,
   "id": "f1fcdd3c",
   "metadata": {
    "ExecuteTime": {
     "end_time": "2023-04-24T20:39:27.284939Z",
     "start_time": "2023-04-24T20:39:27.271935Z"
    }
   },
   "outputs": [
    {
     "data": {
      "text/plain": [
       "9"
      ]
     },
     "execution_count": 18,
     "metadata": {},
     "output_type": "execute_result"
    }
   ],
   "source": [
    "res.inserted_id"
   ]
  },
  {
   "cell_type": "code",
   "execution_count": 24,
   "id": "dd10ef2f",
   "metadata": {
    "ExecuteTime": {
     "end_time": "2023-04-24T20:43:51.774493Z",
     "start_time": "2023-04-24T20:43:51.765491Z"
    }
   },
   "outputs": [],
   "source": [
    "testDict2 = [\n",
    "    {\"Name\": \"Edmundo\", \"Student Number\": 1},\n",
    "    {\"Name\": \"Milo\", \"Student Number\": 2},\n",
    "    {\"Name\": \"Rabeea\", \"Student Number\": 3},\n",
    "    {\"Name\": \"Mihai\", \"Student Number\": 5},\n",
    "    {\"Name\": \"Suresh\", \"Student Number\": 8, \"Colour\": \"Orange\"},\n",
    "    {\"Name\": \"Patrick\", \"Student Number\": 13},\n",
    "]"
   ]
  },
  {
   "cell_type": "code",
   "execution_count": 21,
   "id": "8328d66e",
   "metadata": {
    "ExecuteTime": {
     "end_time": "2023-04-24T20:42:38.872519Z",
     "start_time": "2023-04-24T20:42:38.855516Z"
    }
   },
   "outputs": [],
   "source": [
    "#res = coll.insert_one(testDict2)"
   ]
  },
  {
   "cell_type": "code",
   "execution_count": 25,
   "id": "106f7d3e",
   "metadata": {
    "ExecuteTime": {
     "end_time": "2023-04-24T20:43:54.820182Z",
     "start_time": "2023-04-24T20:43:54.805179Z"
    }
   },
   "outputs": [],
   "source": [
    "res = coll.insert_many(testDict2)"
   ]
  },
  {
   "cell_type": "code",
   "execution_count": 26,
   "id": "55e246a1",
   "metadata": {
    "ExecuteTime": {
     "end_time": "2023-04-24T20:43:56.004449Z",
     "start_time": "2023-04-24T20:43:55.989446Z"
    }
   },
   "outputs": [
    {
     "data": {
      "text/plain": [
       "[ObjectId('6446ea0a11014587120281d4'),\n",
       " ObjectId('6446ea0a11014587120281d5'),\n",
       " ObjectId('6446ea0a11014587120281d6'),\n",
       " ObjectId('6446ea0a11014587120281d7'),\n",
       " ObjectId('6446ea0a11014587120281d8'),\n",
       " ObjectId('6446ea0a11014587120281d9')]"
      ]
     },
     "execution_count": 26,
     "metadata": {},
     "output_type": "execute_result"
    }
   ],
   "source": [
    "res.inserted_ids"
   ]
  },
  {
   "cell_type": "code",
   "execution_count": 27,
   "id": "18a0e9a0",
   "metadata": {
    "ExecuteTime": {
     "end_time": "2023-04-24T20:45:59.626374Z",
     "start_time": "2023-04-24T20:45:59.620372Z"
    }
   },
   "outputs": [],
   "source": [
    "res = coll.find()"
   ]
  },
  {
   "cell_type": "code",
   "execution_count": 28,
   "id": "43527304",
   "metadata": {
    "ExecuteTime": {
     "end_time": "2023-04-24T20:46:10.665869Z",
     "start_time": "2023-04-24T20:46:10.659869Z"
    }
   },
   "outputs": [
    {
     "name": "stdout",
     "output_type": "stream",
     "text": [
      "{'_id': ObjectId('6446e86f11014587120281cd'), 'name': 'Sam', 'Student Number': 42}\n",
      "{'_id': 9, 'name': 'Sam', 'Student Number': 42}\n",
      "{'_id': ObjectId('6446e9c511014587120281ce'), 'Name': 'Edmundo', 'Student Number': 1}\n",
      "{'_id': ObjectId('6446e9c511014587120281cf'), 'Name': 'Milo', 'Student Number': 2}\n",
      "{'_id': ObjectId('6446e9c511014587120281d0'), 'Name': 'Rabeea', 'Student Number': 3}\n",
      "{'_id': ObjectId('6446e9c511014587120281d1'), 'Name': 'Mihai', 'Student Number': 5}\n",
      "{'_id': ObjectId('6446e9c511014587120281d2'), 'Name': 'Suresh', 'Student Number': 8}\n",
      "{'_id': ObjectId('6446e9c511014587120281d3'), 'Name': 'Patrick', 'Student Number': 13}\n",
      "{'_id': ObjectId('6446ea0a11014587120281d4'), 'Name': 'Edmundo', 'Student Number': 1}\n",
      "{'_id': ObjectId('6446ea0a11014587120281d5'), 'Name': 'Milo', 'Student Number': 2}\n",
      "{'_id': ObjectId('6446ea0a11014587120281d6'), 'Name': 'Rabeea', 'Student Number': 3}\n",
      "{'_id': ObjectId('6446ea0a11014587120281d7'), 'Name': 'Mihai', 'Student Number': 5}\n",
      "{'_id': ObjectId('6446ea0a11014587120281d8'), 'Name': 'Suresh', 'Student Number': 8, 'Colour': 'Orange'}\n",
      "{'_id': ObjectId('6446ea0a11014587120281d9'), 'Name': 'Patrick', 'Student Number': 13}\n"
     ]
    }
   ],
   "source": [
    "for result in res:\n",
    "    print(result)"
   ]
  },
  {
   "cell_type": "code",
   "execution_count": 29,
   "id": "ff0b4266",
   "metadata": {
    "ExecuteTime": {
     "end_time": "2023-04-24T20:47:08.174864Z",
     "start_time": "2023-04-24T20:47:08.163861Z"
    }
   },
   "outputs": [],
   "source": [
    "# find()\n",
    "# find({})\n",
    "# find({}, {})\n",
    "# Will return everything"
   ]
  },
  {
   "cell_type": "code",
   "execution_count": 32,
   "id": "79ba204d",
   "metadata": {
    "ExecuteTime": {
     "end_time": "2023-04-24T20:48:35.540056Z",
     "start_time": "2023-04-24T20:48:35.523053Z"
    }
   },
   "outputs": [
    {
     "name": "stdout",
     "output_type": "stream",
     "text": [
      "{'_id': ObjectId('6446e86f11014587120281cd'), 'name': 'Sam', 'Student Number': 42}\n",
      "{'_id': 9, 'name': 'Sam', 'Student Number': 42}\n"
     ]
    }
   ],
   "source": [
    "res = coll.find({\"name\": \"Sam\"})\n",
    "for result in res:\n",
    "    print(result)"
   ]
  },
  {
   "cell_type": "code",
   "execution_count": 37,
   "id": "57c82e7f",
   "metadata": {
    "ExecuteTime": {
     "end_time": "2023-04-24T20:50:38.649875Z",
     "start_time": "2023-04-24T20:50:38.641871Z"
    }
   },
   "outputs": [],
   "source": [
    "res = coll.find({\"Name\": \"Suresh\"}, {\"Colour\": 1})"
   ]
  },
  {
   "cell_type": "code",
   "execution_count": 38,
   "id": "ac57b87b",
   "metadata": {
    "ExecuteTime": {
     "end_time": "2023-04-24T20:50:38.950943Z",
     "start_time": "2023-04-24T20:50:38.944942Z"
    }
   },
   "outputs": [
    {
     "name": "stdout",
     "output_type": "stream",
     "text": [
      "{'_id': ObjectId('6446e9c511014587120281d2')}\n",
      "{'_id': ObjectId('6446ea0a11014587120281d8'), 'Colour': 'Orange'}\n"
     ]
    }
   ],
   "source": [
    "for result in res:\n",
    "    print(result)"
   ]
  },
  {
   "cell_type": "code",
   "execution_count": 39,
   "id": "c19e7e92",
   "metadata": {
    "ExecuteTime": {
     "end_time": "2023-04-24T20:51:00.188092Z",
     "start_time": "2023-04-24T20:51:00.177090Z"
    }
   },
   "outputs": [
    {
     "name": "stdout",
     "output_type": "stream",
     "text": [
      "{'_id': ObjectId('6446e9c511014587120281d2'), 'Name': 'Suresh', 'Student Number': 8}\n",
      "{'_id': ObjectId('6446ea0a11014587120281d8'), 'Name': 'Suresh', 'Student Number': 8}\n"
     ]
    }
   ],
   "source": [
    "res = coll.find({\"Name\": \"Suresh\"}, {\"Colour\":0})\n",
    "for result in res:\n",
    "    print(result)"
   ]
  },
  {
   "cell_type": "code",
   "execution_count": 40,
   "id": "d84abc3f",
   "metadata": {
    "ExecuteTime": {
     "end_time": "2023-04-24T20:51:37.876076Z",
     "start_time": "2023-04-24T20:51:37.857072Z"
    }
   },
   "outputs": [
    {
     "name": "stdout",
     "output_type": "stream",
     "text": [
      "{}\n",
      "{'Colour': 'Orange'}\n"
     ]
    }
   ],
   "source": [
    "res = coll.find({\"Name\": \"Suresh\"}, {\"Colour\":1, \"_id\":0})\n",
    "for result in res:\n",
    "    print(result)"
   ]
  },
  {
   "cell_type": "code",
   "execution_count": null,
   "id": "7f9fcd7e",
   "metadata": {},
   "outputs": [],
   "source": []
  }
 ],
 "metadata": {
  "kernelspec": {
   "display_name": "Python 3 (ipykernel)",
   "language": "python",
   "name": "python3"
  },
  "language_info": {
   "codemirror_mode": {
    "name": "ipython",
    "version": 3
   },
   "file_extension": ".py",
   "mimetype": "text/x-python",
   "name": "python",
   "nbconvert_exporter": "python",
   "pygments_lexer": "ipython3",
   "version": "3.9.12"
  }
 },
 "nbformat": 4,
 "nbformat_minor": 5
}
